{
 "cells": [
  {
   "cell_type": "code",
   "execution_count": null,
   "metadata": {},
   "outputs": [],
   "source": [
    "import pandas as pd\n",
    "import matplotlib.pyplot as plt\n",
    "from matplotlib.ticker import MaxNLocator\n",
    "import numpy as np"
   ]
  },
  {
   "cell_type": "code",
   "execution_count": null,
   "metadata": {},
   "outputs": [],
   "source": [
    "### import data \n",
    "df = pd.read_csv('GISP20002019.csv')\n",
    "print(df.head())\n",
    "\n",
    "df.iloc[:, 5:len(df.columns)] = df.iloc[:, 5:len(df.columns)].apply(pd.to_numeric, errors='coerce')\n",
    "## errors = coerce converts missing data to NaN\n",
    "print(df.head())\n"
   ]
  },
  {
   "cell_type": "code",
   "execution_count": null,
   "metadata": {},
   "outputs": [],
   "source": [
    "## narrow down from Revant's code, only look at \n",
    "drugs = [\"CIP\"]\n",
    "drugs_name = {\n",
    "    'CIP': 'Ciprofloxacin',}\n",
    "\n",
    "drugsDict = {}\n",
    "for drug in drugs:\n",
    "    drugsDict[drug] = list(df.columns)\n",
    "\n",
    "#print(drugsDict)\n",
    "print(drugsDict[\"CIP\"])\n"
   ]
  },
  {
   "cell_type": "code",
   "execution_count": null,
   "metadata": {},
   "outputs": [],
   "source": [
    "#print(drugsDict[\"CIP\"][18])\n",
    "#print(\"CipR\" not in drugsDict[\"CIP\"][18])\n",
    "#print(\"CLINIC\" not in drugsDict[\"CIP\"][1])\n",
    "\n",
    "for variable in range(len(list(df.columns))):\n",
    "    if \"CipR\" not in drugsDict[\"CIP\"][variable]: ## so this is saying that if CipR is not in the variable (comparing susbsections of strings?)\n",
    "        drugsDict[\"CIP\"][variable] = None\n",
    "   \n",
    "for drug in drugs:\n",
    "    drugsDict[drug] = list(filter(None, drugsDict[drug]))\n",
    "    df[\"Total\"+drug] = df[drugsDict[drug]].sum(axis=1, skipna=True)\n",
    "\n",
    "#print(df.head())\n",
    "#print(df[\"TotalCIP\"])\n"
   ]
  },
  {
   "cell_type": "code",
   "execution_count": null,
   "metadata": {},
   "outputs": [],
   "source": [
    "#now have regions\n",
    "west = ['POR', 'PHX', 'HON', 'SDG', 'SFO', 'ANC', 'SEA', 'DEN', 'LVG', 'ORA', 'LBC', 'SLC', 'LAX']\n",
    "southwest = ['OKC','MIN', 'ALB', 'DAL']\n",
    "midwest = ['KCY','CHI', 'PON', 'CIN', 'JAC', 'IND', 'STL','DTR', 'MIL', 'COL', 'CLE']\n",
    "southeast = ['GRB', 'NOR','WDC','MIA', 'BHM','FBG','ATL', 'RIC']\n",
    "northeast = ['BUF','BOS', 'CAM', 'NYC', 'BAL', 'PHI']\n",
    "\n",
    "df['Region'] = df['CLINIC'].apply(lambda x: \n",
    "    'West' if (x in west) else (\n",
    "        'Southwest' if (x in southwest) else(\n",
    "            'Midwest' if (x in midwest) else(\n",
    "                'Southeast' if (x in southeast) else(\n",
    "                    'Northeast' if (x in northeast) else 'Other'))))) "
   ]
  },
  {
   "attachments": {},
   "cell_type": "markdown",
   "metadata": {},
   "source": [
    "#now by location \n",
    "west = ['POR', 'PHX', 'HON', 'SDG', 'SFO', 'ANC', 'SEA', 'DEN', 'LVG', 'ORA', 'LBC', 'SLC', 'LAX']\n",
    "southwest = ['OKC','MIN', 'ALB', 'DAL']\n",
    "midwest = ['KCY','CHI', 'PON', 'CIN', 'JAC', 'IND', 'STL','DTR', 'MIL', 'COL', 'CLE']\n",
    "southeast = ['GRB', 'NOR','WDC','MIA', 'BHM','FBG','ATL', 'RIC']\n",
    "northeast = ['BUF','BOS', 'CAM', 'NYC', 'BAL', 'PHI']\n",
    "\n",
    "df['Region'] = df['CLINIC'].apply(lambda x: \n",
    "    'West' if (x in west) else (\n",
    "        'Southwest' if (x in southwest) else(\n",
    "            'Midwest' if (x in midwest) else(\n",
    "                'Southeast' if (x in southeast) else(\n",
    "                    'Northeast' if (x in northeast) else 'Other'))))) \n",
    "    "
   ]
  },
  {
   "cell_type": "code",
   "execution_count": null,
   "metadata": {},
   "outputs": [],
   "source": [
    "### nb - only have one drug (CIP) BUT it is editable\n",
    "\n",
    "overall = pd.DataFrame([],[])\n",
    "for year in list(set(df[\"YEAR\"])): #so gets all possible years from YEAR dataframe\n",
    "     df2 = df[df[\"YEAR\"]==year]     \n",
    "     new = {'Year': year} # so a new dictionary with year?\n",
    "    \n",
    "     new['OverallTotal'] = df2[\"TOTAL\"].sum() #so adding a new entry into new with the sum of total... Total being the number of tests carried out FOR THAT YEAR I think\n",
    "    \n",
    "     pass\n",
    "     for drug in drugs:\n",
    "           new[drug+'_OverallTotal'] = df2[\"Total\"+drug].sum() #\n",
    "           new[drug+'_OverallPct'] = (new[drug+'_OverallTotal']/new['OverallTotal'] )*100 #percentage of overall cases that are resistant to a drug in that year \n",
    "           \n",
    "           for gender in list(set(df[\"GENDERSP\"])):       \n",
    "                df3 = df2[df2[\"GENDERSP\"]==gender]\n",
    "            \n",
    "                new[gender+\"_Total\"] = df3[\"TOTAL\"].sum()\n",
    "                new[gender+\"_\"+drug+\"Total\"] = df3[\"Total\"+drug].sum()\n",
    "                new[gender+\"_\"+drug+\"Pct\"] = (new[gender+\"_\"+drug+\"Total\"] / new[gender+\"_Total\"])*100\n",
    "        \n",
    "           for region in list(set(df[\"Region\"])):       \n",
    "                df4 = df2[df2[\"Region\"]==region]\n",
    "            \n",
    "                new[region+\"_Total\"] = df4[\"TOTAL\"].sum()\n",
    "                new[region+\"_\"+drug+\"_Total\"] = df4[\"Total\"+drug].sum()\n",
    "                new[region+\"_\"+drug+\"_Pct\"] = (new[region+\"_\"+drug+\"_Total\"]/new[region+\"_Total\"])*100\n",
    "    \n",
    "     overall = overall.append(new, ignore_index = True)\n",
    "overall[\"Year\"] = overall[\"Year\"].astype(int)"
   ]
  },
  {
   "cell_type": "code",
   "execution_count": null,
   "metadata": {},
   "outputs": [],
   "source": [
    "#try and get only CIP data from overall (which is where the the overall data is)\n",
    "\n",
    "#CIPR_data = df.loc[df['TotalCIP'] >= 0] ##from original data frame\n"
   ]
  },
  {
   "cell_type": "code",
   "execution_count": null,
   "metadata": {},
   "outputs": [],
   "source": [
    "### now... how do I dissagregate data? \n",
    "print(overall)\n",
    "\n",
    "\n",
    "\n"
   ]
  }
 ],
 "metadata": {
  "kernelspec": {
   "display_name": "GISP_init",
   "language": "python",
   "name": "python3"
  },
  "language_info": {
   "codemirror_mode": {
    "name": "ipython",
    "version": 3
   },
   "file_extension": ".py",
   "mimetype": "text/x-python",
   "name": "python",
   "nbconvert_exporter": "python",
   "pygments_lexer": "ipython3",
   "version": "3.10.8 (main, Nov 24 2022, 08:09:04) [Clang 14.0.6 ]"
  },
  "orig_nbformat": 4,
  "vscode": {
   "interpreter": {
    "hash": "113a481252c9d845b94df980c27b1c5a79cf0e399a73b7622446a313d2cec44c"
   }
  }
 },
 "nbformat": 4,
 "nbformat_minor": 2
}
