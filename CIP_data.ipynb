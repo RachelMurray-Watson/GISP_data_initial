{
 "cells": [
  {
   "cell_type": "code",
   "execution_count": 73,
   "metadata": {},
   "outputs": [],
   "source": [
    "import pandas as pd\n",
    "import matplotlib.pyplot as plt\n",
    "from matplotlib.ticker import MaxNLocator\n",
    "import numpy as np"
   ]
  },
  {
   "cell_type": "code",
   "execution_count": 74,
   "metadata": {},
   "outputs": [
    {
     "name": "stdout",
     "output_type": "stream",
     "text": [
      "   Obs CLINIC  YEAR         GENDERSP  TOTAL Susceptible TetI PenI PenI_TetI  \\\n",
      "0    1    ALB  2000              MSW    143          10    2   36        68   \n",
      "1    2    ALB  2000              MSM      9           .    .    1         5   \n",
      "2    3    ALB  2000             MSMW      5           .    .    2         3   \n",
      "3    4    ALB  2000  Oth/Unk/Missing      4           .    1    .         1   \n",
      "4    5    ALB  2001              MSW    127          12    3   40        57   \n",
      "\n",
      "  TetR  ... AziRS_TetR_CipI_PenI CipR CipR_TetR AziRS_CipI_PenI_TetI  \\\n",
      "0    2  ...                    .    .         .                    .   \n",
      "1    .  ...                    .    .         .                    .   \n",
      "2    .  ...                    .    .         .                    .   \n",
      "3    .  ...                    .    .         .                    .   \n",
      "4    1  ...                    .    .         .                    .   \n",
      "\n",
      "  CfxRS_CipR_TetR_PenI AziRS_TetR AziRS_CipR_PenR_TetI  \\\n",
      "0                    .          .                    .   \n",
      "1                    .          .                    .   \n",
      "2                    .          .                    .   \n",
      "3                    .          .                    .   \n",
      "4                    .          .                    .   \n",
      "\n",
      "  CroRS_CfxRS_CipR_PenR_TetR CroRS_CfxRS_PenR_TetI CfxRS_PenR_TetR  \n",
      "0                          .                     .               .  \n",
      "1                          .                     .               .  \n",
      "2                          .                     .               .  \n",
      "3                          .                     .               .  \n",
      "4                          .                     .               .  \n",
      "\n",
      "[5 rows x 55 columns]\n",
      "   Obs CLINIC  YEAR         GENDERSP  TOTAL  Susceptible  TetI  PenI  \\\n",
      "0    1    ALB  2000              MSW    143         10.0   2.0  36.0   \n",
      "1    2    ALB  2000              MSM      9          NaN   NaN   1.0   \n",
      "2    3    ALB  2000             MSMW      5          NaN   NaN   2.0   \n",
      "3    4    ALB  2000  Oth/Unk/Missing      4          NaN   1.0   NaN   \n",
      "4    5    ALB  2001              MSW    127         12.0   3.0  40.0   \n",
      "\n",
      "   PenI_TetI  TetR  ...  AziRS_TetR_CipI_PenI  CipR  CipR_TetR  \\\n",
      "0       68.0   2.0  ...                   NaN   NaN        NaN   \n",
      "1        5.0   NaN  ...                   NaN   NaN        NaN   \n",
      "2        3.0   NaN  ...                   NaN   NaN        NaN   \n",
      "3        1.0   NaN  ...                   NaN   NaN        NaN   \n",
      "4       57.0   1.0  ...                   NaN   NaN        NaN   \n",
      "\n",
      "   AziRS_CipI_PenI_TetI  CfxRS_CipR_TetR_PenI  AziRS_TetR  \\\n",
      "0                   NaN                   NaN         NaN   \n",
      "1                   NaN                   NaN         NaN   \n",
      "2                   NaN                   NaN         NaN   \n",
      "3                   NaN                   NaN         NaN   \n",
      "4                   NaN                   NaN         NaN   \n",
      "\n",
      "   AziRS_CipR_PenR_TetI  CroRS_CfxRS_CipR_PenR_TetR  CroRS_CfxRS_PenR_TetI  \\\n",
      "0                   NaN                         NaN                    NaN   \n",
      "1                   NaN                         NaN                    NaN   \n",
      "2                   NaN                         NaN                    NaN   \n",
      "3                   NaN                         NaN                    NaN   \n",
      "4                   NaN                         NaN                    NaN   \n",
      "\n",
      "   CfxRS_PenR_TetR  \n",
      "0              NaN  \n",
      "1              NaN  \n",
      "2              NaN  \n",
      "3              NaN  \n",
      "4              NaN  \n",
      "\n",
      "[5 rows x 55 columns]\n"
     ]
    },
    {
     "name": "stderr",
     "output_type": "stream",
     "text": [
      "/var/folders/3f/vvt02dh16jddhc3q1tl6f3zh0000gn/T/ipykernel_92921/1715626302.py:5: FutureWarning: In a future version, `df.iloc[:, i] = newvals` will attempt to set the values inplace instead of always setting a new array. To retain the old behavior, use either `df[df.columns[i]] = newvals` or, if columns are non-unique, `df.isetitem(i, newvals)`\n",
      "  df.iloc[:, 5:len(df.columns)] = df.iloc[:, 5:len(df.columns)].apply(pd.to_numeric, errors='coerce')\n"
     ]
    }
   ],
   "source": [
    "### import data \n",
    "df = pd.read_csv('GISP20002019.csv')\n",
    "print(df.head())\n",
    "\n",
    "df.iloc[:, 5:len(df.columns)] = df.iloc[:, 5:len(df.columns)].apply(pd.to_numeric, errors='coerce')\n",
    "## errors = coerce converts missing data to NaN\n",
    "print(df.head())\n"
   ]
  },
  {
   "cell_type": "code",
   "execution_count": 75,
   "metadata": {},
   "outputs": [
    {
     "name": "stdout",
     "output_type": "stream",
     "text": [
      "['Obs', 'CLINIC', 'YEAR', 'GENDERSP', 'TOTAL', 'Susceptible', 'TetI', 'PenI', 'PenI_TetI', 'TetR', 'TetR_PenI', 'PenR', 'PenR_TetI', 'PenR_TetR', 'CipI_PenI_TetI', 'TetR_CipI', 'AziRS_PenI_TetI', 'CipI_TetI', 'CipR_PenR_TetR', 'CipR_PenI_TetI', 'CipR_TetR_PenI', 'CipR_PenI', 'CipR_PenR_TetI', 'AziRS_CipR_PenR_TetR', 'PenR_CipI_TetI', 'PenR_TetR_CipI', 'CipR_PenR', 'TetR_CipI_PenI', 'AziRS_CipR_TetR_PenI', 'AziRS_TetR_PenI', 'AziRS_PenR_TetR', 'AziRS_PenR_TetI', 'CipI_PenI', 'CfxRS_CipR_PenR_TetR', 'CfxRS_PenI_TetI', 'AziRS', 'AziRS_TetI', 'AziRS_PenI', 'CfxRS_CipI_PenI_TetI', 'AziRS_CipR_PenI_TetI', 'CfxRS_TetR_PenI', 'CipR_TetI', 'CipI', 'AziRS_PenR', 'PenR_CipI', 'AziRS_TetR_CipI_PenI', 'CipR', 'CipR_TetR', 'AziRS_CipI_PenI_TetI', 'CfxRS_CipR_TetR_PenI', 'AziRS_TetR', 'AziRS_CipR_PenR_TetI', 'CroRS_CfxRS_CipR_PenR_TetR', 'CroRS_CfxRS_PenR_TetI', 'CfxRS_PenR_TetR']\n"
     ]
    }
   ],
   "source": [
    "## narrow down from Revant's code, only look at \n",
    "drugs = [\"CIP\"]\n",
    "drugs_name = {\n",
    "    'CIP': 'Ciprofloxacin',}\n",
    "\n",
    "drugsDict = {}\n",
    "for drug in drugs:\n",
    "    drugsDict[drug] = list(df.columns)\n",
    "\n",
    "#print(drugsDict)\n",
    "print(drugsDict[\"CIP\"])\n"
   ]
  },
  {
   "cell_type": "code",
   "execution_count": 76,
   "metadata": {},
   "outputs": [
    {
     "name": "stdout",
     "output_type": "stream",
     "text": [
      "0        0.0\n",
      "1        0.0\n",
      "2        0.0\n",
      "3        0.0\n",
      "4        0.0\n",
      "        ... \n",
      "1965     0.0\n",
      "1966    14.0\n",
      "1967    13.0\n",
      "1968     4.0\n",
      "1969     1.0\n",
      "Name: TotalCIP, Length: 1970, dtype: float64\n"
     ]
    }
   ],
   "source": [
    "#print(drugsDict[\"CIP\"][18])\n",
    "#print(\"CipR\" not in drugsDict[\"CIP\"][18])\n",
    "#print(\"CLINIC\" not in drugsDict[\"CIP\"][1])\n",
    "\n",
    "for variable in range(len(list(df.columns))):\n",
    "    if \"CipR\" not in drugsDict[\"CIP\"][variable]: ## so this is saying that if CipR is not in the variable (comparing susbsections of strings?)\n",
    "        drugsDict[\"CIP\"][variable] = None\n",
    "   \n",
    "for drug in drugs:\n",
    "    drugsDict[drug] = list(filter(None, drugsDict[drug]))\n",
    "    df[\"Total\"+drug] = df[drugsDict[drug]].sum(axis=1, skipna=True)\n",
    "\n",
    "#print(df.head())\n",
    "#print(df[\"TotalCIP\"])\n"
   ]
  },
  {
   "attachments": {},
   "cell_type": "markdown",
   "metadata": {},
   "source": [
    "#now by location \n",
    "west = ['POR', 'PHX', 'HON', 'SDG', 'SFO', 'ANC', 'SEA', 'DEN', 'LVG', 'ORA', 'LBC', 'SLC', 'LAX']\n",
    "southwest = ['OKC','MIN', 'ALB', 'DAL']\n",
    "midwest = ['KCY','CHI', 'PON', 'CIN', 'JAC', 'IND', 'STL','DTR', 'MIL', 'COL', 'CLE']\n",
    "southeast = ['GRB', 'NOR','WDC','MIA', 'BHM','FBG','ATL', 'RIC']\n",
    "northeast = ['BUF','BOS', 'CAM', 'NYC', 'BAL', 'PHI']\n",
    "\n",
    "df['Region'] = df['CLINIC'].apply(lambda x: \n",
    "    'West' if (x in west) else (\n",
    "        'Southwest' if (x in southwest) else(\n",
    "            'Midwest' if (x in midwest) else(\n",
    "                'Southeast' if (x in southeast) else(\n",
    "                    'Northeast' if (x in northeast) else 'Other'))))) \n",
    "    "
   ]
  },
  {
   "cell_type": "code",
   "execution_count": null,
   "metadata": {},
   "outputs": [],
   "source": [
    "overall = pd.DataFrame([],[])\n",
    "for year in list(set(df[\"YEAR\"])):\n",
    "     df2 = df[df[\"YEAR\"]==year]\n",
    "     new = {'Year': year}\n",
    "    \n",
    "     new['OverallTotal'] = df2[\"TOTAL\"].sum()\n",
    "    \n",
    "    \n",
    "     for drug in drugs:\n",
    "           new[drug+'_OverallTotal'] = df2[\"Total\"+drug].sum()\n",
    "           new[drug+'_OverallPct'] = (new[drug+'_OverallTotal']/new['OverallTotal'] )*100\n",
    "           \n",
    "           for gender in list(set(df[\"GENDERSP\"])):       \n",
    "                df3 = df2[df2[\"GENDERSP\"]==gender]\n",
    "            \n",
    "                new[gender+\"_Total\"] = df3[\"TOTAL\"].sum()\n",
    "                new[gender+\"_\"+drug+\"Total\"] = df3[\"Total\"+drug].sum()\n",
    "                new[gender+\"_\"+drug+\"Pct\"] = (new[gender+\"_\"+drug+\"Total\"] / new[gender+\"_Total\"])*100\n",
    "        \n",
    "           for region in list(set(df[\"Region\"])):       \n",
    "                df4 = df2[df2[\"Region\"]==region]\n",
    "            \n",
    "                new[region+\"_Total\"] = df4[\"TOTAL\"].sum()\n",
    "                new[region+\"_\"+drug+\"_Total\"] = df4[\"Total\"+drug].sum()\n",
    "                new[region+\"_\"+drug+\"_Pct\"] = (new[region+\"_\"+drug+\"_Total\"]/new[region+\"_Total\"])*100\n",
    "    \n",
    "     overall = overall.append(new, ignore_index = True)\n",
    "overall[\"Year\"] = overall[\"Year\"].astype(int)"
   ]
  }
 ],
 "metadata": {
  "kernelspec": {
   "display_name": "GISP_init",
   "language": "python",
   "name": "python3"
  },
  "language_info": {
   "codemirror_mode": {
    "name": "ipython",
    "version": 3
   },
   "file_extension": ".py",
   "mimetype": "text/x-python",
   "name": "python",
   "nbconvert_exporter": "python",
   "pygments_lexer": "ipython3",
   "version": "3.10.8"
  },
  "orig_nbformat": 4,
  "vscode": {
   "interpreter": {
    "hash": "113a481252c9d845b94df980c27b1c5a79cf0e399a73b7622446a313d2cec44c"
   }
  }
 },
 "nbformat": 4,
 "nbformat_minor": 2
}
