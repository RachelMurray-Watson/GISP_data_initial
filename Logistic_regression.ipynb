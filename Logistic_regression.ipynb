{
 "cells": [
  {
   "cell_type": "code",
   "execution_count": 21,
   "metadata": {},
   "outputs": [
    {
     "data": {
      "text/plain": [
       "Index(['Unnamed: 0.1', 'Unnamed: 0', 'CLINIC', 'YEAR', 'GENDERSP',\n",
       "       'Susceptible', 'ANC', 'ATL', 'BAL', 'BHM', 'BOS', 'BUF', 'CAM', 'CHI',\n",
       "       'CIN', 'CLE', 'COL', 'DAL', 'DEN', 'DTR', 'FBG', 'GRB', 'HON', 'IND',\n",
       "       'JAC', 'KCY', 'LAX', 'LBC', 'LVG', 'MIA', 'MIL', 'MIN', 'NOR', 'NYC',\n",
       "       'OKC', 'ORA', 'PHI', 'PHX', 'PON', 'POR', 'RIC', 'SDG', 'SEA', 'SFO',\n",
       "       'SLC', 'STL', 'WDC', 'MSMW', 'MSW', 'Oth/Unk/Missing'],\n",
       "      dtype='object')"
      ]
     },
     "execution_count": 21,
     "metadata": {},
     "output_type": "execute_result"
    }
   ],
   "source": [
    "import seaborn as sb\n",
    "import matplotlib.pyplot as plt\n",
    "import pandas as pd\n",
    "import sklearn as sk\n",
    "import numpy as np\n",
    "\n",
    "from sklearn.model_selection import train_test_split\n",
    "from sklearn.linear_model import LogisticRegression\n",
    "from sklearn.metrics import mean_squared_error\n",
    "from sklearn.preprocessing import OneHotEncoder\n",
    "from sklearn import metrics\n",
    "from sklearn.model_selection import cross_validate\n",
    "from sklearn.utils import resample\n",
    "\n",
    "## read data \n",
    "CIP_data = pd.read_csv(\"CIP_data_encoded.csv\")\n",
    "CIP_data.columns"
   ]
  },
  {
   "cell_type": "code",
   "execution_count": 34,
   "metadata": {},
   "outputs": [
    {
     "name": "stdout",
     "output_type": "stream",
     "text": [
      "[[-0.13983754 -0.46610686 -0.00496913  0.41097443 -1.03919044 -0.5522501\n",
      "   0.08719309  0.09945759  0.34317818  0.10792936 -1.47788579 -0.00205572\n",
      "   0.89130444  0.79733214 -0.00588079  0.06355565 -0.89394985 -1.57024596\n",
      "  -0.78945784 -0.4951679  -0.55945962  0.41341553 -0.12538835 -0.25564837\n",
      "  -0.60209837  0.88889494 -0.34760487 -1.51563216  0.7122274  -0.39153648\n",
      "   0.05722431 -0.58014035 -1.02565718 -0.06949486  0.26928946 -0.10262754\n",
      "  -0.17520735 -0.40540676  0.41938533  0.87670761  0.08040403  0.43944065\n",
      "   1.10322775  1.11086625]]\n",
      "0.5620116102305155\n",
      "0.6353175352991693\n",
      "ACCURACY OF THE MODEL:  0.5620116102305155\n"
     ]
    }
   ],
   "source": [
    "### Step 1: create model and calculate apparent performance metric of interest (P)\n",
    "\n",
    "X = CIP_data[['ANC', 'ATL', 'BAL', 'BHM', 'BOS', 'BUF', 'CAM', 'CHI',\n",
    "       'CIN', 'CLE', 'COL', 'DAL', 'DEN', 'DTR', 'FBG', 'GRB', 'HON', 'IND',\n",
    "       'JAC', 'KCY', 'LAX', 'LBC', 'LVG', 'MIA', 'MIL', 'MIN', 'NOR', 'NYC',\n",
    "       'OKC', 'ORA', 'PHI', 'PHX', 'PON', 'POR', 'RIC', 'SDG', 'SEA', 'SFO',\n",
    "       'SLC', 'STL', 'WDC', 'MSMW', 'MSW', 'Oth/Unk/Missing']]\n",
    "\n",
    "y = CIP_data['Susceptible']\n",
    "\n",
    "model = LogisticRegression(class_weight = 'balanced')\n",
    "model_fit = model.fit(X, y)\n",
    "\n",
    "print(model_fit.coef_)\n",
    "print(model_fit.score(X,y)) # 0.56\n",
    "\n",
    "y_predict = model_fit.predict(X)\n",
    "\n",
    "ROC_AUC_logistic = metrics.roc_auc_score(y, y_predict)\n",
    "print(ROC_AUC_logistic) # 0.635\n",
    "print(\"ACCURACY OF THE MODEL: \", metrics.accuracy_score(y, y_predict)) ## but get model accuracy of 0.5620116102305155\n",
    "\n",
    "## this is \"P\" from S4 https://journals.plos.org/digitalhealth/article?id=10.1371/journal.pdig.0000059 (step 1)"
   ]
  },
  {
   "cell_type": "code",
   "execution_count": 35,
   "metadata": {},
   "outputs": [],
   "source": [
    "#"
   ]
  },
  {
   "cell_type": "code",
   "execution_count": 36,
   "metadata": {},
   "outputs": [
    {
     "name": "stderr",
     "output_type": "stream",
     "text": [
      "/Users/rachelmurray-watson/opt/anaconda3/envs/GISP_init/lib/python3.10/site-packages/sklearn/linear_model/_logistic.py:458: ConvergenceWarning: lbfgs failed to converge (status=1):\n",
      "STOP: TOTAL NO. of ITERATIONS REACHED LIMIT.\n",
      "\n",
      "Increase the number of iterations (max_iter) or scale the data as shown in:\n",
      "    https://scikit-learn.org/stable/modules/preprocessing.html\n",
      "Please also refer to the documentation for alternative solver options:\n",
      "    https://scikit-learn.org/stable/modules/linear_model.html#logistic-regression\n",
      "  n_iter_i = _check_optimize_result(\n",
      "/Users/rachelmurray-watson/opt/anaconda3/envs/GISP_init/lib/python3.10/site-packages/sklearn/linear_model/_logistic.py:458: ConvergenceWarning: lbfgs failed to converge (status=1):\n",
      "STOP: TOTAL NO. of ITERATIONS REACHED LIMIT.\n",
      "\n",
      "Increase the number of iterations (max_iter) or scale the data as shown in:\n",
      "    https://scikit-learn.org/stable/modules/preprocessing.html\n",
      "Please also refer to the documentation for alternative solver options:\n",
      "    https://scikit-learn.org/stable/modules/linear_model.html#logistic-regression\n",
      "  n_iter_i = _check_optimize_result(\n",
      "/Users/rachelmurray-watson/opt/anaconda3/envs/GISP_init/lib/python3.10/site-packages/sklearn/linear_model/_logistic.py:458: ConvergenceWarning: lbfgs failed to converge (status=1):\n",
      "STOP: TOTAL NO. of ITERATIONS REACHED LIMIT.\n",
      "\n",
      "Increase the number of iterations (max_iter) or scale the data as shown in:\n",
      "    https://scikit-learn.org/stable/modules/preprocessing.html\n",
      "Please also refer to the documentation for alternative solver options:\n",
      "    https://scikit-learn.org/stable/modules/linear_model.html#logistic-regression\n",
      "  n_iter_i = _check_optimize_result(\n",
      "/Users/rachelmurray-watson/opt/anaconda3/envs/GISP_init/lib/python3.10/site-packages/sklearn/linear_model/_logistic.py:458: ConvergenceWarning: lbfgs failed to converge (status=1):\n",
      "STOP: TOTAL NO. of ITERATIONS REACHED LIMIT.\n",
      "\n",
      "Increase the number of iterations (max_iter) or scale the data as shown in:\n",
      "    https://scikit-learn.org/stable/modules/preprocessing.html\n",
      "Please also refer to the documentation for alternative solver options:\n",
      "    https://scikit-learn.org/stable/modules/linear_model.html#logistic-regression\n",
      "  n_iter_i = _check_optimize_result(\n"
     ]
    }
   ],
   "source": [
    "## Step 2: Bootstrapping validation \n",
    "n_iterations = 100\n",
    "bootstrapped_stats = pd.DataFrame()\n",
    "bootstrapped_stats = []\n",
    "## the test and train data for the bootstrapping will be the same, as above\n",
    "\n",
    "train = resample(CIP_data, replace=True, n_samples=len(CIP_data))\n",
    "\n",
    "train.head()\n",
    "\n",
    "X_train  = train[['ANC', 'ATL', 'BAL', 'BHM', 'BOS', 'BUF', 'CAM', 'CHI',\n",
    "       'CIN', 'CLE', 'COL', 'DAL', 'DEN', 'DTR', 'FBG', 'GRB', 'HON', 'IND',\n",
    "       'JAC', 'KCY', 'LAX', 'LBC', 'LVG', 'MIA', 'MIL', 'MIN', 'NOR', 'NYC',\n",
    "       'OKC', 'ORA', 'PHI', 'PHX', 'PON', 'POR', 'RIC', 'SDG', 'SEA', 'SFO',\n",
    "       'SLC', 'STL', 'WDC', 'MSMW', 'MSW', 'Oth/Unk/Missing']]\n",
    "\n",
    "y_train = train['Susceptible']\n",
    "\n",
    "model_train = LogisticRegression(class_weight = 'balanced')\n",
    "model_train = model_train.fit(X_train, y_train)\n",
    "\n",
    "#print(model.coef_)\n",
    "#print(model.score(X,y)) # 0.56\n",
    "\n",
    "y_predict = model_train.predict(X_train)\n",
    "\n",
    "ROC_AUC_logistic_train = metrics.roc_auc_score(y_train, y_predict)\n",
    "\n",
    "for i in range(n_iterations):\n",
    "       sample = resample(CIP_data, replace=True, n_samples=len(CIP_data)) ##(a) sample n individuals with replacement\n",
    "\n",
    "       X_sample  = sample[['ANC', 'ATL', 'BAL', 'BHM', 'BOS', 'BUF', 'CAM', 'CHI',\n",
    "       'CIN', 'CLE', 'COL', 'DAL', 'DEN', 'DTR', 'FBG', 'GRB', 'HON', 'IND',\n",
    "       'JAC', 'KCY', 'LAX', 'LBC', 'LVG', 'MIA', 'MIL', 'MIN', 'NOR', 'NYC',\n",
    "       'OKC', 'ORA', 'PHI', 'PHX', 'PON', 'POR', 'RIC', 'SDG', 'SEA', 'SFO',\n",
    "       'SLC', 'STL', 'WDC', 'MSMW', 'MSW', 'Oth/Unk/Missing']]\n",
    "\n",
    "       y_sample = sample['Susceptible']\n",
    "\n",
    "       model = LogisticRegression(class_weight = 'balanced') #calculate APPARENT performance - ROC\n",
    "       model_sample = model.fit(X_sample, y_sample)\n",
    "       y_predict_sample = model_sample.predict(X_sample) \n",
    "       ROC_AUC_logistic_sample = metrics.roc_auc_score(y_sample, y_predict_sample)\n",
    "\n",
    "       y_test = model_sample.predict(X) #performance on original data  \n",
    "       ROC_AUC_logistic_test = metrics.roc_auc_score(y_sample, y_test)\n",
    "\n",
    "       optomisation = ROC_AUC_logistic_sample - ROC_AUC_logistic_test #optimisation\n",
    "\n",
    "       bootstrapped_stats.append(\n",
    "        {\n",
    "            'Sample ROC': ROC_AUC_logistic_sample,\n",
    "            'Test ROC': ROC_AUC_logistic_test,\n",
    "            'Optimisation': optomisation\n",
    "        }\n",
    "       )\n"
   ]
  },
  {
   "cell_type": "code",
   "execution_count": null,
   "metadata": {},
   "outputs": [
    {
     "name": "stdout",
     "output_type": "stream",
     "text": [
      "0.49951094485902264\n",
      "0.6103480759224816 0.38867381379556365\n"
     ]
    }
   ],
   "source": [
    "bootstrapped_stats = pd.DataFrame(bootstrapped_stats)\n",
    "## Step 3: Get average optimization\n",
    "\n",
    "average_optimisation = bootstrapped_stats[\"Optimisation\"].mean() \n",
    "\n",
    "## Step 4: Get optimization-corrected performance\n",
    "\n",
    "optimization_corrected_performance = ROC_AUC_logistic - average_optimisation ##\n",
    "\n",
    "print(optimization_corrected_performance)\n",
    "\n",
    "## get CI \n",
    "\n",
    "Bootstrap_CI = (1 - 0.25)*bootstrapped_stats[\"Optimisation\"].quantile(q = 1)\n",
    "Upper_bootstrap_CI = optimization_corrected_performance + Bootstrap_CI\n",
    "Lower_bootstrap_CI = optimization_corrected_performance - Bootstrap_CI\n",
    "\n",
    "print(Upper_bootstrap_CI, Lower_bootstrap_CI)"
   ]
  }
 ],
 "metadata": {
  "kernelspec": {
   "display_name": "GISP_init",
   "language": "python",
   "name": "python3"
  },
  "language_info": {
   "codemirror_mode": {
    "name": "ipython",
    "version": 3
   },
   "file_extension": ".py",
   "mimetype": "text/x-python",
   "name": "python",
   "nbconvert_exporter": "python",
   "pygments_lexer": "ipython3",
   "version": "3.10.8"
  },
  "orig_nbformat": 4,
  "vscode": {
   "interpreter": {
    "hash": "113a481252c9d845b94df980c27b1c5a79cf0e399a73b7622446a313d2cec44c"
   }
  }
 },
 "nbformat": 4,
 "nbformat_minor": 2
}
