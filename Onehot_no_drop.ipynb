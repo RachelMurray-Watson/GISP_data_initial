{
 "cells": [
  {
   "cell_type": "code",
   "execution_count": 4,
   "metadata": {},
   "outputs": [
    {
     "name": "stdout",
     "output_type": "stream",
     "text": [
      "Index(['Unnamed: 0', 'CLINIC', 'YEAR', 'GENDERSP', 'Susceptible'], dtype='object')\n"
     ]
    }
   ],
   "source": [
    "## Import modules \n",
    "import seaborn as sb\n",
    "import matplotlib.pyplot as plt\n",
    "import pandas as pd\n",
    "import sklearn as sk\n",
    "import numpy as np\n",
    "from sklearn.model_selection import train_test_split\n",
    "from sklearn.linear_model import LinearRegression\n",
    "from sklearn.metrics import mean_squared_error\n",
    "from sklearn.preprocessing import OneHotEncoder\n",
    "\n",
    "## read data \n",
    "CIP_data = pd.read_csv(\"CIP_Resistant_disagregated.csv\")\n",
    "\n",
    "print(CIP_data.columns)"
   ]
  },
  {
   "cell_type": "code",
   "execution_count": 6,
   "metadata": {},
   "outputs": [
    {
     "name": "stdout",
     "output_type": "stream",
     "text": [
      "Index(['Unnamed: 0', 'CLINIC', 'YEAR', 'GENDERSP', 'Susceptible'], dtype='object')\n",
      "['MSM', 'MSMW', 'MSW', 'Oth/Unk/Missing']\n",
      "   Unnamed: 0 CLINIC  YEAR GENDERSP  Susceptible  MSM  MSMW  MSW  \\\n",
      "0           0    ALB  2000      MSW            1  0.0   0.0  1.0   \n",
      "1           0    ALB  2000      MSW            1  0.0   0.0  1.0   \n",
      "2           0    ALB  2000      MSW            1  0.0   0.0  1.0   \n",
      "3           0    ALB  2000      MSW            1  0.0   0.0  1.0   \n",
      "4           0    ALB  2000      MSW            1  0.0   0.0  1.0   \n",
      "\n",
      "   Oth/Unk/Missing  \n",
      "0              0.0  \n",
      "1              0.0  \n",
      "2              0.0  \n",
      "3              0.0  \n",
      "4              0.0  \n"
     ]
    }
   ],
   "source": [
    "## Multivariable model with X1 = CLINIC and X2 = GENDERSP\n",
    "X1 = CIP_data[[\"CLINIC\"]]\n",
    "X2 = CIP_data[[\"GENDERSP\"]]\n",
    "y = CIP_data[[\"Susceptible\"]]\n",
    "\n",
    "\n",
    "encoder_gen = OneHotEncoder()\n",
    "encoder_categories_gend  = encoder_gen.fit(CIP_data[['GENDERSP']]).categories_\n",
    "encoder_categories_gend  = encoder_categories_gend[0].tolist()\n",
    "encoder_df_gend  = pd.DataFrame(encoder_gen.fit_transform(CIP_data[['GENDERSP']]).toarray())\n",
    "CIP_data_encoded_gend = CIP_data.join(encoder_df_gend)\n",
    "print(CIP_data.columns)\n",
    "print(encoder_categories_gend[0:])\n",
    "col_names = list(CIP_data.columns) + encoder_categories_gend[0:]\n",
    "#print(col_names)\n",
    "CIP_data_encoded_gend.columns = col_names\n",
    "#\n",
    "print(CIP_data_encoded_gend.head())\n"
   ]
  },
  {
   "cell_type": "code",
   "execution_count": 7,
   "metadata": {},
   "outputs": [
    {
     "name": "stdout",
     "output_type": "stream",
     "text": [
      "   Unnamed: 0 CLINIC  YEAR GENDERSP  Susceptible  MSM  MSMW  MSW  \\\n",
      "0           0    ALB  2000      MSW            1  0.0   0.0  1.0   \n",
      "1           0    ALB  2000      MSW            1  0.0   0.0  1.0   \n",
      "2           0    ALB  2000      MSW            1  0.0   0.0  1.0   \n",
      "3           0    ALB  2000      MSW            1  0.0   0.0  1.0   \n",
      "4           0    ALB  2000      MSW            1  0.0   0.0  1.0   \n",
      "\n",
      "   Oth/Unk/Missing     REGION  Midwest  Northeast  Southeast  Southwest  West  \n",
      "0              0.0  Southwest      0.0        0.0        0.0        1.0   0.0  \n",
      "1              0.0  Southwest      0.0        0.0        0.0        1.0   0.0  \n",
      "2              0.0  Southwest      0.0        0.0        0.0        1.0   0.0  \n",
      "3              0.0  Southwest      0.0        0.0        0.0        1.0   0.0  \n",
      "4              0.0  Southwest      0.0        0.0        0.0        1.0   0.0  \n"
     ]
    }
   ],
   "source": [
    "west = ['POR', 'PHX', 'HON', 'SDG', 'SFO', 'ANC', 'SEA', 'DEN', 'LVG', 'ORA', 'LBC', 'SLC', 'LAX']\n",
    "southwest = ['OKC','MIN', 'ALB', 'DAL']\n",
    "midwest = ['KCY','CHI', 'PON', 'CIN', 'JAC', 'IND', 'STL','DTR', 'MIL', 'COL', 'CLE']\n",
    "southeast = ['GRB', 'NOR','WDC','MIA', 'BHM','FBG','ATL', 'RIC']\n",
    "northeast = ['BUF','BOS', 'CAM', 'NYC', 'BAL', 'PHI']\n",
    "\n",
    "### One-hot encoding \n",
    "CIP_data_encoded_gend['REGION'] = CIP_data_encoded_gend['CLINIC'].apply(lambda x: \n",
    "    'West' if (x in west) else (\n",
    "        'Southwest' if (x in southwest) else(\n",
    "            'Midwest' if (x in midwest) else(\n",
    "                'Southeast' if (x in southeast) else(\n",
    "                    'Northeast' if (x in northeast) else 'Other'))))) \n",
    "\n",
    "#print(CIP_data_encoded_gend.head())\n",
    "\n",
    "\n",
    "encoder_region = OneHotEncoder()\n",
    "encoder_categories_region  = encoder_region.fit(CIP_data_encoded_gend[['REGION']]).categories_\n",
    "encoder_categories_region  = encoder_categories_region[0].tolist()\n",
    "encoder_df_region = pd.DataFrame(encoder_region.fit_transform(CIP_data_encoded_gend[['REGION']]).toarray())\n",
    "CIP_data_encoded_gend_region = CIP_data_encoded_gend.join(encoder_df_region)\n",
    "col_names = list(CIP_data_encoded_gend.columns) + encoder_categories_region[0:]\n",
    "#print(col_names)\n",
    "CIP_data_encoded_gend_region.columns = col_names\n",
    "print(CIP_data_encoded_gend_region.head())"
   ]
  },
  {
   "cell_type": "code",
   "execution_count": 9,
   "metadata": {},
   "outputs": [
    {
     "name": "stdout",
     "output_type": "stream",
     "text": [
      "REGION\n",
      "Midwest      23475\n",
      "Northeast    11155\n",
      "Southeast    17545\n",
      "Southwest    12839\n",
      "West         31175\n",
      "Name: Susceptible, dtype: int64\n",
      "Southwest\n",
      "12839\n",
      "West\n",
      "31175\n",
      "Southeast\n",
      "17545\n",
      "Northeast\n",
      "11155\n",
      "Midwest\n",
      "23475\n",
      "{'Southwest': 0.11413763368211438, 'West': 0.27714313654022243, 'Southeast': 0.15597357916914845, 'Northeast': 0.09916701485504992, 'Midwest': 0.2086907820459253}\n"
     ]
    }
   ],
   "source": [
    "##### NB here the \"Susceptible\" means \"Susceptible to CIPRO\", so 1-susceptible is resistance \n",
    "suscep_by_region = (CIP_data_encoded_gend_region.groupby(by = [\"REGION\"])[\"Susceptible\"].sum())\n",
    "print(suscep_by_region)\n",
    "\n",
    "regions = CIP_data_encoded_gend_region[\"REGION\"].unique()\n",
    "years = CIP_data_encoded_gend_region[\"YEAR\"].unique()\n",
    "prevalence_by_region = {}\n",
    "for region in regions:\n",
    "    print(region)\n",
    "    print(suscep_by_region[region])\n",
    "    prevalence_by_region[region] = suscep_by_region[region]/len(CIP_data_encoded_gend_region[\"REGION\"] == region)\n",
    "#/CIP_data_encoded_gend_region.groupby(by = [\"REGION\"])[\"Susceptible\"].size()\n",
    "\n",
    "print(prevalence_by_region)"
   ]
  },
  {
   "cell_type": "code",
   "execution_count": 10,
   "metadata": {},
   "outputs": [
    {
     "name": "stdout",
     "output_type": "stream",
     "text": [
      "0         0.000000\n",
      "1         0.000000\n",
      "2         0.000000\n",
      "3         0.000000\n",
      "4         0.000000\n",
      "            ...   \n",
      "112482    0.282092\n",
      "112483    0.282092\n",
      "112484    0.282092\n",
      "112485    0.282092\n",
      "112486    0.282092\n",
      "Name: PREV_REGION, Length: 112487, dtype: float64\n"
     ]
    }
   ],
   "source": [
    "regions = CIP_data_encoded_gend_region[\"REGION\"].unique()\n",
    "years = CIP_data_encoded_gend_region[\"YEAR\"].unique()\n",
    "for year in years:\n",
    "    CIP_data_year = CIP_data_encoded_gend_region.loc[CIP_data_encoded_gend_region['YEAR'] == year]\n",
    "    suscep_by_region = (CIP_data_year.groupby(by = [\"REGION\"])[\"Susceptible\"].sum())\n",
    "    \n",
    "    prevalence_by_region = {}\n",
    "    for region in regions:\n",
    "            prevalence_by_region[region] = 1 - suscep_by_region[region]/len(CIP_data_year[CIP_data_year.REGION == region])\n",
    "            #CIP_data_encoded_gend_region[\"PREV_REGION\"] = np.where((CIP_data_encoded_gend_region[\"YEAR\"] == year) & (CIP_data_encoded_gend_region[\"REGION\"] == region), prevalence_by_region[region])\n",
    "            if year == 2000:\n",
    "                CIP_data_encoded_gend_region.loc[(CIP_data_encoded_gend_region[\"YEAR\"] == 2000) & (CIP_data_encoded_gend_region[\"REGION\"] == region), \"PREV_REGION\"] = 0\n",
    "                CIP_data_encoded_gend_region.loc[(CIP_data_encoded_gend_region[\"YEAR\"] == 2001) & (CIP_data_encoded_gend_region[\"REGION\"] == region), \"PREV_REGION\"] = prevalence_by_region[region]\n",
    "\n",
    "            else:\n",
    "                CIP_data_encoded_gend_region.loc[(CIP_data_encoded_gend_region[\"YEAR\"] == year + 1) & (CIP_data_encoded_gend_region[\"REGION\"] == region), \"PREV_REGION\"] = prevalence_by_region[region] ### Add 1 to enter in next year's prevalence\n",
    "\n",
    "\n",
    "print(CIP_data_encoded_gend_region[\"PREV_REGION\"])"
   ]
  },
  {
   "cell_type": "code",
   "execution_count": 11,
   "metadata": {},
   "outputs": [
    {
     "name": "stdout",
     "output_type": "stream",
     "text": [
      "0         0.0\n",
      "1         0.0\n",
      "2         0.0\n",
      "3         0.0\n",
      "4         0.0\n",
      "         ... \n",
      "112482    0.5\n",
      "112483    0.5\n",
      "112484    0.5\n",
      "112485    0.5\n",
      "112486    0.5\n",
      "Name: PREV_CLINIC, Length: 112487, dtype: float64\n"
     ]
    }
   ],
   "source": [
    "### Add column for prevalence by clinic\n",
    "\n",
    "#clinics = CIP_data_encoded_gend_region[\"CLINIC\"].unique() not every clinic is every year \n",
    "years = CIP_data_encoded_gend_region[\"YEAR\"].unique()\n",
    "\n",
    "for year in years:\n",
    "    CIP_data_year = CIP_data_encoded_gend_region.loc[CIP_data_encoded_gend_region['YEAR'] == year]\n",
    "    clinics = CIP_data_year[\"CLINIC\"].unique()\n",
    "\n",
    "    suscep_by_clinic = (CIP_data_year.groupby(by = [\"CLINIC\"])[\"Susceptible\"].sum())\n",
    "    prevalence_by_clinic = {}\n",
    "    for clinic in clinics:\n",
    "            prevalence_by_clinic[clinic] = 1 - suscep_by_clinic[clinic]/len(CIP_data_year[CIP_data_year.CLINIC == clinic])\n",
    "            #CIP_data_encoded_gend_region[\"PREV_REGION\"] = np.where((CIP_data_encoded_gend_region[\"YEAR\"] == year) & (CIP_data_encoded_gend_region[\"REGION\"] == region), prevalence_by_region[region])\n",
    "            if year == 2000:\n",
    "                CIP_data_encoded_gend_region.loc[(CIP_data_encoded_gend_region[\"YEAR\"] == 2000) & (CIP_data_encoded_gend_region[\"CLINIC\"] == clinic), \"PREV_CLINIC\"] = 0\n",
    "                CIP_data_encoded_gend_region.loc[(CIP_data_encoded_gend_region[\"YEAR\"] == 2001) & (CIP_data_encoded_gend_region[\"CLINIC\"] == clinic), \"PREV_CLINIC\"] = prevalence_by_clinic[clinic]\n",
    "\n",
    "            else:\n",
    "                CIP_data_encoded_gend_region.loc[(CIP_data_encoded_gend_region[\"YEAR\"] == year + 1) & (CIP_data_encoded_gend_region[\"CLINIC\"] == clinic), \"PREV_CLINIC\"] = prevalence_by_clinic[clinic]\n",
    "\n",
    "CIP_data_encoded_gend_region[\"PREV_CLINIC\"] = CIP_data_encoded_gend_region[\"PREV_CLINIC\"].fillna(0) # gets rid of issues where previous year the clinic wasn't monitored\n",
    "print(CIP_data_encoded_gend_region[\"PREV_CLINIC\"])"
   ]
  },
  {
   "cell_type": "code",
   "execution_count": 12,
   "metadata": {},
   "outputs": [
    {
     "name": "stdout",
     "output_type": "stream",
     "text": [
      "False\n"
     ]
    }
   ],
   "source": [
    "### write new data \n",
    "print(CIP_data_encoded_gend_region[\"PREV_CLINIC\"].isnull().values.any())\n",
    "CIP_data_encoded = CIP_data_encoded_gend_region ## reassign for sake of straighforwardness \n",
    "\n",
    "#CIP_data_encoded.to_csv(\"CIP_data_encode_prev_not_dropped.csv\")"
   ]
  },
  {
   "cell_type": "code",
   "execution_count": 11,
   "metadata": {},
   "outputs": [],
   "source": [
    "## add change in prevalence year on year in clinic \n",
    "CIP_data_encoded_gend_region = pd.read_csv(\"CIP_data_encode_prev_not_dropped.csv\")\n",
    "\n",
    "\n",
    "\n",
    "#clinics = CIP_data_encoded_gend_region[\"CLINIC\"].unique() not every clinic is every year \n",
    "years = CIP_data_encoded_gend_region[\"YEAR\"].unique()\n",
    "\n",
    "for year in years:\n",
    "    CIP_data_year = CIP_data_encoded_gend_region.loc[CIP_data_encoded_gend_region['YEAR'] == year]\n",
    "    regions = CIP_data_year[\"REGION\"].unique()\n",
    "\n",
    "    suscep_by_region_current = (CIP_data_year.groupby(by = [\"REGION\"])[\"Susceptible\"].sum())\n",
    "    prevalence_by_region_current = {}\n",
    "    for region in regions:\n",
    "            prevalence_by_region_current[region] = 1 - suscep_by_region_current[region]/len(CIP_data_year[CIP_data_year.REGION == region])\n",
    "            if year == 2000:\n",
    "                CIP_data_encoded_gend_region.loc[(CIP_data_encoded_gend_region[\"YEAR\"] == 2000) & (CIP_data_encoded_gend_region[\"REGION\"] == region), \"DELTA_CLINIC\"] = 0\n",
    "                CIP_data_encoded_gend_region.loc[(CIP_data_encoded_gend_region[\"YEAR\"] == 2001) & (CIP_data_encoded_gend_region[\"REGION\"] == region), \"DELTA_CLINIC\"] = prevalence_by_region_current[region]\n",
    "\n",
    "            else:\n",
    "                CIP_data_encoded_gend_region.loc[(CIP_data_encoded_gend_region[\"YEAR\"] == year + 1) & (CIP_data_encoded_gend_region[\"REGION\"] == region), \"DELTA_CLINIC\"] = prevalence_by_region_current[region] - prevalence_by_region_previous[region]\n",
    "    prevalence_by_region_previous = prevalence_by_region_current"
   ]
  },
  {
   "cell_type": "code",
   "execution_count": 12,
   "metadata": {},
   "outputs": [
    {
     "name": "stdout",
     "output_type": "stream",
     "text": [
      "0         0.000000\n",
      "1         0.000000\n",
      "2         0.000000\n",
      "3         0.000000\n",
      "4         0.000000\n",
      "            ...   \n",
      "112482   -0.016862\n",
      "112483   -0.016862\n",
      "112484   -0.016862\n",
      "112485   -0.016862\n",
      "112486   -0.016862\n",
      "Name: DELTA_CLINIC, Length: 112487, dtype: float64\n"
     ]
    }
   ],
   "source": [
    "print(CIP_data_encoded_gend_region[\"DELTA_CLINIC\"])"
   ]
  }
 ],
 "metadata": {
  "kernelspec": {
   "display_name": "GISP_init",
   "language": "python",
   "name": "python3"
  },
  "language_info": {
   "codemirror_mode": {
    "name": "ipython",
    "version": 3
   },
   "file_extension": ".py",
   "mimetype": "text/x-python",
   "name": "python",
   "nbconvert_exporter": "python",
   "pygments_lexer": "ipython3",
   "version": "3.10.9"
  },
  "orig_nbformat": 4,
  "vscode": {
   "interpreter": {
    "hash": "37b4cc77837642ee25c4eb6578aebe03e17eb3bb59efdde49edbbc888dbc418f"
   }
  }
 },
 "nbformat": 4,
 "nbformat_minor": 2
}
