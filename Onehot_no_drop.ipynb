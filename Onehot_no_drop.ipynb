{
 "cells": [
  {
   "cell_type": "code",
   "execution_count": 5,
   "metadata": {},
   "outputs": [
    {
     "name": "stdout",
     "output_type": "stream",
     "text": [
      "Index(['Unnamed: 0', 'CLINIC', 'YEAR', 'GENDERSP', 'Susceptible'], dtype='object')\n"
     ]
    }
   ],
   "source": [
    "## Import modules \n",
    "import seaborn as sb\n",
    "import matplotlib.pyplot as plt\n",
    "import pandas as pd\n",
    "import sklearn as sk\n",
    "import numpy as np\n",
    "from sklearn.model_selection import train_test_split\n",
    "from sklearn.linear_model import LinearRegression\n",
    "from sklearn.metrics import mean_squared_error\n",
    "from sklearn.preprocessing import OneHotEncoder\n",
    "\n",
    "## read data \n",
    "CIP_data = pd.read_csv(\"CIP_Resistant_disagregated.csv\")\n",
    "\n",
    "print(CIP_data.columns)"
   ]
  },
  {
   "cell_type": "code",
   "execution_count": 8,
   "metadata": {},
   "outputs": [
    {
     "name": "stdout",
     "output_type": "stream",
     "text": [
      "Index(['Unnamed: 0', 'CLINIC', 'YEAR', 'GENDERSP', 'Susceptible'], dtype='object')\n",
      "['MSMW', 'MSW', 'Oth/Unk/Missing']\n"
     ]
    },
    {
     "ename": "ValueError",
     "evalue": "Length mismatch: Expected axis has 9 elements, new values have 8 elements",
     "output_type": "error",
     "traceback": [
      "\u001b[0;31m---------------------------------------------------------------------------\u001b[0m",
      "\u001b[0;31mValueError\u001b[0m                                Traceback (most recent call last)",
      "Cell \u001b[0;32mIn[8], line 16\u001b[0m\n\u001b[1;32m     14\u001b[0m col_names \u001b[39m=\u001b[39m \u001b[39mlist\u001b[39m(CIP_data\u001b[39m.\u001b[39mcolumns) \u001b[39m+\u001b[39m encoder_categories_gend[\u001b[39m1\u001b[39m:]\n\u001b[1;32m     15\u001b[0m \u001b[39m#print(col_names)\u001b[39;00m\n\u001b[0;32m---> 16\u001b[0m CIP_data_encoded_gend\u001b[39m.\u001b[39;49mcolumns \u001b[39m=\u001b[39m col_names\n\u001b[1;32m     17\u001b[0m \u001b[39m#\u001b[39;00m\n\u001b[1;32m     18\u001b[0m \u001b[39mprint\u001b[39m(CIP_data_encoded_gend\u001b[39m.\u001b[39mhead())\n",
      "File \u001b[0;32m~/miniconda3/envs/GISP_init/lib/python3.10/site-packages/pandas/core/generic.py:5915\u001b[0m, in \u001b[0;36mNDFrame.__setattr__\u001b[0;34m(self, name, value)\u001b[0m\n\u001b[1;32m   5913\u001b[0m \u001b[39mtry\u001b[39;00m:\n\u001b[1;32m   5914\u001b[0m     \u001b[39mobject\u001b[39m\u001b[39m.\u001b[39m\u001b[39m__getattribute__\u001b[39m(\u001b[39mself\u001b[39m, name)\n\u001b[0;32m-> 5915\u001b[0m     \u001b[39mreturn\u001b[39;00m \u001b[39mobject\u001b[39;49m\u001b[39m.\u001b[39;49m\u001b[39m__setattr__\u001b[39;49m(\u001b[39mself\u001b[39;49m, name, value)\n\u001b[1;32m   5916\u001b[0m \u001b[39mexcept\u001b[39;00m \u001b[39mAttributeError\u001b[39;00m:\n\u001b[1;32m   5917\u001b[0m     \u001b[39mpass\u001b[39;00m\n",
      "File \u001b[0;32m~/miniconda3/envs/GISP_init/lib/python3.10/site-packages/pandas/_libs/properties.pyx:69\u001b[0m, in \u001b[0;36mpandas._libs.properties.AxisProperty.__set__\u001b[0;34m()\u001b[0m\n",
      "File \u001b[0;32m~/miniconda3/envs/GISP_init/lib/python3.10/site-packages/pandas/core/generic.py:823\u001b[0m, in \u001b[0;36mNDFrame._set_axis\u001b[0;34m(self, axis, labels)\u001b[0m\n\u001b[1;32m    821\u001b[0m \u001b[39mdef\u001b[39;00m \u001b[39m_set_axis\u001b[39m(\u001b[39mself\u001b[39m, axis: \u001b[39mint\u001b[39m, labels: AnyArrayLike \u001b[39m|\u001b[39m \u001b[39mlist\u001b[39m) \u001b[39m-\u001b[39m\u001b[39m>\u001b[39m \u001b[39mNone\u001b[39;00m:\n\u001b[1;32m    822\u001b[0m     labels \u001b[39m=\u001b[39m ensure_index(labels)\n\u001b[0;32m--> 823\u001b[0m     \u001b[39mself\u001b[39;49m\u001b[39m.\u001b[39;49m_mgr\u001b[39m.\u001b[39;49mset_axis(axis, labels)\n\u001b[1;32m    824\u001b[0m     \u001b[39mself\u001b[39m\u001b[39m.\u001b[39m_clear_item_cache()\n",
      "File \u001b[0;32m~/miniconda3/envs/GISP_init/lib/python3.10/site-packages/pandas/core/internals/managers.py:230\u001b[0m, in \u001b[0;36mBaseBlockManager.set_axis\u001b[0;34m(self, axis, new_labels)\u001b[0m\n\u001b[1;32m    228\u001b[0m \u001b[39mdef\u001b[39;00m \u001b[39mset_axis\u001b[39m(\u001b[39mself\u001b[39m, axis: \u001b[39mint\u001b[39m, new_labels: Index) \u001b[39m-\u001b[39m\u001b[39m>\u001b[39m \u001b[39mNone\u001b[39;00m:\n\u001b[1;32m    229\u001b[0m     \u001b[39m# Caller is responsible for ensuring we have an Index object.\u001b[39;00m\n\u001b[0;32m--> 230\u001b[0m     \u001b[39mself\u001b[39;49m\u001b[39m.\u001b[39;49m_validate_set_axis(axis, new_labels)\n\u001b[1;32m    231\u001b[0m     \u001b[39mself\u001b[39m\u001b[39m.\u001b[39maxes[axis] \u001b[39m=\u001b[39m new_labels\n",
      "File \u001b[0;32m~/miniconda3/envs/GISP_init/lib/python3.10/site-packages/pandas/core/internals/base.py:70\u001b[0m, in \u001b[0;36mDataManager._validate_set_axis\u001b[0;34m(self, axis, new_labels)\u001b[0m\n\u001b[1;32m     67\u001b[0m     \u001b[39mpass\u001b[39;00m\n\u001b[1;32m     69\u001b[0m \u001b[39melif\u001b[39;00m new_len \u001b[39m!=\u001b[39m old_len:\n\u001b[0;32m---> 70\u001b[0m     \u001b[39mraise\u001b[39;00m \u001b[39mValueError\u001b[39;00m(\n\u001b[1;32m     71\u001b[0m         \u001b[39mf\u001b[39m\u001b[39m\"\u001b[39m\u001b[39mLength mismatch: Expected axis has \u001b[39m\u001b[39m{\u001b[39;00mold_len\u001b[39m}\u001b[39;00m\u001b[39m elements, new \u001b[39m\u001b[39m\"\u001b[39m\n\u001b[1;32m     72\u001b[0m         \u001b[39mf\u001b[39m\u001b[39m\"\u001b[39m\u001b[39mvalues have \u001b[39m\u001b[39m{\u001b[39;00mnew_len\u001b[39m}\u001b[39;00m\u001b[39m elements\u001b[39m\u001b[39m\"\u001b[39m\n\u001b[1;32m     73\u001b[0m     )\n",
      "\u001b[0;31mValueError\u001b[0m: Length mismatch: Expected axis has 9 elements, new values have 8 elements"
     ]
    }
   ],
   "source": [
    "## Multivariable model with X1 = CLINIC and X2 = GENDERSP\n",
    "X1 = CIP_data[[\"CLINIC\"]]\n",
    "X2 = CIP_data[[\"GENDERSP\"]]\n",
    "y = CIP_data[[\"Susceptible\"]]\n",
    "\n",
    "\n",
    "encoder_gen = OneHotEncoder(drop=None)\n",
    "encoder_categories_gend  = encoder_gen.fit(CIP_data[['GENDERSP']]).categories_\n",
    "encoder_categories_gend  = encoder_categories_gend[0].tolist()\n",
    "encoder_df_gend  = pd.DataFrame(encoder_gen.fit_transform(CIP_data[['GENDERSP']]).toarray())\n",
    "CIP_data_encoded_gend = CIP_data.join(encoder_df_gend)\n",
    "print(CIP_data.columns)\n",
    "print(encoder_categories_gend[1:])\n",
    "col_names = list(CIP_data.columns) + encoder_categories_gend[1:]\n",
    "#print(col_names)\n",
    "CIP_data_encoded_gend.columns = col_names\n",
    "#\n",
    "print(CIP_data_encoded_gend.head())\n"
   ]
  },
  {
   "cell_type": "code",
   "execution_count": null,
   "metadata": {},
   "outputs": [],
   "source": [
    "encoder_gen = OneHotEncoder()\n",
    "encoder_categories_gend  = encoder_gen.fit(CIP_data_encoded_loc[['GENDERSP']]).categories_\n",
    "encoder_categories_gend  = encoder_categories_gend[0].tolist()\n",
    "encoder_df_gend  = pd.DataFrame(encoder_gen.fit_transform(CIP_data_encoded_loc[['GENDERSP']]).toarray())\n",
    "CIP_data_encoded_gend = CIP_data_encoded_loc.join(encoder_df_gend)\n",
    "CIP_data_encoded_gend.head(12)\n",
    "col_names = list(CIP_data_encoded_loc.columns) + encoder_categories_gend[1:]\n",
    "#print(col_names)\n",
    "CIP_data_encoded_gend.columns = col_names\n",
    "#\n",
    "print(len(list(CIP_data[\"GENDERSP\"].unique())))\n",
    "print(len(list(CIP_data[\"CLINIC\"].unique())))\n",
    "\n",
    "\n",
    "CIP_data_encoded_gend.head(2)"
   ]
  },
  {
   "cell_type": "code",
   "execution_count": null,
   "metadata": {},
   "outputs": [],
   "source": [
    "west = ['POR', 'PHX', 'HON', 'SDG', 'SFO', 'ANC', 'SEA', 'DEN', 'LVG', 'ORA', 'LBC', 'SLC', 'LAX']\n",
    "southwest = ['OKC','MIN', 'ALB', 'DAL']\n",
    "midwest = ['KCY','CHI', 'PON', 'CIN', 'JAC', 'IND', 'STL','DTR', 'MIL', 'COL', 'CLE']\n",
    "southeast = ['GRB', 'NOR','WDC','MIA', 'BHM','FBG','ATL', 'RIC']\n",
    "northeast = ['BUF','BOS', 'CAM', 'NYC', 'BAL', 'PHI']\n",
    "\n",
    "### One-hot encoding \n",
    "CIP_data_encoded_gend['REGION'] = CIP_data_encoded_gend['CLINIC'].apply(lambda x: \n",
    "    'West' if (x in west) else (\n",
    "        'Southwest' if (x in southwest) else(\n",
    "            'Midwest' if (x in midwest) else(\n",
    "                'Southeast' if (x in southeast) else(\n",
    "                    'Northeast' if (x in northeast) else 'Other'))))) \n",
    "\n",
    "#print(CIP_data_encoded_gend.head())\n",
    "\n",
    "\n",
    "encoder_region = OneHotEncoder(drop='first')\n",
    "encoder_categories_region  = encoder_region.fit(CIP_data_encoded_gend[['REGION']]).categories_\n",
    "encoder_categories_region  = encoder_categories_region[0].tolist()\n",
    "encoder_df_region = pd.DataFrame(encoder_region.fit_transform(CIP_data_encoded_gend[['REGION']]).toarray())\n",
    "CIP_data_encoded_gend_region = CIP_data_encoded_gend.join(encoder_df_region)\n",
    "col_names = list(CIP_data_encoded_gend.columns) + encoder_categories_region[1:]\n",
    "#print(col_names)\n",
    "CIP_data_encoded_gend_region.columns = col_names\n",
    "print(CIP_data_encoded_gend_region.head())"
   ]
  },
  {
   "cell_type": "code",
   "execution_count": null,
   "metadata": {},
   "outputs": [],
   "source": [
    "##### NB here the \"Susceptible\" means \"Susceptible to CIPRO\", so 1-susceptible is resistance \n",
    "suscep_by_region = (CIP_data_encoded_gend_region.groupby(by = [\"REGION\"])[\"Susceptible\"].sum())\n",
    "print(suscep_by_region)\n",
    "\n",
    "regions = CIP_data_encoded_gend_region[\"REGION\"].unique()\n",
    "years = CIP_data_encoded_gend_region[\"YEARS\"].unique()\n",
    "prevalence_by_region = {}\n",
    "for region in regions:\n",
    "    print(region)\n",
    "    print(suscep_by_region[region])\n",
    "    prevalence_by_region[region] = suscep_by_region[region]/len(CIP_data_encoded_gend_region[\"REGION\"] == region)\n",
    "#/CIP_data_encoded_gend_region.groupby(by = [\"REGION\"])[\"Susceptible\"].size()\n",
    "\n",
    "print(prevalence_by_region)"
   ]
  },
  {
   "cell_type": "code",
   "execution_count": null,
   "metadata": {},
   "outputs": [],
   "source": [
    "regions = CIP_data_encoded_gend_region[\"REGION\"].unique()\n",
    "years = CIP_data_encoded_gend_region[\"YEAR\"].unique()\n",
    "for year in years:\n",
    "    CIP_data_year = CIP_data_encoded_gend_region.loc[CIP_data_encoded_gend_region['YEAR'] == year]\n",
    "    suscep_by_region = (CIP_data_year.groupby(by = [\"REGION\"])[\"Susceptible\"].sum())\n",
    "    \n",
    "    prevalence_by_region = {}\n",
    "    for region in regions:\n",
    "            prevalence_by_region[region] = 1 - suscep_by_region[region]/len(CIP_data_year[CIP_data_year.REGION == region])\n",
    "            #CIP_data_encoded_gend_region[\"PREV_REGION\"] = np.where((CIP_data_encoded_gend_region[\"YEAR\"] == year) & (CIP_data_encoded_gend_region[\"REGION\"] == region), prevalence_by_region[region])\n",
    "            if year == 2000:\n",
    "                CIP_data_encoded_gend_region.loc[(CIP_data_encoded_gend_region[\"YEAR\"] == 2000) & (CIP_data_encoded_gend_region[\"REGION\"] == region), \"PREV_REGION\"] = 0\n",
    "                CIP_data_encoded_gend_region.loc[(CIP_data_encoded_gend_region[\"YEAR\"] == 2001) & (CIP_data_encoded_gend_region[\"REGION\"] == region), \"PREV_REGION\"] = prevalence_by_region[region]\n",
    "\n",
    "            else:\n",
    "                CIP_data_encoded_gend_region.loc[(CIP_data_encoded_gend_region[\"YEAR\"] == year + 1) & (CIP_data_encoded_gend_region[\"REGION\"] == region), \"PREV_REGION\"] = prevalence_by_region[region] ### Add 1 to enter in next year's prevalence\n",
    "\n",
    "\n",
    "print(CIP_data_encoded_gend_region[\"PREV_REGION\"])"
   ]
  },
  {
   "cell_type": "code",
   "execution_count": null,
   "metadata": {},
   "outputs": [],
   "source": [
    "### Add column for prevalence by clinic\n",
    "\n",
    "#clinics = CIP_data_encoded_gend_region[\"CLINIC\"].unique() not every clinic is every year \n",
    "years = CIP_data_encoded_gend_region[\"YEAR\"].unique()\n",
    "\n",
    "for year in years:\n",
    "    CIP_data_year = CIP_data_encoded_gend_region.loc[CIP_data_encoded_gend_region['YEAR'] == year]\n",
    "    clinics = CIP_data_year[\"CLINIC\"].unique()\n",
    "\n",
    "    suscep_by_clinic = (CIP_data_year.groupby(by = [\"CLINIC\"])[\"Susceptible\"].sum())\n",
    "    prevalence_by_clinic = {}\n",
    "    for clinic in clinics:\n",
    "            prevalence_by_clinic[clinic] = 1 - suscep_by_clinic[clinic]/len(CIP_data_year[CIP_data_year.CLINIC == clinic])\n",
    "            #CIP_data_encoded_gend_region[\"PREV_REGION\"] = np.where((CIP_data_encoded_gend_region[\"YEAR\"] == year) & (CIP_data_encoded_gend_region[\"REGION\"] == region), prevalence_by_region[region])\n",
    "            if year == 2000:\n",
    "                CIP_data_encoded_gend_region.loc[(CIP_data_encoded_gend_region[\"YEAR\"] == 2000) & (CIP_data_encoded_gend_region[\"CLINIC\"] == clinic), \"PREV_CLINIC\"] = 0\n",
    "                CIP_data_encoded_gend_region.loc[(CIP_data_encoded_gend_region[\"YEAR\"] == 2001) & (CIP_data_encoded_gend_region[\"CLINIC\"] == clinic), \"PREV_CLINIC\"] = prevalence_by_clinic[clinic]\n",
    "\n",
    "            else:\n",
    "                CIP_data_encoded_gend_region.loc[(CIP_data_encoded_gend_region[\"YEAR\"] == year + 1) & (CIP_data_encoded_gend_region[\"CLINIC\"] == clinic), \"PREV_CLINIC\"] = prevalence_by_clinic[clinic]\n",
    "\n",
    "CIP_data_encoded_gend_region[\"PREV_CLINIC\"] = CIP_data_encoded_gend_region[\"PREV_CLINIC\"].fillna(0) # gets rid of issues where previous year the clinic wasn't monitored\n",
    "print(CIP_data_encoded_gend_region[\"PREV_CLINIC\"])"
   ]
  },
  {
   "cell_type": "code",
   "execution_count": null,
   "metadata": {},
   "outputs": [],
   "source": [
    "### write new data \n",
    "print(CIP_data_encoded_gend_region[\"PREV_CLINIC\"].isnull().values.any())\n",
    "CIP_data_encoded = CIP_data_encoded_gend_region ## reassign for sake of straighforwardness \n",
    "\n",
    "CIP_data_encoded.to_csv(\"CIP_data_encode_prev_not_dropped.csv\")"
   ]
  }
 ],
 "metadata": {
  "kernelspec": {
   "display_name": "GISP_init",
   "language": "python",
   "name": "python3"
  },
  "language_info": {
   "codemirror_mode": {
    "name": "ipython",
    "version": 3
   },
   "file_extension": ".py",
   "mimetype": "text/x-python",
   "name": "python",
   "nbconvert_exporter": "python",
   "pygments_lexer": "ipython3",
   "version": "3.10.9"
  },
  "orig_nbformat": 4,
  "vscode": {
   "interpreter": {
    "hash": "37b4cc77837642ee25c4eb6578aebe03e17eb3bb59efdde49edbbc888dbc418f"
   }
  }
 },
 "nbformat": 4,
 "nbformat_minor": 2
}
