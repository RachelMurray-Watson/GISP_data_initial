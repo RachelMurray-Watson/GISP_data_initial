{
 "cells": [
  {
   "cell_type": "code",
   "execution_count": 8,
   "metadata": {},
   "outputs": [
    {
     "name": "stdout",
     "output_type": "stream",
     "text": [
      "Index(['Unnamed: 0', 'CLINIC', 'YEAR', 'GENDERSP', 'Susceptible'], dtype='object')\n"
     ]
    }
   ],
   "source": [
    "## Import modules \n",
    "\n",
    "import pandas as pd\n",
    "from sklearn import preprocessing\n",
    "from Functions_AMR_gonorrhea import encoder_for_GISP\n",
    "from sklearn.preprocessing import OneHotEncoder\n",
    "\n",
    "\n",
    "## read data \n",
    "CIP_data = pd.read_csv(\"CIP_Resistant_disagregated.csv\")\n",
    "\n",
    "print(CIP_data.columns)"
   ]
  },
  {
   "cell_type": "code",
   "execution_count": null,
   "metadata": {},
   "outputs": [],
   "source": [
    "## Categories for location of clinic\n",
    "west = ['POR', 'PHX', 'HON', 'SDG', 'SFO', 'ANC', 'SEA', 'DEN', 'LVG', 'ORA', 'LBC', 'SLC', 'LAX']\n",
    "southwest = ['OKC','MIN', 'ALB', 'DAL']\n",
    "midwest = ['KCY','CHI', 'PON', 'CIN', 'JAC', 'IND', 'STL','DTR', 'MIL', 'COL', 'CLE']\n",
    "southeast = ['GRB', 'NOR','WDC','MIA', 'BHM','FBG','ATL', 'RIC']\n",
    "northeast = ['BUF','BOS', 'CAM', 'NYC', 'BAL', 'PHI']\n",
    "\n",
    "### Add \"Region\" column\n",
    "CIP_data['REGION'] = CIP_data['CLINIC'].apply(lambda x: \n",
    "    'West' if (x in west) else (\n",
    "        'Southwest' if (x in southwest) else(\n",
    "            'Midwest' if (x in midwest) else(\n",
    "                'Southeast' if (x in southeast) else(\n",
    "                    'Northeast' if (x in northeast) else 'Other'))))) \n",
    "\n"
   ]
  },
  {
   "cell_type": "code",
   "execution_count": 1,
   "metadata": {},
   "outputs": [],
   "source": [
    "## One-hot encoding \n",
    "CIP_data_encoded_gend_region = encoder_for_GISP(CIP_data, 'GENDERSP')\n",
    "CIP_data_encoded_gend_region = encoder_for_GISP(CIP_data_encoded_gend_region, 'REGION')"
   ]
  },
  {
   "cell_type": "code",
   "execution_count": null,
   "metadata": {},
   "outputs": [],
   "source": [
    "## Prevalence by region and clinic\n",
    "regions = CIP_data_encoded_gend_region[\"REGION\"].unique()\n",
    "years = CIP_data_encoded_gend_region[\"YEAR\"].unique()\n",
    "for year in years:\n",
    "    CIP_data_year = CIP_data_encoded_gend_region.loc[CIP_data_encoded_gend_region['YEAR'] == year]\n",
    "    suscep_by_region = (CIP_data_year.groupby(by = [\"REGION\"])[\"Susceptible\"].sum())\n",
    "    suscep_by_clinic = (CIP_data_year.groupby(by = [\"CLINIC\"])[\"Susceptible\"].sum())\n",
    "    clinics = CIP_data_year[\"CLINIC\"].unique() ## each year surveyed different clinics\n",
    "    prevalence_by_clinic = {}\n",
    "    prevalence_by_region = {}\n",
    "    for region in regions:\n",
    "            prevalence_by_region[region] = 1 - suscep_by_region[region]/len(CIP_data_year[CIP_data_year.REGION == region])\n",
    "            if year == 2000:\n",
    "                CIP_data_encoded_gend_region.loc[(CIP_data_encoded_gend_region[\"YEAR\"] == 2000) & (CIP_data_encoded_gend_region[\"REGION\"] == region), \"PREV_REGION\"] = 0\n",
    "                CIP_data_encoded_gend_region.loc[(CIP_data_encoded_gend_region[\"YEAR\"] == 2001) & (CIP_data_encoded_gend_region[\"REGION\"] == region), \"PREV_REGION\"] = prevalence_by_region[region]\n",
    "\n",
    "            else:\n",
    "                CIP_data_encoded_gend_region.loc[(CIP_data_encoded_gend_region[\"YEAR\"] == year + 1) & (CIP_data_encoded_gend_region[\"REGION\"] == region), \"PREV_REGION\"] = prevalence_by_region[region] ### Add 1 to enter in next year's prevalence\n",
    "\n",
    "    for clinic in clinics:\n",
    "            prevalence_by_clinic[clinic] = 1 - suscep_by_clinic[clinic]/len(CIP_data_year[CIP_data_year.CLINIC == clinic])\n",
    "            if year == 2000:\n",
    "                CIP_data_encoded_gend_region.loc[(CIP_data_encoded_gend_region[\"YEAR\"] == 2000) & (CIP_data_encoded_gend_region[\"CLINIC\"] == clinic), \"PREV_CLINIC\"] = 0\n",
    "                CIP_data_encoded_gend_region.loc[(CIP_data_encoded_gend_region[\"YEAR\"] == 2001) & (CIP_data_encoded_gend_region[\"CLINIC\"] == clinic), \"PREV_CLINIC\"] = prevalence_by_clinic[clinic]\n",
    "\n",
    "            else:\n",
    "                CIP_data_encoded_gend_region.loc[(CIP_data_encoded_gend_region[\"YEAR\"] == year + 1) & (CIP_data_encoded_gend_region[\"CLINIC\"] == clinic), \"PREV_CLINIC\"] = prevalence_by_clinic[clinic]\n",
    "\n",
    "CIP_data_encoded_gend_region[\"PREV_CLINIC\"] = CIP_data_encoded_gend_region[\"PREV_CLINIC\"].fillna(0) # gets rid of issues where previous year the clinic wasn't monitored\n"
   ]
  },
  {
   "cell_type": "code",
   "execution_count": 10,
   "metadata": {},
   "outputs": [],
   "source": [
    "## Change in prevalence by region and clinic \n",
    "\n",
    "for year in years:\n",
    "    CIP_data_year = CIP_data_encoded_gend_region.loc[CIP_data_encoded_gend_region['YEAR'] == year]\n",
    "    clinics = CIP_data_year[\"CLINIC\"].unique()\n",
    "    suscep_by_clinic_current = (CIP_data_year.groupby(by = [\"CLINIC\"])[\"Susceptible\"].sum())\n",
    "    suscep_by_region_current = (CIP_data_year.groupby(by = [\"REGION\"])[\"Susceptible\"].sum())\n",
    "\n",
    "    prevalence_by_clinic_current = {}\n",
    "    prevalence_by_region_current = {}\n",
    "\n",
    "    for region in regions:\n",
    "            prevalence_by_region_current[region] = 1 - suscep_by_region_current[region]/len(CIP_data_year[CIP_data_year.REGION == region])\n",
    "            if year == 2000:\n",
    "                CIP_data_encoded_gend_region.loc[(CIP_data_encoded_gend_region[\"YEAR\"] == 2000) & (CIP_data_encoded_gend_region[\"REGION\"] == region), \"DELTA_REGION\"] = 0\n",
    "                #CIP_data_encoded_gend_region.loc[(CIP_data_encoded_gend_region[\"YEAR\"] == 2001) & (CIP_data_encoded_gend_region[\"REGION\"] == region), \"DELTA_REGION\"] = prevalence_by_region_current[region]\n",
    "\n",
    "            else:\n",
    "                CIP_data_encoded_gend_region.loc[(CIP_data_encoded_gend_region[\"YEAR\"] == year) & (CIP_data_encoded_gend_region[\"REGION\"] == region), \"DELTA_REGION\"] = prevalence_by_region_current[region] - prevalence_by_region_previous[region]\n",
    "    for clinic in clinics:\n",
    "            prevalence_by_clinic_current[clinic] = 1 - suscep_by_clinic_current[clinic]/len(CIP_data_year[CIP_data_year.CLINIC == clinic])\n",
    "            if year == 2000:\n",
    "                CIP_data_encoded_gend_region.loc[(CIP_data_encoded_gend_region[\"YEAR\"] == 2000) & (CIP_data_encoded_gend_region[\"CLINIC\"] == clinic), \"DELTA_CLINIC\"] = 0\n",
    "\n",
    "            else:\n",
    "                try: \n",
    "                    CIP_data_encoded_gend_region.loc[(CIP_data_encoded_gend_region[\"YEAR\"] == year) & (CIP_data_encoded_gend_region[\"CLINIC\"] == clinic), \"DELTA_CLINIC\"] = prevalence_by_clinic_current[clinic] - prevalence_by_clinic_previous[clinic]\n",
    "                except KeyError:\n",
    "                     CIP_data_encoded_gend_region.loc[(CIP_data_encoded_gend_region[\"YEAR\"] == year) & (CIP_data_encoded_gend_region[\"CLINIC\"] == clinic), \"DELTA_CLINIC\"] = 0\n",
    "    \n",
    "    prevalence_by_region_previous = prevalence_by_region_current\n",
    "\n",
    "    prevalence_by_clinic_previous = prevalence_by_clinic_current\n"
   ]
  },
  {
   "cell_type": "code",
   "execution_count": null,
   "metadata": {},
   "outputs": [],
   "source": [
    "### Standardize the continuous variables\n",
    "\n",
    "X_train_continuous = CIP_data_encoded_gend_region[[\"PREV_REGION\", \"PREV_REGION\", \"DELTA_REGION\", \"DELTA_CLINIC\"]]\n",
    "scaler = preprocessing.StandardScaler().fit(X_train_continuous)\n",
    "CIP_data_encoded_gend_region[[\"PREV_REGION\", \"PREV_REGION\", \"DELTA_REGION\", \"DELTA_CLINIC\"]] = scaler.transform(X_train_continuous)"
   ]
  },
  {
   "cell_type": "code",
   "execution_count": 27,
   "metadata": {},
   "outputs": [],
   "source": [
    "## Write data\n",
    "CIP_data_encoded_gend_region.to_csv(\"CIP_data_encode_prev_not_dropped.csv\")"
   ]
  }
 ],
 "metadata": {
  "kernelspec": {
   "display_name": "GISP_init",
   "language": "python",
   "name": "python3"
  },
  "language_info": {
   "codemirror_mode": {
    "name": "ipython",
    "version": 3
   },
   "file_extension": ".py",
   "mimetype": "text/x-python",
   "name": "python",
   "nbconvert_exporter": "python",
   "pygments_lexer": "ipython3",
   "version": "3.10.9 (main, Jan 11 2023, 09:18:18) [Clang 14.0.6 ]"
  },
  "orig_nbformat": 4,
  "vscode": {
   "interpreter": {
    "hash": "37b4cc77837642ee25c4eb6578aebe03e17eb3bb59efdde49edbbc888dbc418f"
   }
  }
 },
 "nbformat": 4,
 "nbformat_minor": 2
}
