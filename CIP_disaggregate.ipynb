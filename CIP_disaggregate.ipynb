{
 "cells": [
  {
   "cell_type": "code",
   "execution_count": 14,
   "metadata": {},
   "outputs": [],
   "source": [
    "import pandas as pd\n",
    "import matplotlib.pyplot as plt\n",
    "from matplotlib.ticker import MaxNLocator\n",
    "import numpy as np"
   ]
  },
  {
   "cell_type": "code",
   "execution_count": 15,
   "metadata": {},
   "outputs": [
    {
     "name": "stdout",
     "output_type": "stream",
     "text": [
      "   Obs CLINIC  YEAR         GENDERSP  TOTAL Susceptible TetI PenI PenI_TetI  \\\n",
      "0    1    ALB  2000              MSW    143          10    2   36        68   \n",
      "1    2    ALB  2000              MSM      9           .    .    1         5   \n",
      "2    3    ALB  2000             MSMW      5           .    .    2         3   \n",
      "3    4    ALB  2000  Oth/Unk/Missing      4           .    1    .         1   \n",
      "4    5    ALB  2001              MSW    127          12    3   40        57   \n",
      "\n",
      "  TetR  ... AziRS_TetR_CipI_PenI CipR CipR_TetR AziRS_CipI_PenI_TetI  \\\n",
      "0    2  ...                    .    .         .                    .   \n",
      "1    .  ...                    .    .         .                    .   \n",
      "2    .  ...                    .    .         .                    .   \n",
      "3    .  ...                    .    .         .                    .   \n",
      "4    1  ...                    .    .         .                    .   \n",
      "\n",
      "  CfxRS_CipR_TetR_PenI AziRS_TetR AziRS_CipR_PenR_TetI  \\\n",
      "0                    .          .                    .   \n",
      "1                    .          .                    .   \n",
      "2                    .          .                    .   \n",
      "3                    .          .                    .   \n",
      "4                    .          .                    .   \n",
      "\n",
      "  CroRS_CfxRS_CipR_PenR_TetR CroRS_CfxRS_PenR_TetI CfxRS_PenR_TetR  \n",
      "0                          .                     .               .  \n",
      "1                          .                     .               .  \n",
      "2                          .                     .               .  \n",
      "3                          .                     .               .  \n",
      "4                          .                     .               .  \n",
      "\n",
      "[5 rows x 55 columns]\n",
      "   Obs CLINIC  YEAR         GENDERSP  TOTAL  Susceptible  TetI  PenI  \\\n",
      "0    1    ALB  2000              MSW    143         10.0   2.0  36.0   \n",
      "1    2    ALB  2000              MSM      9          NaN   NaN   1.0   \n",
      "2    3    ALB  2000             MSMW      5          NaN   NaN   2.0   \n",
      "3    4    ALB  2000  Oth/Unk/Missing      4          NaN   1.0   NaN   \n",
      "4    5    ALB  2001              MSW    127         12.0   3.0  40.0   \n",
      "\n",
      "   PenI_TetI  TetR  ...  AziRS_TetR_CipI_PenI  CipR  CipR_TetR  \\\n",
      "0       68.0   2.0  ...                   NaN   NaN        NaN   \n",
      "1        5.0   NaN  ...                   NaN   NaN        NaN   \n",
      "2        3.0   NaN  ...                   NaN   NaN        NaN   \n",
      "3        1.0   NaN  ...                   NaN   NaN        NaN   \n",
      "4       57.0   1.0  ...                   NaN   NaN        NaN   \n",
      "\n",
      "   AziRS_CipI_PenI_TetI  CfxRS_CipR_TetR_PenI  AziRS_TetR  \\\n",
      "0                   NaN                   NaN         NaN   \n",
      "1                   NaN                   NaN         NaN   \n",
      "2                   NaN                   NaN         NaN   \n",
      "3                   NaN                   NaN         NaN   \n",
      "4                   NaN                   NaN         NaN   \n",
      "\n",
      "   AziRS_CipR_PenR_TetI  CroRS_CfxRS_CipR_PenR_TetR  CroRS_CfxRS_PenR_TetI  \\\n",
      "0                   NaN                         NaN                    NaN   \n",
      "1                   NaN                         NaN                    NaN   \n",
      "2                   NaN                         NaN                    NaN   \n",
      "3                   NaN                         NaN                    NaN   \n",
      "4                   NaN                         NaN                    NaN   \n",
      "\n",
      "   CfxRS_PenR_TetR  \n",
      "0              NaN  \n",
      "1              NaN  \n",
      "2              NaN  \n",
      "3              NaN  \n",
      "4              NaN  \n",
      "\n",
      "[5 rows x 55 columns]\n"
     ]
    },
    {
     "name": "stderr",
     "output_type": "stream",
     "text": [
      "/var/folders/d4/chxwf4hs5kq7ttsp56s64z65mjk3qj/T/ipykernel_45588/2212419462.py:4: FutureWarning: In a future version, `df.iloc[:, i] = newvals` will attempt to set the values inplace instead of always setting a new array. To retain the old behavior, use either `df[df.columns[i]] = newvals` or, if columns are non-unique, `df.isetitem(i, newvals)`\n",
      "  df.iloc[:, 5:len(df.columns)] = df.iloc[:, 5:len(df.columns)].apply(pd.to_numeric, errors='coerce')\n"
     ]
    }
   ],
   "source": [
    "df = pd.read_csv('GISP20002019.csv')\n",
    "print(df.head())\n",
    "\n",
    "df.iloc[:, 5:len(df.columns)] = df.iloc[:, 5:len(df.columns)].apply(pd.to_numeric, errors='coerce')\n",
    "## errors = coerce converts missing data to NaN\n",
    "print(df.head())\n",
    "\n",
    "## so e.g. in Alabama, in 2000, there were 143 MSW who were sampled, only 10 of which were susceptible to all drugs etc ect "
   ]
  },
  {
   "cell_type": "code",
   "execution_count": 16,
   "metadata": {},
   "outputs": [
    {
     "name": "stdout",
     "output_type": "stream",
     "text": [
      "['Obs', 'CLINIC', 'YEAR', 'GENDERSP', 'TOTAL', 'Susceptible', 'CipR_PenR_TetR', 'CipR_PenI_TetI', 'CipR_TetR_PenI', 'CipR_PenI', 'CipR_PenR_TetI', 'AziRS_CipR_PenR_TetR', 'CipR_PenR', 'AziRS_CipR_TetR_PenI', 'CfxRS_CipR_PenR_TetR', 'AziRS_CipR_PenI_TetI', 'CipR_TetI', 'CipR', 'CipR_TetR', 'CfxRS_CipR_TetR_PenI', 'AziRS_CipR_PenR_TetI', 'CroRS_CfxRS_CipR_PenR_TetR']\n"
     ]
    },
    {
     "data": {
      "text/html": [
       "<div>\n",
       "<style scoped>\n",
       "    .dataframe tbody tr th:only-of-type {\n",
       "        vertical-align: middle;\n",
       "    }\n",
       "\n",
       "    .dataframe tbody tr th {\n",
       "        vertical-align: top;\n",
       "    }\n",
       "\n",
       "    .dataframe thead th {\n",
       "        text-align: right;\n",
       "    }\n",
       "</style>\n",
       "<table border=\"1\" class=\"dataframe\">\n",
       "  <thead>\n",
       "    <tr style=\"text-align: right;\">\n",
       "      <th></th>\n",
       "      <th>Obs</th>\n",
       "      <th>CLINIC</th>\n",
       "      <th>YEAR</th>\n",
       "      <th>GENDERSP</th>\n",
       "      <th>TOTAL</th>\n",
       "      <th>Susceptible</th>\n",
       "      <th>CipR_PenR_TetR</th>\n",
       "      <th>CipR_PenI_TetI</th>\n",
       "      <th>CipR_TetR_PenI</th>\n",
       "      <th>CipR_PenI</th>\n",
       "      <th>...</th>\n",
       "      <th>CipR_PenR</th>\n",
       "      <th>AziRS_CipR_TetR_PenI</th>\n",
       "      <th>CfxRS_CipR_PenR_TetR</th>\n",
       "      <th>AziRS_CipR_PenI_TetI</th>\n",
       "      <th>CipR_TetI</th>\n",
       "      <th>CipR</th>\n",
       "      <th>CipR_TetR</th>\n",
       "      <th>CfxRS_CipR_TetR_PenI</th>\n",
       "      <th>AziRS_CipR_PenR_TetI</th>\n",
       "      <th>CroRS_CfxRS_CipR_PenR_TetR</th>\n",
       "    </tr>\n",
       "  </thead>\n",
       "  <tbody>\n",
       "    <tr>\n",
       "      <th>1965</th>\n",
       "      <td>1966</td>\n",
       "      <td>WDC</td>\n",
       "      <td>2018</td>\n",
       "      <td>MSM</td>\n",
       "      <td>1</td>\n",
       "      <td>NaN</td>\n",
       "      <td>NaN</td>\n",
       "      <td>NaN</td>\n",
       "      <td>NaN</td>\n",
       "      <td>NaN</td>\n",
       "      <td>...</td>\n",
       "      <td>NaN</td>\n",
       "      <td>NaN</td>\n",
       "      <td>NaN</td>\n",
       "      <td>NaN</td>\n",
       "      <td>NaN</td>\n",
       "      <td>NaN</td>\n",
       "      <td>NaN</td>\n",
       "      <td>NaN</td>\n",
       "      <td>NaN</td>\n",
       "      <td>NaN</td>\n",
       "    </tr>\n",
       "    <tr>\n",
       "      <th>1966</th>\n",
       "      <td>1967</td>\n",
       "      <td>WDC</td>\n",
       "      <td>2019</td>\n",
       "      <td>MSW</td>\n",
       "      <td>45</td>\n",
       "      <td>3.0</td>\n",
       "      <td>1.0</td>\n",
       "      <td>5.0</td>\n",
       "      <td>2.0</td>\n",
       "      <td>1.0</td>\n",
       "      <td>...</td>\n",
       "      <td>NaN</td>\n",
       "      <td>NaN</td>\n",
       "      <td>NaN</td>\n",
       "      <td>NaN</td>\n",
       "      <td>1.0</td>\n",
       "      <td>1.0</td>\n",
       "      <td>1.0</td>\n",
       "      <td>NaN</td>\n",
       "      <td>NaN</td>\n",
       "      <td>NaN</td>\n",
       "    </tr>\n",
       "    <tr>\n",
       "      <th>1967</th>\n",
       "      <td>1968</td>\n",
       "      <td>WDC</td>\n",
       "      <td>2019</td>\n",
       "      <td>MSM</td>\n",
       "      <td>25</td>\n",
       "      <td>1.0</td>\n",
       "      <td>NaN</td>\n",
       "      <td>5.0</td>\n",
       "      <td>6.0</td>\n",
       "      <td>NaN</td>\n",
       "      <td>...</td>\n",
       "      <td>NaN</td>\n",
       "      <td>NaN</td>\n",
       "      <td>NaN</td>\n",
       "      <td>NaN</td>\n",
       "      <td>NaN</td>\n",
       "      <td>NaN</td>\n",
       "      <td>NaN</td>\n",
       "      <td>NaN</td>\n",
       "      <td>NaN</td>\n",
       "      <td>NaN</td>\n",
       "    </tr>\n",
       "    <tr>\n",
       "      <th>1968</th>\n",
       "      <td>1969</td>\n",
       "      <td>WDC</td>\n",
       "      <td>2019</td>\n",
       "      <td>MSMW</td>\n",
       "      <td>6</td>\n",
       "      <td>NaN</td>\n",
       "      <td>NaN</td>\n",
       "      <td>1.0</td>\n",
       "      <td>1.0</td>\n",
       "      <td>NaN</td>\n",
       "      <td>...</td>\n",
       "      <td>NaN</td>\n",
       "      <td>NaN</td>\n",
       "      <td>NaN</td>\n",
       "      <td>NaN</td>\n",
       "      <td>NaN</td>\n",
       "      <td>NaN</td>\n",
       "      <td>NaN</td>\n",
       "      <td>NaN</td>\n",
       "      <td>NaN</td>\n",
       "      <td>NaN</td>\n",
       "    </tr>\n",
       "    <tr>\n",
       "      <th>1969</th>\n",
       "      <td>1970</td>\n",
       "      <td>WDC</td>\n",
       "      <td>2019</td>\n",
       "      <td>Oth/Unk/Missing</td>\n",
       "      <td>1</td>\n",
       "      <td>NaN</td>\n",
       "      <td>1.0</td>\n",
       "      <td>NaN</td>\n",
       "      <td>NaN</td>\n",
       "      <td>NaN</td>\n",
       "      <td>...</td>\n",
       "      <td>NaN</td>\n",
       "      <td>NaN</td>\n",
       "      <td>NaN</td>\n",
       "      <td>NaN</td>\n",
       "      <td>NaN</td>\n",
       "      <td>NaN</td>\n",
       "      <td>NaN</td>\n",
       "      <td>NaN</td>\n",
       "      <td>NaN</td>\n",
       "      <td>NaN</td>\n",
       "    </tr>\n",
       "  </tbody>\n",
       "</table>\n",
       "<p>5 rows × 22 columns</p>\n",
       "</div>"
      ],
      "text/plain": [
       "       Obs CLINIC  YEAR         GENDERSP  TOTAL  Susceptible  CipR_PenR_TetR  \\\n",
       "1965  1966    WDC  2018              MSM      1          NaN             NaN   \n",
       "1966  1967    WDC  2019              MSW     45          3.0             1.0   \n",
       "1967  1968    WDC  2019              MSM     25          1.0             NaN   \n",
       "1968  1969    WDC  2019             MSMW      6          NaN             NaN   \n",
       "1969  1970    WDC  2019  Oth/Unk/Missing      1          NaN             1.0   \n",
       "\n",
       "      CipR_PenI_TetI  CipR_TetR_PenI  CipR_PenI  ...  CipR_PenR  \\\n",
       "1965             NaN             NaN        NaN  ...        NaN   \n",
       "1966             5.0             2.0        1.0  ...        NaN   \n",
       "1967             5.0             6.0        NaN  ...        NaN   \n",
       "1968             1.0             1.0        NaN  ...        NaN   \n",
       "1969             NaN             NaN        NaN  ...        NaN   \n",
       "\n",
       "      AziRS_CipR_TetR_PenI  CfxRS_CipR_PenR_TetR  AziRS_CipR_PenI_TetI  \\\n",
       "1965                   NaN                   NaN                   NaN   \n",
       "1966                   NaN                   NaN                   NaN   \n",
       "1967                   NaN                   NaN                   NaN   \n",
       "1968                   NaN                   NaN                   NaN   \n",
       "1969                   NaN                   NaN                   NaN   \n",
       "\n",
       "      CipR_TetI  CipR  CipR_TetR  CfxRS_CipR_TetR_PenI  AziRS_CipR_PenR_TetI  \\\n",
       "1965        NaN   NaN        NaN                   NaN                   NaN   \n",
       "1966        1.0   1.0        1.0                   NaN                   NaN   \n",
       "1967        NaN   NaN        NaN                   NaN                   NaN   \n",
       "1968        NaN   NaN        NaN                   NaN                   NaN   \n",
       "1969        NaN   NaN        NaN                   NaN                   NaN   \n",
       "\n",
       "      CroRS_CfxRS_CipR_PenR_TetR  \n",
       "1965                         NaN  \n",
       "1966                         NaN  \n",
       "1967                         NaN  \n",
       "1968                         NaN  \n",
       "1969                         NaN  \n",
       "\n",
       "[5 rows x 22 columns]"
      ]
     },
     "execution_count": 16,
     "metadata": {},
     "output_type": "execute_result"
    }
   ],
   "source": [
    "## get only CIP data \n",
    "drugsDict = {}\n",
    "drugsDict[\"CIP\"] = list(df.columns)\n",
    "\n",
    "## only get columns where CipR exists in title \n",
    "for variable in range(len(list(df.columns))):\n",
    "    if \"CipR\" not in drugsDict[\"CIP\"][variable]: ## so this is saying that if CipR is not in the variable (comparing susbsections of strings?)\n",
    "        drugsDict[\"CIP\"][variable] = None\n",
    "\n",
    "drugsDict[\"CIP\"] = list(filter(None, drugsDict[\"CIP\"]))\n",
    "\n",
    "\n",
    "CIP_colums = list(df.columns[0:6]) + list(filter(None, drugsDict[\"CIP\"]))\n",
    "print(CIP_colums)\n",
    "\n",
    "CIP_data_full = df[CIP_colums]\n",
    "#print(df[[CIP_colums]])\n",
    "CIP_data_full.head()\n",
    "CIP_data_full.tail()\n"
   ]
  },
  {
   "cell_type": "code",
   "execution_count": 18,
   "metadata": {},
   "outputs": [
    {
     "name": "stdout",
     "output_type": "stream",
     "text": [
      "112487\n",
      "Index(['Obs', 'CLINIC', 'YEAR', 'GENDERSP', 'TOTAL', 'Susceptible',\n",
      "       'CipR_PenR_TetR', 'CipR_PenI_TetI', 'CipR_TetR_PenI', 'CipR_PenI',\n",
      "       'CipR_PenR_TetI', 'AziRS_CipR_PenR_TetR', 'CipR_PenR',\n",
      "       'AziRS_CipR_TetR_PenI', 'CfxRS_CipR_PenR_TetR', 'AziRS_CipR_PenI_TetI',\n",
      "       'CipR_TetI', 'CipR', 'CipR_TetR', 'CfxRS_CipR_TetR_PenI',\n",
      "       'AziRS_CipR_PenR_TetI', 'CroRS_CfxRS_CipR_PenR_TetR'],\n",
      "      dtype='object')\n"
     ]
    }
   ],
   "source": [
    "## now need to start disaggregating... \n",
    "print(CIP_data_full[\"TOTAL\"].sum())\n",
    "## so 112,487 in total had some resistance to CIP. Seems like a lot? maybe not though\n",
    "## means that I want a DF with 112,487 \n",
    "\n",
    "## different levels for the two variables of interest - sexual behaviours and geographic area\n",
    "## sexual characteristics\n",
    "GenderSP = list(CIP_data_full[\"GENDERSP\"].unique())\n",
    "Location = list(CIP_data_full[\"CLINIC\"].unique())\n",
    "Year = list(CIP_data_full[\"YEAR\"].unique())\n",
    "#print(len(GenderSP)*len(Location)*len(Year)) # 3360 possible identifiers\n",
    "\n",
    "## what are we interested in? in the first case, geography, sexual activity, year, and CIP (for the moment just bundle everything under \"CIPR\")\n",
    "#\n",
    "### so will abbreviate dataframe so that it is \"YEAR\" \"LOCATION\" \"GENDERSP\" \"CIPR\" (which will be a binary variable)\n",
    "CIP_data_full = CIP_data_full.replace(np.nan, 0) ##otherwise cannot seem to sum? \n",
    "print(CIP_data_full.columns)\n",
    "\n",
    "### need to redefine SUSCEPTIBLE so it is just susceptible to CIPR, not all other drugs\n",
    "CIP_data_full[\"Susceptible\"] =  CIP_data_full[\"TOTAL\"] - CIP_data_full[['CipR_PenR_TetR', 'CipR_PenI_TetI', 'CipR_TetR_PenI', 'CipR_PenI',\n",
    "       'CipR_PenR_TetI', 'AziRS_CipR_PenR_TetR', 'CipR_PenR',\n",
    "       'AziRS_CipR_TetR_PenI', 'CfxRS_CipR_PenR_TetR', 'AziRS_CipR_PenI_TetI',\n",
    "       'CipR_TetI', 'CipR', 'CipR_TetR', 'CfxRS_CipR_TetR_PenI',\n",
    "       'AziRS_CipR_PenR_TetI', 'CroRS_CfxRS_CipR_PenR_TetR']].sum(axis = 1) # Which is (TOTAL SAMPLES) - (SUM OF ALL THE ONES THAT SHOWED CIPRO RESISTANCE)\n",
    "\n",
    "\n",
    "## So now to get susceptible to CIPR \n",
    "\n",
    "\n",
    "CIP_data_abb = CIP_data_full[[\"CLINIC\", \"YEAR\", \"GENDERSP\", \"TOTAL\", \"Susceptible\"]]\n",
    "#print(CIP_data_abb.tail())"
   ]
  },
  {
   "cell_type": "code",
   "execution_count": 20,
   "metadata": {},
   "outputs": [
    {
     "name": "stdout",
     "output_type": "stream",
     "text": [
      "0        0.0\n",
      "1        0.0\n",
      "2        0.0\n",
      "3        0.0\n",
      "4        0.0\n",
      "        ... \n",
      "1965     0.0\n",
      "1966    14.0\n",
      "1967    13.0\n",
      "1968     4.0\n",
      "1969     1.0\n",
      "Length: 1970, dtype: float64\n"
     ]
    }
   ],
   "source": [
    "print(CIP_data_abb[\"TOTAL\"] - CIP_data_abb[\"Susceptible\"])"
   ]
  },
  {
   "cell_type": "code",
   "execution_count": 7,
   "metadata": {},
   "outputs": [
    {
     "name": "stdout",
     "output_type": "stream",
     "text": [
      "(112487, 5)\n",
      "  CLINIC  YEAR GENDERSP  TOTAL  Susceptible\n",
      "0    ALB  2000      MSW      1            1\n",
      "0    ALB  2000      MSW      1            1\n",
      "0    ALB  2000      MSW      1            1\n",
      "0    ALB  2000      MSW      1            1\n",
      "0    ALB  2000      MSW      1            1\n",
      "0    ALB  2000      MSW      1            1\n",
      "0    ALB  2000      MSW      1            1\n",
      "0    ALB  2000      MSW      1            1\n",
      "0    ALB  2000      MSW      1            1\n",
      "0    ALB  2000      MSW      1            1\n",
      "0    ALB  2000      MSW      1            1\n",
      "0    ALB  2000      MSW      1            1\n",
      "0    ALB  2000      MSW      1            1\n",
      "0    ALB  2000      MSW      1            1\n",
      "0    ALB  2000      MSW      1            1\n"
     ]
    },
    {
     "name": "stderr",
     "output_type": "stream",
     "text": [
      "/var/folders/d4/chxwf4hs5kq7ttsp56s64z65mjk3qj/T/ipykernel_45588/271577498.py:8: UserWarning: Pandas doesn't allow columns to be created via a new attribute name - see https://pandas.pydata.org/pandas-docs/stable/indexing.html#attribute-access\n",
      "  df.CIPR = pd.to_numeric(df.Susceptible)\n"
     ]
    }
   ],
   "source": [
    "###\n",
    "\n",
    "df=CIP_data_abb.reindex(CIP_data_abb.index.repeat(CIP_data_abb.TOTAL))\n",
    "\n",
    "df=df.assign(TOTAL=1) ## can use this to count. So when the total in rows is equal to the number of Susceptible for that year/gender ect., , then the value of susceptible changes from 1 to 0.\n",
    "df.head()\n",
    "\n",
    "df.CIPR = pd.to_numeric(df.Susceptible)\n",
    "df.Susceptible=np.where(df.groupby(level=0).cumcount()<df.Susceptible,1,0) # basically once the cumulative total reaches == the value for susceptible in that row, switch from 0 to 1\n",
    "#\n",
    "print(df.shape)\n",
    "df.columns\n",
    "### make a dataframe \n",
    "#CIP_disag = pd.df()\n",
    "print(df.head(15))\n",
    "\n",
    "CIP_disaggregated = df[[\"CLINIC\", \"YEAR\", \"GENDERSP\", \"Susceptible\"]]\n",
    "CIP_disaggregated.to_csv(\"CIP_Resistant_disagregated.csv\")\n",
    "\n",
    "\n"
   ]
  },
  {
   "cell_type": "code",
   "execution_count": 11,
   "metadata": {},
   "outputs": [
    {
     "data": {
      "text/plain": [
       "0       143\n",
       "1         9\n",
       "2         5\n",
       "3         4\n",
       "4       127\n",
       "       ... \n",
       "1965      1\n",
       "1966     45\n",
       "1967     25\n",
       "1968      6\n",
       "1969      1\n",
       "Name: TOTAL, Length: 1970, dtype: int64"
      ]
     },
     "execution_count": 11,
     "metadata": {},
     "output_type": "execute_result"
    }
   ],
   "source": [
    "### quick check - 2019 \n",
    "CIP_data_full[\"TOTAL\"]\n"
   ]
  },
  {
   "cell_type": "code",
   "execution_count": 8,
   "metadata": {},
   "outputs": [
    {
     "name": "stdout",
     "output_type": "stream",
     "text": [
      "0.3542199488491049\n"
     ]
    }
   ],
   "source": [
    "CIP_data_2019 = CIP_disaggregated.loc[CIP_disaggregated['YEAR'] == 2019]\n",
    "\n",
    "print(1 - CIP_data_2019['Susceptible'].sum()/len(CIP_data_2019['Susceptible']))\n"
   ]
  },
  {
   "cell_type": "code",
   "execution_count": 26,
   "metadata": {},
   "outputs": [
    {
     "name": "stdout",
     "output_type": "stream",
     "text": [
      "0.3542199488491049\n"
     ]
    }
   ],
   "source": [
    "CIP_data_2019 = CIP_disaggregated.loc[CIP_disaggregated['YEAR'] == 2019]\n",
    "CIP_data_2019.loc[CIP_data_2019['GENDERSP'] == \"MSM\"]\n",
    "print(1 - CIP_data_2019['Susceptible'].sum()/len(CIP_data_2019['Susceptible']))"
   ]
  }
 ],
 "metadata": {
  "kernelspec": {
   "display_name": "GISP_init",
   "language": "python",
   "name": "python3"
  },
  "language_info": {
   "codemirror_mode": {
    "name": "ipython",
    "version": 3
   },
   "file_extension": ".py",
   "mimetype": "text/x-python",
   "name": "python",
   "nbconvert_exporter": "python",
   "pygments_lexer": "ipython3",
   "version": "3.10.9"
  },
  "orig_nbformat": 4,
  "vscode": {
   "interpreter": {
    "hash": "37b4cc77837642ee25c4eb6578aebe03e17eb3bb59efdde49edbbc888dbc418f"
   }
  }
 },
 "nbformat": 4,
 "nbformat_minor": 2
}
