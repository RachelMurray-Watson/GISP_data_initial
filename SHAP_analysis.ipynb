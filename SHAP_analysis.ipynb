{
 "cells": [
  {
   "cell_type": "code",
   "execution_count": 1,
   "metadata": {},
   "outputs": [
    {
     "name": "stderr",
     "output_type": "stream",
     "text": [
      "/Users/rem76/miniconda3/envs/GISP_init/lib/python3.10/site-packages/tqdm/auto.py:22: TqdmWarning: IProgress not found. Please update jupyter and ipywidgets. See https://ipywidgets.readthedocs.io/en/stable/user_install.html\n",
      "  from .autonotebook import tqdm as notebook_tqdm\n"
     ]
    }
   ],
   "source": [
    "import seaborn as sb\n",
    "import matplotlib.pyplot as plt\n",
    "import pandas as pd\n",
    "import sklearn as sk\n",
    "import numpy as np\n",
    "import shap as shap\n",
    "\n",
    "from sklearn.linear_model import LogisticRegression\n",
    "from sklearn.metrics import mean_squared_error\n",
    "from sklearn import metrics\n",
    "from sklearn.model_selection import cross_validate, RandomizedSearchCV, RepeatedStratifiedKFold\n",
    "from sklearn.utils import resample\n",
    "from sklearn.neural_network import MLPClassifier\n",
    "from sklearn.model_selection import train_test_split\n",
    "from sklearn.inspection import permutation_importance\n",
    "from scipy.stats import loguniform\n",
    "from imblearn.over_sampling import RandomOverSampler\n",
    "from sklearn.metrics import confusion_matrix\n",
    "\n",
    "## read data \n",
    "CIP_data_no_drop = pd.read_csv(\"CIP_data_encode_prev_not_dropped.csv\")"
   ]
  },
  {
   "cell_type": "code",
   "execution_count": 4,
   "metadata": {},
   "outputs": [
    {
     "name": "stdout",
     "output_type": "stream",
     "text": [
      "0.23081886682486158\n"
     ]
    }
   ],
   "source": [
    "## Set up model\n",
    "model_nn = MLPClassifier(solver = 'lbfgs', activation = 'tanh', max_iter = 3000 ,hidden_layer_sizes= 12, alpha =1.291549665014884, random_state=10, learning_rate = 'adaptive' )\n",
    "#train data: 2000 - 2010\n",
    "train_data = CIP_data_no_drop.loc[CIP_data_no_drop['YEAR'].isin([2000, 2001, 2002, 2003, 2004, 2005, 2006, 2007, 2008, 2009,2010])]\n",
    "X_train = train_data[['MSM','MSMW', 'Oth/Unk/Missing','Northeast', 'Southeast', 'Southwest', 'West', 'PREV_REGION', 'PREV_CLINIC', 'DELTA_REGION']]\n",
    "y_train = 1 - train_data['Susceptible']\n",
    "\n",
    "oversample = RandomOverSampler(sampling_strategy = 0.5,random_state=42)\n",
    "X_train, y_train = oversample.fit_resample(X_train,y_train)\n",
    "model_fit = model_nn.fit(X_train, y_train)\n",
    "\n",
    "#test data: 2009 - 2019 \n",
    "test_data = CIP_data_no_drop.loc[CIP_data_no_drop['YEAR'].isin([2011, 2012, 2013, 2014, 2015, 2016, 2017, 2018, 2019])]\n",
    "X_test = test_data[['MSM','MSMW',  'Oth/Unk/Missing','Northeast', 'Southeast', 'Southwest', 'West','PREV_REGION', 'PREV_CLINIC', 'DELTA_REGION']]\n",
    "y_test = 1 - test_data['Susceptible']\n",
    "cipro_R_prev_all= y_test.sum()/len(y_test) #get prevalence overall before radndom oversampling\n",
    "print(cipro_R_prev_all)\n",
    "X_test, y_test = oversample.fit_resample(X_test,y_test)\n",
    "\n",
    "y_predict = model_nn.predict(X_test)\n"
   ]
  },
  {
   "cell_type": "code",
   "execution_count": 5,
   "metadata": {},
   "outputs": [
    {
     "data": {
      "text/html": [
       "<div>\n",
       "<style scoped>\n",
       "    .dataframe tbody tr th:only-of-type {\n",
       "        vertical-align: middle;\n",
       "    }\n",
       "\n",
       "    .dataframe tbody tr th {\n",
       "        vertical-align: top;\n",
       "    }\n",
       "\n",
       "    .dataframe thead th {\n",
       "        text-align: right;\n",
       "    }\n",
       "</style>\n",
       "<table border=\"1\" class=\"dataframe\">\n",
       "  <thead>\n",
       "    <tr style=\"text-align: right;\">\n",
       "      <th></th>\n",
       "      <th>MSM</th>\n",
       "      <th>MSMW</th>\n",
       "      <th>Oth/Unk/Missing</th>\n",
       "      <th>Northeast</th>\n",
       "      <th>Southeast</th>\n",
       "      <th>Southwest</th>\n",
       "      <th>West</th>\n",
       "      <th>PREV_REGION</th>\n",
       "      <th>PREV_CLINIC</th>\n",
       "      <th>DELTA_REGION</th>\n",
       "    </tr>\n",
       "  </thead>\n",
       "  <tbody>\n",
       "    <tr>\n",
       "      <th>0</th>\n",
       "      <td>0.0</td>\n",
       "      <td>0.0</td>\n",
       "      <td>0.0</td>\n",
       "      <td>0.0</td>\n",
       "      <td>0.0</td>\n",
       "      <td>1.0</td>\n",
       "      <td>0.0</td>\n",
       "      <td>0.092199</td>\n",
       "      <td>0.228571</td>\n",
       "      <td>0.000715</td>\n",
       "    </tr>\n",
       "    <tr>\n",
       "      <th>1</th>\n",
       "      <td>0.0</td>\n",
       "      <td>0.0</td>\n",
       "      <td>0.0</td>\n",
       "      <td>0.0</td>\n",
       "      <td>0.0</td>\n",
       "      <td>1.0</td>\n",
       "      <td>0.0</td>\n",
       "      <td>0.092199</td>\n",
       "      <td>0.228571</td>\n",
       "      <td>0.000715</td>\n",
       "    </tr>\n",
       "    <tr>\n",
       "      <th>2</th>\n",
       "      <td>0.0</td>\n",
       "      <td>0.0</td>\n",
       "      <td>0.0</td>\n",
       "      <td>0.0</td>\n",
       "      <td>0.0</td>\n",
       "      <td>1.0</td>\n",
       "      <td>0.0</td>\n",
       "      <td>0.092199</td>\n",
       "      <td>0.228571</td>\n",
       "      <td>0.000715</td>\n",
       "    </tr>\n",
       "    <tr>\n",
       "      <th>3</th>\n",
       "      <td>0.0</td>\n",
       "      <td>0.0</td>\n",
       "      <td>0.0</td>\n",
       "      <td>0.0</td>\n",
       "      <td>0.0</td>\n",
       "      <td>1.0</td>\n",
       "      <td>0.0</td>\n",
       "      <td>0.092199</td>\n",
       "      <td>0.228571</td>\n",
       "      <td>0.000715</td>\n",
       "    </tr>\n",
       "    <tr>\n",
       "      <th>4</th>\n",
       "      <td>0.0</td>\n",
       "      <td>0.0</td>\n",
       "      <td>0.0</td>\n",
       "      <td>0.0</td>\n",
       "      <td>0.0</td>\n",
       "      <td>1.0</td>\n",
       "      <td>0.0</td>\n",
       "      <td>0.092199</td>\n",
       "      <td>0.228571</td>\n",
       "      <td>0.000715</td>\n",
       "    </tr>\n",
       "  </tbody>\n",
       "</table>\n",
       "</div>"
      ],
      "text/plain": [
       "   MSM  MSMW  Oth/Unk/Missing  Northeast  Southeast  Southwest  West  \\\n",
       "0  0.0   0.0              0.0        0.0        0.0        1.0   0.0   \n",
       "1  0.0   0.0              0.0        0.0        0.0        1.0   0.0   \n",
       "2  0.0   0.0              0.0        0.0        0.0        1.0   0.0   \n",
       "3  0.0   0.0              0.0        0.0        0.0        1.0   0.0   \n",
       "4  0.0   0.0              0.0        0.0        0.0        1.0   0.0   \n",
       "\n",
       "   PREV_REGION  PREV_CLINIC  DELTA_REGION  \n",
       "0     0.092199     0.228571      0.000715  \n",
       "1     0.092199     0.228571      0.000715  \n",
       "2     0.092199     0.228571      0.000715  \n",
       "3     0.092199     0.228571      0.000715  \n",
       "4     0.092199     0.228571      0.000715  "
      ]
     },
     "execution_count": 5,
     "metadata": {},
     "output_type": "execute_result"
    }
   ],
   "source": [
    "X_test.head()"
   ]
  },
  {
   "cell_type": "code",
   "execution_count": 7,
   "metadata": {},
   "outputs": [
    {
     "ename": "TypeError",
     "evalue": "The passed model is not callable and cannot be analyzed directly with the given masker! Model: MLPClassifier(activation='tanh', alpha=1.291549665014884, hidden_layer_sizes=12,\n              learning_rate='adaptive', max_iter=3000, random_state=10,\n              solver='lbfgs')",
     "output_type": "error",
     "traceback": [
      "\u001b[0;31m---------------------------------------------------------------------------\u001b[0m",
      "\u001b[0;31mTypeError\u001b[0m                                 Traceback (most recent call last)",
      "Cell \u001b[0;32mIn[7], line 3\u001b[0m\n\u001b[1;32m      1\u001b[0m \u001b[39m### Get shapley values\u001b[39;00m\n\u001b[0;32m----> 3\u001b[0m explainer \u001b[39m=\u001b[39m shap\u001b[39m.\u001b[39;49mExplainer(model_fit)\n\u001b[1;32m      4\u001b[0m shap_values \u001b[39m=\u001b[39m explainer\u001b[39m.\u001b[39mshap_values(X_test)\n\u001b[1;32m      6\u001b[0m shap\u001b[39m.\u001b[39mplots\u001b[39m.\u001b[39mwaterfall(shap_values[\u001b[39m0\u001b[39m])\n",
      "File \u001b[0;32m~/miniconda3/envs/GISP_init/lib/python3.10/site-packages/shap/explainers/_explainer.py:173\u001b[0m, in \u001b[0;36mExplainer.__init__\u001b[0;34m(self, model, masker, link, algorithm, output_names, feature_names, linearize_link, seed, **kwargs)\u001b[0m\n\u001b[1;32m    169\u001b[0m             algorithm \u001b[39m=\u001b[39m \u001b[39m\"\u001b[39m\u001b[39mpermutation\u001b[39m\u001b[39m\"\u001b[39m\n\u001b[1;32m    171\u001b[0m     \u001b[39m# if we get here then we don't know how to handle what was given to us\u001b[39;00m\n\u001b[1;32m    172\u001b[0m     \u001b[39melse\u001b[39;00m:\n\u001b[0;32m--> 173\u001b[0m         \u001b[39mraise\u001b[39;00m \u001b[39mTypeError\u001b[39;00m(\u001b[39m\"\u001b[39m\u001b[39mThe passed model is not callable and cannot be analyzed directly with the given masker! Model: \u001b[39m\u001b[39m\"\u001b[39m \u001b[39m+\u001b[39m \u001b[39mstr\u001b[39m(model))\n\u001b[1;32m    175\u001b[0m \u001b[39m# build the right subclass\u001b[39;00m\n\u001b[1;32m    176\u001b[0m \u001b[39mif\u001b[39;00m algorithm \u001b[39m==\u001b[39m \u001b[39m\"\u001b[39m\u001b[39mexact\u001b[39m\u001b[39m\"\u001b[39m:\n",
      "\u001b[0;31mTypeError\u001b[0m: The passed model is not callable and cannot be analyzed directly with the given masker! Model: MLPClassifier(activation='tanh', alpha=1.291549665014884, hidden_layer_sizes=12,\n              learning_rate='adaptive', max_iter=3000, random_state=10,\n              solver='lbfgs')"
     ]
    }
   ],
   "source": [
    "### Get shapley values\n",
    "\n",
    "explainer = shap.Explainer(model_fit)\n",
    "shap_values = explainer.shap_values(X_test)\n",
    "\n",
    "shap.plots.waterfall(shap_values[0])"
   ]
  },
  {
   "cell_type": "code",
   "execution_count": 16,
   "metadata": {},
   "outputs": [
    {
     "ename": "AttributeError",
     "evalue": "'numpy.ndarray' object has no attribute 'base_values'",
     "output_type": "error",
     "traceback": [
      "\u001b[0;31m---------------------------------------------------------------------------\u001b[0m",
      "\u001b[0;31mAttributeError\u001b[0m                            Traceback (most recent call last)",
      "Cell \u001b[0;32mIn[16], line 1\u001b[0m\n\u001b[0;32m----> 1\u001b[0m shap\u001b[39m.\u001b[39;49mplots\u001b[39m.\u001b[39;49mwaterfall(shap_values)\n",
      "File \u001b[0;32m~/miniconda3/envs/GISP_init/lib/python3.10/site-packages/shap/plots/_waterfall.py:45\u001b[0m, in \u001b[0;36mwaterfall\u001b[0;34m(shap_values, max_display, show)\u001b[0m\n\u001b[1;32m     42\u001b[0m \u001b[39mif\u001b[39;00m show \u001b[39mis\u001b[39;00m \u001b[39mFalse\u001b[39;00m:\n\u001b[1;32m     43\u001b[0m     plt\u001b[39m.\u001b[39mioff()\n\u001b[0;32m---> 45\u001b[0m base_values \u001b[39m=\u001b[39m shap_values\u001b[39m.\u001b[39;49mbase_values\n\u001b[1;32m     46\u001b[0m features \u001b[39m=\u001b[39m shap_values\u001b[39m.\u001b[39mdisplay_data \u001b[39mif\u001b[39;00m shap_values\u001b[39m.\u001b[39mdisplay_data \u001b[39mis\u001b[39;00m \u001b[39mnot\u001b[39;00m \u001b[39mNone\u001b[39;00m \u001b[39melse\u001b[39;00m shap_values\u001b[39m.\u001b[39mdata\n\u001b[1;32m     47\u001b[0m feature_names \u001b[39m=\u001b[39m shap_values\u001b[39m.\u001b[39mfeature_names\n",
      "\u001b[0;31mAttributeError\u001b[0m: 'numpy.ndarray' object has no attribute 'base_values'"
     ]
    }
   ],
   "source": [
    "shap.plots.waterfall(shap_values)"
   ]
  }
 ],
 "metadata": {
  "kernelspec": {
   "display_name": "GISP_init",
   "language": "python",
   "name": "python3"
  },
  "language_info": {
   "codemirror_mode": {
    "name": "ipython",
    "version": 3
   },
   "file_extension": ".py",
   "mimetype": "text/x-python",
   "name": "python",
   "nbconvert_exporter": "python",
   "pygments_lexer": "ipython3",
   "version": "3.10.9"
  },
  "orig_nbformat": 4,
  "vscode": {
   "interpreter": {
    "hash": "37b4cc77837642ee25c4eb6578aebe03e17eb3bb59efdde49edbbc888dbc418f"
   }
  }
 },
 "nbformat": 4,
 "nbformat_minor": 2
}
