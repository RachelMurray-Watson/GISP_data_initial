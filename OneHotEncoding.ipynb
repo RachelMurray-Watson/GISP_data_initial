{
 "cells": [
  {
   "cell_type": "code",
   "execution_count": 2,
   "metadata": {},
   "outputs": [
    {
     "name": "stdout",
     "output_type": "stream",
     "text": [
      "Index(['Unnamed: 0', 'CLINIC', 'YEAR', 'GENDERSP', 'Susceptible'], dtype='object')\n"
     ]
    }
   ],
   "source": [
    "## Import modules \n",
    "\n",
    "import seaborn as sb\n",
    "import matplotlib.pyplot as plt\n",
    "import pandas as pd\n",
    "import sklearn as sk\n",
    "\n",
    "from sklearn.model_selection import train_test_split\n",
    "from sklearn.linear_model import LinearRegression\n",
    "from sklearn.metrics import mean_squared_error\n",
    "from sklearn.preprocessing import OneHotEncoder\n",
    "\n",
    "## read data \n",
    "CIP_data = pd.read_csv(\"CIP_Resistant_disagregated.csv\")\n",
    "\n",
    "print(CIP_data.columns)"
   ]
  },
  {
   "cell_type": "code",
   "execution_count": 33,
   "metadata": {},
   "outputs": [
    {
     "name": "stdout",
     "output_type": "stream",
     "text": [
      "['Unnamed: 0', 'CLINIC', 'YEAR', 'GENDERSP', 'Susceptible', 'ANC', 'ATL', 'BAL', 'BHM', 'BOS', 'BUF', 'CAM', 'CHI', 'CIN', 'CLE', 'COL', 'DAL', 'DEN', 'DTR', 'FBG', 'GRB', 'HON', 'IND', 'JAC', 'KCY', 'LAX', 'LBC', 'LVG', 'MIA', 'MIL', 'MIN', 'NOR', 'NYC', 'OKC', 'ORA', 'PHI', 'PHX', 'PON', 'POR', 'RIC', 'SDG', 'SEA', 'SFO', 'SLC', 'STL', 'WDC']\n"
     ]
    }
   ],
   "source": [
    "## Multivariable model with X1 = CLINIC and X2 = GENDERSP\n",
    "X1 = CIP_data[[\"CLINIC\"]]\n",
    "X2 = CIP_data[[\"GENDERSP\"]]\n",
    "y = CIP_data[[\"Susceptible\"]]\n",
    "\n",
    "\n",
    "## OneHot encoding - CLINIC\n",
    "encoder_loc = OneHotEncoder(drop='first') #drop='first' handles collinearity https://geoffruddock.com/one-hot-encoding-plus-linear-regression-equals-multi-collinearity/ BUT NOT WORKING \n",
    "encoder_categories_loc  = encoder_loc.fit(CIP_data[['CLINIC']]).categories_\n",
    "#print(encoder_categories_loc)\n",
    "encoder_categories_loc  = encoder_categories_loc[0].tolist()\n",
    "#print(len(encoder_categories_loc))\n",
    "encoded_loc = encoder_loc.fit_transform(CIP_data[['CLINIC']])\n",
    "encoder_df_loc  = pd.DataFrame(encoder_loc.fit_transform(CIP_data[['CLINIC']]).toarray())\n",
    "CIP_data_encoded_loc = CIP_data.join(encoder_df_loc)\n",
    "#print(CIP_data_encoded_loc.shape)\n",
    "CIP_data_encoded_loc.head(12)\n",
    "col_names = list(CIP_data.columns) + encoder_categories_loc[1:] #for some reason when i get the categories it doesn't drop the first?\n",
    "print(col_names)\n",
    "CIP_data_encoded_loc.columns = col_names\n",
    "\n",
    "\n"
   ]
  },
  {
   "cell_type": "code",
   "execution_count": 36,
   "metadata": {},
   "outputs": [
    {
     "name": "stdout",
     "output_type": "stream",
     "text": [
      "4\n",
      "42\n"
     ]
    },
    {
     "data": {
      "text/html": [
       "<div>\n",
       "<style scoped>\n",
       "    .dataframe tbody tr th:only-of-type {\n",
       "        vertical-align: middle;\n",
       "    }\n",
       "\n",
       "    .dataframe tbody tr th {\n",
       "        vertical-align: top;\n",
       "    }\n",
       "\n",
       "    .dataframe thead th {\n",
       "        text-align: right;\n",
       "    }\n",
       "</style>\n",
       "<table border=\"1\" class=\"dataframe\">\n",
       "  <thead>\n",
       "    <tr style=\"text-align: right;\">\n",
       "      <th></th>\n",
       "      <th>Unnamed: 0</th>\n",
       "      <th>CLINIC</th>\n",
       "      <th>YEAR</th>\n",
       "      <th>GENDERSP</th>\n",
       "      <th>Susceptible</th>\n",
       "      <th>ANC</th>\n",
       "      <th>ATL</th>\n",
       "      <th>BAL</th>\n",
       "      <th>BHM</th>\n",
       "      <th>BOS</th>\n",
       "      <th>...</th>\n",
       "      <th>RIC</th>\n",
       "      <th>SDG</th>\n",
       "      <th>SEA</th>\n",
       "      <th>SFO</th>\n",
       "      <th>SLC</th>\n",
       "      <th>STL</th>\n",
       "      <th>WDC</th>\n",
       "      <th>MSMW</th>\n",
       "      <th>MSW</th>\n",
       "      <th>Oth/Unk/Missing</th>\n",
       "    </tr>\n",
       "  </thead>\n",
       "  <tbody>\n",
       "    <tr>\n",
       "      <th>0</th>\n",
       "      <td>0</td>\n",
       "      <td>ALB</td>\n",
       "      <td>2000</td>\n",
       "      <td>MSW</td>\n",
       "      <td>1</td>\n",
       "      <td>0.0</td>\n",
       "      <td>0.0</td>\n",
       "      <td>0.0</td>\n",
       "      <td>0.0</td>\n",
       "      <td>0.0</td>\n",
       "      <td>...</td>\n",
       "      <td>0.0</td>\n",
       "      <td>0.0</td>\n",
       "      <td>0.0</td>\n",
       "      <td>0.0</td>\n",
       "      <td>0.0</td>\n",
       "      <td>0.0</td>\n",
       "      <td>0.0</td>\n",
       "      <td>0.0</td>\n",
       "      <td>1.0</td>\n",
       "      <td>0.0</td>\n",
       "    </tr>\n",
       "    <tr>\n",
       "      <th>1</th>\n",
       "      <td>0</td>\n",
       "      <td>ALB</td>\n",
       "      <td>2000</td>\n",
       "      <td>MSW</td>\n",
       "      <td>1</td>\n",
       "      <td>0.0</td>\n",
       "      <td>0.0</td>\n",
       "      <td>0.0</td>\n",
       "      <td>0.0</td>\n",
       "      <td>0.0</td>\n",
       "      <td>...</td>\n",
       "      <td>0.0</td>\n",
       "      <td>0.0</td>\n",
       "      <td>0.0</td>\n",
       "      <td>0.0</td>\n",
       "      <td>0.0</td>\n",
       "      <td>0.0</td>\n",
       "      <td>0.0</td>\n",
       "      <td>0.0</td>\n",
       "      <td>1.0</td>\n",
       "      <td>0.0</td>\n",
       "    </tr>\n",
       "  </tbody>\n",
       "</table>\n",
       "<p>2 rows × 49 columns</p>\n",
       "</div>"
      ],
      "text/plain": [
       "   Unnamed: 0 CLINIC  YEAR GENDERSP  Susceptible  ANC  ATL  BAL  BHM  BOS  \\\n",
       "0           0    ALB  2000      MSW            1  0.0  0.0  0.0  0.0  0.0   \n",
       "1           0    ALB  2000      MSW            1  0.0  0.0  0.0  0.0  0.0   \n",
       "\n",
       "   ...  RIC  SDG  SEA  SFO  SLC  STL  WDC  MSMW  MSW  Oth/Unk/Missing  \n",
       "0  ...  0.0  0.0  0.0  0.0  0.0  0.0  0.0   0.0  1.0              0.0  \n",
       "1  ...  0.0  0.0  0.0  0.0  0.0  0.0  0.0   0.0  1.0              0.0  \n",
       "\n",
       "[2 rows x 49 columns]"
      ]
     },
     "execution_count": 36,
     "metadata": {},
     "output_type": "execute_result"
    }
   ],
   "source": [
    "## OneHot encoding - GENDERSP\n",
    "encoder_gen = OneHotEncoder(drop='first')\n",
    "encoder_categories_gend  = encoder_gen.fit(CIP_data_encoded_loc[['GENDERSP']]).categories_\n",
    "encoder_categories_gend  = encoder_categories_gend[0].tolist()\n",
    "encoder_df_gend  = pd.DataFrame(encoder_gen.fit_transform(CIP_data_encoded_loc[['GENDERSP']]).toarray())\n",
    "CIP_data_encoded_gend = CIP_data_encoded_loc.join(encoder_df_gend)\n",
    "CIP_data_encoded_gend.head(12)\n",
    "col_names = list(CIP_data_encoded_loc.columns) + encoder_categories_gend[1:]\n",
    "#print(col_names)\n",
    "CIP_data_encoded_gend.columns = col_names\n",
    "#\n",
    "print(len(list(CIP_data[\"GENDERSP\"].unique())))\n",
    "print(len(list(CIP_data[\"CLINIC\"].unique())))\n",
    "\n",
    "\n",
    "CIP_data_encoded_gend.head(2)\n",
    "\n",
    "\n"
   ]
  },
  {
   "cell_type": "code",
   "execution_count": 38,
   "metadata": {},
   "outputs": [],
   "source": [
    "## save file\n",
    "\n",
    "CIP_data_encoded = CIP_data_encoded_gend ## reassign for sake of straighforwardness \n",
    "\n",
    "CIP_data_encoded.to_csv(\"CIP_data_encoded.csv\")"
   ]
  },
  {
   "cell_type": "code",
   "execution_count": 7,
   "metadata": {},
   "outputs": [
    {
     "name": "stdout",
     "output_type": "stream",
     "text": [
      "   Unnamed: 0 CLINIC  YEAR GENDERSP  Susceptible  MSMW  MSW  Oth/Unk/Missing\n",
      "0           0    ALB  2000      MSW            1   0.0  1.0              0.0\n",
      "1           0    ALB  2000      MSW            1   0.0  1.0              0.0\n",
      "2           0    ALB  2000      MSW            1   0.0  1.0              0.0\n",
      "3           0    ALB  2000      MSW            1   0.0  1.0              0.0\n",
      "4           0    ALB  2000      MSW            1   0.0  1.0              0.0\n",
      "   GENDERSP_MSM  GENDERSP_MSMW  GENDERSP_MSW  GENDERSP_Oth/Unk/Missing\n",
      "0             0              0             1                         0\n",
      "1             0              0             1                         0\n",
      "2             0              0             1                         0\n",
      "3             0              0             1                         0\n",
      "4             0              0             1                         0\n"
     ]
    }
   ],
   "source": [
    "############### Need to redo encoding. No longer want each location to be an indiviudal \n",
    "############### factor; group into broader locations \n",
    "############### Also, add in (a) prevalence in region in previous year and (b) prevalence across clinic in previous year \n",
    "CIP_data = pd.read_csv(\"CIP_Resistant_disagregated.csv\")\n",
    "\n",
    "encoder_gen = OneHotEncoder(drop='first')\n",
    "encoder_categories_gend  = encoder_gen.fit(CIP_data[['GENDERSP']]).categories_\n",
    "encoder_categories_gend  = encoder_categories_gend[0].tolist()\n",
    "encoder_df_gend  = pd.DataFrame(encoder_gen.fit_transform(CIP_data[['GENDERSP']]).toarray())\n",
    "CIP_data_encoded_gend = CIP_data.join(encoder_df_gend)\n",
    "CIP_data_encoded_gend.head(12)\n",
    "col_names = list(CIP_data.columns) + encoder_categories_gend[1:]\n",
    "#print(col_names)\n",
    "CIP_data_encoded_gend.columns = col_names\n",
    "#\n",
    "print(CIP_data_encoded_gend.head())\n",
    "\n",
    "\n",
    "######### Try \"get dummies\" method\n",
    "\n",
    "#X = pd.get_dummies(CIP_data[['GENDERSP']])\n",
    "#print(X.head())"
   ]
  },
  {
   "cell_type": "code",
   "execution_count": 14,
   "metadata": {},
   "outputs": [
    {
     "name": "stdout",
     "output_type": "stream",
     "text": [
      "   Unnamed: 0 CLINIC  YEAR GENDERSP  Susceptible  MSMW  MSW  Oth/Unk/Missing  \\\n",
      "0           0    ALB  2000      MSW            1   0.0  1.0              0.0   \n",
      "1           0    ALB  2000      MSW            1   0.0  1.0              0.0   \n",
      "2           0    ALB  2000      MSW            1   0.0  1.0              0.0   \n",
      "3           0    ALB  2000      MSW            1   0.0  1.0              0.0   \n",
      "4           0    ALB  2000      MSW            1   0.0  1.0              0.0   \n",
      "\n",
      "      Region     REGION  Northeast  Southeast  Southwest  West  \n",
      "0  Southwest  Southwest        0.0        0.0        1.0   0.0  \n",
      "1  Southwest  Southwest        0.0        0.0        1.0   0.0  \n",
      "2  Southwest  Southwest        0.0        0.0        1.0   0.0  \n",
      "3  Southwest  Southwest        0.0        0.0        1.0   0.0  \n",
      "4  Southwest  Southwest        0.0        0.0        1.0   0.0  \n"
     ]
    }
   ],
   "source": [
    "###Now need to fix it so that things are coded by region \n",
    "### Coding\n",
    "\n",
    "west = ['POR', 'PHX', 'HON', 'SDG', 'SFO', 'ANC', 'SEA', 'DEN', 'LVG', 'ORA', 'LBC', 'SLC', 'LAX']\n",
    "southwest = ['OKC','MIN', 'ALB', 'DAL']\n",
    "midwest = ['KCY','CHI', 'PON', 'CIN', 'JAC', 'IND', 'STL','DTR', 'MIL', 'COL', 'CLE']\n",
    "southeast = ['GRB', 'NOR','WDC','MIA', 'BHM','FBG','ATL', 'RIC']\n",
    "northeast = ['BUF','BOS', 'CAM', 'NYC', 'BAL', 'PHI']\n",
    "\n",
    "### One-hot encoding \n",
    "CIP_data_encoded_gend['REGION'] = CIP_data_encoded_gend['CLINIC'].apply(lambda x: \n",
    "    'West' if (x in west) else (\n",
    "        'Southwest' if (x in southwest) else(\n",
    "            'Midwest' if (x in midwest) else(\n",
    "                'Southeast' if (x in southeast) else(\n",
    "                    'Northeast' if (x in northeast) else 'Other'))))) \n",
    "\n",
    "#print(CIP_data_encoded_gend.head())\n",
    "\n",
    "\n",
    "encoder_region = OneHotEncoder(drop='first')\n",
    "encoder_categories_region  = encoder_region.fit(CIP_data_encoded_gend[['REGION']]).categories_\n",
    "encoder_categories_region  = encoder_categories_region[0].tolist()\n",
    "encoder_df_region = pd.DataFrame(encoder_region.fit_transform(CIP_data_encoded_gend[['REGION']]).toarray())\n",
    "CIP_data_encoded_gend_region = CIP_data_encoded_gend.join(encoder_df_region)\n",
    "col_names = list(CIP_data_encoded_gend.columns) + encoder_categories_region[1:]\n",
    "#print(col_names)\n",
    "CIP_data_encoded_gend_region.columns = col_names\n",
    "print(CIP_data_encoded_gend_region.head())\n"
   ]
  }
 ],
 "metadata": {
  "kernelspec": {
   "display_name": "GISP_init",
   "language": "python",
   "name": "python3"
  },
  "language_info": {
   "codemirror_mode": {
    "name": "ipython",
    "version": 3
   },
   "file_extension": ".py",
   "mimetype": "text/x-python",
   "name": "python",
   "nbconvert_exporter": "python",
   "pygments_lexer": "ipython3",
   "version": "3.10.9"
  },
  "orig_nbformat": 4,
  "vscode": {
   "interpreter": {
    "hash": "37b4cc77837642ee25c4eb6578aebe03e17eb3bb59efdde49edbbc888dbc418f"
   }
  }
 },
 "nbformat": 4,
 "nbformat_minor": 2
}
