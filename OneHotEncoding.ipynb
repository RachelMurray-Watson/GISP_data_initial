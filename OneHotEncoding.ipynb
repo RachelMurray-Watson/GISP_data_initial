{
 "cells": [
  {
   "cell_type": "code",
   "execution_count": 59,
   "metadata": {},
   "outputs": [
    {
     "name": "stdout",
     "output_type": "stream",
     "text": [
      "Index(['Unnamed: 0', 'CLINIC', 'YEAR', 'GENDERSP', 'Susceptible'], dtype='object')\n"
     ]
    }
   ],
   "source": [
    "## Import modules \n",
    "\n",
    "import seaborn as sb\n",
    "import matplotlib.pyplot as plt\n",
    "import pandas as pd\n",
    "import sklearn as sk\n",
    "\n",
    "from sklearn.model_selection import train_test_split\n",
    "from sklearn.linear_model import LinearRegression\n",
    "from sklearn.metrics import mean_squared_error\n",
    "from sklearn.preprocessing import OneHotEncoder\n",
    "\n",
    "## read data \n",
    "CIP_data = pd.read_csv(\"CIP_Resistant_disagregated.csv\")\n",
    "\n",
    "print(CIP_data.columns)"
   ]
  },
  {
   "cell_type": "code",
   "execution_count": 84,
   "metadata": {},
   "outputs": [
    {
     "name": "stdout",
     "output_type": "stream",
     "text": [
      "4\n",
      "42\n"
     ]
    }
   ],
   "source": [
    "## Multivariable model with X1 = CLINIC and X2 = GENDERSP\n",
    "X1 = CIP_data[[\"CLINIC\"]]\n",
    "X2 = CIP_data[[\"GENDERSP\"]]\n",
    "y = CIP_data[[\"Susceptible\"]]\n",
    "\n",
    "\n",
    "## OneHot encoding - CLINIC\n",
    "encoder_loc = OneHotEncoder(handle_unknown='ignore')\n",
    "encoder_categories_loc  = encoder.fit(CIP_data[['CLINIC']]).categories_\n",
    "encoder_categories_loc  = encoder_categories_loc[0].tolist()\n",
    "#print(len(encoder_categories_loc))\n",
    "encoder_df_loc  = pd.DataFrame(encoder.fit_transform(CIP_data[['CLINIC']]).toarray())\n",
    "CIP_data_encoded_loc = CIP_data.join(encoder_df_loc)\n",
    "#print(CIP_data_encoded_loc.shape)\n",
    "CIP_data_encoded_loc.head(12)\n",
    "col_names = list(CIP_data.columns) + encoder_categories\n",
    "#print(col_names)\n",
    "CIP_data_encoded_loc.columns = col_names\n",
    "\n",
    "\n",
    "## OneHot encoding - GENDERSP\n",
    "encoder_gen = OneHotEncoder(handle_unknown='ignore')\n",
    "encoder_categories_gend  = encoder.fit(CIP_data_encoded_loc[['GENDERSP']]).categories_\n",
    "encoder_categories_gend  = encoder_categories_gend[0].tolist()\n",
    "encoder_df_gend  = pd.DataFrame(encoder.fit_transform(CIP_data_encoded_loc[['GENDERSP']]).toarray())\n",
    "CIP_data_encoded_gend = CIP_data_encoded_loc.join(encoder_df_gend)\n",
    "CIP_data_encoded_gend.head(12)\n",
    "col_names = list(CIP_data_encoded_loc.columns) + encoder_categories_gend\n",
    "#print(col_names)\n",
    "CIP_data_encoded_gend.columns = col_names\n",
    "#\n",
    "print(len(list(CIP_data[\"GENDERSP\"].unique())))\n",
    "print(len(list(CIP_data[\"CLINIC\"].unique())))\n",
    "\n",
    "\n",
    "CIP_data_encoded_gend.head(2)\n",
    "\n",
    "\n",
    "CIP_data_encoded = CIP_data_encoded_gend ## reassign for sake of straighforwardness \n"
   ]
  }
 ],
 "metadata": {
  "kernelspec": {
   "display_name": "GISP_init",
   "language": "python",
   "name": "python3"
  },
  "language_info": {
   "codemirror_mode": {
    "name": "ipython",
    "version": 3
   },
   "file_extension": ".py",
   "mimetype": "text/x-python",
   "name": "python",
   "nbconvert_exporter": "python",
   "pygments_lexer": "ipython3",
   "version": "3.10.8"
  },
  "orig_nbformat": 4,
  "vscode": {
   "interpreter": {
    "hash": "113a481252c9d845b94df980c27b1c5a79cf0e399a73b7622446a313d2cec44c"
   }
  }
 },
 "nbformat": 4,
 "nbformat_minor": 2
}
