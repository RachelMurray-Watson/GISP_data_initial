{
 "cells": [
  {
   "cell_type": "code",
   "execution_count": 26,
   "metadata": {},
   "outputs": [
    {
     "name": "stdout",
     "output_type": "stream",
     "text": [
      "Index(['Unnamed: 0.1', 'Unnamed: 0', 'CLINIC', 'YEAR', 'GENDERSP',\n",
      "       'Susceptible', 'REGION', 'MSM', 'MSMW', 'MSW', 'Oth/Unk/Missing',\n",
      "       'Midwest', 'Northeast', 'Southeast', 'Southwest', 'West', 'PREV_REGION',\n",
      "       'PREV_CLINIC', 'DELTA_REGION', 'DELTA_CLINIC', 'Count_Exceeds_75',\n",
      "       'Trend_N_greater_75'],\n",
      "      dtype='object')\n"
     ]
    }
   ],
   "source": [
    "#%reset\n",
    "import os\n",
    "import numpy as np\n",
    "import pandas as pd\n",
    "import seaborn as sb\n",
    "import matplotlib.pyplot as plt\n",
    "import sklearn as sk\n",
    "import keras\n",
    "import tensorflow as tf\n",
    "from sklearn import metrics\n",
    "from keras import Sequential\n",
    "from keras.layers import Dense, Dropout\n",
    "from scikeras.wrappers import KerasClassifier\n",
    "from sklearn.ensemble import RandomForestClassifier\n",
    "from sklearn.inspection import permutation_importance\n",
    "from sklearn.linear_model import LogisticRegression\n",
    "from sklearn.metrics import (confusion_matrix, f1_score, matthews_corrcoef,\n",
    "                             roc_auc_score, make_scorer)\n",
    "from sklearn.model_selection import (cross_validate, RandomizedSearchCV,\n",
    "                                     RepeatedStratifiedKFold)\n",
    "from sklearn.neural_network import MLPClassifier\n",
    "from sklearn.pipeline import Pipeline\n",
    "from sklearn.preprocessing import StandardScaler\n",
    "from imblearn.over_sampling import RandomOverSampler\n",
    "from eli5.sklearn import PermutationImportance\n",
    "from matplotlib.patches import Polygon\n",
    "from scipy.stats import loguniform\n",
    "from tensorflow import random\n",
    "from keras.metrics import AUC\n",
    "from sklearn.feature_selection import SelectFromModel\n",
    "from Functions_AMR_gonorrhea import effective_unnecessary_threshold, get_best_hyperparameters, get_best_features, get_test_train_data, get_feature_effects, f1_mcc_score_threshold\n",
    "hfont = {'fontname':'Helvetica'}\n",
    "import pickle\n",
    "## read data \n",
    "CIP_data_no_drop = pd.read_csv(\"CIP_data_encode_prev_not_dropped.csv\")\n",
    "print(CIP_data_no_drop.columns)"
   ]
  },
  {
   "cell_type": "code",
   "execution_count": 27,
   "metadata": {},
   "outputs": [],
   "source": [
    "ROC_by_year = [{2005: 0.7304247515090889, 2006: 0.722997895527232, 2007: 0.7066233521880259, 2008: 0.7078638485409549, 2009: 0.6664640534593402, 2010: 0.6856022113843243}, {2005: 0.7549897391764862, 2006: 0.7595409738925509, 2007: 0.7015889650707939, 2008: 0.6966628419433072, 2009: 0.680609279672774, 2010: 0.6846061254892631}, {2005: 0.79921305, 2006: 0.84113616, 2007: 0.7738805, 2008: 0.7741755, 2009: 0.7461454, 2010: 0.7617777}]\n",
    "best_hyperparameters_by_year = [{2005: {'solver': 'liblinear', 'penalty': 'l2', 'C': 12.91}, 2006: {'solver': 'liblinear', 'penalty': 'l1', 'C': 8.65}, 2007: {'solver': 'liblinear', 'penalty': 'l1', 'C': 8.65}, 2008: {'solver': 'lbfgs', 'penalty': 'l2', 'C': 97.57000000000001}, 2009: {'solver': 'lbfgs', 'penalty': 'l2', 'C': 97.57000000000001}, 2010: {'solver': 'liblinear', 'penalty': 'l1', 'C': 90.91}}, {2005: {'n_estimators': 181, 'min_samples_split': 20, 'min_samples_leaf': 5, 'max_depth': 99}, 2006: {'n_estimators': 181, 'min_samples_split': 20, 'min_samples_leaf': 5, 'max_depth': 99}, 2007: {'n_estimators': 181, 'min_samples_split': 20, 'min_samples_leaf': 5, 'max_depth': 99}, 2008: {'n_estimators': 181, 'min_samples_split': 20, 'min_samples_leaf': 5, 'max_depth': 99}, 2009: {'n_estimators': 181, 'min_samples_split': 20, 'min_samples_leaf': 5, 'max_depth': 99}, 2010: {'n_estimators': 181, 'min_samples_split': 20, 'min_samples_leaf': 5, 'max_depth': 99}}, {2005: {'kc__optimizer': 'Adamax', 'kc__dropout': 0.05, 'kc__dense_nparams': 10, 'kc__batch_size': 15}, 2006: {'kc__optimizer': 'Adamax', 'kc__dropout': 0.05, 'kc__dense_nparams': 16, 'kc__batch_size': 5}, 2007: {'kc__optimizer': 'Adamax', 'kc__dropout': 0.05, 'kc__dense_nparams': 16, 'kc__batch_size': 5}, 2008: {'kc__optimizer': 'Adamax', 'kc__dropout': 0.04, 'kc__dense_nparams': 8, 'kc__batch_size': 10}, 2009: {'kc__optimizer': 'Adamax', 'kc__dropout': 0.05, 'kc__dense_nparams': 10, 'kc__batch_size': 15}, 2010: {'kc__optimizer': 'Adamax', 'kc__dropout': 0.04, 'kc__dense_nparams': 8, 'kc__batch_size': 10}}]\n",
    "best_features_by_year = [{2005: ['West', 'Northeast', 'MSW', 'Southwest', 'MSM', 'MSMW'], 2006: ['West', 'Southwest', 'Southeast', 'MSW', 'MSM', 'Oth/Unk/Missing'], 2007: ['MSW', 'West', 'Oth/Unk/Missing', 'PREV_CLINIC', 'Southwest', 'Trend_N_greater_75', 'Northeast', 'Count_Exceeds_75'], 2008: ['West', 'PREV_CLINIC', 'MSW', 'Count_Exceeds_75', 'Southwest', 'Oth/Unk/Missing'], 2009: ['PREV_CLINIC', 'West', 'MSW', 'DELTA_CLINIC', 'MSM', 'Oth/Unk/Missing', 'Count_Exceeds_75'], 2010: ['PREV_CLINIC', 'DELTA_CLINIC', 'West', 'MSW', 'PREV_REGION', 'Southeast', 'MSM', 'Oth/Unk/Missing', 'DELTA_REGION', 'Northeast', 'Count_Exceeds_75']}, {2005: ['PREV_CLINIC', 'MSM', 'DELTA_CLINIC', 'MSW', 'DELTA_REGION', 'PREV_REGION', 'West', 'MSMW', 'Count_Exceeds_75', 'Southeast', 'Trend_N_greater_75', 'Southwest', 'Oth/Unk/Missing'], 2006: ['PREV_CLINIC', 'MSW', 'MSM', 'DELTA_CLINIC', 'DELTA_REGION', 'PREV_REGION', 'MSMW', 'West', 'Trend_N_greater_75', 'Midwest', 'Oth/Unk/Missing', 'Southeast', 'Count_Exceeds_75'], 2007: ['PREV_CLINIC', 'MSW', 'MSM', 'DELTA_CLINIC', 'PREV_REGION', 'DELTA_REGION', 'MSMW', 'West', 'Oth/Unk/Missing', 'Trend_N_greater_75', 'Midwest', 'Northeast', 'Southeast', 'Southwest'], 2008: ['PREV_CLINIC', 'MSW', 'MSM', 'DELTA_CLINIC', 'PREV_REGION', 'MSMW', 'DELTA_REGION', 'Count_Exceeds_75', 'Midwest', 'West', 'Trend_N_greater_75', 'Oth/Unk/Missing', 'Northeast', 'Southeast', 'Southwest'], 2009: ['PREV_CLINIC', 'MSW', 'MSM', 'DELTA_CLINIC', 'PREV_REGION', 'DELTA_REGION', 'MSMW', 'Midwest', 'Southwest', 'West', 'Oth/Unk/Missing', 'Count_Exceeds_75', 'Southeast', 'Northeast', 'Trend_N_greater_75'], 2010: ['PREV_CLINIC', 'MSW', 'MSM', 'DELTA_CLINIC', 'PREV_REGION', 'DELTA_REGION', 'MSMW', 'West', 'Oth/Unk/Missing', 'Midwest', 'Southwest', 'Count_Exceeds_75', 'Northeast', 'Southeast', 'Trend_N_greater_75']}, {2005: ['MSM', 'MSMW', 'MSW', 'Oth/Unk/Missing', 'Northeast', 'Southeast', 'Southwest', 'West', 'Midwest', 'PREV_REGION', 'PREV_CLINIC', 'DELTA_REGION', 'DELTA_CLINIC', 'Count_Exceeds_75', 'Trend_N_greater_75'], 2006: ['MSM', 'MSMW', 'MSW', 'Oth/Unk/Missing', 'Northeast', 'Southeast', 'Southwest', 'West', 'Midwest', 'PREV_REGION', 'PREV_CLINIC', 'DELTA_REGION', 'DELTA_CLINIC', 'Count_Exceeds_75', 'Trend_N_greater_75'], 2007: ['MSM', 'MSMW', 'MSW', 'Oth/Unk/Missing', 'Northeast', 'Southeast', 'Southwest', 'West', 'Midwest', 'PREV_REGION', 'PREV_CLINIC', 'DELTA_REGION', 'DELTA_CLINIC', 'Count_Exceeds_75', 'Trend_N_greater_75'], 2008: ['MSM', 'MSMW', 'MSW', 'Oth/Unk/Missing', 'Northeast', 'Southeast', 'Southwest', 'West', 'Midwest', 'PREV_REGION', 'PREV_CLINIC', 'DELTA_REGION', 'DELTA_CLINIC', 'Count_Exceeds_75', 'Trend_N_greater_75'], 2009: ['MSM', 'MSMW', 'MSW', 'Oth/Unk/Missing', 'Northeast', 'Southeast', 'Southwest', 'West', 'Midwest', 'PREV_REGION', 'PREV_CLINIC', 'DELTA_REGION', 'DELTA_CLINIC', 'Count_Exceeds_75', 'Trend_N_greater_75'], 2010: ['MSM', 'MSMW', 'MSW', 'Oth/Unk/Missing', 'Northeast', 'Southeast', 'Southwest', 'West', 'Midwest', 'PREV_REGION', 'PREV_CLINIC', 'DELTA_REGION', 'DELTA_CLINIC', 'Count_Exceeds_75', 'Trend_N_greater_75']}]"
   ]
  },
  {
   "cell_type": "code",
   "execution_count": 28,
   "metadata": {},
   "outputs": [],
   "source": [
    "\n",
    "def get_test_train_data(CIP_data_no_drop, year, feature_names, years_train, model_type):\n",
    "    feature_names_with_weight = feature_names.copy()\n",
    "    feature_names_with_weight.extend(['weight'])\n",
    "    train_data = CIP_data_no_drop.loc[CIP_data_no_drop[\"YEAR\"].isin(years_train)]\n",
    "    X_train = train_data[feature_names_with_weight]  # need to consider all columns BEFORE feature engineering\n",
    "    y_train = 1 - train_data[\"Susceptible\"]\n",
    "    # test\n",
    "    test_data = CIP_data_no_drop.loc[CIP_data_no_drop[\"YEAR\"].isin([year])]\n",
    "    X_test = test_data[feature_names_with_weight]\n",
    "    y_test = 1 - test_data[\"Susceptible\"]\n",
    "    cipro_R_prev = y_test.sum() / len(y_test)\n",
    "\n",
    "    if (model_type == 1) | (model_type == 2):\n",
    "        X_train, y_train = oversample.fit_resample(X_train, y_train)\n",
    "        # X_test, y_test = oversample.fit_resample(X_test, y_test)\n",
    "        print(\"Oversample\")\n",
    "    weights_train = X_train[\"weight\"]\n",
    "    X_train  = X_train.drop(\"weight\", axis = 1)\n",
    "    X_test = X_test.drop(\"weight\", axis = 1)\n",
    "\n",
    "    return (test_data, train_data, X_train, y_train, X_test, y_test, cipro_R_prev, weights_train)"
   ]
  },
  {
   "cell_type": "code",
   "execution_count": 18,
   "metadata": {},
   "outputs": [],
   "source": [
    "CIP_data_no_drop = CIP_data_no_drop.drop('weight_x', axis = 1)\n",
    "CIP_data_no_drop = CIP_data_no_drop.drop('weight_y', axis = 1)"
   ]
  },
  {
   "cell_type": "code",
   "execution_count": 29,
   "metadata": {},
   "outputs": [
    {
     "name": "stdout",
     "output_type": "stream",
     "text": [
      "2005\n",
      "0.7910599970087921\n",
      "0.7304247515090889\n",
      "2006\n",
      "0.767141162514828\n",
      "0.722997895527232\n",
      "2007\n",
      "0.7582075367017401\n",
      "0.7066233521880259\n",
      "2008\n",
      "0.7673286045844524\n",
      "0.7078638485409549\n",
      "2009\n",
      "0.7602982723390607\n",
      "0.6664640534593402\n",
      "2010\n",
      "0.7606162307905812\n",
      "0.6856022113843243\n"
     ]
    }
   ],
   "source": [
    "# Just LR\n",
    "model_lr = LogisticRegression(class_weight = 'balanced', max_iter=4000, solver = \"lbfgs\", C = 0.27, penalty = 'l2')\n",
    "\n",
    "space = dict()\n",
    "space['solver'] = ['newton-cg', 'lbfgs', 'liblinear']\n",
    "space['penalty'] = ['l1', 'l2']\n",
    "space['C'] = np.arange(0, 100, .01)\n",
    "i = 0\n",
    "test_years = np.array(range(2005, 2011))\n",
    "\n",
    "for year in test_years: \n",
    "    print(year)\n",
    "    model_type = 0\n",
    "    years_train = np.array(range(year - 5, year))\n",
    "\n",
    "    CIP_data_training_years = CIP_data_no_drop.loc[CIP_data_no_drop['YEAR'].isin(years_train)]\n",
    "    CIP_data_testing_years = CIP_data_no_drop.loc[CIP_data_no_drop['YEAR'].isin([year])]\n",
    "    # first do for all clinics \n",
    "\n",
    "    counts = CIP_data_training_years.groupby(['YEAR', 'CLINIC']).size().reset_index(name='Count')\n",
    "    counts_by_year = CIP_data_training_years.groupby(['YEAR']).size().reset_index(name='Count')\n",
    "\n",
    "    merged_counts = counts.merge(counts_by_year, on='YEAR', suffixes=('_counts', '_counts_by_year'))\n",
    "\n",
    "    # Calculate the sum of all counts in the counts dataframe\n",
    "    total_counts = counts['Count'].sum()\n",
    "\n",
    "    # Calculate the 'weight' column as Count_counts / total_counts\n",
    "    merged_counts['weight'] = merged_counts['Count_counts'] / total_counts\n",
    "    # Calculate the 'weight' column as Count_counts / rolling sum of the previous 5 years\n",
    "\n",
    "    # Merge the 'weight' column back to the original DataFrame\n",
    "    CIP_data_no_drop = CIP_data_no_drop.merge(merged_counts[['YEAR', 'CLINIC', 'weight']], on=['YEAR', 'CLINIC'], how='left')\n",
    "    model_name = \"CIP_lr_\" + str(year) + \".sav\" \n",
    "    model_fit = pickle.load(open(model_name, 'rb'))\n",
    "\n",
    "    test_data, train_data, X_train, y_train, X_test, y_test, cipro_R_prev, weights_train =  get_test_train_data(CIP_data_no_drop = CIP_data_no_drop, year = year, feature_names = best_features_by_year[model_type][year], years_train = years_train, model_type = model_type)\n",
    "    model_fit_train = model_fit.fit(X_train, y_train, sample_weight = weights_train)\n",
    "\n",
    "    y_predict_test = model_fit_train.predict(X_test)\n",
    "    y_predict_proba = model_fit_train.predict_proba(X_test)\n",
    "\n",
    "    ROC= metrics.roc_auc_score(y_test, y_predict_test)\n",
    "    print(metrics.roc_auc_score(y_test, y_predict_proba[:,1]))\n",
    "    ROC_by_year[model_type].__setitem__(year, metrics.roc_auc_score(y_test, y_predict_proba[:,1]))\n",
    "\n",
    "    #ROC_by_year[model_type].__setitem__(year, ROC)\n",
    "    CIP_data_no_drop = CIP_data_no_drop.drop('weight', axis = 1)\n",
    "    print(ROC)\n",
    "    i += 1"
   ]
  },
  {
   "cell_type": "code",
   "execution_count": 30,
   "metadata": {},
   "outputs": [
    {
     "name": "stdout",
     "output_type": "stream",
     "text": [
      "2005\n",
      "Oversample\n",
      "0.8250799289955916\n",
      "0.7587285957014871\n",
      "2006\n",
      "Oversample\n",
      "0.8279589554306367\n",
      "0.7582805518897848\n",
      "2007\n",
      "Oversample\n",
      "0.7658726556082294\n",
      "0.694512205551674\n",
      "2008\n",
      "Oversample\n",
      "0.7773858450465486\n",
      "0.702337079823715\n",
      "2009\n",
      "Oversample\n",
      "0.7454250204461756\n",
      "0.6900621585561381\n",
      "2010\n",
      "Oversample\n",
      "0.7519287304365557\n",
      "0.6872430483570389\n"
     ]
    }
   ],
   "source": [
    "oversample = RandomOverSampler(sampling_strategy = 'minority',random_state=42) #need for neural network and random forest\n",
    "\n",
    "i = 0\n",
    "test_years = np.array(range(2005, 2011))\n",
    "\n",
    "for year in test_years: \n",
    "    print(year)\n",
    "    model_type = 1\n",
    "    years_train = np.array(range(year - 5, year))\n",
    "\n",
    "    CIP_data_training_years = CIP_data_no_drop.loc[CIP_data_no_drop['YEAR'].isin(years_train)]\n",
    "    CIP_data_testing_years = CIP_data_no_drop.loc[CIP_data_no_drop['YEAR'].isin([year])]\n",
    "    # first do for all clinics \n",
    "\n",
    "    counts = CIP_data_training_years.groupby(['YEAR', 'CLINIC']).size().reset_index(name='Count')\n",
    "    counts_by_year = CIP_data_training_years.groupby(['YEAR']).size().reset_index(name='Count')\n",
    "\n",
    "    merged_counts = counts.merge(counts_by_year, on='YEAR', suffixes=('_counts', '_counts_by_year'))\n",
    "\n",
    "    # Calculate the sum of all counts in the counts dataframe\n",
    "    total_counts = counts['Count'].sum()\n",
    "\n",
    "    # Calculate the 'weight' column as Count_counts / total_counts\n",
    "    merged_counts['weight'] = merged_counts['Count_counts'] / total_counts\n",
    "    # Calculate the 'weight' column as Count_counts / rolling sum of the previous 5 years\n",
    "\n",
    "    # Merge the 'weight' column back to the original DataFrame\n",
    "    CIP_data_no_drop = CIP_data_no_drop.merge(merged_counts[['YEAR', 'CLINIC', 'weight']], on=['YEAR', 'CLINIC'], how='left')\n",
    "    model_name = \"CIP_rf_\" + str(year) + \".sav\" \n",
    "    model_fit = pickle.load(open(model_name, 'rb'))\n",
    "\n",
    "    test_data, train_data, X_train, y_train, X_test, y_test, cipro_R_prev, weights_train =  get_test_train_data(CIP_data_no_drop = CIP_data_no_drop, year = year, feature_names = best_features_by_year[model_type][year], years_train = years_train, model_type = model_type)\n",
    "    model_fit_train = model_fit.fit(X_train, y_train, sample_weight = weights_train)\n",
    "\n",
    "    y_predict_test = model_fit_train.predict(X_test)\n",
    "    y_predict_proba = model_fit_train.predict_proba(X_test)\n",
    "\n",
    "    ROC= metrics.roc_auc_score(y_test, y_predict_test)\n",
    "    ROC_by_year[model_type].__setitem__(year, metrics.roc_auc_score(y_test, y_predict_proba[:,1]))\n",
    "\n",
    "    print(metrics.roc_auc_score(y_test, y_predict_proba[:,1]))\n",
    "    #ROC_by_year[model_type].__setitem__(year, ROC)\n",
    "    CIP_data_no_drop = CIP_data_no_drop.drop('weight', axis = 1)\n",
    "    print(ROC)\n",
    "    i += 1"
   ]
  },
  {
   "cell_type": "code",
   "execution_count": 31,
   "metadata": {},
   "outputs": [
    {
     "data": {
      "text/plain": [
       "[{2005: 0.7910599970087921,\n",
       "  2006: 0.767141162514828,\n",
       "  2007: 0.7582075367017401,\n",
       "  2008: 0.7673286045844524,\n",
       "  2009: 0.7602982723390607,\n",
       "  2010: 0.7606162307905812},\n",
       " {2005: 0.8250799289955916,\n",
       "  2006: 0.8279589554306367,\n",
       "  2007: 0.7658726556082294,\n",
       "  2008: 0.7773858450465486,\n",
       "  2009: 0.7454250204461756,\n",
       "  2010: 0.7519287304365557},\n",
       " {2005: 0.79921305,\n",
       "  2006: 0.84113616,\n",
       "  2007: 0.7738805,\n",
       "  2008: 0.7741755,\n",
       "  2009: 0.7461454,\n",
       "  2010: 0.7617777}]"
      ]
     },
     "execution_count": 31,
     "metadata": {},
     "output_type": "execute_result"
    }
   ],
   "source": [
    "ROC_by_year"
   ]
  },
  {
   "cell_type": "code",
   "execution_count": 20,
   "metadata": {},
   "outputs": [],
   "source": [
    "ROC_by_year = [{2005: 0.7304247515090889, 2006: 0.722997895527232, 2007: 0.7066233521880259, 2008: 0.7078638485409549, 2009: 0.6664640534593402, 2010: 0.6856022113843243}, {2005: 0.7549897391764862, 2006: 0.7595409738925509, 2007: 0.7015889650707939, 2008: 0.6966628419433072, 2009: 0.680609279672774, 2010: 0.6846061254892631}, {2005: 0.79921305, 2006: 0.84113616, 2007: 0.7738805, 2008: 0.7741755, 2009: 0.7461454, 2010: 0.7617777}]\n"
   ]
  },
  {
   "cell_type": "code",
   "execution_count": 32,
   "metadata": {},
   "outputs": [],
   "source": [
    "ROC_by_year = [{2005: 0.7910599970087921,\n",
    "  2006: 0.767141162514828,\n",
    "  2007: 0.7582075367017401,\n",
    "  2008: 0.7673286045844524,\n",
    "  2009: 0.7602982723390607,\n",
    "  2010: 0.7606162307905812},\n",
    " {2005: 0.8250799289955916,\n",
    "  2006: 0.8279589554306367,\n",
    "  2007: 0.7658726556082294,\n",
    "  2008: 0.7773858450465486,\n",
    "  2009: 0.7454250204461756,\n",
    "  2010: 0.7519287304365557},\n",
    " {2005: 0.79921305,\n",
    "  2006: 0.84113616,\n",
    "  2007: 0.7738805,\n",
    "  2008: 0.7741755,\n",
    "  2009: 0.7461454,\n",
    "  2010: 0.7617777}]"
   ]
  },
  {
   "cell_type": "code",
   "execution_count": 23,
   "metadata": {},
   "outputs": [
    {
     "data": {
      "image/png": "[encoded data removed]",
      "text/plain": [
       "<Figure size 750x750 with 1 Axes>"
      ]
     },
     "metadata": {},
     "output_type": "display_data"
    }
   ],
   "source": [
    "############# Graph 1: auROC by year 2005-2010, trained on previous 5 years' data, for nn, rf and lr with intervals\n",
    "fig, axs = plt.subplots(figsize=(7.5, 7.5), facecolor='w', edgecolor='k', sharex = 'all', sharey = 'all')\n",
    "years = np.array(range(2005, 2011))\n",
    "axs.tick_params(axis='both', which='major', labelsize=18)\n",
    "axs.set_xticks(np.array(range(2005, 2011)))\n",
    "#axs.set_xticks([2005, 2007, 2010])\n",
    "\n",
    "axs.plot(years, ROC_by_year[2].values(),linewidth = 2, label = \"Neural network\", color = \"#edae49\")\n",
    "\n",
    "axs.plot(years, ROC_by_year[0].values(),linewidth = 2, label = \"Logistic regression\", color = \"#d1495b\")\n",
    "\n",
    "axs.plot(years, ROC_by_year[1].values(),linewidth = 2, label = \"Random forest\", color = \"#00798c\")\n",
    "\n",
    "axs.set_ylabel(\"auROC\", fontsize = 18, **hfont)\n",
    "axs.set_xlabel(\"Target year\",  fontsize = 18,**hfont)\n",
    "axs.set_ylim([0.5,1])\n",
    "axs.legend(prop={'size':14})\n",
    "plt.tight_layout()"
   ]
  },
  {
   "cell_type": "code",
   "execution_count": 25,
   "metadata": {},
   "outputs": [],
   "source": [
    "ROC_by_year = [{2005: 0.7910599970087921,\n",
    "  2006: 0.767141162514828,\n",
    "  2007: 0.7582075367017401,\n",
    "  2008: 0.7673286045844524,\n",
    "  2009: 0.7602982723390607,\n",
    "  2010: 0.7606162307905812},\n",
    " {2005: 0.8250799289955916,\n",
    "  2006: 0.8279589554306367,\n",
    "  2007: 0.7658726556082294,\n",
    "  2008: 0.7773858450465486,\n",
    "  2009: 0.7454250204461756,\n",
    "  2010: 0.7519287304365557},\n",
    " {2005: 0.79921305,\n",
    "  2006: 0.84113616,\n",
    "  2007: 0.7738805,\n",
    "  2008: 0.7741755,\n",
    "  2009: 0.7461454,\n",
    "  2010: 0.7617777}]"
   ]
  }
 ],
 "metadata": {
  "kernelspec": {
   "display_name": "GISP_init",
   "language": "python",
   "name": "python3"
  },
  "language_info": {
   "codemirror_mode": {
    "name": "ipython",
    "version": 3
   },
   "file_extension": ".py",
   "mimetype": "text/x-python",
   "name": "python",
   "nbconvert_exporter": "python",
   "pygments_lexer": "ipython3",
   "version": "3.10.9"
  },
  "orig_nbformat": 4,
  "vscode": {
   "interpreter": {
    "hash": "37b4cc77837642ee25c4eb6578aebe03e17eb3bb59efdde49edbbc888dbc418f"
   }
  }
 },
 "nbformat": 4,
 "nbformat_minor": 2
}
