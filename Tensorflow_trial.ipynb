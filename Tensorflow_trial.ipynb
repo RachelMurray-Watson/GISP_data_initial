{
 "cells": [
  {
   "cell_type": "code",
   "execution_count": 3,
   "metadata": {},
   "outputs": [
    {
     "name": "stdout",
     "output_type": "stream",
     "text": [
      "Index(['Unnamed: 0.1', 'Unnamed: 0', 'CLINIC', 'YEAR', 'GENDERSP',\n",
      "       'Susceptible', 'REGION', 'MSM', 'MSMW', 'MSW', 'Oth/Unk/Missing',\n",
      "       'Midwest', 'Northeast', 'Southeast', 'Southwest', 'West', 'PREV_REGION',\n",
      "       'PREV_CLINIC', 'DELTA_REGION', 'DELTA_CLINIC', 'Count_Exceeds_75',\n",
      "       'Trend_N_greater_75'],\n",
      "      dtype='object')\n"
     ]
    }
   ],
   "source": [
    "#%reset\n",
    "import seaborn as sb\n",
    "import matplotlib.pyplot as plt\n",
    "import pandas as pd\n",
    "import sklearn as sk\n",
    "import numpy as np\n",
    "import os \n",
    "from matplotlib.patches import Polygon\n",
    "from sklearn import metrics\n",
    "from sklearn.neural_network import MLPClassifier\n",
    "from sklearn.linear_model import LogisticRegression\n",
    "from sklearn.ensemble import RandomForestClassifier\n",
    "from sklearn.model_selection import cross_validate, RandomizedSearchCV, RepeatedStratifiedKFold\n",
    "from sklearn.inspection import permutation_importance\n",
    "from scipy.stats import loguniform\n",
    "from imblearn.over_sampling import RandomOverSampler\n",
    "from sklearn.metrics import confusion_matrix\n",
    "from eli5.sklearn import PermutationImportance\n",
    "from sklearn.metrics import f1_score, matthews_corrcoef, roc_auc_score\n",
    "#from Functions_AMR_gonorrhea import effective_unnecessary_threshold, get_best_hyperparameters, get_best_features, get_test_train_data, get_feature_effects, f1_mcc_score_threshold\n",
    "hfont = {'fontname':'Helvetica'}\n",
    "import pickle\n",
    "## read data \n",
    "CIP_data_no_drop = pd.read_csv(\"CIP_data_encode_prev_not_dropped.csv\")\n",
    "print(CIP_data_no_drop.columns)"
   ]
  },
  {
   "cell_type": "code",
   "execution_count": 4,
   "metadata": {},
   "outputs": [
    {
     "ename": "NameError",
     "evalue": "name 'test_years' is not defined",
     "output_type": "error",
     "traceback": [
      "\u001b[0;31m---------------------------------------------------------------------------\u001b[0m",
      "\u001b[0;31mNameError\u001b[0m                                 Traceback (most recent call last)",
      "Cell \u001b[0;32mIn[4], line 73\u001b[0m\n\u001b[1;32m     71\u001b[0m space[\u001b[39m'\u001b[39m\u001b[39msolver\u001b[39m\u001b[39m'\u001b[39m] \u001b[39m=\u001b[39m [\u001b[39m'\u001b[39m\u001b[39mlbfgs\u001b[39m\u001b[39m'\u001b[39m, \u001b[39m'\u001b[39m\u001b[39msgd\u001b[39m\u001b[39m'\u001b[39m, \u001b[39m'\u001b[39m\u001b[39madam\u001b[39m\u001b[39m'\u001b[39m]\n\u001b[1;32m     72\u001b[0m i \u001b[39m=\u001b[39m \u001b[39m2\u001b[39m\n\u001b[0;32m---> 73\u001b[0m \u001b[39mfor\u001b[39;00m year \u001b[39min\u001b[39;00m test_years: \n\u001b[1;32m     74\u001b[0m     \u001b[39mprint\u001b[39m(year)\n\u001b[1;32m     75\u001b[0m     model_type \u001b[39m=\u001b[39m \u001b[39m2\u001b[39m\n",
      "\u001b[0;31mNameError\u001b[0m: name 'test_years' is not defined"
     ]
    }
   ],
   "source": [
    "### Calculate quartiles using loaded models\n",
    "\n",
    "oversample = RandomOverSampler(sampling_strategy='minority', random_state=10)\n",
    "\n",
    "def get_test_train_data(CIP_data_no_drop, year, feature_names, years_train, model_type):\n",
    "\n",
    "    train_data = CIP_data_no_drop.loc[CIP_data_no_drop[\"YEAR\"].isin(years_train)]\n",
    "    X_train = train_data[\n",
    "        feature_names\n",
    "    ]  # need to consider all columns BEFORE feature engineering\n",
    "    y_train = 1 - train_data[\"Susceptible\"]\n",
    "    # test\n",
    "    test_data = CIP_data_no_drop.loc[CIP_data_no_drop[\"YEAR\"].isin([year])]\n",
    "    X_test = test_data[feature_names]\n",
    "    y_test = 1 - test_data[\"Susceptible\"]\n",
    "    cipro_R_prev = y_test.sum() / len(y_test)\n",
    "    if (model_type == 1) | (model_type == 2):\n",
    "        X_train, y_train = oversample.fit_resample(X_train, y_train)\n",
    "        # X_test, y_test = oversample.fit_resample(X_test, y_test)\n",
    "        print(\"Oversample\")\n",
    "    return (test_data, train_data, X_train, y_train, X_test, y_test, cipro_R_prev)\n",
    "\n",
    "def get_feature_effects(all_features, important_features, model_fit, X_train, y_train):\n",
    "    PI = permutation_importance(\n",
    "        model_fit,  X_train, y_train, n_repeats=10, random_state=0\n",
    "    )\n",
    "    feature_importances = []\n",
    "    for feature in all_features:\n",
    "        if feature in important_features:\n",
    "            feature_importances.append(PI.importances_mean[important_features.index(feature)])\n",
    "        else:\n",
    "            feature_importances.append(0)\n",
    "    return feature_importances\n",
    "\n",
    "def get_best_features(feature_names, model_fit, X_train, y_train):\n",
    "    PI = permutation_importance(\n",
    "        model_fit,  X_train, y_train, n_repeats=10, random_state=0\n",
    "    )\n",
    "    important_features = []\n",
    "    for q in PI.importances_mean.argsort()[::-1]:\n",
    "        if PI.importances_mean[q] - PI.importances_std[q] >0:\n",
    "            important_features.append(\n",
    "                feature_names[q]\n",
    "            )  # works cos they are in same order as the x columns\n",
    "    return important_features\n",
    "\n",
    "def get_feature_effects_sd(feature_names, important_features,model_fit, X_train, y_train):\n",
    "    PI = permutation_importance(\n",
    "        model_fit, X_train, y_train, n_repeats=10, random_state=42\n",
    "    )\n",
    "\n",
    "    return PI.importances_std\n",
    "\n",
    "def get_best_hyperparameters(model, cv, space, X_train, y_train):\n",
    "    search = RandomizedSearchCV(\n",
    "        model, space, scoring=\"roc_auc\", n_iter=20, n_jobs=-1, cv=cv, random_state=1\n",
    "    )\n",
    "    result = search.fit(X_train, y_train)\n",
    "    return result.best_params_\n",
    "\n",
    "\n",
    "## Just NN\n",
    "model_nn = MLPClassifier(solver = 'lbfgs', activation = 'tanh', max_iter = 10000 ,hidden_layer_sizes= 12, alpha =1.291549665014884, random_state=10, learning_rate = 'adaptive' )\n",
    "\n",
    "space = dict()\n",
    "space['activation'] = ['tanh', 'relu']\n",
    "space['alpha'] = np.logspace(-1, 1, 1000)\n",
    "space['learning_rate'] = ['constant', 'adaptive']\n",
    "\n",
    "space['hidden_layer_sizes'] = [(8,), (9,), (10,), (11,), (12,), (13,), (14,)]\n",
    "space['solver'] = ['lbfgs', 'sgd', 'adam']\n",
    "i = 2\n",
    "for year in test_years: \n",
    "    print(year)\n",
    "    model_type = 2\n",
    "    years_train = np.array(range(year - 5, year))\n",
    "\n",
    "    CIP_data_training_years = CIP_data_no_drop.loc[CIP_data_no_drop['YEAR'].isin(years_train)]\n",
    "    CIP_data_testing_years = CIP_data_no_drop.loc[CIP_data_no_drop['YEAR'].isin([year])]\n",
    "    # first do for all clinics \n",
    " \n",
    "    test_data, train_data, X_train, y_train, X_test, y_test, cipro_R_prev =  get_test_train_data(CIP_data_no_drop = CIP_data_no_drop, year = year, feature_names = feature_names, years_train = years_train, model_type = model_type)\n",
    "\n",
    "    ## before fitting the model, do hyperparameter tuning \n",
    "    #if year == 2005: \n",
    "\n",
    "    best_hyperparameters1 = get_best_hyperparameters(model_nn, cv, space, X_train, y_train)\n",
    "    model_nn = MLPClassifier(solver = best_hyperparameters1['solver'], activation = best_hyperparameters1['activation'], max_iter = 10000 ,hidden_layer_sizes= best_hyperparameters1['hidden_layer_sizes'], alpha =  best_hyperparameters1['alpha'], random_state=10, learning_rate =best_hyperparameters1['learning_rate'])\n",
    "    \n",
    "     \n",
    "    ## fit model w/hyperparameters \n",
    "    model_fit = model_nn.fit(X_train, y_train)\n",
    "\n",
    "    ## now also need to do feature engineering\n",
    "    important_features = get_best_features(feature_names, model_fit, X_train, y_train)\n",
    "   \n",
    "    best_features_by_year[model_type].__setitem__(year, important_features) \n",
    "    imporances_all_models[i + indices_for_importance[model_type]] = get_feature_effects(feature_names, important_features, model_fit, X_train, y_train) #want it to be the correct block for each model\n",
    "    imporances_all_models_sd[i + indices_for_importance[model_type]] = get_feature_effects(feature_names, important_features, model_fit, X_train, y_train) #want it to be the correct block for each model\n",
    "\n",
    "    # get new test/train data and hyperparameter tuning round 2 \n",
    "\n",
    "    test_data, train_data, X_train, y_train, X_test, y_test, cipro_R_prev =  get_test_train_data(CIP_data_no_drop = CIP_data_no_drop, year = year, feature_names = important_features, years_train = years_train, model_type = model_type)\n",
    "    \n",
    "    best_hyperparameters2 = get_best_hyperparameters(model_nn, cv, space, X_train, y_train)\n",
    "\n",
    "    best_hyperparameters_by_year[model_type].__setitem__(year, best_hyperparameters2) \n",
    "\n",
    "\n",
    "\n",
    "    ## fit model w/hyperparameters \n",
    "    model_nn = MLPClassifier(solver = best_hyperparameters2['solver'], activation = best_hyperparameters2['activation'], max_iter = 5000 ,hidden_layer_sizes= best_hyperparameters2['hidden_layer_sizes'], alpha =  best_hyperparameters2['alpha'], random_state=10, learning_rate =best_hyperparameters2['learning_rate'])\n",
    "\n",
    "    model_fit_train = model_nn.fit(X_train, y_train)\n",
    "    y_predict_test = model_fit_train.predict(X_test)\n",
    "    y_predict_proba = model_fit_train.predict_proba(X_test)\n",
    " \n",
    "    ROC= metrics.roc_auc_score(y_test, y_predict_test)\n",
    "    ROC_by_year[model_type].__setitem__(year, ROC)\n",
    "    i += 1"
   ]
  },
  {
   "cell_type": "code",
   "execution_count": 5,
   "metadata": {},
   "outputs": [
    {
     "ename": "ModuleNotFoundError",
     "evalue": "No module named 'tensorflow.keras.wrappers'",
     "output_type": "error",
     "traceback": [
      "\u001b[0;31m---------------------------------------------------------------------------\u001b[0m",
      "\u001b[0;31mModuleNotFoundError\u001b[0m                       Traceback (most recent call last)",
      "Cell \u001b[0;32mIn[5], line 5\u001b[0m\n\u001b[1;32m      3\u001b[0m \u001b[39mfrom\u001b[39;00m \u001b[39mtensorflow\u001b[39;00m\u001b[39m.\u001b[39;00m\u001b[39mkeras\u001b[39;00m\u001b[39m.\u001b[39;00m\u001b[39mmodels\u001b[39;00m \u001b[39mimport\u001b[39;00m Sequential\n\u001b[1;32m      4\u001b[0m \u001b[39mfrom\u001b[39;00m \u001b[39mtensorflow\u001b[39;00m\u001b[39m.\u001b[39;00m\u001b[39mkeras\u001b[39;00m\u001b[39m.\u001b[39;00m\u001b[39mlayers\u001b[39;00m \u001b[39mimport\u001b[39;00m Dense\n\u001b[0;32m----> 5\u001b[0m \u001b[39mfrom\u001b[39;00m \u001b[39mtensorflow\u001b[39;00m\u001b[39m.\u001b[39;00m\u001b[39mkeras\u001b[39;00m\u001b[39m.\u001b[39;00m\u001b[39mwrappers\u001b[39;00m\u001b[39m.\u001b[39;00m\u001b[39mscikit_learn\u001b[39;00m \u001b[39mimport\u001b[39;00m KerasClassifier\n\u001b[1;32m      6\u001b[0m \u001b[39mfrom\u001b[39;00m \u001b[39msklearn\u001b[39;00m\u001b[39m.\u001b[39;00m\u001b[39mutils\u001b[39;00m \u001b[39mimport\u001b[39;00m class_weight\n\u001b[1;32m      7\u001b[0m \u001b[39mfrom\u001b[39;00m \u001b[39msklearn\u001b[39;00m\u001b[39m.\u001b[39;00m\u001b[39mmetrics\u001b[39;00m \u001b[39mimport\u001b[39;00m roc_auc_score\n",
      "\u001b[0;31mModuleNotFoundError\u001b[0m: No module named 'tensorflow.keras.wrappers'"
     ]
    }
   ],
   "source": [
    "import numpy as np\n",
    "from sklearn.model_selection import RandomizedSearchCV\n",
    "from tensorflow.keras.models import Sequential\n",
    "from tensorflow.keras.layers import Dense\n",
    "from tensorflow.keras.wrappers.scikit_learn import KerasClassifier\n",
    "from sklearn.utils import class_weight\n",
    "from sklearn.metrics import roc_auc_score\n",
    "\n",
    "# ... (Other parts of the code remain unchanged)\n",
    "\n",
    "def create_mlp_model(activation, alpha, learning_rate, hidden_layer_sizes):\n",
    "    model = Sequential()\n",
    "    for layer_size in hidden_layer_sizes:\n",
    "        model.add(Dense(layer_size, activation=activation))\n",
    "    model.add(Dense(1, activation='sigmoid'))\n",
    "    model.compile(optimizer='adam', loss='binary_crossentropy')\n",
    "    return model\n",
    "\n",
    "space = dict()\n",
    "space['activation'] = ['tanh', 'relu']\n",
    "space['alpha'] = np.logspace(-1, 1, 1000)\n",
    "space['learning_rate'] = ['constant', 'adaptive']\n",
    "space['hidden_layer_sizes'] = [(8,), (9,), (10,), (11,), (12,), (13,), (14,)]\n",
    "\n",
    "i = 2\n",
    "for year in test_years: \n",
    "    print(year)\n",
    "    model_type = 2\n",
    "    years_train = np.array(range(year - 5, year))\n",
    "\n",
    "    CIP_data_training_years = CIP_data_no_drop.loc[CIP_data_no_drop['YEAR'].isin(years_train)]\n",
    "    CIP_data_testing_years = CIP_data_no_drop.loc[CIP_data_no_drop['YEAR'].isin([year])]\n",
    "    # first do for all clinics \n",
    "\n",
    "    test_data, train_data, X_train, y_train, X_test, y_test, cipro_R_prev =  get_test_train_data(CIP_data_no_drop=CIP_data_no_drop, year=year, feature_names=feature_names, years_train=years_train, model_type=model_type)\n",
    "\n",
    "    ## before fitting the model, do hyperparameter tuning\n",
    "    model_nn = KerasClassifier(build_fn=create_mlp_model, epochs=100, batch_size=32, verbose=0)\n",
    "\n",
    "    best_hyperparameters1 = get_best_hyperparameters(model_nn, cv, space, X_train, y_train)\n",
    "    model_nn = create_mlp_model(\n",
    "        activation=best_hyperparameters1['activation'],\n",
    "        alpha=best_hyperparameters1['alpha'],\n",
    "        learning_rate=best_hyperparameters1['learning_rate'],\n",
    "        hidden_layer_sizes=best_hyperparameters1['hidden_layer_sizes']\n",
    "    )\n",
    "\n",
    "    ## fit model w/hyperparameters\n",
    "    model_nn.fit(X_train, y_train)\n",
    "\n",
    "    ## now also need to do feature engineering\n",
    "    important_features = get_best_features(feature_names, model_nn, X_train, y_train)\n",
    "\n",
    "    best_features_by_year[model_type].__setitem__(year, important_features) \n",
    "    imporances_all_models[i + indices_for_importance[model_type]] = get_feature_effects(feature_names, important_features, model_nn, X_train, y_train) #want it to be the correct block for each model\n",
    "    imporances_all_models_sd[i + indices_for_importance[model_type]] = get_feature_effects(feature_names, important_features, model_nn, X_train, y_train) #want it to be the correct block for each model\n",
    "\n",
    "    # get new test/train data and hyperparameter tuning round 2\n",
    "    test_data, train_data, X_train, y_train, X_test, y_test, cipro_R_prev =  get_test_train_data(CIP_data_no_drop=CIP_data_no_drop, year=year, feature_names=important_features, years_train=years_train, model_type=model_type)\n",
    "\n",
    "    best_hyperparameters2 = get_best_hyperparameters(model_nn, cv, space, X_train, y_train)\n",
    "\n",
    "    best_hyperparameters_by_year[model_type].__setitem__(year, best_hyperparameters2) \n",
    "\n",
    "    ## fit model w/hyperparameters \n",
    "    model_nn = create_mlp_model(\n",
    "        activation=best_hyperparameters2['activation'],\n",
    "        alpha=best_hyperparameters2['alpha'],\n",
    "        learning_rate=best_hyperparameters2['learning_rate'],\n",
    "        hidden_layer_sizes=best_hyperparameters2['hidden_layer_sizes']\n",
    "    )\n",
    "\n",
    "    model_nn.fit(X_train, y_train, verbose=0)\n",
    "    y_predict_test = model_nn.predict_classes(X_test)\n",
    "    y_predict_proba = model_nn.predict(X_test)\n",
    "\n",
    "    ROC = roc_auc_score(y_test, y_predict_proba)\n",
    "    ROC_by_year[model_type].__setitem__(year, ROC)\n",
    "    i += 1"
   ]
  },
  {
   "attachments": {},
   "cell_type": "markdown",
   "metadata": {},
   "source": [
    "# Functions for bootstrapping "
   ]
  },
  {
   "cell_type": "code",
   "execution_count": 1,
   "metadata": {},
   "outputs": [],
   "source": [
    "def calculate_percentiles(iterations, ROC_actual, test_data, model_type,y_test):\n",
    "        bootstrapped_stats = []\n",
    "        for j in range(iterations):\n",
    "            model_name = \"/Users/rem76/Documents/ML_Models/Bootstrap_models_GISP/CIP_bootstrap_no_dev_\" + str(model_type) + \"_\" + str(year) + \"_\" + str(j) + \".sav\" \n",
    "            X_data_name = \"/Users/rem76/Documents/ML_Models/Bootstrap_models_GISP/CIP_bootstrap_X_no_dev_\" + str(model_type) + \"_\" + str(year) + \"_\" + str(j) + \".csv\" \n",
    "            ## don't need to read in weights as the model has already been trained\n",
    "            X_train_bootstrap = pd.read_csv(X_data_name)\n",
    "            model_fit = pickle.load(open(model_name, 'rb'))\n",
    "            X_test_for_bootstrap = test_data[X_train_bootstrap.columns[1:len(X_train_bootstrap.columns)]]\n",
    "            y_bootstrap_predict = model_fit.predict(X_test_for_bootstrap)\n",
    "            ROC_AUC_bootstrap_test_performance = metrics.roc_auc_score(y_test, y_bootstrap_predict) \n",
    "        ### (D) Calculate estimate fo variance  by getting (B) - (D) \n",
    "\n",
    "            difference = ROC_AUC_bootstrap_test_performance - ROC_actual ## according to https://ocw.mit.edu/courses/18-05-introduction-to-probability-and-statistics-spring-2014/resources/mit18_05s14_reading24/\n",
    "\n",
    "            bootstrapped_stats.append({'Difference': difference})\n",
    "\n",
    "\n",
    "        bootstrapped_stats = pd.DataFrame(bootstrapped_stats)\n",
    "    ## Step 3: Get average optimization\n",
    "        alpha = 0.05\n",
    "        #lower_quartile = np.percentile(bootstrapped_stats[\"Difference\"], 2.5)\n",
    "        #upper_quartile = np.percentile(bootstrapped_stats[\"Difference\"], 97.5)\n",
    "        upper_quartile, lower_quartile = ROC_actual - np.percentile(bootstrapped_stats[\"Difference\"], [100 * (1 - alpha / 2.0), 100 * alpha / 2.0])\n",
    "        #upper_quartile = np.percentile(bootstrapped_stats[\"Difference\"], 2.5)\n",
    "        #lower_quartile = np.percentile(bootstrapped_stats[\"Difference\"], 97.5)\n",
    " ## Step 4: Get optimization-corrected performance\n",
    "\n",
    "        return lower_quartile, upper_quartile\n",
    "\n",
    "### now try bootstrapping w/o feature selection\n",
    "iterations = 100\n",
    "## DO NOT SAMPLE THE TARGET DATA\n",
    "def bootstrap_auROC_no_dev(iterations, model, train_data, test_data, y_test, ROC_actual, important_features):\n",
    "      #1. Find apparent model performance\n",
    "    bootstrapped_stats = []\n",
    "    feature_names_with_weight = feature_names.copy()\n",
    "    feature_names_with_weight.extend(['weight'])\n",
    "    for i in range(iterations):\n",
    "        #2. (A) Sample all individuals from training data w/replacement\n",
    "\n",
    "          sample_train = train_data.sample(frac = 1, replace=True) ##(a) sample n individuals with replacement\n",
    "          \n",
    "          X_sample_train = sample_train[feature_names_with_weight]\n",
    "          y_sample_train = 1 - sample_train['Susceptible']\n",
    "\n",
    "          if model_type in [1,2]:\n",
    "            X_sample_train, y_sample_train = oversample.fit_resample(X_sample_train,y_sample_train)\n",
    "          weights_train = X_sample_train[\"weight\"]\n",
    "          X_sample_train  = X_sample_train.drop(\"weight\", axis = 1)\n",
    "        #  (B) Predictive model w/o feature selection \n",
    "          X_test_bootstrap = test_data[important_features]\n",
    "          model_fit = model.fit(X_sample_train, y_sample_train, sample_weight = weights_train)\n",
    "\n",
    "          model_name = \"/Users/rem76/Documents/ML_Models/Bootstrap_models_GISP/CIP_bootstrap_no_dev_\" + str(model_type) + \"_\" + str(year) + \"_\" + str(i) + \".sav\" \n",
    "          X_data_name = \"/Users/rem76/Documents/ML_Models/Bootstrap_models_GISP/CIP_bootstrap_X_no_dev_\" + str(model_type) + \"_\" + str(year) + \"_\" + str(i) + \".csv\" \n",
    "          y_data_name = \"/Users/rem76/Documents/ML_Models/Bootstrap_models_GISP/CIP_bootstrap_y_no_dev_\" + str(model_type) + \"_\" + str(year) + \"_\" + str(i) + \".csv\" \n",
    "          weights_data_name = \"/Users/rem76/Documents/ML_Models/Bootstrap_models_GISP/CIP_bootstrap_weights_\" + str(model_type) + \"_\" + str(year) + \"_\" + str(i) + \".csv\" \n",
    "          \n",
    "          weights_train.to_csv(weights_data_name)\n",
    "          X_sample_train.to_csv(X_data_name)\n",
    "          y_sample_train.to_csv(y_data_name)\n",
    "          pickle.dump(model_fit, open(model_name, 'wb'))\n",
    "        #  (C) Performance of predictive model on original sample (i.e. original training population, X_test, with new selected features)\n",
    "          y_bootstrap_predict = model_fit.predict(X_test_bootstrap)\n",
    "          ROC_AUC_bootstrap_test_performance = metrics.roc_auc_score(y_test, y_bootstrap_predict) \n",
    "        ### (D) Calculate estimate fo variance  by getting (B) - (D) \n",
    "\n",
    "          difference = ROC_AUC_bootstrap_test_performance - ROC_actual ## according to https://ocw.mit.edu/courses/18-05-introduction-to-probability-and-statistics-spring-2014/resources/mit18_05s14_reading24/\n",
    "\n",
    "          bootstrapped_stats.append(\n",
    "          {\n",
    "\n",
    "              'Difference': difference#,\n",
    "          }\n",
    "        )\n",
    "\n",
    "\n",
    "    bootstrapped_stats = pd.DataFrame(bootstrapped_stats)\n",
    "    ## Step 3: Get average optimization\n",
    "\n",
    "    #lower_quartile = np.percentile(bootstrapped_stats[\"Difference\"], 2.5)\n",
    "    #upper_quartile = np.percentile(bootstrapped_stats[\"Difference\"], 97.5)\n",
    " ## Step 4: Get optimization-corrected performance\n",
    "    alpha = 0.05 \n",
    "    upper_quartile, lower_quartile = ROC_actual - np.percentile(bootstrapped_stats[\"Difference\"], [100 * (1 - alpha / 2.0), 100 * alpha / 2.0])\n",
    "\n",
    "    return lower_quartile, upper_quartile"
   ]
  },
  {
   "cell_type": "code",
   "execution_count": 8,
   "metadata": {},
   "outputs": [],
   "source": [
    "import re\n",
    "import keras\n",
    "from sklearn.pipeline import Pipeline\n",
    "from sklearn.model_selection import GridSearchCV\n",
    "from sklearn.preprocessing import StandardScaler\n",
    "from scikeras.wrappers import KerasClassifier\n",
    "from keras.layers import Dense, Dropout\n",
    "from keras import Sequential"
   ]
  },
  {
   "cell_type": "code",
   "execution_count": 16,
   "metadata": {},
   "outputs": [],
   "source": [
    "\n",
    "\n",
    "################################ Get hyperparameters and best features for each model  ###########################\n",
    "#### Loop set up \n",
    "threshold_seq = np.linspace(0,1,101)\n",
    "test_years = [2005, 2006, 2007, 2008, 2009, 2010]  #np.array(range(2005, 2011))\n",
    "oversample = RandomOverSampler(sampling_strategy = 'minority',random_state=42) #need for neural network and random forest\n",
    "model_types = [\"Logistic_regression\",  \"Random_forest\", \"Neural_network\"]\n",
    "i = 0\n",
    "\n",
    "# logistic regression - random initial parameters\n",
    "model_lr = LogisticRegression(class_weight = 'balanced', max_iter=4000, solver = \"lbfgs\", C = 0.27, penalty = 'l2')\n",
    "# random forest - random initial parameters\n",
    "model_rf = RandomForestClassifier(n_estimators = 171, min_samples_split = 1, min_samples_leaf=1, max_features = 'sqrt', max_depth = 89, random_state = 10)\n",
    "# neural network - random parameters\n",
    "model_nn = MLPClassifier(solver = 'lbfgs', activation = 'tanh', max_iter = 3000 ,hidden_layer_sizes= 12, alpha =1.291549665014884, random_state=10, learning_rate = 'adaptive' )\n",
    "unfitted_models = [model_lr, model_rf, model_nn]\n",
    "\n",
    "### Hyperparameter tuning\n",
    "cv = RepeatedStratifiedKFold(n_splits=10,  n_repeats=10,random_state=1) ## 10-fold cross validations\n",
    "# logistic regression \n",
    "best_hyperparameters_by_year = {}\n",
    "\n",
    "space_lr = dict()\n",
    "space_lr['solver'] = ['newton-cg', 'lbfgs', 'liblinear']\n",
    "space_lr['penalty'] = ['l1', 'l2']\n",
    "space_lr['C'] = np.arange(0, 100, .01)\n",
    "best_hyperparameters_by_year_lr = {}\n",
    "# random forest \n",
    "space_rf = dict()\n",
    "space_rf['n_estimators'] = np.arange(100, 201, 1)\n",
    "space_rf['max_depth'] = np.arange(1, 200, 1)\n",
    "space_rf['min_samples_split'] = np.arange(1, 25, 1)\n",
    "space_rf['min_samples_leaf'] = np.arange(1, 25, 1)\n",
    "best_hyperparameters_by_year_rf = {}\n",
    "\n",
    "# neural network \n",
    "space_nn = dict()\n",
    "space_nn['solver'] = ['lbfgs', 'sgd', 'adam']\n",
    "space_nn['activation'] = ['tanh', 'relu']\n",
    "space_nn['alpha'] = np.logspace(-1, 1, 10)\n",
    "space_nn['learning_rate'] = ['constant','adaptive']\n",
    "space_nn['hidden_layer_sizes'] = [(4,), (6,), (8,), (10,), (12,), (13,), (14,)]\n",
    "best_hyperparameters_by_year_nn = {}\n",
    "space = [space_lr, space_rf, space_nn]\n",
    "best_hyperparameters_by_year = [best_hyperparameters_by_year_lr, best_hyperparameters_by_year_rf,best_hyperparameters_by_year_nn]\n",
    "\n",
    "### Feature Engineering\n",
    "feature_names = ['MSM','MSMW', 'MSW', 'Oth/Unk/Missing','Northeast', 'Southeast', 'Southwest', 'West', 'Midwest','PREV_REGION', 'PREV_CLINIC', 'DELTA_REGION',  'Count_Exceeds_75', 'Trend_N_greater_75']\n",
    "best_features_by_year_lr = {}\n",
    "best_features_by_year_rf = {}\n",
    "best_features_by_year_nn = {}\n",
    "best_features_by_year = [best_features_by_year_lr, best_features_by_year_rf, best_features_by_year_nn]\n",
    "\n",
    "imporances_all_models = pd.DataFrame(0, index = feature_names, columns=np.arange(len(test_years)*3))\n",
    "indices_for_importance = [6,12,0] ## need to be in correct order \n",
    "imporances_all_models_sd = pd.DataFrame(0, index = feature_names, columns=np.arange(len(test_years)*3))\n",
    "\n",
    "\n",
    "oversample = RandomOverSampler(sampling_strategy='minority', random_state=10)\n",
    "\n",
    "def get_test_train_data(CIP_data_no_drop, year, feature_names, years_train, model_type):\n",
    "\n",
    "    train_data = CIP_data_no_drop.loc[CIP_data_no_drop[\"YEAR\"].isin(years_train)]\n",
    "    X_train = train_data[\n",
    "        feature_names\n",
    "    ]  # need to consider all columns BEFORE feature engineering\n",
    "    y_train = 1 - train_data[\"Susceptible\"]\n",
    "    # test\n",
    "    test_data = CIP_data_no_drop.loc[CIP_data_no_drop[\"YEAR\"].isin([year])]\n",
    "    X_test = test_data[feature_names]\n",
    "    y_test = 1 - test_data[\"Susceptible\"]\n",
    "    cipro_R_prev = y_test.sum() / len(y_test)\n",
    "    if (model_type == 1) | (model_type == 2):\n",
    "        X_train, y_train = oversample.fit_resample(X_train, y_train)\n",
    "        # X_test, y_test = oversample.fit_resample(X_test, y_test)\n",
    "        print(\"Oversample\")\n",
    "    return (test_data, train_data, X_train, y_train, X_test, y_test, cipro_R_prev)\n",
    "\n",
    "def get_feature_effects(all_features, important_features, model_fit, X_train, y_train):\n",
    "    PI = permutation_importance(\n",
    "        model_fit, X_train, y_train, n_repeats=10, random_state=0\n",
    "    )\n",
    "    feature_importances = []\n",
    "    for feature in all_features:\n",
    "        if feature in important_features:\n",
    "            feature_importances.append(PI.importances_mean[important_features.index(feature)])\n",
    "        else:\n",
    "            feature_importances.append(0)\n",
    "    return feature_importances\n",
    "\n",
    "def get_best_features(feature_names, model_fit, X_train, y_train):\n",
    "    PI = permutation_importance(\n",
    "        model_fit, X_train, y_train, n_repeats=10, random_state=0\n",
    "    )\n",
    "    important_features = []\n",
    "    for q in PI.importances_mean.argsort()[::-1]:\n",
    "        if PI.importances_mean[q] - PI.importances_std[q] >0:\n",
    "            important_features.append(\n",
    "                feature_names[q]\n",
    "            )  # works cos they are in same order as the x columns\n",
    "    return important_features\n",
    "\n",
    "def get_feature_effects_sd(feature_names, important_features,model_fit, X_train, y_train):\n",
    "    PI = permutation_importance(\n",
    "        model_fit, X_train, y_train, n_repeats=10, random_state=42\n",
    "    )\n",
    "\n",
    "    return PI.importances_std\n",
    "\n",
    "def get_best_hyperparameters(model, cv, space, X_train, y_train, sample_weights):\n",
    "    search = RandomizedSearchCV(\n",
    "        model, space, scoring=\"roc_auc\", n_iter=20, n_jobs=-1, cv=cv, random_state=1\n",
    "    )\n",
    "    result = search.fit(X_train, y_train, sample_weight = sample_weights)\n",
    "    return result.best_params_\n",
    "\n",
    "### ROC by year \n",
    "ROC_by_year_rf = {}\n",
    "ROC_by_year_lr = {}\n",
    "ROC_by_year_nn = {}\n",
    "\n",
    "ROC_by_year = [ROC_by_year_lr, ROC_by_year_rf, ROC_by_year_nn]\n",
    "\n",
    "\n",
    "def get_test_train_data(CIP_data_no_drop, year, feature_names, years_train, model_type):\n",
    "    feature_names_with_weight = feature_names.copy()\n",
    "    feature_names_with_weight.extend(['weight'])\n",
    "    train_data = CIP_data_no_drop.loc[CIP_data_no_drop[\"YEAR\"].isin(years_train)]\n",
    "    X_train = train_data[feature_names_with_weight]  # need to consider all columns BEFORE feature engineering\n",
    "    y_train = 1 - train_data[\"Susceptible\"]\n",
    "    # test\n",
    "    test_data = CIP_data_no_drop.loc[CIP_data_no_drop[\"YEAR\"].isin([year])]\n",
    "    X_test = test_data[feature_names_with_weight]\n",
    "    y_test = 1 - test_data[\"Susceptible\"]\n",
    "    cipro_R_prev = y_test.sum() / len(y_test)\n",
    "\n",
    "    if (model_type == 1) | (model_type == 2):\n",
    "        X_train, y_train = oversample.fit_resample(X_train, y_train)\n",
    "        # X_test, y_test = oversample.fit_resample(X_test, y_test)\n",
    "        print(\"Oversample\")\n",
    "    weights_train = X_train[\"weight\"]\n",
    "    X_train  = X_train.drop(\"weight\", axis = 1)\n",
    "    X_test = X_test.drop(\"weight\", axis = 1)\n",
    "\n",
    "    return (test_data, train_data, X_train, y_train, X_test, y_test, cipro_R_prev, weights_train)"
   ]
  },
  {
   "cell_type": "code",
   "execution_count": 20,
   "metadata": {},
   "outputs": [],
   "source": [
    "CIP_data_no_drop = CIP_data_no_drop.drop('weight_y', axis = 1)\n",
    "CIP_data_no_drop = CIP_data_no_drop.drop('weight_x', axis = 1)"
   ]
  },
  {
   "cell_type": "code",
   "execution_count": 8,
   "metadata": {},
   "outputs": [],
   "source": [
    "def get_test_train_data(CIP_data_no_drop, year, feature_names, years_train, model_type):\n",
    "    feature_names_with_weight = feature_names.copy()\n",
    "    feature_names_with_weight.extend(['weight'])\n",
    "    train_data = CIP_data_no_drop.loc[CIP_data_no_drop[\"YEAR\"].isin(years_train)]\n",
    "    X_train = train_data[feature_names_with_weight]  # need to consider all columns BEFORE feature engineering\n",
    "    y_train = 1 - train_data[\"Susceptible\"]\n",
    "    # test\n",
    "    test_data = CIP_data_no_drop.loc[CIP_data_no_drop[\"YEAR\"].isin([year])]\n",
    "    X_test = test_data[feature_names_with_weight]\n",
    "    y_test = 1 - test_data[\"Susceptible\"]\n",
    "    cipro_R_prev = y_test.sum() / len(y_test)\n",
    "\n",
    "    if (model_type == 1) | (model_type == 2):\n",
    "        X_train, y_train = oversample.fit_resample(X_train, y_train)\n",
    "        # X_test, y_test = oversample.fit_resample(X_test, y_test)\n",
    "        print(\"Oversample\")\n",
    "    weights_train = X_train[\"weight\"]\n",
    "    X_train  = X_train.drop(\"weight\", axis = 1)\n",
    "    X_test = X_test.drop(\"weight\", axis = 1)\n",
    "\n",
    "    return (test_data, train_data, X_train, y_train, X_test, y_test, cipro_R_prev, weights_train)"
   ]
  },
  {
   "cell_type": "code",
   "execution_count": 9,
   "metadata": {},
   "outputs": [
    {
     "name": "stdout",
     "output_type": "stream",
     "text": [
      "Oversample\n"
     ]
    }
   ],
   "source": [
    "    feature_names = ['MSM','MSMW', 'MSW', 'Oth/Unk/Missing','Northeast', 'Southeast', 'Southwest', 'West', 'Midwest','PREV_REGION', 'PREV_CLINIC', 'DELTA_REGION',  'Count_Exceeds_75', 'Trend_N_greater_75']\n",
    "\n",
    "    year = 2005\n",
    "    model_type = 2\n",
    "    years_train = np.array(range(year - 5, year))\n",
    "\n",
    "    CIP_data_training_years = CIP_data_no_drop.loc[CIP_data_no_drop['YEAR'].isin(years_train)]\n",
    "    CIP_data_testing_years = CIP_data_no_drop.loc[CIP_data_no_drop['YEAR'].isin([year])]\n",
    "    # first do for all clinics \n",
    "\n",
    "    counts = CIP_data_training_years.groupby(['YEAR', 'CLINIC']).size().reset_index(name='Count')\n",
    "    counts_by_year = CIP_data_training_years.groupby(['YEAR']).size().reset_index(name='Count')\n",
    "\n",
    "    merged_counts = counts.merge(counts_by_year, on='YEAR', suffixes=('_counts', '_counts_by_year'))\n",
    "\n",
    "    # Calculate the sum of all counts in the counts dataframe\n",
    "    total_counts = counts['Count'].sum()\n",
    "\n",
    "    # Calculate the 'weight' column as Count_counts / total_counts\n",
    "    merged_counts['weight'] = merged_counts['Count_counts'] / total_counts\n",
    "    # Calculate the 'weight' column as Count_counts / rolling sum of the previous 5 years\n",
    "\n",
    "    # Merge the 'weight' column back to the original DataFrame\n",
    "    CIP_data_no_drop = CIP_data_no_drop.merge(merged_counts[['YEAR', 'CLINIC', 'weight']], on=['YEAR', 'CLINIC'], how='left')\n",
    "\n",
    " \n",
    "    test_data, train_data, X_train, y_train, X_test, y_test, cipro_R_prev, weights_train =  get_test_train_data(CIP_data_no_drop = CIP_data_no_drop, year = year, feature_names = feature_names, years_train = years_train, model_type = model_type)"
   ]
  },
  {
   "cell_type": "code",
   "execution_count": 16,
   "metadata": {},
   "outputs": [
    {
     "name": "stderr",
     "output_type": "stream",
     "text": [
      "/Users/rem76/miniconda3/envs/GISP_init/lib/python3.10/site-packages/scikeras/wrappers.py:915: UserWarning: ``build_fn`` will be renamed to ``model`` in a future release, at which point use of ``build_fn`` will raise an Error instead.\n",
      "  X, y = self._initialize(X, y)\n",
      "/Users/rem76/miniconda3/envs/GISP_init/lib/python3.10/site-packages/scikeras/wrappers.py:915: UserWarning: ``build_fn`` will be renamed to ``model`` in a future release, at which point use of ``build_fn`` will raise an Error instead.\n",
      "  X, y = self._initialize(X, y)\n",
      "/Users/rem76/miniconda3/envs/GISP_init/lib/python3.10/site-packages/scikeras/wrappers.py:915: UserWarning: ``build_fn`` will be renamed to ``model`` in a future release, at which point use of ``build_fn`` will raise an Error instead.\n",
      "  X, y = self._initialize(X, y)\n",
      "/Users/rem76/miniconda3/envs/GISP_init/lib/python3.10/site-packages/scikeras/wrappers.py:915: UserWarning: ``build_fn`` will be renamed to ``model`` in a future release, at which point use of ``build_fn`` will raise an Error instead.\n",
      "  X, y = self._initialize(X, y)\n",
      "/Users/rem76/miniconda3/envs/GISP_init/lib/python3.10/site-packages/scikeras/wrappers.py:915: UserWarning: ``build_fn`` will be renamed to ``model`` in a future release, at which point use of ``build_fn`` will raise an Error instead.\n",
      "  X, y = self._initialize(X, y)\n",
      "/Users/rem76/miniconda3/envs/GISP_init/lib/python3.10/site-packages/scikeras/wrappers.py:915: UserWarning: ``build_fn`` will be renamed to ``model`` in a future release, at which point use of ``build_fn`` will raise an Error instead.\n",
      "  X, y = self._initialize(X, y)\n",
      "/Users/rem76/miniconda3/envs/GISP_init/lib/python3.10/site-packages/scikeras/wrappers.py:915: UserWarning: ``build_fn`` will be renamed to ``model`` in a future release, at which point use of ``build_fn`` will raise an Error instead.\n",
      "  X, y = self._initialize(X, y)\n",
      "/Users/rem76/miniconda3/envs/GISP_init/lib/python3.10/site-packages/scikeras/wrappers.py:915: UserWarning: ``build_fn`` will be renamed to ``model`` in a future release, at which point use of ``build_fn`` will raise an Error instead.\n",
      "  X, y = self._initialize(X, y)\n"
     ]
    },
    {
     "name": "stdout",
     "output_type": "stream",
     "text": [
      "10169/10169 [==============================] - 10s 953us/step - loss: 0.0057 - auc: 0.4987\n",
      "10169/10169 [==============================] - 10s 981us/step - loss: 0.0057 - auc: 0.4951\n",
      "10169/10169 [==============================] - 10s 982us/step - loss: 0.0057 - auc: 0.4941\n",
      "10169/10169 [==============================] - 11s 1ms/step - loss: 0.0057 - auc: 0.5010\n",
      "10169/10169 [==============================] - 11s 1ms/step - loss: 0.0057 - auc: 0.4936\n",
      "10169/10169 [==============================] - 11s 1ms/step - loss: 0.0057 - auc: 0.4964\n",
      "10169/10169 [==============================] - 11s 1ms/step - loss: 0.0057 - auc: 0.4938\n",
      "10169/10169 [==============================] - 11s 1ms/step - loss: 0.0057 - auc: 0.4945\n",
      "1130/1130 [==============================] - 1s 679us/step\n",
      "1130/1130 [==============================] - 1s 745us/step\n",
      "1130/1130 [==============================] - 1s 612us/step\n",
      "1130/1130 [==============================] - 1s 542us/step\n",
      "1130/1130 [==============================] - 1s 578us/step\n",
      "1130/1130 [==============================] - 1s 521us/step\n",
      "1130/1130 [==============================] - 1s 479us/step\n",
      "1066/1130 [===========================>..] - ETA: 0s"
     ]
    },
    {
     "name": "stderr",
     "output_type": "stream",
     "text": [
      "/Users/rem76/miniconda3/envs/GISP_init/lib/python3.10/site-packages/scikeras/wrappers.py:915: UserWarning: ``build_fn`` will be renamed to ``model`` in a future release, at which point use of ``build_fn`` will raise an Error instead.\n",
      "  X, y = self._initialize(X, y)\n",
      "/Users/rem76/miniconda3/envs/GISP_init/lib/python3.10/site-packages/scikeras/wrappers.py:915: UserWarning: ``build_fn`` will be renamed to ``model`` in a future release, at which point use of ``build_fn`` will raise an Error instead.\n",
      "  X, y = self._initialize(X, y)\n",
      "/Users/rem76/miniconda3/envs/GISP_init/lib/python3.10/site-packages/scikeras/wrappers.py:915: UserWarning: ``build_fn`` will be renamed to ``model`` in a future release, at which point use of ``build_fn`` will raise an Error instead.\n",
      "  X, y = self._initialize(X, y)\n",
      "/Users/rem76/miniconda3/envs/GISP_init/lib/python3.10/site-packages/scikeras/wrappers.py:915: UserWarning: ``build_fn`` will be renamed to ``model`` in a future release, at which point use of ``build_fn`` will raise an Error instead.\n",
      "  X, y = self._initialize(X, y)\n"
     ]
    },
    {
     "name": "stdout",
     "output_type": "stream",
     "text": [
      "1130/1130 [==============================] - 1s 565us/step\n"
     ]
    },
    {
     "name": "stderr",
     "output_type": "stream",
     "text": [
      "/Users/rem76/miniconda3/envs/GISP_init/lib/python3.10/site-packages/scikeras/wrappers.py:915: UserWarning: ``build_fn`` will be renamed to ``model`` in a future release, at which point use of ``build_fn`` will raise an Error instead.\n",
      "  X, y = self._initialize(X, y)\n",
      "/Users/rem76/miniconda3/envs/GISP_init/lib/python3.10/site-packages/scikeras/wrappers.py:915: UserWarning: ``build_fn`` will be renamed to ``model`` in a future release, at which point use of ``build_fn`` will raise an Error instead.\n",
      "  X, y = self._initialize(X, y)\n",
      "/Users/rem76/miniconda3/envs/GISP_init/lib/python3.10/site-packages/scikeras/wrappers.py:915: UserWarning: ``build_fn`` will be renamed to ``model`` in a future release, at which point use of ``build_fn`` will raise an Error instead.\n",
      "  X, y = self._initialize(X, y)\n"
     ]
    },
    {
     "name": "stdout",
     "output_type": "stream",
     "text": [
      "   98/10169 [..............................] - ETA: 5s - loss: 0.0058 - auc_1: 0.5000   "
     ]
    },
    {
     "name": "stderr",
     "output_type": "stream",
     "text": [
      "/Users/rem76/miniconda3/envs/GISP_init/lib/python3.10/site-packages/scikeras/wrappers.py:915: UserWarning: ``build_fn`` will be renamed to ``model`` in a future release, at which point use of ``build_fn`` will raise an Error instead.\n",
      "  X, y = self._initialize(X, y)\n"
     ]
    },
    {
     "name": "stdout",
     "output_type": "stream",
     "text": [
      "10169/10169 [==============================] - 10s 939us/step - loss: 0.0057 - auc_1: 0.4943\n",
      "10169/10169 [==============================] - 10s 937us/step - loss: 0.0057 - auc_1: 0.4937\n",
      "10169/10169 [==============================] - 10s 933us/step - loss: 0.0057 - auc_1: 0.4996\n",
      "10169/10169 [==============================] - 10s 943us/step - loss: 0.0057 - auc_1: 0.5005\n",
      "10169/10169 [==============================] - 10s 938us/step - loss: 0.0057 - auc_1: 0.4941\n",
      "10169/10169 [==============================] - 10s 946us/step - loss: 0.0057 - auc_1: 0.4933\n",
      "10169/10169 [==============================] - 10s 939us/step - loss: 0.0057 - auc_1: 0.4943\n",
      "1130/1130 [==============================] - 1s 628us/steposs: 0.0057 - auc_1: 0.49\n",
      "1130/1130 [==============================] - 1s 611us/steposs: 0.0057 - auc_1: 0.49\n",
      "10169/10169 [==============================] - 10s 915us/step - loss: 0.0057 - auc_1: 0.4937\n",
      "1130/1130 [==============================] - 1s 590us/step\n",
      "1130/1130 [==============================] - 1s 592us/step\n",
      "1130/1130 [==============================] - 1s 445us/step\n",
      "1130/1130 [==============================] - 1s 612us/step\n",
      "1130/1130 [==============================] - 1s 345us/step\n",
      " 952/1130 [========================>.....] - ETA: 0s"
     ]
    },
    {
     "name": "stderr",
     "output_type": "stream",
     "text": [
      "/Users/rem76/miniconda3/envs/GISP_init/lib/python3.10/site-packages/scikeras/wrappers.py:915: UserWarning: ``build_fn`` will be renamed to ``model`` in a future release, at which point use of ``build_fn`` will raise an Error instead.\n",
      "  X, y = self._initialize(X, y)\n",
      "/Users/rem76/miniconda3/envs/GISP_init/lib/python3.10/site-packages/scikeras/wrappers.py:915: UserWarning: ``build_fn`` will be renamed to ``model`` in a future release, at which point use of ``build_fn`` will raise an Error instead.\n",
      "  X, y = self._initialize(X, y)\n",
      "/Users/rem76/miniconda3/envs/GISP_init/lib/python3.10/site-packages/scikeras/wrappers.py:915: UserWarning: ``build_fn`` will be renamed to ``model`` in a future release, at which point use of ``build_fn`` will raise an Error instead.\n",
      "  X, y = self._initialize(X, y)\n",
      "/Users/rem76/miniconda3/envs/GISP_init/lib/python3.10/site-packages/scikeras/wrappers.py:915: UserWarning: ``build_fn`` will be renamed to ``model`` in a future release, at which point use of ``build_fn`` will raise an Error instead.\n",
      "  X, y = self._initialize(X, y)\n",
      "/Users/rem76/miniconda3/envs/GISP_init/lib/python3.10/site-packages/scikeras/wrappers.py:915: UserWarning: ``build_fn`` will be renamed to ``model`` in a future release, at which point use of ``build_fn`` will raise an Error instead.\n",
      "  X, y = self._initialize(X, y)\n",
      "/Users/rem76/miniconda3/envs/GISP_init/lib/python3.10/site-packages/scikeras/wrappers.py:915: UserWarning: ``build_fn`` will be renamed to ``model`` in a future release, at which point use of ``build_fn`` will raise an Error instead.\n",
      "  X, y = self._initialize(X, y)\n",
      "/Users/rem76/miniconda3/envs/GISP_init/lib/python3.10/site-packages/scikeras/wrappers.py:915: UserWarning: ``build_fn`` will be renamed to ``model`` in a future release, at which point use of ``build_fn`` will raise an Error instead.\n",
      "  X, y = self._initialize(X, y)\n"
     ]
    },
    {
     "name": "stdout",
     "output_type": "stream",
     "text": [
      "1130/1130 [==============================] - 1s 523us/step\n",
      "  133/10169 [..............................] - ETA: 15s - loss: 0.0056 - auc_2: 0.500000"
     ]
    },
    {
     "name": "stderr",
     "output_type": "stream",
     "text": [
      "/Users/rem76/miniconda3/envs/GISP_init/lib/python3.10/site-packages/scikeras/wrappers.py:915: UserWarning: ``build_fn`` will be renamed to ``model`` in a future release, at which point use of ``build_fn`` will raise an Error instead.\n",
      "  X, y = self._initialize(X, y)\n"
     ]
    },
    {
     "name": "stdout",
     "output_type": "stream",
     "text": [
      "10169/10169 [==============================] - 9s 875us/step - loss: 0.0057 - auc_2: 0.4924\n",
      "10169/10169 [==============================] - 10s 925us/step - loss: 0.0057 - auc_2: 0.4997\n",
      "10169/10169 [==============================] - 10s 923us/step - loss: 0.0057 - auc_2: 0.4959\n",
      "10169/10169 [==============================] - 10s 945us/step - loss: 0.0057 - auc_2: 0.4943\n",
      "10169/10169 [==============================] - 10s 950us/step - loss: 0.0057 - auc_2: 0.4932\n",
      "10169/10169 [==============================] - 10s 949us/step - loss: 0.0057 - auc_2: 0.4989\n",
      "10169/10169 [==============================] - 10s 960us/step - loss: 0.0057 - auc_2: 0.4944\n",
      "1130/1130 [==============================] - 1s 703us/steposs: 0.0057 - auc_2: 0.4940\n",
      "1130/1130 [==============================] - 1s 705us/steposs: 0.0057 - auc_2: 0.49\n",
      "1130/1130 [==============================] - 1s 724us/step\n",
      "1130/1130 [==============================] - 1s 560us/step\n",
      "1130/1130 [==============================] - 1s 588us/steposs: 0.0057 - auc_2: 0.49\n",
      "1130/1130 [==============================] - 1s 665us/step\n",
      "1011/1130 [=========================>....] - ETA: 0s0s - loss: 0.0057 - auc_2: 0.49"
     ]
    },
    {
     "name": "stderr",
     "output_type": "stream",
     "text": [
      "/Users/rem76/miniconda3/envs/GISP_init/lib/python3.10/site-packages/scikeras/wrappers.py:915: UserWarning: ``build_fn`` will be renamed to ``model`` in a future release, at which point use of ``build_fn`` will raise an Error instead.\n",
      "  X, y = self._initialize(X, y)\n"
     ]
    },
    {
     "name": "stdout",
     "output_type": "stream",
     "text": [
      "1130/1130 [==============================] - 1s 645us/steposs: 0.0057 - auc_2: 0.49\n",
      "10169/10169 [==============================] - 10s 928us/step - loss: 0.0057 - auc_2: 0.4950\n",
      " 128/1130 [==>...........................] - ETA: 1s"
     ]
    },
    {
     "name": "stderr",
     "output_type": "stream",
     "text": [
      "/Users/rem76/miniconda3/envs/GISP_init/lib/python3.10/site-packages/scikeras/wrappers.py:915: UserWarning: ``build_fn`` will be renamed to ``model`` in a future release, at which point use of ``build_fn`` will raise an Error instead.\n",
      "  X, y = self._initialize(X, y)\n",
      "/Users/rem76/miniconda3/envs/GISP_init/lib/python3.10/site-packages/scikeras/wrappers.py:915: UserWarning: ``build_fn`` will be renamed to ``model`` in a future release, at which point use of ``build_fn`` will raise an Error instead.\n",
      "  X, y = self._initialize(X, y)\n",
      "/Users/rem76/miniconda3/envs/GISP_init/lib/python3.10/site-packages/scikeras/wrappers.py:915: UserWarning: ``build_fn`` will be renamed to ``model`` in a future release, at which point use of ``build_fn`` will raise an Error instead.\n",
      "  X, y = self._initialize(X, y)\n",
      "/Users/rem76/miniconda3/envs/GISP_init/lib/python3.10/site-packages/scikeras/wrappers.py:915: UserWarning: ``build_fn`` will be renamed to ``model`` in a future release, at which point use of ``build_fn`` will raise an Error instead.\n",
      "  X, y = self._initialize(X, y)\n",
      "/Users/rem76/miniconda3/envs/GISP_init/lib/python3.10/site-packages/scikeras/wrappers.py:915: UserWarning: ``build_fn`` will be renamed to ``model`` in a future release, at which point use of ``build_fn`` will raise an Error instead.\n",
      "  X, y = self._initialize(X, y)\n"
     ]
    },
    {
     "name": "stdout",
     "output_type": "stream",
     "text": [
      "   24/10169 [..............................] - ETA: 22s - loss: 0.0056 - auc_3: 0.5000    "
     ]
    },
    {
     "name": "stderr",
     "output_type": "stream",
     "text": [
      "/Users/rem76/miniconda3/envs/GISP_init/lib/python3.10/site-packages/scikeras/wrappers.py:915: UserWarning: ``build_fn`` will be renamed to ``model`` in a future release, at which point use of ``build_fn`` will raise an Error instead.\n",
      "  X, y = self._initialize(X, y)\n"
     ]
    },
    {
     "name": "stdout",
     "output_type": "stream",
     "text": [
      "1130/1130 [==============================] - 1s 619us/steposs: 0.0056 - auc_3: 0.512\n",
      "  504/10169 [>.............................] - ETA: 8s - loss: 0.0056 - auc_3: 0.50770   "
     ]
    },
    {
     "name": "stderr",
     "output_type": "stream",
     "text": [
      "/Users/rem76/miniconda3/envs/GISP_init/lib/python3.10/site-packages/scikeras/wrappers.py:915: UserWarning: ``build_fn`` will be renamed to ``model`` in a future release, at which point use of ``build_fn`` will raise an Error instead.\n",
      "  X, y = self._initialize(X, y)\n"
     ]
    },
    {
     "name": "stdout",
     "output_type": "stream",
     "text": [
      "10169/10169 [==============================] - 9s 853us/step - loss: 0.0057 - auc_3: 0.4955\n",
      "10169/10169 [==============================] - 9s 858us/step - loss: 0.0057 - auc_3: 0.4949\n",
      "10169/10169 [==============================] - 9s 864us/step - loss: 0.0057 - auc_3: 0.4960\n",
      "1130/1130 [==============================] - 1s 645us/steposs: 0.0057 - auc_3: 0.4954\n",
      "10169/10169 [==============================] - 10s 878us/step - loss: 0.0057 - auc_3: 0.4953\n",
      "10169/10169 [==============================] - 9s 880us/step - loss: 0.0057 - auc_3: 0.4935\n",
      "10169/10169 [==============================] - 10s 890us/step - loss: 0.0057 - auc_3: 0.4936\n",
      "10169/10169 [==============================] - 10s 866us/step - loss: 0.0057 - auc_3: 0.5008\n",
      "1130/1130 [==============================] - 1s 484us/steposs: 0.0057 - auc_3: 0.\n",
      "1130/1130 [==============================] - 1s 475us/steposs: 0.0057 - auc_3: 0.50\n",
      "1130/1130 [==============================] - 1s 504us/steposs: 0.0057 - auc_3: 0.49\n",
      " 9902/10169 [============================>.] - ETA: 0s - loss: 0.0057 - auc_3: 0.4991"
     ]
    },
    {
     "name": "stderr",
     "output_type": "stream",
     "text": [
      "/Users/rem76/miniconda3/envs/GISP_init/lib/python3.10/site-packages/scikeras/wrappers.py:915: UserWarning: ``build_fn`` will be renamed to ``model`` in a future release, at which point use of ``build_fn`` will raise an Error instead.\n",
      "  X, y = self._initialize(X, y)\n"
     ]
    },
    {
     "name": "stdout",
     "output_type": "stream",
     "text": [
      "1130/1130 [==============================] - 1s 468us/step\n",
      "1130/1130 [==============================] - 1s 466us/step\n",
      "1130/1130 [==============================] - 1s 434us/steposs: 0.0057 - auc_3: 0.49\n",
      "10169/10169 [==============================] - 9s 814us/step - loss: 0.0057 - auc_3: 0.4988\n"
     ]
    },
    {
     "name": "stderr",
     "output_type": "stream",
     "text": [
      "/Users/rem76/miniconda3/envs/GISP_init/lib/python3.10/site-packages/scikeras/wrappers.py:915: UserWarning: ``build_fn`` will be renamed to ``model`` in a future release, at which point use of ``build_fn`` will raise an Error instead.\n",
      "  X, y = self._initialize(X, y)\n",
      "/Users/rem76/miniconda3/envs/GISP_init/lib/python3.10/site-packages/scikeras/wrappers.py:915: UserWarning: ``build_fn`` will be renamed to ``model`` in a future release, at which point use of ``build_fn`` will raise an Error instead.\n",
      "  X, y = self._initialize(X, y)\n"
     ]
    },
    {
     "name": "stdout",
     "output_type": "stream",
     "text": [
      "    1/10169 [..............................] - ETA: 42:04 - loss: 0.0056 - auc_4: 0.5000"
     ]
    },
    {
     "name": "stderr",
     "output_type": "stream",
     "text": [
      "/Users/rem76/miniconda3/envs/GISP_init/lib/python3.10/site-packages/scikeras/wrappers.py:915: UserWarning: ``build_fn`` will be renamed to ``model`` in a future release, at which point use of ``build_fn`` will raise an Error instead.\n",
      "  X, y = self._initialize(X, y)\n",
      "/Users/rem76/miniconda3/envs/GISP_init/lib/python3.10/site-packages/scikeras/wrappers.py:915: UserWarning: ``build_fn`` will be renamed to ``model`` in a future release, at which point use of ``build_fn`` will raise an Error instead.\n",
      "  X, y = self._initialize(X, y)\n",
      "/Users/rem76/miniconda3/envs/GISP_init/lib/python3.10/site-packages/scikeras/wrappers.py:915: UserWarning: ``build_fn`` will be renamed to ``model`` in a future release, at which point use of ``build_fn`` will raise an Error instead.\n",
      "  X, y = self._initialize(X, y)\n",
      "/Users/rem76/miniconda3/envs/GISP_init/lib/python3.10/site-packages/scikeras/wrappers.py:915: UserWarning: ``build_fn`` will be renamed to ``model`` in a future release, at which point use of ``build_fn`` will raise an Error instead.\n",
      "  X, y = self._initialize(X, y)\n"
     ]
    },
    {
     "name": "stdout",
     "output_type": "stream",
     "text": [
      "1130/1130 [==============================] - 1s 804us/steposs: 0.0056 - auc_4: 0.4945\n",
      " 1862/10169 [====>.........................] - ETA: 7s - loss: 0.0057 - auc_4: 0.4954"
     ]
    },
    {
     "name": "stderr",
     "output_type": "stream",
     "text": [
      "/Users/rem76/miniconda3/envs/GISP_init/lib/python3.10/site-packages/scikeras/wrappers.py:915: UserWarning: ``build_fn`` will be renamed to ``model`` in a future release, at which point use of ``build_fn`` will raise an Error instead.\n",
      "  X, y = self._initialize(X, y)\n"
     ]
    },
    {
     "name": "stdout",
     "output_type": "stream",
     "text": [
      "10169/10169 [==============================] - 9s 818us/step - loss: 0.0057 - auc_4: 0.4927\n",
      "10169/10169 [==============================] - 9s 826us/step - loss: 0.0057 - auc_4: 0.4940\n",
      "10169/10169 [==============================] - 9s 821us/step - loss: 0.0057 - auc_4: 0.4954\n",
      "10169/10169 [==============================] - 9s 813us/step - loss: 0.0057 - auc_4: 0.4949\n",
      "10169/10169 [==============================] - 9s 829us/step - loss: 0.0057 - auc_4: 0.4919\n",
      "10169/10169 [==============================] - 9s 833us/step - loss: 0.0057 - auc_4: 0.4944\n",
      "10169/10169 [==============================] - 9s 836us/step - loss: 0.0057 - auc_4: 0.4952\n",
      "1130/1130 [==============================] - 1s 478us/steposs: 0.0057 - auc_4: 0.4919\n",
      "1130/1130 [==============================] - 1s 419us/steposs: 0.0057 - auc_4: 0.49\n",
      "1130/1130 [==============================] - 1s 514us/steposs: 0.0057 - auc_4: 0.49\n",
      "1130/1130 [==============================] - 1s 501us/steposs: 0.0057 - auc_4: 0.49\n",
      "1130/1130 [==============================] - 1s 489us/step\n",
      "1130/1130 [==============================] - 1s 511us/steposs: 0.0057 - auc_4: 0.49\n",
      "1130/1130 [==============================] - 1s 460us/step\n",
      " 9148/10169 [=========================>....] - ETA: 0s - loss: 0.0057 - auc_4: 0.4938"
     ]
    },
    {
     "name": "stderr",
     "output_type": "stream",
     "text": [
      "/Users/rem76/miniconda3/envs/GISP_init/lib/python3.10/site-packages/scikeras/wrappers.py:915: UserWarning: ``build_fn`` will be renamed to ``model`` in a future release, at which point use of ``build_fn`` will raise an Error instead.\n",
      "  X, y = self._initialize(X, y)\n",
      "/Users/rem76/miniconda3/envs/GISP_init/lib/python3.10/site-packages/scikeras/wrappers.py:915: UserWarning: ``build_fn`` will be renamed to ``model`` in a future release, at which point use of ``build_fn`` will raise an Error instead.\n",
      "  X, y = self._initialize(X, y)\n",
      "/Users/rem76/miniconda3/envs/GISP_init/lib/python3.10/site-packages/scikeras/wrappers.py:915: UserWarning: ``build_fn`` will be renamed to ``model`` in a future release, at which point use of ``build_fn`` will raise an Error instead.\n",
      "  X, y = self._initialize(X, y)\n",
      "/Users/rem76/miniconda3/envs/GISP_init/lib/python3.10/site-packages/scikeras/wrappers.py:915: UserWarning: ``build_fn`` will be renamed to ``model`` in a future release, at which point use of ``build_fn`` will raise an Error instead.\n",
      "  X, y = self._initialize(X, y)\n",
      "/Users/rem76/miniconda3/envs/GISP_init/lib/python3.10/site-packages/scikeras/wrappers.py:915: UserWarning: ``build_fn`` will be renamed to ``model`` in a future release, at which point use of ``build_fn`` will raise an Error instead.\n",
      "  X, y = self._initialize(X, y)\n",
      "/Users/rem76/miniconda3/envs/GISP_init/lib/python3.10/site-packages/scikeras/wrappers.py:915: UserWarning: ``build_fn`` will be renamed to ``model`` in a future release, at which point use of ``build_fn`` will raise an Error instead.\n",
      "  X, y = self._initialize(X, y)\n"
     ]
    },
    {
     "name": "stdout",
     "output_type": "stream",
     "text": [
      "    1/10169 [..............................] - ETA: 42:27 - loss: 0.0063 - auc_5: 0.5000"
     ]
    },
    {
     "name": "stderr",
     "output_type": "stream",
     "text": [
      "/Users/rem76/miniconda3/envs/GISP_init/lib/python3.10/site-packages/scikeras/wrappers.py:915: UserWarning: ``build_fn`` will be renamed to ``model`` in a future release, at which point use of ``build_fn`` will raise an Error instead.\n",
      "  X, y = self._initialize(X, y)\n"
     ]
    },
    {
     "name": "stdout",
     "output_type": "stream",
     "text": [
      "10169/10169 [==============================] - 9s 780us/step - loss: 0.0057 - auc_4: 0.4937\n",
      "1130/1130 [==============================] - 1s 727us/steposs: 0.0057 - auc_5: 0.509\n",
      " 2294/10169 [=====>........................] - ETA: 7s - loss: 0.0057 - auc_5: 0.4923"
     ]
    },
    {
     "name": "stderr",
     "output_type": "stream",
     "text": [
      "/Users/rem76/miniconda3/envs/GISP_init/lib/python3.10/site-packages/scikeras/wrappers.py:915: UserWarning: ``build_fn`` will be renamed to ``model`` in a future release, at which point use of ``build_fn`` will raise an Error instead.\n",
      "  X, y = self._initialize(X, y)\n"
     ]
    },
    {
     "name": "stdout",
     "output_type": "stream",
     "text": [
      "10169/10169 [==============================] - 9s 832us/step - loss: 0.0057 - auc_5: 0.5001\n",
      "10169/10169 [==============================] - 9s 825us/step - loss: 0.0057 - auc_5: 0.4961\n",
      "10169/10169 [==============================] - 9s 828us/step - loss: 0.0057 - auc_5: 0.4947\n",
      "10169/10169 [==============================] - 9s 832us/step - loss: 0.0057 - auc_5: 0.4932\n",
      "10169/10169 [==============================] - 9s 848us/step - loss: 0.0057 - auc_5: 0.4993\n",
      "10169/10169 [==============================] - 9s 851us/step - loss: 0.0057 - auc_5: 0.4938\n",
      "10169/10169 [==============================] - 9s 836us/step - loss: 0.0057 - auc_5: 0.4963\n",
      "1130/1130 [==============================] - 1s 471us/steposs: 0.0057 - auc_5: 0.49\n",
      "1130/1130 [==============================] - 1s 524us/step\n",
      "1130/1130 [==============================] - 1s 531us/steposs: 0.0057 - auc_5: 0.49\n",
      "1130/1130 [==============================] - 1s 493us/steposs: 0.0057 - auc_5: 0.49\n",
      "1130/1130 [==============================] - 1s 509us/steposs: 0.0057 - auc_5: 0.49\n",
      "1130/1130 [==============================] - 1s 424us/step\n",
      "1130/1130 [==============================] - 1s 496us/step\n",
      " 7975/10169 [======================>.......] - ETA: 1s - loss: 0.0057 - auc_5: 0.4942"
     ]
    },
    {
     "name": "stderr",
     "output_type": "stream",
     "text": [
      "/Users/rem76/miniconda3/envs/GISP_init/lib/python3.10/site-packages/scikeras/wrappers.py:915: UserWarning: ``build_fn`` will be renamed to ``model`` in a future release, at which point use of ``build_fn`` will raise an Error instead.\n",
      "  X, y = self._initialize(X, y)\n",
      "/Users/rem76/miniconda3/envs/GISP_init/lib/python3.10/site-packages/scikeras/wrappers.py:915: UserWarning: ``build_fn`` will be renamed to ``model`` in a future release, at which point use of ``build_fn`` will raise an Error instead.\n",
      "  X, y = self._initialize(X, y)\n",
      "/Users/rem76/miniconda3/envs/GISP_init/lib/python3.10/site-packages/scikeras/wrappers.py:915: UserWarning: ``build_fn`` will be renamed to ``model`` in a future release, at which point use of ``build_fn`` will raise an Error instead.\n",
      "  X, y = self._initialize(X, y)\n",
      "/Users/rem76/miniconda3/envs/GISP_init/lib/python3.10/site-packages/scikeras/wrappers.py:915: UserWarning: ``build_fn`` will be renamed to ``model`` in a future release, at which point use of ``build_fn`` will raise an Error instead.\n",
      "  X, y = self._initialize(X, y)\n",
      "/Users/rem76/miniconda3/envs/GISP_init/lib/python3.10/site-packages/scikeras/wrappers.py:915: UserWarning: ``build_fn`` will be renamed to ``model`` in a future release, at which point use of ``build_fn`` will raise an Error instead.\n",
      "  X, y = self._initialize(X, y)\n",
      "/Users/rem76/miniconda3/envs/GISP_init/lib/python3.10/site-packages/scikeras/wrappers.py:915: UserWarning: ``build_fn`` will be renamed to ``model`` in a future release, at which point use of ``build_fn`` will raise an Error instead.\n",
      "  X, y = self._initialize(X, y)\n",
      "/Users/rem76/miniconda3/envs/GISP_init/lib/python3.10/site-packages/scikeras/wrappers.py:915: UserWarning: ``build_fn`` will be renamed to ``model`` in a future release, at which point use of ``build_fn`` will raise an Error instead.\n",
      "  X, y = self._initialize(X, y)\n"
     ]
    },
    {
     "name": "stdout",
     "output_type": "stream",
     "text": [
      "10169/10169 [==============================] - 9s 795us/step - loss: 0.0057 - auc_5: 0.4951\n",
      "1130/1130 [==============================] - 1s 976us/steposs: 0.0057 - auc_6: 0.503\n",
      " 3798/10169 [==========>...................] - ETA: 5s - loss: 0.0057 - auc_6: 0.4926"
     ]
    },
    {
     "name": "stderr",
     "output_type": "stream",
     "text": [
      "/Users/rem76/miniconda3/envs/GISP_init/lib/python3.10/site-packages/scikeras/wrappers.py:915: UserWarning: ``build_fn`` will be renamed to ``model`` in a future release, at which point use of ``build_fn`` will raise an Error instead.\n",
      "  X, y = self._initialize(X, y)\n"
     ]
    },
    {
     "name": "stdout",
     "output_type": "stream",
     "text": [
      "10169/10169 [==============================] - 8s 808us/step - loss: 0.0057 - auc_6: 0.4942\n",
      "10169/10169 [==============================] - 8s 805us/step - loss: 0.0057 - auc_6: 0.4937\n",
      "10169/10169 [==============================] - 9s 841us/step - loss: 0.0057 - auc_6: 0.4939\n",
      "10169/10169 [==============================] - 9s 838us/step - loss: 0.0057 - auc_6: 0.4987\n",
      "10169/10169 [==============================] - 9s 836us/step - loss: 0.0057 - auc_6: 0.4941\n",
      "10169/10169 [==============================] - 9s 846us/step - loss: 0.0057 - auc_6: 0.4947\n",
      "10169/10169 [==============================] - 9s 830us/step - loss: 0.0057 - auc_6: 0.4980\n",
      "1130/1130 [==============================] - 1s 578us/steposs: 0.0057 - auc_6: 0.49\n",
      "1130/1130 [==============================] - 1s 459us/steposs: 0.0057 - auc_6: 0.49\n",
      " 956/1130 [========================>.....] - ETA: 0s3s - loss: 0.0057 - auc_6: 0.49"
     ]
    },
    {
     "name": "stderr",
     "output_type": "stream",
     "text": [
      "/Users/rem76/miniconda3/envs/GISP_init/lib/python3.10/site-packages/scikeras/wrappers.py:915: UserWarning: ``build_fn`` will be renamed to ``model`` in a future release, at which point use of ``build_fn`` will raise an Error instead.\n",
      "  X, y = self._initialize(X, y)\n",
      "/Users/rem76/miniconda3/envs/GISP_init/lib/python3.10/site-packages/scikeras/wrappers.py:915: UserWarning: ``build_fn`` will be renamed to ``model`` in a future release, at which point use of ``build_fn`` will raise an Error instead.\n",
      "  X, y = self._initialize(X, y)\n"
     ]
    },
    {
     "name": "stdout",
     "output_type": "stream",
     "text": [
      "1130/1130 [==============================] - 1s 675us/steposs: 0.0057 - auc_6: 0.49\n",
      "1130/1130 [==============================] - 1s 693us/steposs: 0.0057 - auc_6: 0.49\n",
      "1130/1130 [==============================] - 1s 648us/steposs: 0.0057 - auc_6: 0.49\n",
      "1130/1130 [==============================] - 1s 536us/steposs: 0.0057 - auc_6: 0.49\n",
      "    1/10169 [..............................] - ETA: 53:34 - loss: 0.0057 - auc_7: 0.5000 "
     ]
    },
    {
     "name": "stderr",
     "output_type": "stream",
     "text": [
      "/Users/rem76/miniconda3/envs/GISP_init/lib/python3.10/site-packages/scikeras/wrappers.py:915: UserWarning: ``build_fn`` will be renamed to ``model`` in a future release, at which point use of ``build_fn`` will raise an Error instead.\n",
      "  X, y = self._initialize(X, y)\n",
      "/Users/rem76/miniconda3/envs/GISP_init/lib/python3.10/site-packages/scikeras/wrappers.py:915: UserWarning: ``build_fn`` will be renamed to ``model`` in a future release, at which point use of ``build_fn`` will raise an Error instead.\n",
      "  X, y = self._initialize(X, y)\n",
      "/Users/rem76/miniconda3/envs/GISP_init/lib/python3.10/site-packages/scikeras/wrappers.py:915: UserWarning: ``build_fn`` will be renamed to ``model`` in a future release, at which point use of ``build_fn`` will raise an Error instead.\n",
      "  X, y = self._initialize(X, y)\n"
     ]
    },
    {
     "name": "stdout",
     "output_type": "stream",
     "text": [
      "  468/10169 [>.............................] - ETA: 8s - loss: 0.0057 - auc_7: 0.51140 "
     ]
    },
    {
     "name": "stderr",
     "output_type": "stream",
     "text": [
      "/Users/rem76/miniconda3/envs/GISP_init/lib/python3.10/site-packages/scikeras/wrappers.py:915: UserWarning: ``build_fn`` will be renamed to ``model`` in a future release, at which point use of ``build_fn`` will raise an Error instead.\n",
      "  X, y = self._initialize(X, y)\n"
     ]
    },
    {
     "name": "stdout",
     "output_type": "stream",
     "text": [
      "1130/1130 [==============================] - 1s 573us/steposs: 0.0057 - auc_7: 0.5084 \n",
      " 9272/10169 [==========================>...] - ETA: 0s - loss: 0.0057 - auc_6: 0.4944"
     ]
    },
    {
     "name": "stderr",
     "output_type": "stream",
     "text": [
      "/Users/rem76/miniconda3/envs/GISP_init/lib/python3.10/site-packages/scikeras/wrappers.py:915: UserWarning: ``build_fn`` will be renamed to ``model`` in a future release, at which point use of ``build_fn`` will raise an Error instead.\n",
      "  X, y = self._initialize(X, y)\n"
     ]
    },
    {
     "name": "stdout",
     "output_type": "stream",
     "text": [
      "10169/10169 [==============================] - 9s 772us/step - loss: 0.0057 - auc_6: 0.4940\n",
      "1130/1130 [==============================] - 1s 645us/steposs: 0.0057 - auc_7: 0.4920  \n",
      " 4708/10169 [============>.................] - ETA: 4s - loss: 0.0057 - auc_7: 0.4905"
     ]
    },
    {
     "name": "stderr",
     "output_type": "stream",
     "text": [
      "/Users/rem76/miniconda3/envs/GISP_init/lib/python3.10/site-packages/scikeras/wrappers.py:915: UserWarning: ``build_fn`` will be renamed to ``model`` in a future release, at which point use of ``build_fn`` will raise an Error instead.\n",
      "  X, y = self._initialize(X, y)\n"
     ]
    },
    {
     "name": "stdout",
     "output_type": "stream",
     "text": [
      "10169/10169 [==============================] - 8s 776us/step - loss: 0.0057 - auc_7: 0.4940\n",
      "10169/10169 [==============================] - 8s 791us/step - loss: 0.0057 - auc_7: 0.4921\n",
      "10169/10169 [==============================] - 8s 780us/step - loss: 0.0057 - auc_7: 0.4998\n",
      "10169/10169 [==============================] - 8s 782us/step - loss: 0.0057 - auc_7: 0.4942\n",
      "10169/10169 [==============================] - 8s 787us/step - loss: 0.0057 - auc_7: 0.4929\n",
      "10169/10169 [==============================] - 8s 769us/step - loss: 0.0057 - auc_7: 0.4993\n",
      "1130/1130 [==============================] - 1s 533us/steposs: 0.0057 - auc_7: 0.4937\n",
      "1130/1130 [==============================] - 1s 537us/steposs: 0.0057 - auc_7: 0.49\n",
      "1130/1130 [==============================] - 1s 521us/steposs: 0.0057 - auc_7: 0.49\n",
      "1130/1130 [==============================] - 1s 531us/step\n",
      "1130/1130 [==============================] - 1s 481us/step\n",
      "1130/1130 [==============================] - 1s 541us/steposs: 0.0057 - auc_7: 0.493\n",
      " 5636/10169 [===============>..............] - ETA: 3s - loss: 0.0057 - auc_7: 0.4948"
     ]
    },
    {
     "name": "stderr",
     "output_type": "stream",
     "text": [
      "/Users/rem76/miniconda3/envs/GISP_init/lib/python3.10/site-packages/scikeras/wrappers.py:915: UserWarning: ``build_fn`` will be renamed to ``model`` in a future release, at which point use of ``build_fn`` will raise an Error instead.\n",
      "  X, y = self._initialize(X, y)\n",
      "/Users/rem76/miniconda3/envs/GISP_init/lib/python3.10/site-packages/scikeras/wrappers.py:915: UserWarning: ``build_fn`` will be renamed to ``model`` in a future release, at which point use of ``build_fn`` will raise an Error instead.\n",
      "  X, y = self._initialize(X, y)\n"
     ]
    },
    {
     "name": "stdout",
     "output_type": "stream",
     "text": [
      " 6079/10169 [================>.............] - ETA: 2s - loss: 0.0057 - auc_7: 0.4944"
     ]
    },
    {
     "name": "stderr",
     "output_type": "stream",
     "text": [
      "/Users/rem76/miniconda3/envs/GISP_init/lib/python3.10/site-packages/scikeras/wrappers.py:915: UserWarning: ``build_fn`` will be renamed to ``model`` in a future release, at which point use of ``build_fn`` will raise an Error instead.\n",
      "  X, y = self._initialize(X, y)\n",
      "/Users/rem76/miniconda3/envs/GISP_init/lib/python3.10/site-packages/scikeras/wrappers.py:915: UserWarning: ``build_fn`` will be renamed to ``model`` in a future release, at which point use of ``build_fn`` will raise an Error instead.\n",
      "  X, y = self._initialize(X, y)\n",
      "/Users/rem76/miniconda3/envs/GISP_init/lib/python3.10/site-packages/scikeras/wrappers.py:915: UserWarning: ``build_fn`` will be renamed to ``model`` in a future release, at which point use of ``build_fn`` will raise an Error instead.\n",
      "  X, y = self._initialize(X, y)\n"
     ]
    },
    {
     "name": "stdout",
     "output_type": "stream",
     "text": [
      "  145/10169 [..............................] - ETA: 10s - loss: 0.0057 - auc_8: 0.5000 "
     ]
    },
    {
     "name": "stderr",
     "output_type": "stream",
     "text": [
      "/Users/rem76/miniconda3/envs/GISP_init/lib/python3.10/site-packages/scikeras/wrappers.py:915: UserWarning: ``build_fn`` will be renamed to ``model`` in a future release, at which point use of ``build_fn`` will raise an Error instead.\n",
      "  X, y = self._initialize(X, y)\n"
     ]
    },
    {
     "name": "stdout",
     "output_type": "stream",
     "text": [
      "10169/10169 [==============================] - 8s 744us/step - loss: 0.0057 - auc_7: 0.4928\n",
      "1130/1130 [==============================] - 1s 648us/steposs: 0.0057 - auc_8: 0.4913\n",
      " 3366/10169 [========>.....................] - ETA: 5s - loss: 0.0056 - auc_8: 0.4935"
     ]
    },
    {
     "name": "stderr",
     "output_type": "stream",
     "text": [
      "/Users/rem76/miniconda3/envs/GISP_init/lib/python3.10/site-packages/scikeras/wrappers.py:915: UserWarning: ``build_fn`` will be renamed to ``model`` in a future release, at which point use of ``build_fn`` will raise an Error instead.\n",
      "  X, y = self._initialize(X, y)\n"
     ]
    },
    {
     "name": "stdout",
     "output_type": "stream",
     "text": [
      "10169/10169 [==============================] - 8s 727us/step - loss: 0.0057 - auc_7: 0.4956\n",
      "1130/1130 [==============================] - 1s 623us/steposs: 0.0057 - auc_8: 0.49290 \n",
      " 5566/10169 [===============>..............] - ETA: 3s - loss: 0.0057 - auc_8: 0.4939"
     ]
    },
    {
     "name": "stderr",
     "output_type": "stream",
     "text": [
      "/Users/rem76/miniconda3/envs/GISP_init/lib/python3.10/site-packages/scikeras/wrappers.py:915: UserWarning: ``build_fn`` will be renamed to ``model`` in a future release, at which point use of ``build_fn`` will raise an Error instead.\n",
      "  X, y = self._initialize(X, y)\n"
     ]
    },
    {
     "name": "stdout",
     "output_type": "stream",
     "text": [
      "10169/10169 [==============================] - 8s 774us/step - loss: 0.0057 - auc_8: 0.4937\n",
      "10169/10169 [==============================] - 8s 779us/step - loss: 0.0057 - auc_8: 0.4952\n",
      "10169/10169 [==============================] - 8s 776us/step - loss: 0.0057 - auc_8: 0.4939\n",
      "10169/10169 [==============================] - 8s 783us/step - loss: 0.0057 - auc_8: 0.4948\n",
      "10169/10169 [==============================] - 8s 789us/step - loss: 0.0057 - auc_8: 0.4950\n",
      "1130/1130 [==============================] - 1s 514us/steposs: 0.0057 - auc_8: 0.498\n",
      "10169/10169 [==============================] - 8s 747us/step - loss: 0.0057 - auc_8: 0.4943\n",
      "1130/1130 [==============================] - 1s 598us/steposs: 0.0057 - auc_8: 0.494\n",
      "1130/1130 [==============================] - 1s 556us/steposs: 0.0057 - auc_8: 0.494\n",
      "1130/1130 [==============================] - 1s 518us/steposs: 0.0057 - auc_8: 0.493\n",
      "1130/1130 [==============================] - 1s 542us/steposs: 0.0057 - auc_8: 0.493\n",
      "1130/1130 [==============================] - 0s 321us/steposs: 0.0057 - auc_8: 0.491\n",
      " 8227/10169 [=======================>......] - ETA: 1s - loss: 0.0057 - auc_8: 0.4994"
     ]
    },
    {
     "name": "stderr",
     "output_type": "stream",
     "text": [
      "/Users/rem76/miniconda3/envs/GISP_init/lib/python3.10/site-packages/scikeras/wrappers.py:915: UserWarning: ``build_fn`` will be renamed to ``model`` in a future release, at which point use of ``build_fn`` will raise an Error instead.\n",
      "  X, y = self._initialize(X, y)\n",
      "/Users/rem76/miniconda3/envs/GISP_init/lib/python3.10/site-packages/scikeras/wrappers.py:915: UserWarning: ``build_fn`` will be renamed to ``model`` in a future release, at which point use of ``build_fn`` will raise an Error instead.\n",
      "  X, y = self._initialize(X, y)\n",
      "/Users/rem76/miniconda3/envs/GISP_init/lib/python3.10/site-packages/scikeras/wrappers.py:915: UserWarning: ``build_fn`` will be renamed to ``model`` in a future release, at which point use of ``build_fn`` will raise an Error instead.\n",
      "  X, y = self._initialize(X, y)\n",
      "/Users/rem76/miniconda3/envs/GISP_init/lib/python3.10/site-packages/scikeras/wrappers.py:915: UserWarning: ``build_fn`` will be renamed to ``model`` in a future release, at which point use of ``build_fn`` will raise an Error instead.\n",
      "  X, y = self._initialize(X, y)\n",
      "/Users/rem76/miniconda3/envs/GISP_init/lib/python3.10/site-packages/scikeras/wrappers.py:915: UserWarning: ``build_fn`` will be renamed to ``model`` in a future release, at which point use of ``build_fn`` will raise an Error instead.\n",
      "  X, y = self._initialize(X, y)\n"
     ]
    },
    {
     "name": "stdout",
     "output_type": "stream",
     "text": [
      "   62/10169 [..............................] - ETA: 17s - loss: 0.0056 - auc_9: 0.5000 0"
     ]
    },
    {
     "name": "stderr",
     "output_type": "stream",
     "text": [
      "/Users/rem76/miniconda3/envs/GISP_init/lib/python3.10/site-packages/scikeras/wrappers.py:915: UserWarning: ``build_fn`` will be renamed to ``model`` in a future release, at which point use of ``build_fn`` will raise an Error instead.\n",
      "  X, y = self._initialize(X, y)\n"
     ]
    },
    {
     "name": "stdout",
     "output_type": "stream",
     "text": [
      "10169/10169 [==============================] - 8s 737us/step - loss: 0.0057 - auc_8: 0.4984\n",
      "1130/1130 [==============================] - 1s 618us/steposs: 0.0056 - auc_9: 0.493\n",
      " 2720/10169 [=======>......................] - ETA: 5s - loss: 0.0057 - auc_9: 0.4897"
     ]
    },
    {
     "name": "stderr",
     "output_type": "stream",
     "text": [
      "/Users/rem76/miniconda3/envs/GISP_init/lib/python3.10/site-packages/scikeras/wrappers.py:915: UserWarning: ``build_fn`` will be renamed to ``model`` in a future release, at which point use of ``build_fn`` will raise an Error instead.\n",
      "  X, y = self._initialize(X, y)\n"
     ]
    },
    {
     "name": "stdout",
     "output_type": "stream",
     "text": [
      "10169/10169 [==============================] - 8s 754us/step - loss: 0.0057 - auc_8: 0.4997\n",
      "1130/1130 [==============================] - 1s 561us/steposs: 0.0057 - auc_9: 0.495\n",
      " 9811/10169 [===========================>..] - ETA: 0s - loss: 0.0057 - auc_9: 0.4927"
     ]
    },
    {
     "name": "stderr",
     "output_type": "stream",
     "text": [
      "/Users/rem76/miniconda3/envs/GISP_init/lib/python3.10/site-packages/scikeras/wrappers.py:915: UserWarning: ``build_fn`` will be renamed to ``model`` in a future release, at which point use of ``build_fn`` will raise an Error instead.\n",
      "  X, y = self._initialize(X, y)\n"
     ]
    },
    {
     "name": "stdout",
     "output_type": "stream",
     "text": [
      "10169/10169 [==============================] - 8s 746us/step - loss: 0.0057 - auc_9: 0.4924\n",
      "10169/10169 [==============================] - 8s 762us/step - loss: 0.0057 - auc_9: 0.4953\n",
      "10169/10169 [==============================] - 8s 758us/step - loss: 0.0057 - auc_9: 0.4934\n",
      "10169/10169 [==============================] - 8s 763us/step - loss: 0.0057 - auc_9: 0.4956\n",
      "10169/10169 [==============================] - 8s 753us/step - loss: 0.0057 - auc_9: 0.4933\n",
      "1130/1130 [==============================] - 1s 498us/steposs: 0.0057 - auc_9: 0.49\n",
      "1130/1130 [==============================] - 1s 523us/steposs: 0.0057 - auc_9: 0.49\n",
      "10169/10169 [==============================] - 8s 729us/step - loss: 0.0057 - auc_9: 0.4928\n",
      "1130/1130 [==============================] - 1s 555us/steposs: 0.0057 - auc_9: 0.5000   \n",
      "1130/1130 [==============================] - 1s 534us/steposs: 0.0057 - auc_9: 0.49\n",
      "1130/1130 [==============================] - 1s 497us/steposs: 0.0057 - auc_9: 0.48\n",
      " 1042/10169 [==>...........................] - ETA: 4s - loss: 0.0057 - auc_9: 0.4962"
     ]
    },
    {
     "name": "stderr",
     "output_type": "stream",
     "text": [
      "/Users/rem76/miniconda3/envs/GISP_init/lib/python3.10/site-packages/scikeras/wrappers.py:915: UserWarning: ``build_fn`` will be renamed to ``model`` in a future release, at which point use of ``build_fn`` will raise an Error instead.\n",
      "  X, y = self._initialize(X, y)\n",
      "/Users/rem76/miniconda3/envs/GISP_init/lib/python3.10/site-packages/scikeras/wrappers.py:915: UserWarning: ``build_fn`` will be renamed to ``model`` in a future release, at which point use of ``build_fn`` will raise an Error instead.\n",
      "  X, y = self._initialize(X, y)\n",
      "/Users/rem76/miniconda3/envs/GISP_init/lib/python3.10/site-packages/scikeras/wrappers.py:915: UserWarning: ``build_fn`` will be renamed to ``model`` in a future release, at which point use of ``build_fn`` will raise an Error instead.\n",
      "  X, y = self._initialize(X, y)\n",
      "/Users/rem76/miniconda3/envs/GISP_init/lib/python3.10/site-packages/scikeras/wrappers.py:915: UserWarning: ``build_fn`` will be renamed to ``model`` in a future release, at which point use of ``build_fn`` will raise an Error instead.\n",
      "  X, y = self._initialize(X, y)\n"
     ]
    },
    {
     "name": "stdout",
     "output_type": "stream",
     "text": [
      "1130/1130 [==============================] - 1s 393us/steposs: 0.0057 - auc_9: 0.494\n",
      " 1850/10169 [====>.........................] - ETA: 4s - loss: 0.0057 - auc_9: 0.4965"
     ]
    },
    {
     "name": "stderr",
     "output_type": "stream",
     "text": [
      "/Users/rem76/miniconda3/envs/GISP_init/lib/python3.10/site-packages/scikeras/wrappers.py:915: UserWarning: ``build_fn`` will be renamed to ``model`` in a future release, at which point use of ``build_fn`` will raise an Error instead.\n",
      "  X, y = self._initialize(X, y)\n",
      "/Users/rem76/miniconda3/envs/GISP_init/lib/python3.10/site-packages/scikeras/wrappers.py:915: UserWarning: ``build_fn`` will be renamed to ``model`` in a future release, at which point use of ``build_fn`` will raise an Error instead.\n",
      "  X, y = self._initialize(X, y)\n"
     ]
    },
    {
     "name": "stdout",
     "output_type": "stream",
     "text": [
      "10169/10169 [==============================] - 8s 690us/step - loss: 0.0057 - auc_9: 0.4947\n",
      "1130/1130 [==============================] - 1s 593us/steposs: 0.0057 - auc_10: 0.49\n",
      " 3762/10169 [==========>...................] - ETA: 4s - loss: 0.0057 - auc_10: 0.4934"
     ]
    },
    {
     "name": "stderr",
     "output_type": "stream",
     "text": [
      "/Users/rem76/miniconda3/envs/GISP_init/lib/python3.10/site-packages/scikeras/wrappers.py:915: UserWarning: ``build_fn`` will be renamed to ``model`` in a future release, at which point use of ``build_fn`` will raise an Error instead.\n",
      "  X, y = self._initialize(X, y)\n"
     ]
    },
    {
     "name": "stdout",
     "output_type": "stream",
     "text": [
      "10169/10169 [==============================] - 8s 748us/step - loss: 0.0057 - auc_9: 0.4955\n",
      "1130/1130 [==============================] - 1s 562us/steposs: 0.0057 - auc_10: 0.49\n",
      "10169/10169 [==============================] - 8s 782us/step - loss: 0.0057 - auc_10: 0.4947\n",
      "10169/10169 [==============================] - 8s 791us/step - loss: 0.0057 - auc_10: 0.5002\n"
     ]
    },
    {
     "name": "stderr",
     "output_type": "stream",
     "text": [
      "/Users/rem76/miniconda3/envs/GISP_init/lib/python3.10/site-packages/scikeras/wrappers.py:915: UserWarning: ``build_fn`` will be renamed to ``model`` in a future release, at which point use of ``build_fn`` will raise an Error instead.\n",
      "  X, y = self._initialize(X, y)\n"
     ]
    },
    {
     "name": "stdout",
     "output_type": "stream",
     "text": [
      "10169/10169 [==============================] - 8s 791us/step - loss: 0.0057 - auc_10: 0.4947\n",
      "10169/10169 [==============================] - 9s 792us/step - loss: 0.0057 - auc_10: 0.4937\n",
      "10169/10169 [==============================] - 9s 799us/step - loss: 0.0057 - auc_10: 0.5006\n",
      "10169/10169 [==============================] - 9s 791us/step - loss: 0.0057 - auc_10: 0.4949\n",
      "1130/1130 [==============================] - 1s 525us/step4 - loss: 0.0053 - auc_10: 0.50\n",
      "1130/1130 [==============================] - 1s 560us/steploss: 0.0057 - auc_10: 0.5000  \n",
      "1130/1130 [==============================] - 1s 560us/steposs: 0.0057 - auc_10: 0.49\n",
      "1130/1130 [==============================] - 1s 569us/steposs: 0.0056 - auc_10: 0.500\n",
      "1130/1130 [==============================] - 1s 567us/step\n",
      "1130/1130 [==============================] - 0s 332us/steposs: 0.0057 - auc_10: 0.49\n",
      " 7050/10169 [===================>..........] - ETA: 2s - loss: 0.0057 - auc_10: 0.4950"
     ]
    },
    {
     "name": "stderr",
     "output_type": "stream",
     "text": [
      "/Users/rem76/miniconda3/envs/GISP_init/lib/python3.10/site-packages/scikeras/wrappers.py:915: UserWarning: ``build_fn`` will be renamed to ``model`` in a future release, at which point use of ``build_fn`` will raise an Error instead.\n",
      "  X, y = self._initialize(X, y)\n",
      "/Users/rem76/miniconda3/envs/GISP_init/lib/python3.10/site-packages/scikeras/wrappers.py:915: UserWarning: ``build_fn`` will be renamed to ``model`` in a future release, at which point use of ``build_fn`` will raise an Error instead.\n",
      "  X, y = self._initialize(X, y)\n",
      "/Users/rem76/miniconda3/envs/GISP_init/lib/python3.10/site-packages/scikeras/wrappers.py:915: UserWarning: ``build_fn`` will be renamed to ``model`` in a future release, at which point use of ``build_fn`` will raise an Error instead.\n",
      "  X, y = self._initialize(X, y)\n",
      "/Users/rem76/miniconda3/envs/GISP_init/lib/python3.10/site-packages/scikeras/wrappers.py:915: UserWarning: ``build_fn`` will be renamed to ``model`` in a future release, at which point use of ``build_fn`` will raise an Error instead.\n",
      "  X, y = self._initialize(X, y)\n"
     ]
    },
    {
     "name": "stdout",
     "output_type": "stream",
     "text": [
      " 1235/10169 [==>...........................] - ETA: 5s - loss: 0.0056 - auc_10: 0.503200 "
     ]
    },
    {
     "name": "stderr",
     "output_type": "stream",
     "text": [
      "/Users/rem76/miniconda3/envs/GISP_init/lib/python3.10/site-packages/scikeras/wrappers.py:915: UserWarning: ``build_fn`` will be renamed to ``model`` in a future release, at which point use of ``build_fn`` will raise an Error instead.\n",
      "  X, y = self._initialize(X, y)\n",
      "/Users/rem76/miniconda3/envs/GISP_init/lib/python3.10/site-packages/scikeras/wrappers.py:915: UserWarning: ``build_fn`` will be renamed to ``model`` in a future release, at which point use of ``build_fn`` will raise an Error instead.\n",
      "  X, y = self._initialize(X, y)\n"
     ]
    },
    {
     "name": "stdout",
     "output_type": "stream",
     "text": [
      "10169/10169 [==============================] - 9s 771us/step - loss: 0.0057 - auc_10: 0.4944\n",
      "1130/1130 [==============================] - 1s 687us/steposs: 0.0057 - auc_11: 0.49\n",
      " 4972/10169 [=============>................] - ETA: 4s - loss: 0.0057 - auc_11: 0.4982"
     ]
    },
    {
     "name": "stderr",
     "output_type": "stream",
     "text": [
      "/Users/rem76/miniconda3/envs/GISP_init/lib/python3.10/site-packages/scikeras/wrappers.py:915: UserWarning: ``build_fn`` will be renamed to ``model`` in a future release, at which point use of ``build_fn`` will raise an Error instead.\n",
      "  X, y = self._initialize(X, y)\n"
     ]
    },
    {
     "name": "stdout",
     "output_type": "stream",
     "text": [
      "10169/10169 [==============================] - 8s 757us/step - loss: 0.0057 - auc_10: 0.4961\n",
      "10169/10169 [==============================] - 8s 751us/step - loss: 0.0057 - auc_11: 0.4994\n",
      "10169/10169 [==============================] - 8s 773us/step - loss: 0.0057 - auc_11: 0.4923\n",
      "10169/10169 [==============================] - 8s 777us/step - loss: 0.0057 - auc_11: 0.4962\n",
      "10169/10169 [==============================] - 8s 776us/step - loss: 0.0057 - auc_11: 0.4990\n",
      "10169/10169 [==============================] - 8s 756us/step - loss: 0.0057 - auc_11: 0.4945\n",
      "1130/1130 [==============================] - 1s 480us/steposs: 0.0057 - auc_11: 0.49\n",
      "1130/1130 [==============================] - 1s 572us/steposs: 0.0057 - auc_11: 0.49\n",
      "10169/10169 [==============================] - 8s 750us/step - loss: 0.0057 - auc_11: 0.4961\n",
      "1130/1130 [==============================] - 1s 550us/step\n",
      "1130/1130 [==============================] - 1s 553us/step\n",
      "1130/1130 [==============================] - 0s 302us/steposs: 0.0057 - auc_11: 0.49\n",
      "1130/1130 [==============================] - 0s 343us/steposs: 0.0057 - auc_11: 0.49\n"
     ]
    },
    {
     "name": "stderr",
     "output_type": "stream",
     "text": [
      "/Users/rem76/miniconda3/envs/GISP_init/lib/python3.10/site-packages/scikeras/wrappers.py:915: UserWarning: ``build_fn`` will be renamed to ``model`` in a future release, at which point use of ``build_fn`` will raise an Error instead.\n",
      "  X, y = self._initialize(X, y)\n",
      "/Users/rem76/miniconda3/envs/GISP_init/lib/python3.10/site-packages/scikeras/wrappers.py:915: UserWarning: ``build_fn`` will be renamed to ``model`` in a future release, at which point use of ``build_fn`` will raise an Error instead.\n",
      "  X, y = self._initialize(X, y)\n",
      "/Users/rem76/miniconda3/envs/GISP_init/lib/python3.10/site-packages/scikeras/wrappers.py:915: UserWarning: ``build_fn`` will be renamed to ``model`` in a future release, at which point use of ``build_fn`` will raise an Error instead.\n",
      "  X, y = self._initialize(X, y)\n"
     ]
    },
    {
     "name": "stdout",
     "output_type": "stream",
     "text": [
      " 6129/10169 [=================>............] - ETA: 2s - loss: 0.0057 - auc_11: 0.4952"
     ]
    },
    {
     "name": "stderr",
     "output_type": "stream",
     "text": [
      "/Users/rem76/miniconda3/envs/GISP_init/lib/python3.10/site-packages/scikeras/wrappers.py:915: UserWarning: ``build_fn`` will be renamed to ``model`` in a future release, at which point use of ``build_fn`` will raise an Error instead.\n",
      "  X, y = self._initialize(X, y)\n",
      "/Users/rem76/miniconda3/envs/GISP_init/lib/python3.10/site-packages/scikeras/wrappers.py:915: UserWarning: ``build_fn`` will be renamed to ``model`` in a future release, at which point use of ``build_fn`` will raise an Error instead.\n",
      "  X, y = self._initialize(X, y)\n",
      "/Users/rem76/miniconda3/envs/GISP_init/lib/python3.10/site-packages/scikeras/wrappers.py:915: UserWarning: ``build_fn`` will be renamed to ``model`` in a future release, at which point use of ``build_fn`` will raise an Error instead.\n",
      "  X, y = self._initialize(X, y)\n"
     ]
    },
    {
     "name": "stdout",
     "output_type": "stream",
     "text": [
      "1130/1130 [==============================] - 1s 500us/steposs: 0.0057 - auc_12: 0.49\n",
      " 2298/10169 [=====>........................] - ETA: 6s - loss: 0.0057 - auc_12: 0.4930"
     ]
    },
    {
     "name": "stderr",
     "output_type": "stream",
     "text": [
      "/Users/rem76/miniconda3/envs/GISP_init/lib/python3.10/site-packages/scikeras/wrappers.py:915: UserWarning: ``build_fn`` will be renamed to ``model`` in a future release, at which point use of ``build_fn`` will raise an Error instead.\n",
      "  X, y = self._initialize(X, y)\n"
     ]
    },
    {
     "name": "stdout",
     "output_type": "stream",
     "text": [
      "10169/10169 [==============================] - 8s 744us/step - loss: 0.0057 - auc_11: 0.4964\n",
      "1130/1130 [==============================] - 1s 631us/steposs: 0.0057 - auc_12: 0.49\n",
      "5085/5085 [==============================] - 4s 798us/step - loss: 0.0057 - auc_12: 0.4992\n",
      "2723/5085 [===============>..............] - ETA: 1s - loss: 0.0057 - auc_11: 0.499614"
     ]
    },
    {
     "name": "stderr",
     "output_type": "stream",
     "text": [
      "/Users/rem76/miniconda3/envs/GISP_init/lib/python3.10/site-packages/scikeras/wrappers.py:915: UserWarning: ``build_fn`` will be renamed to ``model`` in a future release, at which point use of ``build_fn`` will raise an Error instead.\n",
      "  X, y = self._initialize(X, y)\n"
     ]
    },
    {
     "name": "stdout",
     "output_type": "stream",
     "text": [
      "565/565 [==============================] - 1s 1ms/step - loss: 0.0057 - auc_12: 0.49\n",
      " 7005/10169 [===================>..........] - ETA: 2s - loss: 0.0057 - auc_12: 0.4962"
     ]
    },
    {
     "name": "stderr",
     "output_type": "stream",
     "text": [
      "/Users/rem76/miniconda3/envs/GISP_init/lib/python3.10/site-packages/scikeras/wrappers.py:915: UserWarning: ``build_fn`` will be renamed to ``model`` in a future release, at which point use of ``build_fn`` will raise an Error instead.\n",
      "  X, y = self._initialize(X, y)\n"
     ]
    },
    {
     "name": "stdout",
     "output_type": "stream",
     "text": [
      "5085/5085 [==============================] - 5s 878us/step - loss: 0.0057 - auc_11: 0.4978\n",
      "565/565 [==============================] - 0s 684us/steposs: 0.0057 - auc_12: 0.4949\n",
      " 9781/10169 [===========================>..] - ETA: 0s - loss: 0.0057 - auc_12: 0.4954"
     ]
    },
    {
     "name": "stderr",
     "output_type": "stream",
     "text": [
      "/Users/rem76/miniconda3/envs/GISP_init/lib/python3.10/site-packages/scikeras/wrappers.py:915: UserWarning: ``build_fn`` will be renamed to ``model`` in a future release, at which point use of ``build_fn`` will raise an Error instead.\n",
      "  X, y = self._initialize(X, y)\n"
     ]
    },
    {
     "name": "stdout",
     "output_type": "stream",
     "text": [
      "10169/10169 [==============================] - 8s 804us/step - loss: 0.0057 - auc_12: 0.4960\n",
      "10169/10169 [==============================] - 8s 804us/step - loss: 0.0057 - auc_12: 0.4957\n",
      "10169/10169 [==============================] - 8s 806us/step - loss: 0.0057 - auc_12: 0.4960\n",
      "10169/10169 [==============================] - 8s 809us/step - loss: 0.0057 - auc_12: 0.4921\n",
      "10169/10169 [==============================] - 8s 805us/step - loss: 0.0057 - auc_12: 0.4958\n",
      "1130/1130 [==============================] - 0s 373us/steps: 0.0057 - auc_12: 0.498\n",
      "1130/1130 [==============================] - 1s 589us/steps: 0.0057 - auc_12: 0.49\n",
      "1130/1130 [==============================] - 1s 592us/steps: 0.0057 - auc_12: 0.49\n",
      "1130/1130 [==============================] - 1s 544us/steps: 0.0057 - auc_13: 0.49\n",
      "4486/5085 [=========================>....] - ETA: 0s - loss: 0.0057 - auc_12: 0.4959"
     ]
    },
    {
     "name": "stderr",
     "output_type": "stream",
     "text": [
      "/Users/rem76/miniconda3/envs/GISP_init/lib/python3.10/site-packages/scikeras/wrappers.py:915: UserWarning: ``build_fn`` will be renamed to ``model`` in a future release, at which point use of ``build_fn`` will raise an Error instead.\n",
      "  X, y = self._initialize(X, y)\n",
      "/Users/rem76/miniconda3/envs/GISP_init/lib/python3.10/site-packages/scikeras/wrappers.py:915: UserWarning: ``build_fn`` will be renamed to ``model`` in a future release, at which point use of ``build_fn`` will raise an Error instead.\n",
      "  X, y = self._initialize(X, y)\n",
      "/Users/rem76/miniconda3/envs/GISP_init/lib/python3.10/site-packages/scikeras/wrappers.py:915: UserWarning: ``build_fn`` will be renamed to ``model`` in a future release, at which point use of ``build_fn`` will raise an Error instead.\n",
      "  X, y = self._initialize(X, y)\n"
     ]
    },
    {
     "name": "stdout",
     "output_type": "stream",
     "text": [
      "3743/5085 [=====================>........] - ETA: 0s - loss: 0.0057 - auc_13: 0.4951"
     ]
    },
    {
     "name": "stderr",
     "output_type": "stream",
     "text": [
      "/Users/rem76/miniconda3/envs/GISP_init/lib/python3.10/site-packages/scikeras/wrappers.py:915: UserWarning: ``build_fn`` will be renamed to ``model`` in a future release, at which point use of ``build_fn`` will raise an Error instead.\n",
      "  X, y = self._initialize(X, y)\n"
     ]
    },
    {
     "name": "stdout",
     "output_type": "stream",
     "text": [
      "5085/5085 [==============================] - 5s 725us/step - loss: 0.0057 - auc_12: 0.4966\n",
      "565/565 [==============================] - 0s 507us/steposs: 0.0057 - auc_13: 0.492\n",
      "5085/5085 [==============================] - 4s 729us/step - loss: 0.0057 - auc_13: 0.4960\n",
      "1321/5085 [======>.......................] - ETA: 2s - loss: 0.0057 - auc_13: 0.4962"
     ]
    },
    {
     "name": "stderr",
     "output_type": "stream",
     "text": [
      "/Users/rem76/miniconda3/envs/GISP_init/lib/python3.10/site-packages/scikeras/wrappers.py:915: UserWarning: ``build_fn`` will be renamed to ``model`` in a future release, at which point use of ``build_fn`` will raise an Error instead.\n",
      "  X, y = self._initialize(X, y)\n"
     ]
    },
    {
     "name": "stdout",
     "output_type": "stream",
     "text": [
      "1130/1130 [==============================] - 1s 462us/steps: 0.0057 - auc_13: 0.49\n",
      "565/565 [==============================] - 0s 532us/steposs: 0.0057 - auc_13: 0.49\n",
      "2125/5085 [===========>..................] - ETA: 2s - loss: 0.0057 - auc_13: 0.4931"
     ]
    },
    {
     "name": "stderr",
     "output_type": "stream",
     "text": [
      "/Users/rem76/miniconda3/envs/GISP_init/lib/python3.10/site-packages/scikeras/wrappers.py:915: UserWarning: ``build_fn`` will be renamed to ``model`` in a future release, at which point use of ``build_fn`` will raise an Error instead.\n",
      "  X, y = self._initialize(X, y)\n",
      "/Users/rem76/miniconda3/envs/GISP_init/lib/python3.10/site-packages/scikeras/wrappers.py:915: UserWarning: ``build_fn`` will be renamed to ``model`` in a future release, at which point use of ``build_fn`` will raise an Error instead.\n",
      "  X, y = self._initialize(X, y)\n"
     ]
    },
    {
     "name": "stdout",
     "output_type": "stream",
     "text": [
      "5085/5085 [==============================] - 4s 700us/step - loss: 0.0057 - auc_12: 0.4957\n",
      "565/565 [==============================] - 0s 616us/steposs: 0.0057 - auc_13: 0.49\n",
      "2253/5085 [============>.................] - ETA: 1s - loss: 0.0057 - auc_13: 0.4955"
     ]
    },
    {
     "name": "stderr",
     "output_type": "stream",
     "text": [
      "/Users/rem76/miniconda3/envs/GISP_init/lib/python3.10/site-packages/scikeras/wrappers.py:915: UserWarning: ``build_fn`` will be renamed to ``model`` in a future release, at which point use of ``build_fn`` will raise an Error instead.\n",
      "  X, y = self._initialize(X, y)\n"
     ]
    },
    {
     "name": "stdout",
     "output_type": "stream",
     "text": [
      "5085/5085 [==============================] - 4s 677us/step - loss: 0.0057 - auc_13: 0.4964\n",
      "5085/5085 [==============================] - 4s 680us/step - loss: 0.0057 - auc_13: 0.4969\n",
      "5085/5085 [==============================] - 4s 691us/step - loss: 0.0057 - auc_13: 0.4957\n",
      "5085/5085 [==============================] - 4s 686us/step - loss: 0.0057 - auc_13: 0.4970\n",
      "565/565 [==============================] - 0s 552us/steposs: 0.0057 - auc_13: 0.50\n",
      "565/565 [==============================] - 0s 563us/steposs: 0.0057 - auc_13: 0.49\n",
      "565/565 [==============================] - 0s 501us/steposs: 0.0057 - auc_13: 0.5019\n",
      "565/565 [==============================] - 0s 377us/steposs: 0.0056 - auc_13: 0.50\n",
      "2605/5085 [==============>...............] - ETA: 1s - loss: 0.0056 - auc_13: 0.49940"
     ]
    },
    {
     "name": "stderr",
     "output_type": "stream",
     "text": [
      "/Users/rem76/miniconda3/envs/GISP_init/lib/python3.10/site-packages/scikeras/wrappers.py:915: UserWarning: ``build_fn`` will be renamed to ``model`` in a future release, at which point use of ``build_fn`` will raise an Error instead.\n",
      "  X, y = self._initialize(X, y)\n",
      "/Users/rem76/miniconda3/envs/GISP_init/lib/python3.10/site-packages/scikeras/wrappers.py:915: UserWarning: ``build_fn`` will be renamed to ``model`` in a future release, at which point use of ``build_fn`` will raise an Error instead.\n",
      "  X, y = self._initialize(X, y)\n",
      "/Users/rem76/miniconda3/envs/GISP_init/lib/python3.10/site-packages/scikeras/wrappers.py:915: UserWarning: ``build_fn`` will be renamed to ``model`` in a future release, at which point use of ``build_fn`` will raise an Error instead.\n",
      "  X, y = self._initialize(X, y)\n"
     ]
    },
    {
     "name": "stdout",
     "output_type": "stream",
     "text": [
      "2977/5085 [================>.............] - ETA: 1s - loss: 0.0057 - auc_13: 0.4990 "
     ]
    },
    {
     "name": "stderr",
     "output_type": "stream",
     "text": [
      "/Users/rem76/miniconda3/envs/GISP_init/lib/python3.10/site-packages/scikeras/wrappers.py:915: UserWarning: ``build_fn`` will be renamed to ``model`` in a future release, at which point use of ``build_fn`` will raise an Error instead.\n",
      "  X, y = self._initialize(X, y)\n"
     ]
    },
    {
     "name": "stdout",
     "output_type": "stream",
     "text": [
      "5085/5085 [==============================] - 4s 605us/step - loss: 0.0057 - auc_13: 0.4956\n",
      "565/565 [==============================] - 0s 527us/steposs: 0.0057 - auc_14: 0.497\n",
      "5085/5085 [==============================] - 4s 606us/step - loss: 0.0057 - auc_13: 0.4975\n",
      " 372/5085 [=>............................] - ETA: 3s - loss: 0.0056 - auc_14: 0.5032"
     ]
    },
    {
     "name": "stderr",
     "output_type": "stream",
     "text": [
      "/Users/rem76/miniconda3/envs/GISP_init/lib/python3.10/site-packages/scikeras/wrappers.py:915: UserWarning: ``build_fn`` will be renamed to ``model`` in a future release, at which point use of ``build_fn`` will raise an Error instead.\n",
      "  X, y = self._initialize(X, y)\n"
     ]
    },
    {
     "name": "stdout",
     "output_type": "stream",
     "text": [
      "5085/5085 [==============================] - 4s 669us/step - loss: 0.0057 - auc_14: 0.4973\n",
      "565/565 [==============================] - 0s 559us/steposs: 0.0057 - auc_13: 0.4978\n",
      "565/565 [==============================] - 0s 641us/steposs: 0.0057 - auc_14: 0.49\n",
      "1573/5085 [========>.....................] - ETA: 3s - loss: 0.0057 - auc_14: 0.4969"
     ]
    },
    {
     "name": "stderr",
     "output_type": "stream",
     "text": [
      "/Users/rem76/miniconda3/envs/GISP_init/lib/python3.10/site-packages/scikeras/wrappers.py:915: UserWarning: ``build_fn`` will be renamed to ``model`` in a future release, at which point use of ``build_fn`` will raise an Error instead.\n",
      "  X, y = self._initialize(X, y)\n"
     ]
    },
    {
     "name": "stdout",
     "output_type": "stream",
     "text": [
      " 184/5085 [>.............................] - ETA: 4s - loss: 0.0056 - auc_14: 0.5014 "
     ]
    },
    {
     "name": "stderr",
     "output_type": "stream",
     "text": [
      "/Users/rem76/miniconda3/envs/GISP_init/lib/python3.10/site-packages/scikeras/wrappers.py:915: UserWarning: ``build_fn`` will be renamed to ``model`` in a future release, at which point use of ``build_fn`` will raise an Error instead.\n",
      "  X, y = self._initialize(X, y)\n"
     ]
    },
    {
     "name": "stdout",
     "output_type": "stream",
     "text": [
      "5085/5085 [==============================] - 4s 593us/step - loss: 0.0057 - auc_13: 0.4969\n",
      "565/565 [==============================] - 0s 509us/steposs: 0.0056 - auc_15: 0.5000 \n",
      " 564/5085 [==>...........................] - ETA: 4s - loss: 0.0057 - auc_14: 0.5044"
     ]
    },
    {
     "name": "stderr",
     "output_type": "stream",
     "text": [
      "/Users/rem76/miniconda3/envs/GISP_init/lib/python3.10/site-packages/scikeras/wrappers.py:915: UserWarning: ``build_fn`` will be renamed to ``model`` in a future release, at which point use of ``build_fn`` will raise an Error instead.\n",
      "  X, y = self._initialize(X, y)\n"
     ]
    },
    {
     "name": "stdout",
     "output_type": "stream",
     "text": [
      "5085/5085 [==============================] - 5s 807us/step - loss: 0.0057 - auc_14: 0.4943\n",
      "5085/5085 [==============================] - 5s 790us/step - loss: 0.0057 - auc_14: 0.4969\n",
      "5085/5085 [==============================] - 5s 735us/step - loss: 0.0057 - auc_14: 0.4952\n",
      "565/565 [==============================] - 0s 512us/steposs: 0.0057 - auc_14: 0.497\n",
      "5085/5085 [==============================] - 5s 749us/step - loss: 0.0057 - auc_14: 0.4976\n",
      "565/565 [==============================] - 0s 525us/step\n",
      "565/565 [==============================] - 0s 522us/steposs: 0.0057 - auc_15: 0.49\n",
      "2793/5085 [===============>..............] - ETA: 1s - loss: 0.0057 - auc_14: 0.4948    0"
     ]
    },
    {
     "name": "stderr",
     "output_type": "stream",
     "text": [
      "/Users/rem76/miniconda3/envs/GISP_init/lib/python3.10/site-packages/scikeras/wrappers.py:915: UserWarning: ``build_fn`` will be renamed to ``model`` in a future release, at which point use of ``build_fn`` will raise an Error instead.\n",
      "  X, y = self._initialize(X, y)\n",
      "/Users/rem76/miniconda3/envs/GISP_init/lib/python3.10/site-packages/scikeras/wrappers.py:915: UserWarning: ``build_fn`` will be renamed to ``model`` in a future release, at which point use of ``build_fn`` will raise an Error instead.\n",
      "  X, y = self._initialize(X, y)\n"
     ]
    },
    {
     "name": "stdout",
     "output_type": "stream",
     "text": [
      "4169/5085 [=======================>......] - ETA: 0s - loss: 0.0057 - auc_14: 0.4937"
     ]
    },
    {
     "name": "stderr",
     "output_type": "stream",
     "text": [
      "/Users/rem76/miniconda3/envs/GISP_init/lib/python3.10/site-packages/scikeras/wrappers.py:915: UserWarning: ``build_fn`` will be renamed to ``model`` in a future release, at which point use of ``build_fn`` will raise an Error instead.\n",
      "  X, y = self._initialize(X, y)\n"
     ]
    },
    {
     "name": "stdout",
     "output_type": "stream",
     "text": [
      "565/565 [==============================] - 0s 662us/steposs: 0.0057 - auc_14: 0.49\n",
      "4940/5085 [============================>.] - ETA: 0s - loss: 0.0057 - auc_14: 0.4955"
     ]
    },
    {
     "name": "stderr",
     "output_type": "stream",
     "text": [
      "/Users/rem76/miniconda3/envs/GISP_init/lib/python3.10/site-packages/scikeras/wrappers.py:915: UserWarning: ``build_fn`` will be renamed to ``model`` in a future release, at which point use of ``build_fn`` will raise an Error instead.\n",
      "  X, y = self._initialize(X, y)\n"
     ]
    },
    {
     "name": "stdout",
     "output_type": "stream",
     "text": [
      "5085/5085 [==============================] - 5s 767us/step - loss: 0.0057 - auc_14: 0.4956\n",
      "5085/5085 [==============================] - 4s 691us/step - loss: 0.0057 - auc_15: 0.4941\n",
      "5085/5085 [==============================] - 5s 649us/step - loss: 0.0057 - auc_14: 0.4968\n",
      "565/565 [==============================] - 0s 492us/steposs: 0.0057 - auc_15: 0.50\n",
      "565/565 [==============================] - 0s 491us/steposs: 0.0057 - auc_15: 0.49\n",
      "1574/5085 [========>.....................] - ETA: 2s - loss: 0.0057 - auc_15: 0.5040"
     ]
    },
    {
     "name": "stderr",
     "output_type": "stream",
     "text": [
      "/Users/rem76/miniconda3/envs/GISP_init/lib/python3.10/site-packages/scikeras/wrappers.py:915: UserWarning: ``build_fn`` will be renamed to ``model`` in a future release, at which point use of ``build_fn`` will raise an Error instead.\n",
      "  X, y = self._initialize(X, y)\n"
     ]
    },
    {
     "name": "stdout",
     "output_type": "stream",
     "text": [
      "1960/5085 [==========>...................] - ETA: 2s - loss: 0.0057 - auc_15: 0.5021"
     ]
    },
    {
     "name": "stderr",
     "output_type": "stream",
     "text": [
      "/Users/rem76/miniconda3/envs/GISP_init/lib/python3.10/site-packages/scikeras/wrappers.py:915: UserWarning: ``build_fn`` will be renamed to ``model`` in a future release, at which point use of ``build_fn`` will raise an Error instead.\n",
      "  X, y = self._initialize(X, y)\n"
     ]
    },
    {
     "name": "stdout",
     "output_type": "stream",
     "text": [
      "565/565 [==============================] - 0s 324us/steposs: 0.0057 - auc_14: 0.503\n",
      "4328/5085 [========================>.....] - ETA: 0s - loss: 0.0057 - auc_14: 0.4996 "
     ]
    },
    {
     "name": "stderr",
     "output_type": "stream",
     "text": [
      "/Users/rem76/miniconda3/envs/GISP_init/lib/python3.10/site-packages/scikeras/wrappers.py:915: UserWarning: ``build_fn`` will be renamed to ``model`` in a future release, at which point use of ``build_fn`` will raise an Error instead.\n",
      "  X, y = self._initialize(X, y)\n"
     ]
    },
    {
     "name": "stdout",
     "output_type": "stream",
     "text": [
      "5085/5085 [==============================] - 4s 653us/step - loss: 0.0057 - auc_14: 0.4986\n",
      "565/565 [==============================] - 0s 550us/steposs: 0.0057 - auc_15: 0.4943 \n",
      "5085/5085 [==============================] - 4s 694us/step - loss: 0.0057 - auc_15: 0.4980\n",
      "4820/5085 [===========================>..] - ETA: 0s - loss: 0.0057 - auc_15: 0.4974"
     ]
    },
    {
     "name": "stderr",
     "output_type": "stream",
     "text": [
      "/Users/rem76/miniconda3/envs/GISP_init/lib/python3.10/site-packages/scikeras/wrappers.py:915: UserWarning: ``build_fn`` will be renamed to ``model`` in a future release, at which point use of ``build_fn`` will raise an Error instead.\n",
      "  X, y = self._initialize(X, y)\n"
     ]
    },
    {
     "name": "stdout",
     "output_type": "stream",
     "text": [
      "5085/5085 [==============================] - 4s 715us/step - loss: 0.0057 - auc_15: 0.4973\n",
      "5085/5085 [==============================] - 4s 707us/step - loss: 0.0057 - auc_15: 0.4942\n",
      "565/565 [==============================] - 0s 487us/steposs: 0.0057 - auc_15: 0.4927\n",
      "5085/5085 [==============================] - 4s 694us/step - loss: 0.0057 - auc_15: 0.4961\n",
      " 84/565 [===>..........................] - ETA: 0s s - loss: 0.0057 - auc_15: 0.4950 "
     ]
    },
    {
     "name": "stderr",
     "output_type": "stream",
     "text": [
      "/Users/rem76/miniconda3/envs/GISP_init/lib/python3.10/site-packages/scikeras/wrappers.py:915: UserWarning: ``build_fn`` will be renamed to ``model`` in a future release, at which point use of ``build_fn`` will raise an Error instead.\n",
      "  X, y = self._initialize(X, y)\n"
     ]
    },
    {
     "name": "stdout",
     "output_type": "stream",
     "text": [
      "565/565 [==============================] - 0s 593us/steposs: 0.0057 - auc_15: 0.49\n",
      "565/565 [==============================] - 0s 448us/steposs: 0.0057 - auc_15: 0.49\n"
     ]
    },
    {
     "name": "stderr",
     "output_type": "stream",
     "text": [
      "/Users/rem76/miniconda3/envs/GISP_init/lib/python3.10/site-packages/scikeras/wrappers.py:915: UserWarning: ``build_fn`` will be renamed to ``model`` in a future release, at which point use of ``build_fn`` will raise an Error instead.\n",
      "  X, y = self._initialize(X, y)\n",
      "/Users/rem76/miniconda3/envs/GISP_init/lib/python3.10/site-packages/scikeras/wrappers.py:915: UserWarning: ``build_fn`` will be renamed to ``model`` in a future release, at which point use of ``build_fn`` will raise an Error instead.\n",
      "  X, y = self._initialize(X, y)\n"
     ]
    },
    {
     "name": "stdout",
     "output_type": "stream",
     "text": [
      "565/565 [==============================] - 0s 288us/steposs: 0.0057 - auc_16: 0.51\n",
      "5085/5085 [==============================] - 4s 771us/step - loss: 0.0057 - auc_16: 0.4957\n",
      "2038/5085 [===========>..................] - ETA: 2s - loss: 0.0057 - auc_15: 0.4943"
     ]
    },
    {
     "name": "stderr",
     "output_type": "stream",
     "text": [
      "/Users/rem76/miniconda3/envs/GISP_init/lib/python3.10/site-packages/scikeras/wrappers.py:915: UserWarning: ``build_fn`` will be renamed to ``model`` in a future release, at which point use of ``build_fn`` will raise an Error instead.\n",
      "  X, y = self._initialize(X, y)\n"
     ]
    },
    {
     "name": "stdout",
     "output_type": "stream",
     "text": [
      "5085/5085 [==============================] - 5s 777us/step - loss: 0.0057 - auc_15: 0.4962\n",
      "565/565 [==============================] - 0s 566us/steposs: 0.0057 - auc_15: 0.49\n",
      "2043/5085 [===========>..................] - ETA: 2s - loss: 0.0057 - auc_16: 0.5012"
     ]
    },
    {
     "name": "stderr",
     "output_type": "stream",
     "text": [
      "/Users/rem76/miniconda3/envs/GISP_init/lib/python3.10/site-packages/scikeras/wrappers.py:915: UserWarning: ``build_fn`` will be renamed to ``model`` in a future release, at which point use of ``build_fn`` will raise an Error instead.\n",
      "  X, y = self._initialize(X, y)\n"
     ]
    },
    {
     "name": "stdout",
     "output_type": "stream",
     "text": [
      "5085/5085 [==============================] - 5s 757us/step - loss: 0.0057 - auc_15: 0.4953\n",
      "565/565 [==============================] - 0s 271us/steposs: 0.0057 - auc_16: 0.49\n",
      "1685/5085 [========>.....................] - ETA: 2s - loss: 0.0057 - auc_16: 0.4943"
     ]
    },
    {
     "name": "stderr",
     "output_type": "stream",
     "text": [
      "/Users/rem76/miniconda3/envs/GISP_init/lib/python3.10/site-packages/scikeras/wrappers.py:915: UserWarning: ``build_fn`` will be renamed to ``model`` in a future release, at which point use of ``build_fn`` will raise an Error instead.\n",
      "  X, y = self._initialize(X, y)\n"
     ]
    },
    {
     "name": "stdout",
     "output_type": "stream",
     "text": [
      "5085/5085 [==============================] - 4s 745us/step - loss: 0.0057 - auc_15: 0.4948\n",
      "565/565 [==============================] - 0s 352us/steposs: 0.0057 - auc_16: 0.49\n",
      "5085/5085 [==============================] - 4s 736us/step - loss: 0.0057 - auc_16: 0.4969\n",
      "5085/5085 [==============================] - 4s 725us/step - loss: 0.0057 - auc_16: 0.4987\n",
      "5063/5085 [============================>.] - ETA: 0s - loss: 0.0057 - auc_16: 0.4975"
     ]
    },
    {
     "name": "stderr",
     "output_type": "stream",
     "text": [
      "/Users/rem76/miniconda3/envs/GISP_init/lib/python3.10/site-packages/scikeras/wrappers.py:915: UserWarning: ``build_fn`` will be renamed to ``model`` in a future release, at which point use of ``build_fn`` will raise an Error instead.\n",
      "  X, y = self._initialize(X, y)\n"
     ]
    },
    {
     "name": "stdout",
     "output_type": "stream",
     "text": [
      "5085/5085 [==============================] - 4s 729us/step - loss: 0.0057 - auc_16: 0.4975\n",
      "565/565 [==============================] - 0s 515us/steposs: 0.0057 - auc_16: 0.4959\n",
      "565/565 [==============================] - 0s 427us/steposs: 0.0057 - auc_16: 0.4900 \n",
      " 801/5085 [===>..........................] - ETA: 3s - loss: 0.0056 - auc_16: 0.4966"
     ]
    },
    {
     "name": "stderr",
     "output_type": "stream",
     "text": [
      "/Users/rem76/miniconda3/envs/GISP_init/lib/python3.10/site-packages/scikeras/wrappers.py:915: UserWarning: ``build_fn`` will be renamed to ``model`` in a future release, at which point use of ``build_fn`` will raise an Error instead.\n",
      "  X, y = self._initialize(X, y)\n",
      "/Users/rem76/miniconda3/envs/GISP_init/lib/python3.10/site-packages/scikeras/wrappers.py:915: UserWarning: ``build_fn`` will be renamed to ``model`` in a future release, at which point use of ``build_fn`` will raise an Error instead.\n",
      "  X, y = self._initialize(X, y)\n"
     ]
    },
    {
     "name": "stdout",
     "output_type": "stream",
     "text": [
      "565/565 [==============================] - 0s 448us/steposs: 0.0057 - auc_16: 0.49\n",
      "4007/5085 [======================>.......] - ETA: 0s - loss: 0.0057 - auc_17: 0.4929"
     ]
    },
    {
     "name": "stderr",
     "output_type": "stream",
     "text": [
      "/Users/rem76/miniconda3/envs/GISP_init/lib/python3.10/site-packages/scikeras/wrappers.py:915: UserWarning: ``build_fn`` will be renamed to ``model`` in a future release, at which point use of ``build_fn`` will raise an Error instead.\n",
      "  X, y = self._initialize(X, y)\n"
     ]
    },
    {
     "name": "stdout",
     "output_type": "stream",
     "text": [
      "565/565 [==============================] - 0s 266us/steposs: 0.0057 - auc_16: 0.49\n",
      "5085/5085 [==============================] - 4s 726us/step - loss: 0.0057 - auc_16: 0.4961\n",
      "4575/5085 [=========================>....] - ETA: 0s - loss: 0.0057 - auc_17: 0.4945"
     ]
    },
    {
     "name": "stderr",
     "output_type": "stream",
     "text": [
      "/Users/rem76/miniconda3/envs/GISP_init/lib/python3.10/site-packages/scikeras/wrappers.py:915: UserWarning: ``build_fn`` will be renamed to ``model`` in a future release, at which point use of ``build_fn`` will raise an Error instead.\n",
      "  X, y = self._initialize(X, y)\n"
     ]
    },
    {
     "name": "stdout",
     "output_type": "stream",
     "text": [
      "5085/5085 [==============================] - 4s 716us/step - loss: 0.0057 - auc_17: 0.4948\n",
      "565/565 [==============================] - 0s 611us/steposs: 0.0056 - auc_17: 0.4944 \n",
      "565/565 [==============================] - 0s 633us/steposs: 0.0057 - auc_16: 0.49.50\n"
     ]
    },
    {
     "name": "stderr",
     "output_type": "stream",
     "text": [
      "/Users/rem76/miniconda3/envs/GISP_init/lib/python3.10/site-packages/scikeras/wrappers.py:915: UserWarning: ``build_fn`` will be renamed to ``model`` in a future release, at which point use of ``build_fn`` will raise an Error instead.\n",
      "  X, y = self._initialize(X, y)\n"
     ]
    },
    {
     "name": "stdout",
     "output_type": "stream",
     "text": [
      "4138/5085 [=======================>......] - ETA: 0s - loss: 0.0057 - auc_16: 0.4957"
     ]
    },
    {
     "name": "stderr",
     "output_type": "stream",
     "text": [
      "/Users/rem76/miniconda3/envs/GISP_init/lib/python3.10/site-packages/scikeras/wrappers.py:915: UserWarning: ``build_fn`` will be renamed to ``model`` in a future release, at which point use of ``build_fn`` will raise an Error instead.\n",
      "  X, y = self._initialize(X, y)\n"
     ]
    },
    {
     "name": "stdout",
     "output_type": "stream",
     "text": [
      "5085/5085 [==============================] - 4s 718us/step - loss: 0.0057 - auc_16: 0.4961\n",
      "5085/5085 [==============================] - 4s 701us/step - loss: 0.0057 - auc_16: 0.4968\n",
      "565/565 [==============================] - 0s 610us/steposs: 0.0057 - auc_17: 0.4934 \n",
      "5085/5085 [==============================] - 4s 694us/step - loss: 0.0057 - auc_17: 0.4943\n",
      "5085/5085 [==============================] - 4s 689us/step - loss: 0.0057 - auc_17: 0.4955\n",
      "565/565 [==============================] - 0s 529us/steposs: 0.0057 - auc_17: 0.49\n",
      "265/565 [=============>................] - ETA: 0s1s - loss: 0.0057 - auc_17: 0.493"
     ]
    },
    {
     "name": "stderr",
     "output_type": "stream",
     "text": [
      "/Users/rem76/miniconda3/envs/GISP_init/lib/python3.10/site-packages/scikeras/wrappers.py:915: UserWarning: ``build_fn`` will be renamed to ``model`` in a future release, at which point use of ``build_fn`` will raise an Error instead.\n",
      "  X, y = self._initialize(X, y)\n"
     ]
    },
    {
     "name": "stdout",
     "output_type": "stream",
     "text": [
      "565/565 [==============================] - 0s 626us/steposs: 0.0057 - auc_17: 0.49\n"
     ]
    },
    {
     "name": "stderr",
     "output_type": "stream",
     "text": [
      "/Users/rem76/miniconda3/envs/GISP_init/lib/python3.10/site-packages/scikeras/wrappers.py:915: UserWarning: ``build_fn`` will be renamed to ``model`` in a future release, at which point use of ``build_fn`` will raise an Error instead.\n",
      "  X, y = self._initialize(X, y)\n"
     ]
    },
    {
     "name": "stdout",
     "output_type": "stream",
     "text": [
      "565/565 [==============================] - 0s 536us/steposs: 0.0057 - auc_17: 0.49\n",
      "2245/5085 [============>.................] - ETA: 1s - loss: 0.0057 - auc_17: 0.5046"
     ]
    },
    {
     "name": "stderr",
     "output_type": "stream",
     "text": [
      "/Users/rem76/miniconda3/envs/GISP_init/lib/python3.10/site-packages/scikeras/wrappers.py:915: UserWarning: ``build_fn`` will be renamed to ``model`` in a future release, at which point use of ``build_fn`` will raise an Error instead.\n",
      "  X, y = self._initialize(X, y)\n",
      "/Users/rem76/miniconda3/envs/GISP_init/lib/python3.10/site-packages/scikeras/wrappers.py:915: UserWarning: ``build_fn`` will be renamed to ``model`` in a future release, at which point use of ``build_fn`` will raise an Error instead.\n",
      "  X, y = self._initialize(X, y)\n"
     ]
    },
    {
     "name": "stdout",
     "output_type": "stream",
     "text": [
      "5085/5085 [==============================] - 4s 616us/step - loss: 0.0057 - auc_16: 0.4949\n",
      "5085/5085 [==============================] - 4s 629us/step - loss: 0.0057 - auc_17: 0.4949\n",
      "565/565 [==============================] - 0s 749us/steposs: 0.0056 - auc_18: 0.49\n",
      "3607/5085 [====================>.........] - ETA: 0s - loss: 0.0056 - auc_18: 0.4995"
     ]
    },
    {
     "name": "stderr",
     "output_type": "stream",
     "text": [
      "/Users/rem76/miniconda3/envs/GISP_init/lib/python3.10/site-packages/scikeras/wrappers.py:915: UserWarning: ``build_fn`` will be renamed to ``model`` in a future release, at which point use of ``build_fn`` will raise an Error instead.\n",
      "  X, y = self._initialize(X, y)\n"
     ]
    },
    {
     "name": "stdout",
     "output_type": "stream",
     "text": [
      "5085/5085 [==============================] - 4s 668us/step - loss: 0.0057 - auc_17: 0.4981\n",
      "5085/5085 [==============================] - 4s 669us/step - loss: 0.0057 - auc_18: 0.4981\n",
      "565/565 [==============================] - 0s 600us/steposs: 0.0057 - auc_18: 0.49\n",
      "565/565 [==============================] - 0s 359us/steposs: 0.0057 - auc_17: 0.49\n",
      "3576/5085 [====================>.........] - ETA: 1s - loss: 0.0057 - auc_18: 0.4924"
     ]
    },
    {
     "name": "stderr",
     "output_type": "stream",
     "text": [
      "/Users/rem76/miniconda3/envs/GISP_init/lib/python3.10/site-packages/scikeras/wrappers.py:915: UserWarning: ``build_fn`` will be renamed to ``model`` in a future release, at which point use of ``build_fn`` will raise an Error instead.\n",
      "  X, y = self._initialize(X, y)\n"
     ]
    },
    {
     "name": "stdout",
     "output_type": "stream",
     "text": [
      "3771/5085 [=====================>........] - ETA: 0s - loss: 0.0057 - auc_18: 0.49230"
     ]
    },
    {
     "name": "stderr",
     "output_type": "stream",
     "text": [
      "/Users/rem76/miniconda3/envs/GISP_init/lib/python3.10/site-packages/scikeras/wrappers.py:915: UserWarning: ``build_fn`` will be renamed to ``model`` in a future release, at which point use of ``build_fn`` will raise an Error instead.\n",
      "  X, y = self._initialize(X, y)\n"
     ]
    },
    {
     "name": "stdout",
     "output_type": "stream",
     "text": [
      "5085/5085 [==============================] - 4s 726us/step - loss: 0.0057 - auc_17: 0.4951\n",
      "565/565 [==============================] - 0s 358us/steposs: 0.0057 - auc_19: 0.4965\n",
      "5085/5085 [==============================] - 4s 740us/step - loss: 0.0057 - auc_17: 0.4972\n",
      "565/565 [==============================] - 0s 516us/steposs: 0.0057 - auc_18: 0.4940\n",
      "5085/5085 [==============================] - 4s 726us/step - loss: 0.0057 - auc_18: 0.4967\n",
      "5085/5085 [==============================] - 4s 712us/step - loss: 0.0057 - auc_18: 0.4947\n",
      "565/565 [==============================] - 0s 472us/steposs: 0.0057 - auc_18: 0.49\n",
      "1147/5085 [=====>........................] - ETA: 2s - loss: 0.0057 - auc_18: 0.4943"
     ]
    },
    {
     "name": "stderr",
     "output_type": "stream",
     "text": [
      "/Users/rem76/miniconda3/envs/GISP_init/lib/python3.10/site-packages/scikeras/wrappers.py:915: UserWarning: ``build_fn`` will be renamed to ``model`` in a future release, at which point use of ``build_fn`` will raise an Error instead.\n",
      "  X, y = self._initialize(X, y)\n",
      "/Users/rem76/miniconda3/envs/GISP_init/lib/python3.10/site-packages/scikeras/wrappers.py:915: UserWarning: ``build_fn`` will be renamed to ``model`` in a future release, at which point use of ``build_fn`` will raise an Error instead.\n",
      "  X, y = self._initialize(X, y)\n"
     ]
    },
    {
     "name": "stdout",
     "output_type": "stream",
     "text": [
      "   1/5085 [..............................] - ETA: 17:21 - loss: 0.0057 - auc_18: 0.5000"
     ]
    },
    {
     "name": "stderr",
     "output_type": "stream",
     "text": [
      "/Users/rem76/miniconda3/envs/GISP_init/lib/python3.10/site-packages/scikeras/wrappers.py:915: UserWarning: ``build_fn`` will be renamed to ``model`` in a future release, at which point use of ``build_fn`` will raise an Error instead.\n",
      "  X, y = self._initialize(X, y)\n"
     ]
    },
    {
     "name": "stdout",
     "output_type": "stream",
     "text": [
      "5085/5085 [==============================] - 4s 713us/step - loss: 0.0057 - auc_17: 0.4972\n",
      "565/565 [==============================] - 0s 507us/steposs: 0.0057 - auc_18: 0.50\n",
      "3063/5085 [=================>............] - ETA: 1s - loss: 0.0057 - auc_19: 0.4939"
     ]
    },
    {
     "name": "stderr",
     "output_type": "stream",
     "text": [
      "/Users/rem76/miniconda3/envs/GISP_init/lib/python3.10/site-packages/scikeras/wrappers.py:915: UserWarning: ``build_fn`` will be renamed to ``model`` in a future release, at which point use of ``build_fn`` will raise an Error instead.\n",
      "  X, y = self._initialize(X, y)\n"
     ]
    },
    {
     "name": "stdout",
     "output_type": "stream",
     "text": [
      "565/565 [==============================] - 0s 337us/steposs: 0.0057 - auc_18: 0.50\n",
      "565/565 [==============================] - 0s 407us/steposs: 0.0057 - auc_19: 0.49\n",
      "4168/5085 [=======================>......] - ETA: 0s - loss: 0.0057 - auc_19: 0.4949   "
     ]
    },
    {
     "name": "stderr",
     "output_type": "stream",
     "text": [
      "/Users/rem76/miniconda3/envs/GISP_init/lib/python3.10/site-packages/scikeras/wrappers.py:915: UserWarning: ``build_fn`` will be renamed to ``model`` in a future release, at which point use of ``build_fn`` will raise an Error instead.\n",
      "  X, y = self._initialize(X, y)\n",
      "/Users/rem76/miniconda3/envs/GISP_init/lib/python3.10/site-packages/scikeras/wrappers.py:915: UserWarning: ``build_fn`` will be renamed to ``model`` in a future release, at which point use of ``build_fn`` will raise an Error instead.\n",
      "  X, y = self._initialize(X, y)\n"
     ]
    },
    {
     "name": "stdout",
     "output_type": "stream",
     "text": [
      "5085/5085 [==============================] - 4s 727us/step - loss: 0.0057 - auc_19: 0.4961\n",
      "5085/5085 [==============================] - 4s 734us/step - loss: 0.0057 - auc_18: 0.4964\n",
      "565/565 [==============================] - 0s 646us/steposs: 0.0056 - auc_19: 0.501\n",
      "565/565 [==============================] - 0s 569us/steposs: 0.0057 - auc_19: 0.50\n",
      "4590/5085 [==========================>...] - ETA: 0s - loss: 0.0057 - auc_18: 0.4944"
     ]
    },
    {
     "name": "stderr",
     "output_type": "stream",
     "text": [
      "/Users/rem76/miniconda3/envs/GISP_init/lib/python3.10/site-packages/scikeras/wrappers.py:915: UserWarning: ``build_fn`` will be renamed to ``model`` in a future release, at which point use of ``build_fn`` will raise an Error instead.\n",
      "  X, y = self._initialize(X, y)\n",
      "/Users/rem76/miniconda3/envs/GISP_init/lib/python3.10/site-packages/scikeras/wrappers.py:915: UserWarning: ``build_fn`` will be renamed to ``model`` in a future release, at which point use of ``build_fn`` will raise an Error instead.\n",
      "  X, y = self._initialize(X, y)\n"
     ]
    },
    {
     "name": "stdout",
     "output_type": "stream",
     "text": [
      "5085/5085 [==============================] - 4s 668us/step - loss: 0.0057 - auc_18: 0.4967\n",
      "5085/5085 [==============================] - 4s 707us/step - loss: 0.0057 - auc_18: 0.4948\n",
      "5085/5085 [==============================] - 4s 701us/step - loss: 0.0057 - auc_18: 0.4967\n",
      "565/565 [==============================] - 0s 413us/steposs: 0.0057 - auc_19: 0.49\n",
      "565/565 [==============================] - 0s 505us/steposs: 0.0057 - auc_19: 0.49\n",
      "565/565 [==============================] - 0s 495us/steposs: 0.0057 - auc_20: 0.5000 \n",
      "2484/5085 [=============>................] - ETA: 1s - loss: 0.0057 - auc_19: 0.4913"
     ]
    },
    {
     "name": "stderr",
     "output_type": "stream",
     "text": [
      "/Users/rem76/miniconda3/envs/GISP_init/lib/python3.10/site-packages/scikeras/wrappers.py:915: UserWarning: ``build_fn`` will be renamed to ``model`` in a future release, at which point use of ``build_fn`` will raise an Error instead.\n",
      "  X, y = self._initialize(X, y)\n",
      "/Users/rem76/miniconda3/envs/GISP_init/lib/python3.10/site-packages/scikeras/wrappers.py:915: UserWarning: ``build_fn`` will be renamed to ``model`` in a future release, at which point use of ``build_fn`` will raise an Error instead.\n",
      "  X, y = self._initialize(X, y)\n"
     ]
    },
    {
     "name": "stdout",
     "output_type": "stream",
     "text": [
      "2839/5085 [===============>..............] - ETA: 1s - loss: 0.0057 - auc_19: 0.4921"
     ]
    },
    {
     "name": "stderr",
     "output_type": "stream",
     "text": [
      "/Users/rem76/miniconda3/envs/GISP_init/lib/python3.10/site-packages/scikeras/wrappers.py:915: UserWarning: ``build_fn`` will be renamed to ``model`` in a future release, at which point use of ``build_fn`` will raise an Error instead.\n",
      "  X, y = self._initialize(X, y)\n"
     ]
    },
    {
     "name": "stdout",
     "output_type": "stream",
     "text": [
      "5085/5085 [==============================] - 4s 638us/step - loss: 0.0057 - auc_18: 0.4954\n",
      "565/565 [==============================] - 0s 740us/steposs: 0.0057 - auc_19: 0.49\n",
      "5085/5085 [==============================] - 4s 657us/step - loss: 0.0057 - auc_19: 0.4946\n"
     ]
    },
    {
     "name": "stderr",
     "output_type": "stream",
     "text": [
      "/Users/rem76/miniconda3/envs/GISP_init/lib/python3.10/site-packages/scikeras/wrappers.py:915: UserWarning: ``build_fn`` will be renamed to ``model`` in a future release, at which point use of ``build_fn`` will raise an Error instead.\n",
      "  X, y = self._initialize(X, y)\n"
     ]
    },
    {
     "name": "stdout",
     "output_type": "stream",
     "text": [
      "5085/5085 [==============================] - 4s 662us/step - loss: 0.0057 - auc_19: 0.4956\n",
      "565/565 [==============================] - 0s 594us/steposs: 0.0057 - auc_19: 0.49\n",
      " 108/5085 [..............................] - ETA: 4s - loss: 0.0057 - auc_19: 0.5000 "
     ]
    },
    {
     "name": "stderr",
     "output_type": "stream",
     "text": [
      "/Users/rem76/miniconda3/envs/GISP_init/lib/python3.10/site-packages/scikeras/wrappers.py:915: UserWarning: ``build_fn`` will be renamed to ``model`` in a future release, at which point use of ``build_fn`` will raise an Error instead.\n",
      "  X, y = self._initialize(X, y)\n"
     ]
    },
    {
     "name": "stdout",
     "output_type": "stream",
     "text": [
      "5085/5085 [==============================] - 4s 663us/step - loss: 0.0057 - auc_20: 0.4965\n",
      "5085/5085 [==============================] - 4s 719us/step - loss: 0.0057 - auc_19: 0.4951\n",
      "565/565 [==============================] - 0s 593us/steposs: 0.0057 - auc_20: 0.50\n",
      "565/565 [==============================] - 0s 334us/steposs: 0.0057 - auc_19: 0.49\n",
      "565/565 [==============================] - 0s 696us/steposs: 0.0057 - auc_20: 0.50\n",
      "5085/5085 [==============================] - 4s 686us/step - loss: 0.0057 - auc_19: 0.4949\n",
      "4613/5085 [==========================>...] - ETA: 0s - loss: 0.0057 - auc_19: 0.4953"
     ]
    },
    {
     "name": "stderr",
     "output_type": "stream",
     "text": [
      "/Users/rem76/miniconda3/envs/GISP_init/lib/python3.10/site-packages/scikeras/wrappers.py:915: UserWarning: ``build_fn`` will be renamed to ``model`` in a future release, at which point use of ``build_fn`` will raise an Error instead.\n",
      "  X, y = self._initialize(X, y)\n",
      "/Users/rem76/miniconda3/envs/GISP_init/lib/python3.10/site-packages/scikeras/wrappers.py:915: UserWarning: ``build_fn`` will be renamed to ``model`` in a future release, at which point use of ``build_fn`` will raise an Error instead.\n",
      "  X, y = self._initialize(X, y)\n"
     ]
    },
    {
     "name": "stdout",
     "output_type": "stream",
     "text": [
      "5085/5085 [==============================] - 4s 687us/step - loss: 0.0057 - auc_19: 0.4964\n",
      "5002/5085 [============================>.] - ETA: 0s - loss: 0.0057 - auc_19: 0.4956"
     ]
    },
    {
     "name": "stderr",
     "output_type": "stream",
     "text": [
      "/Users/rem76/miniconda3/envs/GISP_init/lib/python3.10/site-packages/scikeras/wrappers.py:915: UserWarning: ``build_fn`` will be renamed to ``model`` in a future release, at which point use of ``build_fn`` will raise an Error instead.\n",
      "  X, y = self._initialize(X, y)\n"
     ]
    },
    {
     "name": "stdout",
     "output_type": "stream",
     "text": [
      "5085/5085 [==============================] - 4s 673us/step - loss: 0.0057 - auc_19: 0.4955\n",
      "565/565 [==============================] - 0s 411us/steposs: 0.0057 - auc_19: 0.4917\n",
      "565/565 [==============================] - 0s 293us/steposs: 0.0057 - auc_19: 0.49\n",
      "565/565 [==============================] - 0s 349us/steposs: 0.0057 - auc_19: 0.49\n",
      "3409/5085 [===================>..........] - ETA: 1s - loss: 0.0057 - auc_20: 0.49760"
     ]
    },
    {
     "name": "stderr",
     "output_type": "stream",
     "text": [
      "/Users/rem76/miniconda3/envs/GISP_init/lib/python3.10/site-packages/scikeras/wrappers.py:915: UserWarning: ``build_fn`` will be renamed to ``model`` in a future release, at which point use of ``build_fn`` will raise an Error instead.\n",
      "  X, y = self._initialize(X, y)\n",
      "/Users/rem76/miniconda3/envs/GISP_init/lib/python3.10/site-packages/scikeras/wrappers.py:915: UserWarning: ``build_fn`` will be renamed to ``model`` in a future release, at which point use of ``build_fn`` will raise an Error instead.\n",
      "  X, y = self._initialize(X, y)\n",
      "/Users/rem76/miniconda3/envs/GISP_init/lib/python3.10/site-packages/scikeras/wrappers.py:915: UserWarning: ``build_fn`` will be renamed to ``model`` in a future release, at which point use of ``build_fn`` will raise an Error instead.\n",
      "  X, y = self._initialize(X, y)\n"
     ]
    },
    {
     "name": "stdout",
     "output_type": "stream",
     "text": [
      "5085/5085 [==============================] - 4s 621us/step - loss: 0.0057 - auc_19: 0.4978\n",
      "5085/5085 [==============================] - 3s 600us/step - loss: 0.0057 - auc_20: 0.4961\n",
      "565/565 [==============================] - 0s 652us/steposs: 0.0057 - auc_20: 0.49\n",
      "1019/5085 [=====>........................] - ETA: 3s - loss: 0.0057 - auc_20: 0.4932"
     ]
    },
    {
     "name": "stderr",
     "output_type": "stream",
     "text": [
      "/Users/rem76/miniconda3/envs/GISP_init/lib/python3.10/site-packages/scikeras/wrappers.py:915: UserWarning: ``build_fn`` will be renamed to ``model`` in a future release, at which point use of ``build_fn`` will raise an Error instead.\n",
      "  X, y = self._initialize(X, y)\n"
     ]
    },
    {
     "name": "stdout",
     "output_type": "stream",
     "text": [
      "565/565 [==============================] - 0s 616us/steposs: 0.0057 - auc_20: 0.49\n",
      "3171/5085 [=================>............] - ETA: 1s - loss: 0.0057 - auc_20: 0.4931"
     ]
    },
    {
     "name": "stderr",
     "output_type": "stream",
     "text": [
      "/Users/rem76/miniconda3/envs/GISP_init/lib/python3.10/site-packages/scikeras/wrappers.py:915: UserWarning: ``build_fn`` will be renamed to ``model`` in a future release, at which point use of ``build_fn`` will raise an Error instead.\n",
      "  X, y = self._initialize(X, y)\n"
     ]
    },
    {
     "name": "stdout",
     "output_type": "stream",
     "text": [
      "5085/5085 [==============================] - 4s 681us/step - loss: 0.0057 - auc_21: 0.4952\n",
      "5085/5085 [==============================] - 4s 678us/step - loss: 0.0057 - auc_20: 0.4960\n",
      "5085/5085 [==============================] - 4s 703us/step - loss: 0.0057 - auc_20: 0.4956\n",
      "565/565 [==============================] - 0s 558us/steposs: 0.0057 - auc_20: 0.49\n",
      "565/565 [==============================] - 0s 669us/steposs: 0.0057 - auc_20: 0.49\n",
      "565/565 [==============================] - 0s 498us/steposs: 0.0057 - auc_20: 0.49\n",
      "4774/5085 [===========================>..] - ETA: 0s - loss: 0.0057 - auc_20: 0.4970"
     ]
    },
    {
     "name": "stderr",
     "output_type": "stream",
     "text": [
      "/Users/rem76/miniconda3/envs/GISP_init/lib/python3.10/site-packages/scikeras/wrappers.py:915: UserWarning: ``build_fn`` will be renamed to ``model`` in a future release, at which point use of ``build_fn`` will raise an Error instead.\n",
      "  X, y = self._initialize(X, y)\n",
      "/Users/rem76/miniconda3/envs/GISP_init/lib/python3.10/site-packages/scikeras/wrappers.py:915: UserWarning: ``build_fn`` will be renamed to ``model`` in a future release, at which point use of ``build_fn`` will raise an Error instead.\n",
      "  X, y = self._initialize(X, y)\n"
     ]
    },
    {
     "name": "stdout",
     "output_type": "stream",
     "text": [
      "5085/5085 [==============================] - 4s 704us/step - loss: 0.0057 - auc_20: 0.4969\n",
      "5085/5085 [==============================] - 4s 688us/step - loss: 0.0057 - auc_20: 0.4963\n",
      "5085/5085 [==============================] - 4s 732us/step - loss: 0.0057 - auc_20: 0.4973\n",
      "195/565 [=========>....................] - ETA: 0s s - loss: 0.0057 - auc_21: 0.492"
     ]
    },
    {
     "name": "stderr",
     "output_type": "stream",
     "text": [
      "/Users/rem76/miniconda3/envs/GISP_init/lib/python3.10/site-packages/scikeras/wrappers.py:915: UserWarning: ``build_fn`` will be renamed to ``model`` in a future release, at which point use of ``build_fn`` will raise an Error instead.\n",
      "  X, y = self._initialize(X, y)\n"
     ]
    },
    {
     "name": "stdout",
     "output_type": "stream",
     "text": [
      "565/565 [==============================] - 0s 422us/steposs: 0.0057 - auc_20: 0.4949\n",
      "565/565 [==============================] - 0s 395us/steposs: 0.0057 - auc_21: 0.49\n",
      "565/565 [==============================] - 0s 380us/step\n",
      "3787/5085 [=====================>........] - ETA: 0s - loss: 0.0057 - auc_20: 0.4949 0"
     ]
    },
    {
     "name": "stderr",
     "output_type": "stream",
     "text": [
      "/Users/rem76/miniconda3/envs/GISP_init/lib/python3.10/site-packages/scikeras/wrappers.py:915: UserWarning: ``build_fn`` will be renamed to ``model`` in a future release, at which point use of ``build_fn`` will raise an Error instead.\n",
      "  X, y = self._initialize(X, y)\n",
      "/Users/rem76/miniconda3/envs/GISP_init/lib/python3.10/site-packages/scikeras/wrappers.py:915: UserWarning: ``build_fn`` will be renamed to ``model`` in a future release, at which point use of ``build_fn`` will raise an Error instead.\n",
      "  X, y = self._initialize(X, y)\n"
     ]
    },
    {
     "name": "stdout",
     "output_type": "stream",
     "text": [
      "4091/5085 [=======================>......] - ETA: 0s - loss: 0.0057 - auc_21: 0.4940"
     ]
    },
    {
     "name": "stderr",
     "output_type": "stream",
     "text": [
      "/Users/rem76/miniconda3/envs/GISP_init/lib/python3.10/site-packages/scikeras/wrappers.py:915: UserWarning: ``build_fn`` will be renamed to ``model`` in a future release, at which point use of ``build_fn`` will raise an Error instead.\n",
      "  X, y = self._initialize(X, y)\n"
     ]
    },
    {
     "name": "stdout",
     "output_type": "stream",
     "text": [
      "5085/5085 [==============================] - 4s 657us/step - loss: 0.0057 - auc_20: 0.4947\n",
      "5085/5085 [==============================] - 4s 639us/step - loss: 0.0057 - auc_21: 0.4946\n",
      "565/565 [==============================] - 0s 634us/steposs: 0.0057 - auc_22: 0.504\n",
      "565/565 [==============================] - 0s 578us/steposs: 0.0057 - auc_21: 0.49\n",
      "2722/5085 [===============>..............] - ETA: 1s - loss: 0.0057 - auc_22: 0.5018"
     ]
    },
    {
     "name": "stderr",
     "output_type": "stream",
     "text": [
      "/Users/rem76/miniconda3/envs/GISP_init/lib/python3.10/site-packages/scikeras/wrappers.py:915: UserWarning: ``build_fn`` will be renamed to ``model`` in a future release, at which point use of ``build_fn`` will raise an Error instead.\n",
      "  X, y = self._initialize(X, y)\n"
     ]
    },
    {
     "name": "stdout",
     "output_type": "stream",
     "text": [
      "3006/5085 [================>.............] - ETA: 1s - loss: 0.0057 - auc_22: 0.5013"
     ]
    },
    {
     "name": "stderr",
     "output_type": "stream",
     "text": [
      "/Users/rem76/miniconda3/envs/GISP_init/lib/python3.10/site-packages/scikeras/wrappers.py:915: UserWarning: ``build_fn`` will be renamed to ``model`` in a future release, at which point use of ``build_fn`` will raise an Error instead.\n",
      "  X, y = self._initialize(X, y)\n"
     ]
    },
    {
     "name": "stdout",
     "output_type": "stream",
     "text": [
      "5085/5085 [==============================] - 4s 684us/step - loss: 0.0057 - auc_21: 0.4982\n",
      "5085/5085 [==============================] - 4s 718us/step - loss: 0.0057 - auc_22: 0.4990\n",
      "5085/5085 [==============================] - 4s 712us/step - loss: 0.0057 - auc_21: 0.4969\n",
      "565/565 [==============================] - 0s 516us/steposs: 0.0057 - auc_21: 0.4951\n",
      "565/565 [==============================] - 0s 635us/steposs: 0.0057 - auc_22: 0.49\n",
      "565/565 [==============================] - 0s 469us/steposs: 0.0057 - auc_22: 0.49\n",
      "5085/5085 [==============================] - 4s 706us/step - loss: 0.0057 - auc_21: 0.4978\n",
      "5028/5085 [============================>.] - ETA: 0s - loss: 0.0057 - auc_21: 0.4941"
     ]
    },
    {
     "name": "stderr",
     "output_type": "stream",
     "text": [
      "/Users/rem76/miniconda3/envs/GISP_init/lib/python3.10/site-packages/scikeras/wrappers.py:915: UserWarning: ``build_fn`` will be renamed to ``model`` in a future release, at which point use of ``build_fn`` will raise an Error instead.\n",
      "  X, y = self._initialize(X, y)\n",
      "/Users/rem76/miniconda3/envs/GISP_init/lib/python3.10/site-packages/scikeras/wrappers.py:915: UserWarning: ``build_fn`` will be renamed to ``model`` in a future release, at which point use of ``build_fn`` will raise an Error instead.\n",
      "  X, y = self._initialize(X, y)\n"
     ]
    },
    {
     "name": "stdout",
     "output_type": "stream",
     "text": [
      "5085/5085 [==============================] - 4s 691us/step - loss: 0.0057 - auc_21: 0.4940\n",
      " 54/565 [=>............................] - ETA: 0s s - loss: 0.0057 - auc_22: 0.491"
     ]
    },
    {
     "name": "stderr",
     "output_type": "stream",
     "text": [
      "/Users/rem76/miniconda3/envs/GISP_init/lib/python3.10/site-packages/scikeras/wrappers.py:915: UserWarning: ``build_fn`` will be renamed to ``model`` in a future release, at which point use of ``build_fn`` will raise an Error instead.\n",
      "  X, y = self._initialize(X, y)\n"
     ]
    },
    {
     "name": "stdout",
     "output_type": "stream",
     "text": [
      "5085/5085 [==============================] - 4s 730us/step - loss: 0.0057 - auc_21: 0.4954\n",
      "565/565 [==============================] - 1s 877us/steposs: 0.0057 - auc_21: 0.49\n",
      "565/565 [==============================] - 0s 746us/steposs: 0.0056 - auc_22: 0.5000 \n",
      " 549/5085 [==>...........................] - ETA: 3s - loss: 0.0057 - auc_23: 0.4982"
     ]
    },
    {
     "name": "stderr",
     "output_type": "stream",
     "text": [
      "/Users/rem76/miniconda3/envs/GISP_init/lib/python3.10/site-packages/scikeras/wrappers.py:915: UserWarning: ``build_fn`` will be renamed to ``model`` in a future release, at which point use of ``build_fn`` will raise an Error instead.\n",
      "  X, y = self._initialize(X, y)\n",
      "/Users/rem76/miniconda3/envs/GISP_init/lib/python3.10/site-packages/scikeras/wrappers.py:915: UserWarning: ``build_fn`` will be renamed to ``model`` in a future release, at which point use of ``build_fn`` will raise an Error instead.\n",
      "  X, y = self._initialize(X, y)\n"
     ]
    },
    {
     "name": "stdout",
     "output_type": "stream",
     "text": [
      "565/565 [==============================] - 0s 622us/steposs: 0.0056 - auc_22: 0.51\n",
      "4592/5085 [==========================>...] - ETA: 0s - loss: 0.0057 - auc_21: 0.4939"
     ]
    },
    {
     "name": "stderr",
     "output_type": "stream",
     "text": [
      "/Users/rem76/miniconda3/envs/GISP_init/lib/python3.10/site-packages/scikeras/wrappers.py:915: UserWarning: ``build_fn`` will be renamed to ``model`` in a future release, at which point use of ``build_fn`` will raise an Error instead.\n",
      "  X, y = self._initialize(X, y)\n"
     ]
    },
    {
     "name": "stdout",
     "output_type": "stream",
     "text": [
      "5085/5085 [==============================] - 4s 693us/step - loss: 0.0057 - auc_21: 0.4941\n",
      "5085/5085 [==============================] - 4s 686us/step - loss: 0.0057 - auc_22: 0.4960\n",
      "565/565 [==============================] - 0s 621us/steposs: 0.0057 - auc_22: 0.4900 \n",
      " 946/5085 [====>.........................] - ETA: 3s - loss: 0.0057 - auc_22: 0.4964"
     ]
    },
    {
     "name": "stderr",
     "output_type": "stream",
     "text": [
      "/Users/rem76/miniconda3/envs/GISP_init/lib/python3.10/site-packages/scikeras/wrappers.py:915: UserWarning: ``build_fn`` will be renamed to ``model`` in a future release, at which point use of ``build_fn`` will raise an Error instead.\n",
      "  X, y = self._initialize(X, y)\n"
     ]
    },
    {
     "name": "stdout",
     "output_type": "stream",
     "text": [
      "5085/5085 [==============================] - 4s 648us/step - loss: 0.0057 - auc_22: 0.5001\n",
      "5085/5085 [==============================] - 4s 705us/step - loss: 0.0057 - auc_23: 0.4968\n",
      "565/565 [==============================] - 0s 370us/steposs: 0.0057 - auc_22: 0.49\n",
      "5085/5085 [==============================] - 4s 728us/step - loss: 0.0057 - auc_22: 0.4957\n",
      "565/565 [==============================] - 0s 590us/steposs: 0.0057 - auc_22: 0.4922\n",
      "395/565 [===================>..........] - ETA: 0s2s - loss: 0.0057 - auc_22: 0.49"
     ]
    },
    {
     "name": "stderr",
     "output_type": "stream",
     "text": [
      "/Users/rem76/miniconda3/envs/GISP_init/lib/python3.10/site-packages/scikeras/wrappers.py:915: UserWarning: ``build_fn`` will be renamed to ``model`` in a future release, at which point use of ``build_fn`` will raise an Error instead.\n",
      "  X, y = self._initialize(X, y)\n"
     ]
    },
    {
     "name": "stdout",
     "output_type": "stream",
     "text": [
      "565/565 [==============================] - 0s 609us/steposs: 0.0057 - auc_22: 0.49\n",
      "565/565 [==============================] - 0s 534us/steposs: 0.0057 - auc_22: 0.49\n",
      "2795/5085 [===============>..............] - ETA: 1s - loss: 0.0057 - auc_22: 0.4929"
     ]
    },
    {
     "name": "stderr",
     "output_type": "stream",
     "text": [
      "/Users/rem76/miniconda3/envs/GISP_init/lib/python3.10/site-packages/scikeras/wrappers.py:915: UserWarning: ``build_fn`` will be renamed to ``model`` in a future release, at which point use of ``build_fn`` will raise an Error instead.\n",
      "  X, y = self._initialize(X, y)\n",
      "/Users/rem76/miniconda3/envs/GISP_init/lib/python3.10/site-packages/scikeras/wrappers.py:915: UserWarning: ``build_fn`` will be renamed to ``model`` in a future release, at which point use of ``build_fn`` will raise an Error instead.\n",
      "  X, y = self._initialize(X, y)\n",
      "/Users/rem76/miniconda3/envs/GISP_init/lib/python3.10/site-packages/scikeras/wrappers.py:915: UserWarning: ``build_fn`` will be renamed to ``model`` in a future release, at which point use of ``build_fn`` will raise an Error instead.\n",
      "  X, y = self._initialize(X, y)\n"
     ]
    },
    {
     "name": "stdout",
     "output_type": "stream",
     "text": [
      "5085/5085 [==============================] - 4s 662us/step - loss: 0.0057 - auc_22: 0.4978\n",
      "5085/5085 [==============================] - 4s 660us/step - loss: 0.0057 - auc_22: 0.4967\n",
      "5085/5085 [==============================] - 4s 647us/step - loss: 0.0057 - auc_22: 0.4959\n",
      "565/565 [==============================] - 0s 395us/step\n",
      " 796/5085 [===>..........................] - ETA: 2s - loss: 0.0056 - auc_23: 0.4984 0"
     ]
    },
    {
     "name": "stderr",
     "output_type": "stream",
     "text": [
      "/Users/rem76/miniconda3/envs/GISP_init/lib/python3.10/site-packages/scikeras/wrappers.py:915: UserWarning: ``build_fn`` will be renamed to ``model`` in a future release, at which point use of ``build_fn`` will raise an Error instead.\n",
      "  X, y = self._initialize(X, y)\n"
     ]
    },
    {
     "name": "stdout",
     "output_type": "stream",
     "text": [
      "565/565 [==============================] - 0s 606us/steposs: 0.0056 - auc_24: 0.50\n",
      "5085/5085 [==============================] - 3s 613us/step - loss: 0.0057 - auc_22: 0.4960\n",
      "162/565 [=======>......................] - ETA: 0s2s - loss: 0.0057 - auc_23: 0.4900 "
     ]
    },
    {
     "name": "stderr",
     "output_type": "stream",
     "text": [
      "/Users/rem76/miniconda3/envs/GISP_init/lib/python3.10/site-packages/scikeras/wrappers.py:915: UserWarning: ``build_fn`` will be renamed to ``model`` in a future release, at which point use of ``build_fn`` will raise an Error instead.\n",
      "  X, y = self._initialize(X, y)\n"
     ]
    },
    {
     "name": "stdout",
     "output_type": "stream",
     "text": [
      "565/565 [==============================] - 0s 531us/steposs: 0.0057 - auc_24: 0.49\n",
      " 336/5085 [>.............................] - ETA: 3s - loss: 0.0057 - auc_23: 0.4963 "
     ]
    },
    {
     "name": "stderr",
     "output_type": "stream",
     "text": [
      "/Users/rem76/miniconda3/envs/GISP_init/lib/python3.10/site-packages/scikeras/wrappers.py:915: UserWarning: ``build_fn`` will be renamed to ``model`` in a future release, at which point use of ``build_fn`` will raise an Error instead.\n",
      "  X, y = self._initialize(X, y)\n"
     ]
    },
    {
     "name": "stdout",
     "output_type": "stream",
     "text": [
      "565/565 [==============================] - 0s 364us/steposs: 0.0057 - auc_23: 0.493\n",
      "3280/5085 [==================>...........] - ETA: 1s - loss: 0.0057 - auc_23: 0.4961 "
     ]
    },
    {
     "name": "stderr",
     "output_type": "stream",
     "text": [
      "/Users/rem76/miniconda3/envs/GISP_init/lib/python3.10/site-packages/scikeras/wrappers.py:915: UserWarning: ``build_fn`` will be renamed to ``model`` in a future release, at which point use of ``build_fn`` will raise an Error instead.\n",
      "  X, y = self._initialize(X, y)\n"
     ]
    },
    {
     "name": "stdout",
     "output_type": "stream",
     "text": [
      "5085/5085 [==============================] - 4s 730us/step - loss: 0.0057 - auc_23: 0.4954\n",
      "5085/5085 [==============================] - 5s 780us/step - loss: 0.0057 - auc_23: 0.4957\n",
      "565/565 [==============================] - 0s 568us/steposs: 0.0057 - auc_23: 0.48\n",
      "5085/5085 [==============================] - 4s 767us/step - loss: 0.0057 - auc_23: 0.4974\n",
      "5085/5085 [==============================] - 5s 788us/step - loss: 0.0057 - auc_24: 0.4969\n",
      "2524/5085 [=============>................] - ETA: 2s - loss: 0.0057 - auc_23: 0.5015"
     ]
    },
    {
     "name": "stderr",
     "output_type": "stream",
     "text": [
      "/Users/rem76/miniconda3/envs/GISP_init/lib/python3.10/site-packages/scikeras/wrappers.py:915: UserWarning: ``build_fn`` will be renamed to ``model`` in a future release, at which point use of ``build_fn`` will raise an Error instead.\n",
      "  X, y = self._initialize(X, y)\n"
     ]
    },
    {
     "name": "stdout",
     "output_type": "stream",
     "text": [
      "565/565 [==============================] - 0s 577us/steposs: 0.0057 - auc_23: 0.49\n",
      "565/565 [==============================] - 0s 450us/steposs: 0.0057 - auc_23: 0.49\n",
      "565/565 [==============================] - 0s 603us/steposs: 0.0057 - auc_23: 0.49\n",
      "5085/5085 [==============================] - 4s 768us/step - loss: 0.0057 - auc_23: 0.4912\n",
      "1950/5085 [==========>...................] - ETA: 2s - loss: 0.0057 - auc_23: 0.4950"
     ]
    },
    {
     "name": "stderr",
     "output_type": "stream",
     "text": [
      "/Users/rem76/miniconda3/envs/GISP_init/lib/python3.10/site-packages/scikeras/wrappers.py:915: UserWarning: ``build_fn`` will be renamed to ``model`` in a future release, at which point use of ``build_fn`` will raise an Error instead.\n",
      "  X, y = self._initialize(X, y)\n",
      "/Users/rem76/miniconda3/envs/GISP_init/lib/python3.10/site-packages/scikeras/wrappers.py:915: UserWarning: ``build_fn`` will be renamed to ``model`` in a future release, at which point use of ``build_fn`` will raise an Error instead.\n",
      "  X, y = self._initialize(X, y)\n",
      "/Users/rem76/miniconda3/envs/GISP_init/lib/python3.10/site-packages/scikeras/wrappers.py:915: UserWarning: ``build_fn`` will be renamed to ``model`` in a future release, at which point use of ``build_fn`` will raise an Error instead.\n",
      "  X, y = self._initialize(X, y)\n"
     ]
    },
    {
     "name": "stdout",
     "output_type": "stream",
     "text": [
      "5085/5085 [==============================] - 4s 761us/step - loss: 0.0057 - auc_23: 0.4984\n",
      "565/565 [==============================] - 0s 680us/steposs: 0.0057 - auc_23: 0.49\n",
      "310/565 [===============>..............] - ETA: 0s0s - loss: 0.0057 - auc_23: 0.49000  "
     ]
    },
    {
     "name": "stderr",
     "output_type": "stream",
     "text": [
      "/Users/rem76/miniconda3/envs/GISP_init/lib/python3.10/site-packages/scikeras/wrappers.py:915: UserWarning: ``build_fn`` will be renamed to ``model`` in a future release, at which point use of ``build_fn`` will raise an Error instead.\n",
      "  X, y = self._initialize(X, y)\n"
     ]
    },
    {
     "name": "stdout",
     "output_type": "stream",
     "text": [
      "565/565 [==============================] - 1s 970us/steposs: 0.0056 - auc_25: 0.5000    0\n",
      "1119/5085 [=====>........................] - ETA: 3s - loss: 0.0057 - auc_24: 0.4906"
     ]
    },
    {
     "name": "stderr",
     "output_type": "stream",
     "text": [
      "/Users/rem76/miniconda3/envs/GISP_init/lib/python3.10/site-packages/scikeras/wrappers.py:915: UserWarning: ``build_fn`` will be renamed to ``model`` in a future release, at which point use of ``build_fn`` will raise an Error instead.\n",
      "  X, y = self._initialize(X, y)\n"
     ]
    },
    {
     "name": "stdout",
     "output_type": "stream",
     "text": [
      "5085/5085 [==============================] - 5s 841us/step - loss: 0.0057 - auc_23: 0.4981\n",
      "565/565 [==============================] - 0s 606us/steposs: 0.0057 - auc_24: 0.49\n",
      "2053/5085 [===========>..................] - ETA: 2s - loss: 0.0057 - auc_24: 0.4951"
     ]
    },
    {
     "name": "stderr",
     "output_type": "stream",
     "text": [
      "/Users/rem76/miniconda3/envs/GISP_init/lib/python3.10/site-packages/scikeras/wrappers.py:915: UserWarning: ``build_fn`` will be renamed to ``model`` in a future release, at which point use of ``build_fn`` will raise an Error instead.\n",
      "  X, y = self._initialize(X, y)\n"
     ]
    },
    {
     "name": "stdout",
     "output_type": "stream",
     "text": [
      "5085/5085 [==============================] - 5s 762us/step - loss: 0.0057 - auc_23: 0.4967\n",
      "565/565 [==============================] - 0s 646us/steposs: 0.0057 - auc_24: 0.4938 \n",
      "3395/5085 [===================>..........] - ETA: 1s - loss: 0.0057 - auc_24: 0.4937 "
     ]
    },
    {
     "name": "stderr",
     "output_type": "stream",
     "text": [
      "/Users/rem76/miniconda3/envs/GISP_init/lib/python3.10/site-packages/scikeras/wrappers.py:915: UserWarning: ``build_fn`` will be renamed to ``model`` in a future release, at which point use of ``build_fn`` will raise an Error instead.\n",
      "  X, y = self._initialize(X, y)\n"
     ]
    },
    {
     "name": "stdout",
     "output_type": "stream",
     "text": [
      "5085/5085 [==============================] - 5s 756us/step - loss: 0.0057 - auc_24: 0.4978\n",
      "5085/5085 [==============================] - 5s 736us/step - loss: 0.0057 - auc_24: 0.4965\n",
      "5085/5085 [==============================] - 5s 734us/step - loss: 0.0057 - auc_24: 0.4966\n",
      "5085/5085 [==============================] - 4s 684us/step - loss: 0.0057 - auc_24: 0.4949\n",
      "5085/5085 [==============================] - 5s 757us/step - loss: 0.0057 - auc_25: 0.4960\n",
      "565/565 [==============================] - 0s 615us/steposs: 0.0057 - auc_24: 0.49\n",
      "565/565 [==============================] - 0s 522us/steposs: 0.0057 - auc_24: 0.49\n",
      "565/565 [==============================] - 0s 321us/steposs: 0.0057 - auc_24: 0.49\n",
      "565/565 [==============================] - 0s 561us/step\n",
      "565/565 [==============================] - 0s 355us/step\n",
      "3690/5085 [====================>.........] - ETA: 0s - loss: 0.0057 - auc_24: 0.4943"
     ]
    },
    {
     "name": "stderr",
     "output_type": "stream",
     "text": [
      "/Users/rem76/miniconda3/envs/GISP_init/lib/python3.10/site-packages/scikeras/wrappers.py:915: UserWarning: ``build_fn`` will be renamed to ``model`` in a future release, at which point use of ``build_fn`` will raise an Error instead.\n",
      "  X, y = self._initialize(X, y)\n",
      "/Users/rem76/miniconda3/envs/GISP_init/lib/python3.10/site-packages/scikeras/wrappers.py:915: UserWarning: ``build_fn`` will be renamed to ``model`` in a future release, at which point use of ``build_fn`` will raise an Error instead.\n",
      "  X, y = self._initialize(X, y)\n",
      "/Users/rem76/miniconda3/envs/GISP_init/lib/python3.10/site-packages/scikeras/wrappers.py:915: UserWarning: ``build_fn`` will be renamed to ``model`` in a future release, at which point use of ``build_fn`` will raise an Error instead.\n",
      "  X, y = self._initialize(X, y)\n",
      "/Users/rem76/miniconda3/envs/GISP_init/lib/python3.10/site-packages/scikeras/wrappers.py:915: UserWarning: ``build_fn`` will be renamed to ``model`` in a future release, at which point use of ``build_fn`` will raise an Error instead.\n",
      "  X, y = self._initialize(X, y)\n"
     ]
    },
    {
     "name": "stdout",
     "output_type": "stream",
     "text": [
      "1829/2543 [====================>.........] - ETA: 0s - loss: 0.0057 - auc_24: 0.4988"
     ]
    },
    {
     "name": "stderr",
     "output_type": "stream",
     "text": [
      "/Users/rem76/miniconda3/envs/GISP_init/lib/python3.10/site-packages/scikeras/wrappers.py:915: UserWarning: ``build_fn`` will be renamed to ``model`` in a future release, at which point use of ``build_fn`` will raise an Error instead.\n",
      "  X, y = self._initialize(X, y)\n"
     ]
    },
    {
     "name": "stdout",
     "output_type": "stream",
     "text": [
      "5085/5085 [==============================] - 4s 653us/step - loss: 0.0057 - auc_24: 0.4958\n",
      "2543/2543 [==============================] - 3s 573us/step - loss: 0.0057 - auc_24: 0.4980\n",
      "565/565 [==============================] - 0s 602us/steposs: 0.0057 - auc_25: 0.4900 \n",
      "4988/5085 [============================>.] - ETA: 0s - loss: 0.0057 - auc_24: 0.4970"
     ]
    },
    {
     "name": "stderr",
     "output_type": "stream",
     "text": [
      "/Users/rem76/miniconda3/envs/GISP_init/lib/python3.10/site-packages/scikeras/wrappers.py:915: UserWarning: ``build_fn`` will be renamed to ``model`` in a future release, at which point use of ``build_fn`` will raise an Error instead.\n",
      "  X, y = self._initialize(X, y)\n"
     ]
    },
    {
     "name": "stdout",
     "output_type": "stream",
     "text": [
      "5085/5085 [==============================] - 4s 735us/step - loss: 0.0057 - auc_24: 0.4968\n",
      "283/283 [==============================] - 0s 320us/steposs: 0.0057 - auc_25: 0.49\n",
      "2543/2543 [==============================] - 2s 660us/step - loss: 0.0057 - auc_25: 0.4970\n",
      "565/565 [==============================] - 0s 707us/steposs: 0.0057 - auc_26: 0.49\n",
      "1827/2543 [====================>.........] - ETA: 0s - loss: 0.0057 - auc_25: 0.4955"
     ]
    },
    {
     "name": "stderr",
     "output_type": "stream",
     "text": [
      "/Users/rem76/miniconda3/envs/GISP_init/lib/python3.10/site-packages/scikeras/wrappers.py:915: UserWarning: ``build_fn`` will be renamed to ``model`` in a future release, at which point use of ``build_fn`` will raise an Error instead.\n",
      "  X, y = self._initialize(X, y)\n"
     ]
    },
    {
     "name": "stdout",
     "output_type": "stream",
     "text": [
      "2543/2543 [==============================] - 2s 675us/step - loss: 0.0057 - auc_25: 0.4976\n",
      "283/283 [==============================] - 0s 466us/steposs: 0.0057 - auc_25: 0.49\n",
      "2543/2543 [==============================] - 2s 675us/step - loss: 0.0057 - auc_26: 0.4975\n",
      "2543/2543 [==============================] - 2s 662us/step - loss: 0.0057 - auc_25: 0.4989\n",
      "2543/2543 [==============================] - 2s 622us/step - loss: 0.0057 - auc_25: 0.4972\n",
      "283/283 [==============================] - 0s 391us/steposs: 0.0057 - auc_25: 0.49\n"
     ]
    },
    {
     "name": "stderr",
     "output_type": "stream",
     "text": [
      "/Users/rem76/miniconda3/envs/GISP_init/lib/python3.10/site-packages/scikeras/wrappers.py:915: UserWarning: ``build_fn`` will be renamed to ``model`` in a future release, at which point use of ``build_fn`` will raise an Error instead.\n",
      "  X, y = self._initialize(X, y)\n",
      "/Users/rem76/miniconda3/envs/GISP_init/lib/python3.10/site-packages/scikeras/wrappers.py:915: UserWarning: ``build_fn`` will be renamed to ``model`` in a future release, at which point use of ``build_fn`` will raise an Error instead.\n",
      "  X, y = self._initialize(X, y)\n"
     ]
    },
    {
     "name": "stdout",
     "output_type": "stream",
     "text": [
      "283/283 [==============================] - 0s 351us/step\n",
      "   1/2543 [..............................] - ETA: 7:41 - loss: 0.0057 - auc_26: 0.5000 "
     ]
    },
    {
     "name": "stderr",
     "output_type": "stream",
     "text": [
      "/Users/rem76/miniconda3/envs/GISP_init/lib/python3.10/site-packages/scikeras/wrappers.py:915: UserWarning: ``build_fn`` will be renamed to ``model`` in a future release, at which point use of ``build_fn`` will raise an Error instead.\n",
      "  X, y = self._initialize(X, y)\n",
      "/Users/rem76/miniconda3/envs/GISP_init/lib/python3.10/site-packages/scikeras/wrappers.py:915: UserWarning: ``build_fn`` will be renamed to ``model`` in a future release, at which point use of ``build_fn`` will raise an Error instead.\n",
      "  X, y = self._initialize(X, y)\n"
     ]
    },
    {
     "name": "stdout",
     "output_type": "stream",
     "text": [
      "283/283 [==============================] - 0s 440us/steposs: 0.0057 - auc_26: 0.49\n",
      "1145/2543 [============>.................] - ETA: 1s - loss: 0.0057 - auc_25: 0.4959"
     ]
    },
    {
     "name": "stderr",
     "output_type": "stream",
     "text": [
      "/Users/rem76/miniconda3/envs/GISP_init/lib/python3.10/site-packages/scikeras/wrappers.py:915: UserWarning: ``build_fn`` will be renamed to ``model`` in a future release, at which point use of ``build_fn`` will raise an Error instead.\n",
      "  X, y = self._initialize(X, y)\n"
     ]
    },
    {
     "name": "stdout",
     "output_type": "stream",
     "text": [
      "283/283 [==============================] - 0s 365us/steposs: 0.0057 - auc_25: 0.491\n",
      "2543/2543 [==============================] - 2s 718us/step - loss: 0.0057 - auc_25: 0.4982\n",
      "1884/2543 [=====================>........] - ETA: 0s - loss: 0.0057 - auc_26: 0.4962"
     ]
    },
    {
     "name": "stderr",
     "output_type": "stream",
     "text": [
      "/Users/rem76/miniconda3/envs/GISP_init/lib/python3.10/site-packages/scikeras/wrappers.py:915: UserWarning: ``build_fn`` will be renamed to ``model`` in a future release, at which point use of ``build_fn`` will raise an Error instead.\n",
      "  X, y = self._initialize(X, y)\n"
     ]
    },
    {
     "name": "stdout",
     "output_type": "stream",
     "text": [
      "283/283 [==============================] - 0s 688us/steposs: 0.0057 - auc_25: 0.49.50\n",
      "2543/2543 [==============================] - 2s 658us/step - loss: 0.0057 - auc_26: 0.4976\n",
      "2543/2543 [==============================] - 2s 717us/step - loss: 0.0057 - auc_25: 0.4970\n",
      "2543/2543 [==============================] - 2s 642us/step - loss: 0.0057 - auc_26: 0.4973\n",
      "2543/2543 [==============================] - 2s 711us/step - loss: 0.0057 - auc_25: 0.4981\n",
      "2543/2543 [==============================] - 2s 660us/step - loss: 0.0057 - auc_26: 0.4973\n",
      " 580/2543 [=====>........................] - ETA: 1s - loss: 0.0057 - auc_27: 0.492500"
     ]
    },
    {
     "name": "stderr",
     "output_type": "stream",
     "text": [
      "/Users/rem76/miniconda3/envs/GISP_init/lib/python3.10/site-packages/scikeras/wrappers.py:915: UserWarning: ``build_fn`` will be renamed to ``model`` in a future release, at which point use of ``build_fn`` will raise an Error instead.\n",
      "  X, y = self._initialize(X, y)\n"
     ]
    },
    {
     "name": "stdout",
     "output_type": "stream",
     "text": [
      "283/283 [==============================] - 0s 474us/steposs: 0.0056 - auc_26: 0.5000 \n",
      "283/283 [==============================] - 0s 633us/steposs: 0.0056 - auc_26: 0.51\n",
      "283/283 [==============================] - 0s 718us/steposs: 0.0057 - auc_26: 0.4950\n",
      "283/283 [==============================] - 0s 713us/step\n",
      "  48/2543 [..............................] - ETA: 2s - loss: 0.0056 - auc_26: 0.5000  "
     ]
    },
    {
     "name": "stderr",
     "output_type": "stream",
     "text": [
      "/Users/rem76/miniconda3/envs/GISP_init/lib/python3.10/site-packages/scikeras/wrappers.py:915: UserWarning: ``build_fn`` will be renamed to ``model`` in a future release, at which point use of ``build_fn`` will raise an Error instead.\n",
      "  X, y = self._initialize(X, y)\n",
      "/Users/rem76/miniconda3/envs/GISP_init/lib/python3.10/site-packages/scikeras/wrappers.py:915: UserWarning: ``build_fn`` will be renamed to ``model`` in a future release, at which point use of ``build_fn`` will raise an Error instead.\n",
      "  X, y = self._initialize(X, y)\n",
      "/Users/rem76/miniconda3/envs/GISP_init/lib/python3.10/site-packages/scikeras/wrappers.py:915: UserWarning: ``build_fn`` will be renamed to ``model`` in a future release, at which point use of ``build_fn`` will raise an Error instead.\n",
      "  X, y = self._initialize(X, y)\n",
      "/Users/rem76/miniconda3/envs/GISP_init/lib/python3.10/site-packages/scikeras/wrappers.py:915: UserWarning: ``build_fn`` will be renamed to ``model`` in a future release, at which point use of ``build_fn`` will raise an Error instead.\n",
      "  X, y = self._initialize(X, y)\n"
     ]
    },
    {
     "name": "stdout",
     "output_type": "stream",
     "text": [
      "283/283 [==============================] - 0s 284us/steposs: 0.0057 - auc_26: 0.4935 \n",
      "1772/2543 [===================>..........] - ETA: 0s - loss: 0.0057 - auc_26: 0.4937 "
     ]
    },
    {
     "name": "stderr",
     "output_type": "stream",
     "text": [
      "/Users/rem76/miniconda3/envs/GISP_init/lib/python3.10/site-packages/scikeras/wrappers.py:915: UserWarning: ``build_fn`` will be renamed to ``model`` in a future release, at which point use of ``build_fn`` will raise an Error instead.\n",
      "  X, y = self._initialize(X, y)\n"
     ]
    },
    {
     "name": "stdout",
     "output_type": "stream",
     "text": [
      "2543/2543 [==============================] - 2s 623us/step - loss: 0.0057 - auc_27: 0.4979\n",
      "283/283 [==============================] - 0s 551us/steposs: 0.0057 - auc_26: 0.497\n",
      "2543/2543 [==============================] - 2s 640us/step - loss: 0.0057 - auc_26: 0.4952\n",
      "2543/2543 [==============================] - 2s 600us/step - loss: 0.0057 - auc_26: 0.4964\n",
      "1276/2543 [==============>...............] - ETA: 0s - loss: 0.0057 - auc_26: 0.4961000"
     ]
    },
    {
     "name": "stderr",
     "output_type": "stream",
     "text": [
      "/Users/rem76/miniconda3/envs/GISP_init/lib/python3.10/site-packages/scikeras/wrappers.py:915: UserWarning: ``build_fn`` will be renamed to ``model`` in a future release, at which point use of ``build_fn`` will raise an Error instead.\n",
      "  X, y = self._initialize(X, y)\n"
     ]
    },
    {
     "name": "stdout",
     "output_type": "stream",
     "text": [
      "283/283 [==============================] - 0s 498us/steposs: 0.0057 - auc_26: 0.4900  \n",
      "283/283 [==============================] - 0s 615us/steposs: 0.0057 - auc_26: 0.49\n",
      "1894/2543 [=====================>........] - ETA: 0s - loss: 0.0057 - auc_26: 0.4951"
     ]
    },
    {
     "name": "stderr",
     "output_type": "stream",
     "text": [
      "/Users/rem76/miniconda3/envs/GISP_init/lib/python3.10/site-packages/scikeras/wrappers.py:915: UserWarning: ``build_fn`` will be renamed to ``model`` in a future release, at which point use of ``build_fn`` will raise an Error instead.\n",
      "  X, y = self._initialize(X, y)\n",
      "/Users/rem76/miniconda3/envs/GISP_init/lib/python3.10/site-packages/scikeras/wrappers.py:915: UserWarning: ``build_fn`` will be renamed to ``model`` in a future release, at which point use of ``build_fn`` will raise an Error instead.\n",
      "  X, y = self._initialize(X, y)\n"
     ]
    },
    {
     "name": "stdout",
     "output_type": "stream",
     "text": [
      "2543/2543 [==============================] - 2s 680us/step - loss: 0.0057 - auc_27: 0.4988\n",
      "2543/2543 [==============================] - 2s 664us/step - loss: 0.0057 - auc_27: 0.4980\n",
      "2543/2543 [==============================] - 2s 643us/step - loss: 0.0057 - auc_26: 0.4974\n",
      "2543/2543 [==============================] - 2s 631us/step - loss: 0.0057 - auc_27: 0.4973\n",
      "283/283 [==============================] - 0s 465us/steposs: 0.0057 - auc_26: 0.49\n",
      "1556/2543 [=================>............] - ETA: 0s - loss: 0.0057 - auc_26: 0.4952 "
     ]
    },
    {
     "name": "stderr",
     "output_type": "stream",
     "text": [
      "/Users/rem76/miniconda3/envs/GISP_init/lib/python3.10/site-packages/scikeras/wrappers.py:915: UserWarning: ``build_fn`` will be renamed to ``model`` in a future release, at which point use of ``build_fn`` will raise an Error instead.\n",
      "  X, y = self._initialize(X, y)\n"
     ]
    },
    {
     "name": "stdout",
     "output_type": "stream",
     "text": [
      "283/283 [==============================] - 0s 387us/steposs: 0.0057 - auc_28: 0.50\n",
      "283/283 [==============================] - 0s 490us/steposs: 0.0057 - auc_26: 0.49\n",
      "283/283 [==============================] - 0s 503us/step\n",
      " 430/2543 [====>.........................] - ETA: 1s - loss: 0.0057 - auc_27: 0.4962 "
     ]
    },
    {
     "name": "stderr",
     "output_type": "stream",
     "text": [
      "/Users/rem76/miniconda3/envs/GISP_init/lib/python3.10/site-packages/scikeras/wrappers.py:915: UserWarning: ``build_fn`` will be renamed to ``model`` in a future release, at which point use of ``build_fn`` will raise an Error instead.\n",
      "  X, y = self._initialize(X, y)\n",
      "/Users/rem76/miniconda3/envs/GISP_init/lib/python3.10/site-packages/scikeras/wrappers.py:915: UserWarning: ``build_fn`` will be renamed to ``model`` in a future release, at which point use of ``build_fn`` will raise an Error instead.\n",
      "  X, y = self._initialize(X, y)\n",
      "/Users/rem76/miniconda3/envs/GISP_init/lib/python3.10/site-packages/scikeras/wrappers.py:915: UserWarning: ``build_fn`` will be renamed to ``model`` in a future release, at which point use of ``build_fn`` will raise an Error instead.\n",
      "  X, y = self._initialize(X, y)\n"
     ]
    },
    {
     "name": "stdout",
     "output_type": "stream",
     "text": [
      "2543/2543 [==============================] - 2s 534us/step - loss: 0.0057 - auc_26: 0.4952\n",
      "283/283 [==============================] - 0s 431us/steposs: 0.0057 - auc_27: 0.509\n",
      "  51/2543 [..............................] - ETA: 2s - loss: 0.0057 - auc_28: 0.5000   "
     ]
    },
    {
     "name": "stderr",
     "output_type": "stream",
     "text": [
      "/Users/rem76/miniconda3/envs/GISP_init/lib/python3.10/site-packages/scikeras/wrappers.py:915: UserWarning: ``build_fn`` will be renamed to ``model`` in a future release, at which point use of ``build_fn`` will raise an Error instead.\n",
      "  X, y = self._initialize(X, y)\n"
     ]
    },
    {
     "name": "stdout",
     "output_type": "stream",
     "text": [
      "2543/2543 [==============================] - 2s 528us/step - loss: 0.0057 - auc_28: 0.4969\n",
      "283/283 [==============================] - 0s 519us/steposs: 0.0057 - auc_27: 0.49\n",
      "2543/2543 [==============================] - 2s 571us/step - loss: 0.0057 - auc_27: 0.4967\n",
      "2543/2543 [==============================] - 2s 562us/step - loss: 0.0057 - auc_27: 0.4968\n",
      "193/283 [===================>..........] - ETA: 0s0s - loss: 0.0057 - auc_28: 0.4940 "
     ]
    },
    {
     "name": "stderr",
     "output_type": "stream",
     "text": [
      "/Users/rem76/miniconda3/envs/GISP_init/lib/python3.10/site-packages/scikeras/wrappers.py:915: UserWarning: ``build_fn`` will be renamed to ``model`` in a future release, at which point use of ``build_fn`` will raise an Error instead.\n",
      "  X, y = self._initialize(X, y)\n"
     ]
    },
    {
     "name": "stdout",
     "output_type": "stream",
     "text": [
      "283/283 [==============================] - 0s 704us/steposs: 0.0057 - auc_28: 0.49\n",
      "283/283 [==============================] - 0s 688us/step\n",
      "2543/2543 [==============================] - 2s 611us/step - loss: 0.0057 - auc_28: 0.4968\n",
      " 895/2543 [=========>....................] - ETA: 1s - loss: 0.0057 - auc_27: 0.4944"
     ]
    },
    {
     "name": "stderr",
     "output_type": "stream",
     "text": [
      "/Users/rem76/miniconda3/envs/GISP_init/lib/python3.10/site-packages/scikeras/wrappers.py:915: UserWarning: ``build_fn`` will be renamed to ``model`` in a future release, at which point use of ``build_fn`` will raise an Error instead.\n",
      "  X, y = self._initialize(X, y)\n",
      "/Users/rem76/miniconda3/envs/GISP_init/lib/python3.10/site-packages/scikeras/wrappers.py:915: UserWarning: ``build_fn`` will be renamed to ``model`` in a future release, at which point use of ``build_fn`` will raise an Error instead.\n",
      "  X, y = self._initialize(X, y)\n"
     ]
    },
    {
     "name": "stdout",
     "output_type": "stream",
     "text": [
      "283/283 [==============================] - 0s 479us/steposs: 0.0057 - auc_28: 0.49.50\n",
      "2543/2543 [==============================] - 2s 621us/step - loss: 0.0057 - auc_28: 0.4982\n",
      "2543/2543 [==============================] - 2s 622us/step - loss: 0.0057 - auc_28: 0.4980\n",
      "2543/2543 [==============================] - 2s 615us/step - loss: 0.0057 - auc_27: 0.4980\n",
      "283/283 [==============================] - 0s 430us/steposs: 0.0057 - auc_29: 0.49\n",
      "283/283 [==============================] - 0s 560us/steposs: 0.0057 - auc_28: 0.5000 00\n",
      "  91/2543 [>.............................] - ETA: 4s - loss: 0.0057 - auc_28: 0.5097 "
     ]
    },
    {
     "name": "stderr",
     "output_type": "stream",
     "text": [
      "/Users/rem76/miniconda3/envs/GISP_init/lib/python3.10/site-packages/scikeras/wrappers.py:915: UserWarning: ``build_fn`` will be renamed to ``model`` in a future release, at which point use of ``build_fn`` will raise an Error instead.\n",
      "  X, y = self._initialize(X, y)\n",
      "/Users/rem76/miniconda3/envs/GISP_init/lib/python3.10/site-packages/scikeras/wrappers.py:915: UserWarning: ``build_fn`` will be renamed to ``model`` in a future release, at which point use of ``build_fn`` will raise an Error instead.\n",
      "  X, y = self._initialize(X, y)\n",
      "/Users/rem76/miniconda3/envs/GISP_init/lib/python3.10/site-packages/scikeras/wrappers.py:915: UserWarning: ``build_fn`` will be renamed to ``model`` in a future release, at which point use of ``build_fn`` will raise an Error instead.\n",
      "  X, y = self._initialize(X, y)\n"
     ]
    },
    {
     "name": "stdout",
     "output_type": "stream",
     "text": [
      "2543/2543 [==============================] - 2s 690us/step - loss: 0.0057 - auc_27: 0.4979\n",
      "283/283 [==============================] - 0s 816us/steposs: 0.0057 - auc_28: 0.49\n",
      "283/283 [==============================] - 0s 425us/steposs: 0.0057 - auc_29: 0.50\n",
      "1214/2543 [=============>................] - ETA: 1s - loss: 0.0057 - auc_29: 0.5017"
     ]
    },
    {
     "name": "stderr",
     "output_type": "stream",
     "text": [
      "/Users/rem76/miniconda3/envs/GISP_init/lib/python3.10/site-packages/scikeras/wrappers.py:915: UserWarning: ``build_fn`` will be renamed to ``model`` in a future release, at which point use of ``build_fn`` will raise an Error instead.\n",
      "  X, y = self._initialize(X, y)\n",
      "/Users/rem76/miniconda3/envs/GISP_init/lib/python3.10/site-packages/scikeras/wrappers.py:915: UserWarning: ``build_fn`` will be renamed to ``model`` in a future release, at which point use of ``build_fn`` will raise an Error instead.\n",
      "  X, y = self._initialize(X, y)\n"
     ]
    },
    {
     "name": "stdout",
     "output_type": "stream",
     "text": [
      "2543/2543 [==============================] - 3s 778us/step - loss: 0.0057 - auc_29: 0.4970\n",
      "2543/2543 [==============================] - 2s 748us/step - loss: 0.0057 - auc_28: 0.4979\n",
      "2543/2543 [==============================] - 2s 761us/step - loss: 0.0057 - auc_28: 0.4982\n",
      "283/283 [==============================] - 0s 481us/steposs: 0.0057 - auc_29: 0.49\n",
      "2543/2543 [==============================] - 2s 713us/step - loss: 0.0057 - auc_29: 0.4962\n",
      "2543/2543 [==============================] - 2s 718us/step - loss: 0.0057 - auc_29: 0.4964\n",
      "2543/2543 [==============================] - 2s 706us/step - loss: 0.0057 - auc_28: 0.4972\n",
      "283/283 [==============================] - 0s 466us/step\n",
      "283/283 [==============================] - 0s 518us/step\n",
      " 230/2543 [=>............................] - ETA: 1s - loss: 0.0057 - auc_28: 0.4998"
     ]
    },
    {
     "name": "stderr",
     "output_type": "stream",
     "text": [
      "/Users/rem76/miniconda3/envs/GISP_init/lib/python3.10/site-packages/scikeras/wrappers.py:915: UserWarning: ``build_fn`` will be renamed to ``model`` in a future release, at which point use of ``build_fn`` will raise an Error instead.\n",
      "  X, y = self._initialize(X, y)\n",
      "/Users/rem76/miniconda3/envs/GISP_init/lib/python3.10/site-packages/scikeras/wrappers.py:915: UserWarning: ``build_fn`` will be renamed to ``model`` in a future release, at which point use of ``build_fn`` will raise an Error instead.\n",
      "  X, y = self._initialize(X, y)\n",
      "/Users/rem76/miniconda3/envs/GISP_init/lib/python3.10/site-packages/scikeras/wrappers.py:915: UserWarning: ``build_fn`` will be renamed to ``model`` in a future release, at which point use of ``build_fn`` will raise an Error instead.\n",
      "  X, y = self._initialize(X, y)\n"
     ]
    },
    {
     "name": "stdout",
     "output_type": "stream",
     "text": [
      "283/283 [==============================] - 0s 317us/steposs: 0.0057 - auc_29: 0.4974\n",
      "283/283 [==============================] - 0s 416us/steposs: 0.0057 - auc_29: 0.4947\n",
      "283/283 [==============================] - 0s 484us/steposs: 0.0057 - auc_29: 0.49\n",
      " 598/2543 [======>.......................] - ETA: 1s - loss: 0.0057 - auc_28: 0.4946"
     ]
    },
    {
     "name": "stderr",
     "output_type": "stream",
     "text": [
      "/Users/rem76/miniconda3/envs/GISP_init/lib/python3.10/site-packages/scikeras/wrappers.py:915: UserWarning: ``build_fn`` will be renamed to ``model`` in a future release, at which point use of ``build_fn`` will raise an Error instead.\n",
      "  X, y = self._initialize(X, y)\n",
      "/Users/rem76/miniconda3/envs/GISP_init/lib/python3.10/site-packages/scikeras/wrappers.py:915: UserWarning: ``build_fn`` will be renamed to ``model`` in a future release, at which point use of ``build_fn`` will raise an Error instead.\n",
      "  X, y = self._initialize(X, y)\n"
     ]
    },
    {
     "name": "stdout",
     "output_type": "stream",
     "text": [
      "1008/2543 [==========>...................] - ETA: 0s - loss: 0.0057 - auc_28: 0.4975"
     ]
    },
    {
     "name": "stderr",
     "output_type": "stream",
     "text": [
      "/Users/rem76/miniconda3/envs/GISP_init/lib/python3.10/site-packages/scikeras/wrappers.py:915: UserWarning: ``build_fn`` will be renamed to ``model`` in a future release, at which point use of ``build_fn`` will raise an Error instead.\n",
      "  X, y = self._initialize(X, y)\n"
     ]
    },
    {
     "name": "stdout",
     "output_type": "stream",
     "text": [
      "2543/2543 [==============================] - 2s 701us/step - loss: 0.0057 - auc_29: 0.4968\n",
      "2543/2543 [==============================] - 2s 704us/step - loss: 0.0057 - auc_28: 0.4970\n",
      "283/283 [==============================] - 0s 668us/steposs: 0.0057 - auc_29: 0.49\n",
      "283/283 [==============================] - 0s 667us/steposs: 0.0057 - auc_29: 0.49\n",
      "1790/2543 [====================>.........] - ETA: 0s - loss: 0.0056 - auc_29: 0.4980"
     ]
    },
    {
     "name": "stderr",
     "output_type": "stream",
     "text": [
      "/Users/rem76/miniconda3/envs/GISP_init/lib/python3.10/site-packages/scikeras/wrappers.py:915: UserWarning: ``build_fn`` will be renamed to ``model`` in a future release, at which point use of ``build_fn`` will raise an Error instead.\n",
      "  X, y = self._initialize(X, y)\n",
      "/Users/rem76/miniconda3/envs/GISP_init/lib/python3.10/site-packages/scikeras/wrappers.py:915: UserWarning: ``build_fn`` will be renamed to ``model`` in a future release, at which point use of ``build_fn`` will raise an Error instead.\n",
      "  X, y = self._initialize(X, y)\n"
     ]
    },
    {
     "name": "stdout",
     "output_type": "stream",
     "text": [
      "2543/2543 [==============================] - 2s 783us/step - loss: 0.0057 - auc_30: 0.4962\n",
      "2543/2543 [==============================] - 2s 820us/step - loss: 0.0057 - auc_30: 0.4973\n",
      "2543/2543 [==============================] - 2s 824us/step - loss: 0.0057 - auc_29: 0.4985\n",
      "2543/2543 [==============================] - 2s 859us/step - loss: 0.0057 - auc_29: 0.4982\n",
      "2543/2543 [==============================] - 2s 849us/step - loss: 0.0057 - auc_30: 0.4976\n",
      "283/283 [==============================] - 0s 541us/step\n",
      "2543/2543 [==============================] - 2s 847us/step - loss: 0.0057 - auc_29: 0.4963\n",
      "283/283 [==============================] - 0s 361us/step\n",
      "283/283 [==============================] - 0s 580us/step\n",
      "283/283 [==============================] - 0s 468us/step\n",
      "283/283 [==============================] - 0s 556us/step\n",
      " 97/283 [=========>....................] - ETA: 0s28:44 - loss: 0.0056 - auc_29: 0.5000"
     ]
    },
    {
     "name": "stderr",
     "output_type": "stream",
     "text": [
      "/Users/rem76/miniconda3/envs/GISP_init/lib/python3.10/site-packages/scikeras/wrappers.py:915: UserWarning: ``build_fn`` will be renamed to ``model`` in a future release, at which point use of ``build_fn`` will raise an Error instead.\n",
      "  X, y = self._initialize(X, y)\n",
      "/Users/rem76/miniconda3/envs/GISP_init/lib/python3.10/site-packages/scikeras/wrappers.py:915: UserWarning: ``build_fn`` will be renamed to ``model`` in a future release, at which point use of ``build_fn`` will raise an Error instead.\n",
      "  X, y = self._initialize(X, y)\n",
      "/Users/rem76/miniconda3/envs/GISP_init/lib/python3.10/site-packages/scikeras/wrappers.py:915: UserWarning: ``build_fn`` will be renamed to ``model`` in a future release, at which point use of ``build_fn`` will raise an Error instead.\n",
      "  X, y = self._initialize(X, y)\n",
      "/Users/rem76/miniconda3/envs/GISP_init/lib/python3.10/site-packages/scikeras/wrappers.py:915: UserWarning: ``build_fn`` will be renamed to ``model`` in a future release, at which point use of ``build_fn`` will raise an Error instead.\n",
      "  X, y = self._initialize(X, y)\n",
      "/Users/rem76/miniconda3/envs/GISP_init/lib/python3.10/site-packages/scikeras/wrappers.py:915: UserWarning: ``build_fn`` will be renamed to ``model`` in a future release, at which point use of ``build_fn`` will raise an Error instead.\n",
      "  X, y = self._initialize(X, y)\n"
     ]
    },
    {
     "name": "stdout",
     "output_type": "stream",
     "text": [
      "283/283 [==============================] - 0s 834us/steposs: 0.0056 - auc_29: 0.5200  \n",
      " 383/2543 [===>..........................] - ETA: 2s - loss: 0.0057 - auc_30: 0.4983"
     ]
    },
    {
     "name": "stderr",
     "output_type": "stream",
     "text": [
      "/Users/rem76/miniconda3/envs/GISP_init/lib/python3.10/site-packages/scikeras/wrappers.py:915: UserWarning: ``build_fn`` will be renamed to ``model`` in a future release, at which point use of ``build_fn`` will raise an Error instead.\n",
      "  X, y = self._initialize(X, y)\n"
     ]
    },
    {
     "name": "stdout",
     "output_type": "stream",
     "text": [
      "2543/2543 [==============================] - 3s 928us/step - loss: 0.0057 - auc_30: 0.4970\n",
      "2543/2543 [==============================] - 3s 970us/step - loss: 0.0057 - auc_29: 0.4973\n",
      "2543/2543 [==============================] - 2s 817us/step - loss: 0.0057 - auc_31: 0.4980\n",
      "283/283 [==============================] - 0s 488us/step\n",
      "2543/2543 [==============================] - 3s 858us/step - loss: 0.0057 - auc_31: 0.4984\n",
      "2543/2543 [==============================] - 2s 849us/step - loss: 0.0057 - auc_30: 0.4976\n",
      "283/283 [==============================] - 0s 540us/step\n",
      "2543/2543 [==============================] - 2s 893us/step - loss: 0.0057 - auc_31: 0.4976\n",
      "2543/2543 [==============================] - 3s 877us/step - loss: 0.0057 - auc_30: 0.4990\n",
      "283/283 [==============================] - 0s 651us/steposs: 0.0057 - auc_30: 0.49\n"
     ]
    },
    {
     "name": "stderr",
     "output_type": "stream",
     "text": [
      "/Users/rem76/miniconda3/envs/GISP_init/lib/python3.10/site-packages/scikeras/wrappers.py:915: UserWarning: ``build_fn`` will be renamed to ``model`` in a future release, at which point use of ``build_fn`` will raise an Error instead.\n",
      "  X, y = self._initialize(X, y)\n",
      "/Users/rem76/miniconda3/envs/GISP_init/lib/python3.10/site-packages/scikeras/wrappers.py:915: UserWarning: ``build_fn`` will be renamed to ``model`` in a future release, at which point use of ``build_fn`` will raise an Error instead.\n",
      "  X, y = self._initialize(X, y)\n"
     ]
    },
    {
     "name": "stdout",
     "output_type": "stream",
     "text": [
      "283/283 [==============================] - 0s 465us/steposs: 0.0057 - auc_30: 0.49\n",
      "283/283 [==============================] - 0s 665us/step\n",
      "2543/2543 [==============================] - 2s 866us/step - loss: 0.0057 - auc_30: 0.4976\n",
      "283/283 [==============================] - 0s 307us/step\n",
      "283/283 [==============================] - 0s 600us/step\n",
      "145/283 [==============>...............] - ETA: 0s"
     ]
    },
    {
     "name": "stderr",
     "output_type": "stream",
     "text": [
      "/Users/rem76/miniconda3/envs/GISP_init/lib/python3.10/site-packages/scikeras/wrappers.py:915: UserWarning: ``build_fn`` will be renamed to ``model`` in a future release, at which point use of ``build_fn`` will raise an Error instead.\n",
      "  X, y = self._initialize(X, y)\n",
      "/Users/rem76/miniconda3/envs/GISP_init/lib/python3.10/site-packages/scikeras/wrappers.py:915: UserWarning: ``build_fn`` will be renamed to ``model`` in a future release, at which point use of ``build_fn`` will raise an Error instead.\n",
      "  X, y = self._initialize(X, y)\n",
      "/Users/rem76/miniconda3/envs/GISP_init/lib/python3.10/site-packages/scikeras/wrappers.py:915: UserWarning: ``build_fn`` will be renamed to ``model`` in a future release, at which point use of ``build_fn`` will raise an Error instead.\n",
      "  X, y = self._initialize(X, y)\n",
      "/Users/rem76/miniconda3/envs/GISP_init/lib/python3.10/site-packages/scikeras/wrappers.py:915: UserWarning: ``build_fn`` will be renamed to ``model`` in a future release, at which point use of ``build_fn`` will raise an Error instead.\n",
      "  X, y = self._initialize(X, y)\n",
      "/Users/rem76/miniconda3/envs/GISP_init/lib/python3.10/site-packages/scikeras/wrappers.py:915: UserWarning: ``build_fn`` will be renamed to ``model`` in a future release, at which point use of ``build_fn`` will raise an Error instead.\n",
      "  X, y = self._initialize(X, y)\n"
     ]
    },
    {
     "name": "stdout",
     "output_type": "stream",
     "text": [
      "283/283 [==============================] - 0s 987us/steposs: 0.0057 - auc_31: 0.5000 0\n",
      " 415/2543 [===>..........................] - ETA: 1s - loss: 0.0057 - auc_32: 0.4940"
     ]
    },
    {
     "name": "stderr",
     "output_type": "stream",
     "text": [
      "/Users/rem76/miniconda3/envs/GISP_init/lib/python3.10/site-packages/scikeras/wrappers.py:915: UserWarning: ``build_fn`` will be renamed to ``model`` in a future release, at which point use of ``build_fn`` will raise an Error instead.\n",
      "  X, y = self._initialize(X, y)\n"
     ]
    },
    {
     "name": "stdout",
     "output_type": "stream",
     "text": [
      "2543/2543 [==============================] - 2s 775us/step - loss: 0.0057 - auc_31: 0.4965\n",
      "2543/2543 [==============================] - 2s 683us/step - loss: 0.0057 - auc_31: 0.4968\n",
      "283/283 [==============================] - 0s 696us/steposs: 0.0057 - auc_32: 0.49\n",
      "2543/2543 [==============================] - 2s 835us/step - loss: 0.0057 - auc_32: 0.4967\n",
      "283/283 [==============================] - 0s 842us/steposs: 0.0057 - auc_31: 0.49\n",
      "2543/2543 [==============================] - 2s 840us/step - loss: 0.0057 - auc_31: 0.4955\n",
      "2543/2543 [==============================] - 2s 833us/step - loss: 0.0057 - auc_32: 0.4989\n",
      "2543/2543 [==============================] - 3s 888us/step - loss: 0.0057 - auc_30: 0.4965\n",
      "2543/2543 [==============================] - 2s 836us/step - loss: 0.0057 - auc_32: 0.4982\n",
      "1812/2543 [====================>.........] - ETA: 0s - loss: 0.0057 - auc_31: 0.4944"
     ]
    },
    {
     "name": "stderr",
     "output_type": "stream",
     "text": [
      "/Users/rem76/miniconda3/envs/GISP_init/lib/python3.10/site-packages/scikeras/wrappers.py:915: UserWarning: ``build_fn`` will be renamed to ``model`` in a future release, at which point use of ``build_fn`` will raise an Error instead.\n",
      "  X, y = self._initialize(X, y)\n",
      "/Users/rem76/miniconda3/envs/GISP_init/lib/python3.10/site-packages/scikeras/wrappers.py:915: UserWarning: ``build_fn`` will be renamed to ``model`` in a future release, at which point use of ``build_fn`` will raise an Error instead.\n",
      "  X, y = self._initialize(X, y)\n"
     ]
    },
    {
     "name": "stdout",
     "output_type": "stream",
     "text": [
      "283/283 [==============================] - 0s 449us/steposs: 0.0057 - auc_31: 0.4952\n",
      "283/283 [==============================] - 0s 644us/step\n",
      "283/283 [==============================] - 0s 679us/step\n",
      "283/283 [==============================] - 0s 519us/step\n",
      "283/283 [==============================] - 0s 518us/steposs: 0.0057 - auc_31: 0.49\n",
      "2306/2543 [==========================>...] - ETA: 0s - loss: 0.0057 - auc_31: 0.4969"
     ]
    },
    {
     "name": "stderr",
     "output_type": "stream",
     "text": [
      "/Users/rem76/miniconda3/envs/GISP_init/lib/python3.10/site-packages/scikeras/wrappers.py:915: UserWarning: ``build_fn`` will be renamed to ``model`` in a future release, at which point use of ``build_fn`` will raise an Error instead.\n",
      "  X, y = self._initialize(X, y)\n",
      "/Users/rem76/miniconda3/envs/GISP_init/lib/python3.10/site-packages/scikeras/wrappers.py:915: UserWarning: ``build_fn`` will be renamed to ``model`` in a future release, at which point use of ``build_fn`` will raise an Error instead.\n",
      "  X, y = self._initialize(X, y)\n",
      "/Users/rem76/miniconda3/envs/GISP_init/lib/python3.10/site-packages/scikeras/wrappers.py:915: UserWarning: ``build_fn`` will be renamed to ``model`` in a future release, at which point use of ``build_fn`` will raise an Error instead.\n",
      "  X, y = self._initialize(X, y)\n",
      "/Users/rem76/miniconda3/envs/GISP_init/lib/python3.10/site-packages/scikeras/wrappers.py:915: UserWarning: ``build_fn`` will be renamed to ``model`` in a future release, at which point use of ``build_fn`` will raise an Error instead.\n",
      "  X, y = self._initialize(X, y)\n",
      "/Users/rem76/miniconda3/envs/GISP_init/lib/python3.10/site-packages/scikeras/wrappers.py:915: UserWarning: ``build_fn`` will be renamed to ``model`` in a future release, at which point use of ``build_fn`` will raise an Error instead.\n",
      "  X, y = self._initialize(X, y)\n"
     ]
    },
    {
     "name": "stdout",
     "output_type": "stream",
     "text": [
      "2543/2543 [==============================] - 2s 845us/step - loss: 0.0057 - auc_31: 0.4970\n",
      "283/283 [==============================] - 0s 746us/steposs: 0.0057 - auc_32: 0.494\n",
      " 809/2543 [========>.....................] - ETA: 1s - loss: 0.0057 - auc_32: 0.4951"
     ]
    },
    {
     "name": "stderr",
     "output_type": "stream",
     "text": [
      "/Users/rem76/miniconda3/envs/GISP_init/lib/python3.10/site-packages/scikeras/wrappers.py:915: UserWarning: ``build_fn`` will be renamed to ``model`` in a future release, at which point use of ``build_fn`` will raise an Error instead.\n",
      "  X, y = self._initialize(X, y)\n"
     ]
    },
    {
     "name": "stdout",
     "output_type": "stream",
     "text": [
      "2543/2543 [==============================] - 2s 784us/step - loss: 0.0057 - auc_31: 0.4966\n",
      "2543/2543 [==============================] - 2s 796us/step - loss: 0.0057 - auc_32: 0.4951\n",
      "2543/2543 [==============================] - 2s 842us/step - loss: 0.0057 - auc_32: 0.4973\n",
      "2543/2543 [==============================] - 2s 829us/step - loss: 0.0057 - auc_32: 0.4964\n",
      "2543/2543 [==============================] - 2s 807us/step - loss: 0.0057 - auc_33: 0.4965\n",
      "283/283 [==============================] - 0s 466us/steposs: 0.0057 - auc_32: 0.4958\n",
      "283/283 [==============================] - 0s 426us/steposs: 0.0057 - auc_33: 0.49\n",
      "283/283 [==============================] - 0s 429us/steposs: 0.0057 - auc_33: 0.49\n",
      "2543/2543 [==============================] - 2s 880us/step - loss: 0.0057 - auc_33: 0.4964\n",
      "2543/2543 [==============================] - 2s 904us/step - loss: 0.0057 - auc_33: 0.4968\n",
      " 80/283 [=======>......................] - ETA: 0s1s - loss: 0.0057 - auc_32: 0.4923"
     ]
    },
    {
     "name": "stderr",
     "output_type": "stream",
     "text": [
      "/Users/rem76/miniconda3/envs/GISP_init/lib/python3.10/site-packages/scikeras/wrappers.py:915: UserWarning: ``build_fn`` will be renamed to ``model`` in a future release, at which point use of ``build_fn`` will raise an Error instead.\n",
      "  X, y = self._initialize(X, y)\n",
      "/Users/rem76/miniconda3/envs/GISP_init/lib/python3.10/site-packages/scikeras/wrappers.py:915: UserWarning: ``build_fn`` will be renamed to ``model`` in a future release, at which point use of ``build_fn`` will raise an Error instead.\n",
      "  X, y = self._initialize(X, y)\n",
      "/Users/rem76/miniconda3/envs/GISP_init/lib/python3.10/site-packages/scikeras/wrappers.py:915: UserWarning: ``build_fn`` will be renamed to ``model`` in a future release, at which point use of ``build_fn`` will raise an Error instead.\n",
      "  X, y = self._initialize(X, y)\n"
     ]
    },
    {
     "name": "stdout",
     "output_type": "stream",
     "text": [
      "283/283 [==============================] - 0s 662us/step loss: 0.0054 - auc_32: 0.5000\n",
      "283/283 [==============================] - 0s 874us/steposs: 0.0057 - auc_32: 0.5150  \n",
      "283/283 [==============================] - 0s 533us/steposs: 0.0057 - auc_32: 0.4900\n",
      "283/283 [==============================] - 0s 707us/steposs: 0.0057 - auc_32: 0.50\n",
      " 232/2543 [=>............................] - ETA: 2s - loss: 0.0057 - auc_34: 0.5056"
     ]
    },
    {
     "name": "stderr",
     "output_type": "stream",
     "text": [
      "/Users/rem76/miniconda3/envs/GISP_init/lib/python3.10/site-packages/scikeras/wrappers.py:915: UserWarning: ``build_fn`` will be renamed to ``model`` in a future release, at which point use of ``build_fn`` will raise an Error instead.\n",
      "  X, y = self._initialize(X, y)\n",
      "/Users/rem76/miniconda3/envs/GISP_init/lib/python3.10/site-packages/scikeras/wrappers.py:915: UserWarning: ``build_fn`` will be renamed to ``model`` in a future release, at which point use of ``build_fn`` will raise an Error instead.\n",
      "  X, y = self._initialize(X, y)\n",
      "/Users/rem76/miniconda3/envs/GISP_init/lib/python3.10/site-packages/scikeras/wrappers.py:915: UserWarning: ``build_fn`` will be renamed to ``model`` in a future release, at which point use of ``build_fn`` will raise an Error instead.\n",
      "  X, y = self._initialize(X, y)\n",
      "/Users/rem76/miniconda3/envs/GISP_init/lib/python3.10/site-packages/scikeras/wrappers.py:915: UserWarning: ``build_fn`` will be renamed to ``model`` in a future release, at which point use of ``build_fn`` will raise an Error instead.\n",
      "  X, y = self._initialize(X, y)\n"
     ]
    },
    {
     "name": "stdout",
     "output_type": "stream",
     "text": [
      "2543/2543 [==============================] - 3s 684us/step - loss: 0.0057 - auc_32: 0.4966\n",
      "283/283 [==============================] - 0s 676us/steposs: 0.0057 - auc_32: 0.4900 \n",
      "2186/2543 [========================>.....] - ETA: 0s - loss: 0.0057 - auc_32: 0.4962"
     ]
    },
    {
     "name": "stderr",
     "output_type": "stream",
     "text": [
      "/Users/rem76/miniconda3/envs/GISP_init/lib/python3.10/site-packages/scikeras/wrappers.py:915: UserWarning: ``build_fn`` will be renamed to ``model`` in a future release, at which point use of ``build_fn`` will raise an Error instead.\n",
      "  X, y = self._initialize(X, y)\n"
     ]
    },
    {
     "name": "stdout",
     "output_type": "stream",
     "text": [
      "2543/2543 [==============================] - 2s 737us/step - loss: 0.0057 - auc_32: 0.4971\n",
      "2543/2543 [==============================] - 2s 780us/step - loss: 0.0057 - auc_34: 0.4985\n",
      "2543/2543 [==============================] - 2s 809us/step - loss: 0.0057 - auc_33: 0.4981\n",
      "283/283 [==============================] - 0s 617us/steposs: 0.0057 - auc_34: 0.4900 \n",
      "283/283 [==============================] - 0s 618us/step\n",
      "2097/2543 [=======================>......] - ETA: 0s - loss: 0.0057 - auc_33: 0.4960"
     ]
    },
    {
     "name": "stderr",
     "output_type": "stream",
     "text": [
      "/Users/rem76/miniconda3/envs/GISP_init/lib/python3.10/site-packages/scikeras/wrappers.py:915: UserWarning: ``build_fn`` will be renamed to ``model`` in a future release, at which point use of ``build_fn`` will raise an Error instead.\n",
      "  X, y = self._initialize(X, y)\n",
      "/Users/rem76/miniconda3/envs/GISP_init/lib/python3.10/site-packages/scikeras/wrappers.py:915: UserWarning: ``build_fn`` will be renamed to ``model`` in a future release, at which point use of ``build_fn`` will raise an Error instead.\n",
      "  X, y = self._initialize(X, y)\n"
     ]
    },
    {
     "name": "stdout",
     "output_type": "stream",
     "text": [
      "283/283 [==============================] - 0s 541us/steposs: 0.0057 - auc_34: 0.498\n",
      "2543/2543 [==============================] - 2s 768us/step - loss: 0.0057 - auc_33: 0.4988\n",
      "2543/2543 [==============================] - 3s 780us/step - loss: 0.0057 - auc_34: 0.4966\n",
      "2543/2543 [==============================] - 3s 778us/step - loss: 0.0057 - auc_34: 0.4963\n",
      "2543/2543 [==============================] - 3s 803us/step - loss: 0.0057 - auc_33: 0.4978\n",
      "  1/283 [..............................] - ETA: 20ss - loss: 0.0057 - auc_35: 0.4986"
     ]
    },
    {
     "name": "stderr",
     "output_type": "stream",
     "text": [
      "/Users/rem76/miniconda3/envs/GISP_init/lib/python3.10/site-packages/scikeras/wrappers.py:915: UserWarning: ``build_fn`` will be renamed to ``model`` in a future release, at which point use of ``build_fn`` will raise an Error instead.\n",
      "  X, y = self._initialize(X, y)\n"
     ]
    },
    {
     "name": "stdout",
     "output_type": "stream",
     "text": [
      "283/283 [==============================] - 0s 447us/steposs: 0.0057 - auc_33: 0.4959\n",
      "283/283 [==============================] - 0s 632us/steposs: 0.0057 - auc_35: 0.497\n",
      "283/283 [==============================] - 0s 656us/steposs: 0.0057 - auc_33: 0.49\n",
      "283/283 [==============================] - 0s 395us/step\n",
      " 867/2543 [=========>....................] - ETA: 1s - loss: 0.0057 - auc_35: 0.4930"
     ]
    },
    {
     "name": "stderr",
     "output_type": "stream",
     "text": [
      "/Users/rem76/miniconda3/envs/GISP_init/lib/python3.10/site-packages/scikeras/wrappers.py:915: UserWarning: ``build_fn`` will be renamed to ``model`` in a future release, at which point use of ``build_fn`` will raise an Error instead.\n",
      "  X, y = self._initialize(X, y)\n",
      "/Users/rem76/miniconda3/envs/GISP_init/lib/python3.10/site-packages/scikeras/wrappers.py:915: UserWarning: ``build_fn`` will be renamed to ``model`` in a future release, at which point use of ``build_fn`` will raise an Error instead.\n",
      "  X, y = self._initialize(X, y)\n",
      "/Users/rem76/miniconda3/envs/GISP_init/lib/python3.10/site-packages/scikeras/wrappers.py:915: UserWarning: ``build_fn`` will be renamed to ``model`` in a future release, at which point use of ``build_fn`` will raise an Error instead.\n",
      "  X, y = self._initialize(X, y)\n",
      "/Users/rem76/miniconda3/envs/GISP_init/lib/python3.10/site-packages/scikeras/wrappers.py:915: UserWarning: ``build_fn`` will be renamed to ``model`` in a future release, at which point use of ``build_fn`` will raise an Error instead.\n",
      "  X, y = self._initialize(X, y)\n"
     ]
    },
    {
     "name": "stdout",
     "output_type": "stream",
     "text": [
      "2543/2543 [==============================] - 3s 839us/step - loss: 0.0057 - auc_33: 0.4988\n",
      "283/283 [==============================] - 0s 381us/steposs: 0.0057 - auc_33: 0.494\n",
      "2543/2543 [==============================] - 2s 801us/step - loss: 0.0057 - auc_35: 0.4991\n",
      "2543/2543 [==============================] - 2s 777us/step - loss: 0.0057 - auc_34: 0.4965\n",
      " 88/283 [========>.....................] - ETA: 0s s - loss: 0.0057 - auc_33: 0.4962"
     ]
    },
    {
     "name": "stderr",
     "output_type": "stream",
     "text": [
      "/Users/rem76/miniconda3/envs/GISP_init/lib/python3.10/site-packages/scikeras/wrappers.py:915: UserWarning: ``build_fn`` will be renamed to ``model`` in a future release, at which point use of ``build_fn`` will raise an Error instead.\n",
      "  X, y = self._initialize(X, y)\n"
     ]
    },
    {
     "name": "stdout",
     "output_type": "stream",
     "text": [
      "283/283 [==============================] - 0s 601us/steposs: 0.0057 - auc_34: 0.49\n",
      "283/283 [==============================] - 0s 669us/steposs: 0.0057 - auc_34: 0.49\n",
      "2543/2543 [==============================] - 2s 720us/step - loss: 0.0057 - auc_33: 0.4980\n",
      "2435/2543 [===========================>..] - ETA: 0s - loss: 0.0057 - auc_34: 0.4978"
     ]
    },
    {
     "name": "stderr",
     "output_type": "stream",
     "text": [
      "/Users/rem76/miniconda3/envs/GISP_init/lib/python3.10/site-packages/scikeras/wrappers.py:915: UserWarning: ``build_fn`` will be renamed to ``model`` in a future release, at which point use of ``build_fn`` will raise an Error instead.\n",
      "  X, y = self._initialize(X, y)\n",
      "/Users/rem76/miniconda3/envs/GISP_init/lib/python3.10/site-packages/scikeras/wrappers.py:915: UserWarning: ``build_fn`` will be renamed to ``model`` in a future release, at which point use of ``build_fn`` will raise an Error instead.\n",
      "  X, y = self._initialize(X, y)\n"
     ]
    },
    {
     "name": "stdout",
     "output_type": "stream",
     "text": [
      "2543/2543 [==============================] - 2s 738us/step - loss: 0.0057 - auc_34: 0.4982\n",
      "2543/2543 [==============================] - 2s 735us/step - loss: 0.0057 - auc_35: 0.4959\n",
      "2543/2543 [==============================] - 2s 742us/step - loss: 0.0057 - auc_35: 0.4983\n",
      "2543/2543 [==============================] - 2s 743us/step - loss: 0.0057 - auc_34: 0.4977\n",
      "283/283 [==============================] - 0s 272us/step\n",
      "283/283 [==============================] - 0s 347us/step\n",
      "283/283 [==============================] - 0s 377us/step- loss: 0.0057 - auc_34: 0.50\n",
      "283/283 [==============================] - 0s 364us/step\n",
      "283/283 [==============================] - 0s 410us/step\n",
      " 117/2543 [>.............................] - ETA: 3s - loss: 0.0057 - auc_34: 0.4975 "
     ]
    },
    {
     "name": "stderr",
     "output_type": "stream",
     "text": [
      "/Users/rem76/miniconda3/envs/GISP_init/lib/python3.10/site-packages/scikeras/wrappers.py:915: UserWarning: ``build_fn`` will be renamed to ``model`` in a future release, at which point use of ``build_fn`` will raise an Error instead.\n",
      "  X, y = self._initialize(X, y)\n",
      "/Users/rem76/miniconda3/envs/GISP_init/lib/python3.10/site-packages/scikeras/wrappers.py:915: UserWarning: ``build_fn`` will be renamed to ``model`` in a future release, at which point use of ``build_fn`` will raise an Error instead.\n",
      "  X, y = self._initialize(X, y)\n",
      "/Users/rem76/miniconda3/envs/GISP_init/lib/python3.10/site-packages/scikeras/wrappers.py:915: UserWarning: ``build_fn`` will be renamed to ``model`` in a future release, at which point use of ``build_fn`` will raise an Error instead.\n",
      "  X, y = self._initialize(X, y)\n",
      "/Users/rem76/miniconda3/envs/GISP_init/lib/python3.10/site-packages/scikeras/wrappers.py:915: UserWarning: ``build_fn`` will be renamed to ``model`` in a future release, at which point use of ``build_fn`` will raise an Error instead.\n",
      "  X, y = self._initialize(X, y)\n"
     ]
    },
    {
     "name": "stdout",
     "output_type": "stream",
     "text": [
      "  75/2543 [..............................] - ETA: 5s - loss: 0.0057 - auc_36: 0.5118  0"
     ]
    },
    {
     "name": "stderr",
     "output_type": "stream",
     "text": [
      "/Users/rem76/miniconda3/envs/GISP_init/lib/python3.10/site-packages/scikeras/wrappers.py:915: UserWarning: ``build_fn`` will be renamed to ``model`` in a future release, at which point use of ``build_fn`` will raise an Error instead.\n",
      "  X, y = self._initialize(X, y)\n"
     ]
    },
    {
     "name": "stdout",
     "output_type": "stream",
     "text": [
      "2543/2543 [==============================] - 3s 866us/step - loss: 0.0057 - auc_35: 0.4979\n",
      "2543/2543 [==============================] - 3s 879us/step - loss: 0.0057 - auc_36: 0.4988\n",
      "2543/2543 [==============================] - 3s 992us/step - loss: 0.0057 - auc_34: 0.4963\n",
      "283/283 [==============================] - 0s 315us/steposs: 0.0057 - auc_36: 0.4951\n",
      "2543/2543 [==============================] - 3s 865us/step - loss: 0.0057 - auc_35: 0.4963\n",
      "2543/2543 [==============================] - 2s 888us/step - loss: 0.0057 - auc_35: 0.4983\n",
      "283/283 [==============================] - 0s 663us/steposs: 0.0057 - auc_36: 0.49\n",
      "2543/2543 [==============================] - 3s 932us/step - loss: 0.0057 - auc_34: 0.4973\n",
      "283/283 [==============================] - 0s 596us/steposs: 0.0057 - auc_36: 0.49\n",
      "283/283 [==============================] - 0s 608us/steposs: 0.0057 - auc_36: 0.4957\n",
      "283/283 [==============================] - 0s 461us/step\n",
      "1872/2543 [=====================>........] - ETA: 0s - loss: 0.0057 - auc_36: 0.4953"
     ]
    },
    {
     "name": "stderr",
     "output_type": "stream",
     "text": [
      "/Users/rem76/miniconda3/envs/GISP_init/lib/python3.10/site-packages/scikeras/wrappers.py:915: UserWarning: ``build_fn`` will be renamed to ``model`` in a future release, at which point use of ``build_fn`` will raise an Error instead.\n",
      "  X, y = self._initialize(X, y)\n",
      "/Users/rem76/miniconda3/envs/GISP_init/lib/python3.10/site-packages/scikeras/wrappers.py:915: UserWarning: ``build_fn`` will be renamed to ``model`` in a future release, at which point use of ``build_fn`` will raise an Error instead.\n",
      "  X, y = self._initialize(X, y)\n",
      "/Users/rem76/miniconda3/envs/GISP_init/lib/python3.10/site-packages/scikeras/wrappers.py:915: UserWarning: ``build_fn`` will be renamed to ``model`` in a future release, at which point use of ``build_fn`` will raise an Error instead.\n",
      "  X, y = self._initialize(X, y)\n"
     ]
    },
    {
     "name": "stdout",
     "output_type": "stream",
     "text": [
      "283/283 [==============================] - 0s 978us/steposs: 0.0057 - auc_36: 0.49\n",
      "1956/2543 [======================>.......] - ETA: 0s - loss: 0.0057 - auc_36: 0.4952"
     ]
    },
    {
     "name": "stderr",
     "output_type": "stream",
     "text": [
      "/Users/rem76/miniconda3/envs/GISP_init/lib/python3.10/site-packages/scikeras/wrappers.py:915: UserWarning: ``build_fn`` will be renamed to ``model`` in a future release, at which point use of ``build_fn`` will raise an Error instead.\n",
      "  X, y = self._initialize(X, y)\n",
      "/Users/rem76/miniconda3/envs/GISP_init/lib/python3.10/site-packages/scikeras/wrappers.py:915: UserWarning: ``build_fn`` will be renamed to ``model`` in a future release, at which point use of ``build_fn`` will raise an Error instead.\n",
      "  X, y = self._initialize(X, y)\n",
      "/Users/rem76/miniconda3/envs/GISP_init/lib/python3.10/site-packages/scikeras/wrappers.py:915: UserWarning: ``build_fn`` will be renamed to ``model`` in a future release, at which point use of ``build_fn`` will raise an Error instead.\n",
      "  X, y = self._initialize(X, y)\n"
     ]
    },
    {
     "name": "stdout",
     "output_type": "stream",
     "text": [
      "2543/2543 [==============================] - 3s 977us/step - loss: 0.0057 - auc_36: 0.4967\n",
      "2543/2543 [==============================] - 3s 881us/step - loss: 0.0057 - auc_36: 0.4978\n",
      "283/283 [==============================] - 0s 455us/steposs: 0.0057 - auc_35: 0.5074\n",
      "283/283 [==============================] - 0s 597us/steposs: 0.0057 - auc_35: 0.50\n",
      "   1/2543 [..............................] - ETA: 37:36 - loss: 0.0055 - auc_36: 0.5000"
     ]
    },
    {
     "name": "stderr",
     "output_type": "stream",
     "text": [
      "/Users/rem76/miniconda3/envs/GISP_init/lib/python3.10/site-packages/scikeras/wrappers.py:915: UserWarning: ``build_fn`` will be renamed to ``model`` in a future release, at which point use of ``build_fn`` will raise an Error instead.\n",
      "  X, y = self._initialize(X, y)\n",
      "/Users/rem76/miniconda3/envs/GISP_init/lib/python3.10/site-packages/scikeras/wrappers.py:915: UserWarning: ``build_fn`` will be renamed to ``model`` in a future release, at which point use of ``build_fn`` will raise an Error instead.\n",
      "  X, y = self._initialize(X, y)\n"
     ]
    },
    {
     "name": "stdout",
     "output_type": "stream",
     "text": [
      "2543/2543 [==============================] - 2s 762us/step - loss: 0.0057 - auc_35: 0.4983\n",
      "2543/2543 [==============================] - 3s 778us/step - loss: 0.0057 - auc_36: 0.4956\n",
      "2543/2543 [==============================] - 3s 774us/step - loss: 0.0057 - auc_37: 0.4976\n",
      "2543/2543 [==============================] - 2s 797us/step - loss: 0.0057 - auc_36: 0.4969\n",
      "283/283 [==============================] - 0s 412us/steposs: 0.0057 - auc_36: 0.49\n",
      "2543/2543 [==============================] - 2s 832us/step - loss: 0.0057 - auc_35: 0.4989\n",
      "283/283 [==============================] - 0s 653us/steposs: 0.0057 - auc_37: 0.4968\n",
      "283/283 [==============================] - 0s 588us/steposs: 0.0057 - auc_36: 0.49\n",
      "283/283 [==============================] - 0s 606us/step\n"
     ]
    },
    {
     "name": "stderr",
     "output_type": "stream",
     "text": [
      "/Users/rem76/miniconda3/envs/GISP_init/lib/python3.10/site-packages/scikeras/wrappers.py:915: UserWarning: ``build_fn`` will be renamed to ``model`` in a future release, at which point use of ``build_fn`` will raise an Error instead.\n",
      "  X, y = self._initialize(X, y)\n",
      "/Users/rem76/miniconda3/envs/GISP_init/lib/python3.10/site-packages/scikeras/wrappers.py:915: UserWarning: ``build_fn`` will be renamed to ``model`` in a future release, at which point use of ``build_fn`` will raise an Error instead.\n",
      "  X, y = self._initialize(X, y)\n"
     ]
    },
    {
     "name": "stdout",
     "output_type": "stream",
     "text": [
      "283/283 [==============================] - 0s 489us/steposs: 0.0057 - auc_37: 0.49\n",
      "2543/2543 [==============================] - 3s 710us/step - loss: 0.0057 - auc_36: 0.4979\n",
      "1330/2543 [==============>...............] - ETA: 0s - loss: 0.0057 - auc_37: 0.4951"
     ]
    },
    {
     "name": "stderr",
     "output_type": "stream",
     "text": [
      "/Users/rem76/miniconda3/envs/GISP_init/lib/python3.10/site-packages/scikeras/wrappers.py:915: UserWarning: ``build_fn`` will be renamed to ``model`` in a future release, at which point use of ``build_fn`` will raise an Error instead.\n",
      "  X, y = self._initialize(X, y)\n",
      "/Users/rem76/miniconda3/envs/GISP_init/lib/python3.10/site-packages/scikeras/wrappers.py:915: UserWarning: ``build_fn`` will be renamed to ``model`` in a future release, at which point use of ``build_fn`` will raise an Error instead.\n",
      "  X, y = self._initialize(X, y)\n",
      "/Users/rem76/miniconda3/envs/GISP_init/lib/python3.10/site-packages/scikeras/wrappers.py:915: UserWarning: ``build_fn`` will be renamed to ``model`` in a future release, at which point use of ``build_fn`` will raise an Error instead.\n",
      "  X, y = self._initialize(X, y)\n"
     ]
    },
    {
     "name": "stdout",
     "output_type": "stream",
     "text": [
      "283/283 [==============================] - 0s 492us/steposs: 0.0057 - auc_37: 0.4957\n",
      "2020/2543 [======================>.......] - ETA: 0s - loss: 0.0057 - auc_37: 0.4964"
     ]
    },
    {
     "name": "stderr",
     "output_type": "stream",
     "text": [
      "/Users/rem76/miniconda3/envs/GISP_init/lib/python3.10/site-packages/scikeras/wrappers.py:915: UserWarning: ``build_fn`` will be renamed to ``model`` in a future release, at which point use of ``build_fn`` will raise an Error instead.\n",
      "  X, y = self._initialize(X, y)\n"
     ]
    },
    {
     "name": "stdout",
     "output_type": "stream",
     "text": [
      "2543/2543 [==============================] - 2s 642us/step - loss: 0.0057 - auc_37: 0.4984\n",
      "283/283 [==============================] - 1s 1ms/step loss: 0.0057 - auc_37: 0.49.4900 \n",
      "2543/2543 [==============================] - 3s 797us/step - loss: 0.0057 - auc_37: 0.4971\n",
      " 702/2543 [=======>......................] - ETA: 2s - loss: 0.0057 - auc_37: 0.498100   "
     ]
    },
    {
     "name": "stderr",
     "output_type": "stream",
     "text": [
      "/Users/rem76/miniconda3/envs/GISP_init/lib/python3.10/site-packages/scikeras/wrappers.py:915: UserWarning: ``build_fn`` will be renamed to ``model`` in a future release, at which point use of ``build_fn`` will raise an Error instead.\n",
      "  X, y = self._initialize(X, y)\n"
     ]
    },
    {
     "name": "stdout",
     "output_type": "stream",
     "text": [
      "283/283 [==============================] - 0s 1ms/steps - loss: 0.0057 - auc_38: 0.490\n",
      "  499/10169 [>.............................] - ETA: 9s - loss: 0.0056 - auc_37: 0.5070 "
     ]
    },
    {
     "name": "stderr",
     "output_type": "stream",
     "text": [
      "/Users/rem76/miniconda3/envs/GISP_init/lib/python3.10/site-packages/scikeras/wrappers.py:915: UserWarning: ``build_fn`` will be renamed to ``model`` in a future release, at which point use of ``build_fn`` will raise an Error instead.\n",
      "  X, y = self._initialize(X, y)\n"
     ]
    },
    {
     "name": "stdout",
     "output_type": "stream",
     "text": [
      "2543/2543 [==============================] - 3s 1ms/step - loss: 0.0057 - auc_37: 0.4969\n",
      "2543/2543 [==============================] - 4s 1ms/step - loss: 0.0057 - auc_36: 0.4962\n",
      "283/283 [==============================] - 0s 503us/step loss: 0.0057 - auc_37: 0.4904\n",
      "2543/2543 [==============================] - 4s 1ms/step - loss: 0.0057 - auc_36: 0.4975\n",
      "283/283 [==============================] - 0s 748us/step loss: 0.0057 - auc_37: 0.49\n",
      "283/283 [==============================] - 0s 776us/step loss: 0.0057 - auc_37: 0.490\n"
     ]
    },
    {
     "name": "stderr",
     "output_type": "stream",
     "text": [
      "/Users/rem76/miniconda3/envs/GISP_init/lib/python3.10/site-packages/scikeras/wrappers.py:915: UserWarning: ``build_fn`` will be renamed to ``model`` in a future release, at which point use of ``build_fn`` will raise an Error instead.\n",
      "  X, y = self._initialize(X, y)\n",
      "/Users/rem76/miniconda3/envs/GISP_init/lib/python3.10/site-packages/scikeras/wrappers.py:915: UserWarning: ``build_fn`` will be renamed to ``model`` in a future release, at which point use of ``build_fn`` will raise an Error instead.\n",
      "  X, y = self._initialize(X, y)\n"
     ]
    },
    {
     "name": "stdout",
     "output_type": "stream",
     "text": [
      " 3538/10169 [=========>....................] - ETA: 6s - loss: 0.0057 - auc_38: 0.5065"
     ]
    },
    {
     "name": "stderr",
     "output_type": "stream",
     "text": [
      "/Users/rem76/miniconda3/envs/GISP_init/lib/python3.10/site-packages/scikeras/wrappers.py:915: UserWarning: ``build_fn`` will be renamed to ``model`` in a future release, at which point use of ``build_fn`` will raise an Error instead.\n",
      "  X, y = self._initialize(X, y)\n"
     ]
    },
    {
     "name": "stdout",
     "output_type": "stream",
     "text": [
      " 4455/10169 [============>.................] - ETA: 5s - loss: 0.0057 - auc_37: 0.4921"
     ]
    }
   ],
   "source": [
    "import keras\n",
    "from sklearn.pipeline import Pipeline\n",
    "from sklearn.model_selection import GridSearchCV\n",
    "from sklearn.preprocessing import StandardScaler\n",
    "from scikeras.wrappers import KerasClassifier\n",
    "from keras.layers import Dense, Dropout\n",
    "from keras import Sequential\n",
    "from tensorflow.keras.metrics import AUC\n",
    "np.random.seed(10)\n",
    "\n",
    "def create_model(optimizer=\"adam\", dropout=0.1, init='uniform', nbr_features=2500, dense_nparams=256):\n",
    "    model = Sequential()\n",
    "    model.add(Dense(dense_nparams, activation='relu', input_shape=(len(feature_names),), kernel_initializer=init))\n",
    "    model.add(Dropout(dropout))\n",
    "    model.add(Dense(1, activation='sigmoid'))\n",
    "    model.compile(loss='binary_crossentropy', optimizer=optimizer, metrics=[AUC()])\n",
    "    return model\n",
    "\n",
    "kears_estimator = KerasClassifier(model=create_model, verbose=1, init='zeros',dropout=0.1, dense_nparams=8, random_state = 10)\n",
    "\n",
    "estimator = Pipeline([\n",
    "    ('ss', StandardScaler()),  # Use StandardScaler for numerical features\n",
    "    (\"kc\", kears_estimator)\n",
    "])\n",
    "\n",
    "# define the grid search parameters\n",
    "param_grid = {\n",
    "    'kc__dense_nparams': [2,4, 6, 8, 10, 12, 14, 16],\n",
    "    'kc__batch_size': [5, 10, 15, 20],\n",
    "    'kc__optimizer': [ 'Adamax'],\n",
    "    'kc__dropout': [0.075, 0.03, 0.05, 0.04, 0.025, 0]\n",
    "}\n",
    "\n",
    "\n",
    "\n",
    "cv = RepeatedStratifiedKFold(n_splits=10,  n_repeats=10,random_state=1) ## 10-fold cross validations\n",
    "#grid = RandomizedSearchCV(estimator=estimator,\n",
    "#                    n_jobs=-1,\n",
    "#                    verbose=1,\n",
    "#                    return_train_score=True,\n",
    "#                    cv=kfold_splits,\n",
    "#                    space=param_grid,\n",
    "#                    error_score='raise')\n",
    "grid = RandomizedSearchCV(estimator, param_grid, scoring=\"roc_auc\", n_iter=10, n_jobs=-1, cv=cv, random_state=1)\n",
    "\n",
    "\n",
    "\n",
    "grid_result = grid.fit(X_train, y_train, kc__sample_weight=weights_train)\n",
    "\n",
    "# summarize results\n",
    "\n",
    "params = grid_result.best_params_\n",
    "optimizer = params['kc__optimizer']\n",
    "\n",
    "dropout = params['kc__dropout']\n",
    "dense_nparams = params['kc__dense_nparams']\n",
    "batches = params['kc__batch_size']\n",
    "model = create_model(optimizer=params['kc__optimizer'], init='uniform', dropout=params['kc__dropout'], dense_nparams=params['kc__dense_nparams'])\n",
    "\n",
    "#return params \n",
    "# Train the model on your data\n",
    "model.fit(X_train, y_train, epochs=100, batch_size=params['kc__batch_size'], sample_weight=weights_train)\n",
    "\n",
    "# Make predictions on test data\n",
    "y_predict_proba = model.predict(X_test)\n",
    "\n",
    "# Calculate AUROC on test data\n",
    "auc_metric = keras.metrics.AUC(num_thresholds=100)\n",
    "auc_metric.update_state(y_test, y_predict_proba)\n",
    "auroc = auc_metric.result().numpy()\n",
    "\n",
    "print(\"AUROC:\", auroc)\n",
    "\n"
   ]
  },
  {
   "cell_type": "code",
   "execution_count": 85,
   "metadata": {},
   "outputs": [
    {
     "data": {
      "text/plain": [
       "{'kc__optimizer': 'Adamax',\n",
       " 'kc__init': 'uniform',\n",
       " 'kc__dropout': 0.05,\n",
       " 'kc__dense_nparams': 10,\n",
       " 'kc__batch_size': 15}"
      ]
     },
     "execution_count": 85,
     "metadata": {},
     "output_type": "execute_result"
    }
   ],
   "source": [
    "grid_result.best_params_"
   ]
  },
  {
   "cell_type": "code",
   "execution_count": 100,
   "metadata": {},
   "outputs": [
    {
     "name": "stdout",
     "output_type": "stream",
     "text": [
      "Epoch 1/100\n",
      "5650/5650 [==============================] - 2s 296us/step - loss: 0.0036 - auc_36: 0.8722\n",
      "Epoch 2/100\n",
      "5650/5650 [==============================] - 2s 293us/step - loss: 0.0032 - auc_36: 0.8932\n",
      "Epoch 3/100\n",
      "5650/5650 [==============================] - 2s 295us/step - loss: 0.0031 - auc_36: 0.9000\n",
      "Epoch 4/100\n",
      "5650/5650 [==============================] - 2s 295us/step - loss: 0.0030 - auc_36: 0.9033\n",
      "Epoch 5/100\n",
      "5650/5650 [==============================] - 2s 296us/step - loss: 0.0030 - auc_36: 0.9050\n",
      "Epoch 6/100\n",
      "5650/5650 [==============================] - 3s 449us/step - loss: 0.0030 - auc_36: 0.9055\n",
      "Epoch 7/100\n",
      "5650/5650 [==============================] - 2s 320us/step - loss: 0.0030 - auc_36: 0.9068\n",
      "Epoch 8/100\n",
      "5650/5650 [==============================] - 2s 391us/step - loss: 0.0030 - auc_36: 0.9070\n",
      "Epoch 9/100\n",
      "5650/5650 [==============================] - 2s 344us/step - loss: 0.0029 - auc_36: 0.9074\n",
      "Epoch 10/100\n",
      "5650/5650 [==============================] - 2s 326us/step - loss: 0.0029 - auc_36: 0.9083\n",
      "Epoch 11/100\n",
      "5650/5650 [==============================] - 2s 303us/step - loss: 0.0029 - auc_36: 0.9085\n",
      "Epoch 12/100\n",
      "5650/5650 [==============================] - 2s 288us/step - loss: 0.0029 - auc_36: 0.9091\n",
      "Epoch 13/100\n",
      "5650/5650 [==============================] - 2s 288us/step - loss: 0.0029 - auc_36: 0.9092\n",
      "Epoch 14/100\n",
      "5650/5650 [==============================] - 2s 291us/step - loss: 0.0029 - auc_36: 0.9091\n",
      "Epoch 15/100\n",
      "5650/5650 [==============================] - 2s 288us/step - loss: 0.0029 - auc_36: 0.9098\n",
      "Epoch 16/100\n",
      "5650/5650 [==============================] - 2s 287us/step - loss: 0.0029 - auc_36: 0.9100\n",
      "Epoch 17/100\n",
      "5650/5650 [==============================] - 2s 310us/step - loss: 0.0029 - auc_36: 0.9103\n",
      "Epoch 18/100\n",
      "5650/5650 [==============================] - 2s 314us/step - loss: 0.0029 - auc_36: 0.9103\n",
      "Epoch 19/100\n",
      "5650/5650 [==============================] - 2s 307us/step - loss: 0.0029 - auc_36: 0.9107\n",
      "Epoch 20/100\n",
      "5650/5650 [==============================] - 2s 291us/step - loss: 0.0029 - auc_36: 0.9105\n",
      "Epoch 21/100\n",
      "5650/5650 [==============================] - 2s 290us/step - loss: 0.0029 - auc_36: 0.9108\n",
      "Epoch 22/100\n",
      "5650/5650 [==============================] - 2s 291us/step - loss: 0.0029 - auc_36: 0.9107\n",
      "Epoch 23/100\n",
      "5650/5650 [==============================] - 2s 291us/step - loss: 0.0029 - auc_36: 0.9113\n",
      "Epoch 24/100\n",
      "5650/5650 [==============================] - 3s 501us/step - loss: 0.0029 - auc_36: 0.9113\n",
      "Epoch 25/100\n",
      "5650/5650 [==============================] - 2s 382us/step - loss: 0.0029 - auc_36: 0.9117\n",
      "Epoch 26/100\n",
      "5650/5650 [==============================] - 2s 309us/step - loss: 0.0029 - auc_36: 0.9119\n",
      "Epoch 27/100\n",
      "5650/5650 [==============================] - 2s 298us/step - loss: 0.0029 - auc_36: 0.9118\n",
      "Epoch 28/100\n",
      "5650/5650 [==============================] - 2s 307us/step - loss: 0.0029 - auc_36: 0.9119\n",
      "Epoch 29/100\n",
      "5650/5650 [==============================] - 2s 312us/step - loss: 0.0029 - auc_36: 0.9124\n",
      "Epoch 30/100\n",
      "5650/5650 [==============================] - 2s 399us/step - loss: 0.0029 - auc_36: 0.9124\n",
      "Epoch 31/100\n",
      "5650/5650 [==============================] - 2s 311us/step - loss: 0.0029 - auc_36: 0.9127\n",
      "Epoch 32/100\n",
      "5650/5650 [==============================] - 2s 305us/step - loss: 0.0029 - auc_36: 0.9127\n",
      "Epoch 33/100\n",
      "5650/5650 [==============================] - 2s 289us/step - loss: 0.0029 - auc_36: 0.9129\n",
      "Epoch 34/100\n",
      "5650/5650 [==============================] - 2s 290us/step - loss: 0.0029 - auc_36: 0.9128\n",
      "Epoch 35/100\n",
      "5650/5650 [==============================] - 2s 295us/step - loss: 0.0029 - auc_36: 0.9124\n",
      "Epoch 36/100\n",
      "5650/5650 [==============================] - 2s 295us/step - loss: 0.0028 - auc_36: 0.9128\n",
      "Epoch 37/100\n",
      "5650/5650 [==============================] - 2s 294us/step - loss: 0.0029 - auc_36: 0.9126\n",
      "Epoch 38/100\n",
      "5650/5650 [==============================] - 2s 309us/step - loss: 0.0028 - auc_36: 0.9128\n",
      "Epoch 39/100\n",
      "5650/5650 [==============================] - 2s 291us/step - loss: 0.0028 - auc_36: 0.9125\n",
      "Epoch 40/100\n",
      "5650/5650 [==============================] - 2s 298us/step - loss: 0.0029 - auc_36: 0.9125\n",
      "Epoch 41/100\n",
      "5650/5650 [==============================] - 2s 294us/step - loss: 0.0028 - auc_36: 0.9128\n",
      "Epoch 42/100\n",
      "5650/5650 [==============================] - 2s 294us/step - loss: 0.0028 - auc_36: 0.9132\n",
      "Epoch 43/100\n",
      "5650/5650 [==============================] - 2s 296us/step - loss: 0.0028 - auc_36: 0.9124\n",
      "Epoch 44/100\n",
      "5650/5650 [==============================] - 2s 294us/step - loss: 0.0028 - auc_36: 0.9132\n",
      "Epoch 45/100\n",
      "5650/5650 [==============================] - 2s 306us/step - loss: 0.0028 - auc_36: 0.9133\n",
      "Epoch 46/100\n",
      "5650/5650 [==============================] - 2s 300us/step - loss: 0.0028 - auc_36: 0.9132\n",
      "Epoch 47/100\n",
      "5650/5650 [==============================] - 2s 293us/step - loss: 0.0028 - auc_36: 0.9134\n",
      "Epoch 48/100\n",
      "5650/5650 [==============================] - 2s 326us/step - loss: 0.0028 - auc_36: 0.9130\n",
      "Epoch 49/100\n",
      "5650/5650 [==============================] - 2s 303us/step - loss: 0.0028 - auc_36: 0.9137\n",
      "Epoch 50/100\n",
      "5650/5650 [==============================] - 2s 316us/step - loss: 0.0028 - auc_36: 0.9135\n",
      "Epoch 51/100\n",
      "5650/5650 [==============================] - 2s 295us/step - loss: 0.0028 - auc_36: 0.9132\n",
      "Epoch 52/100\n",
      "5650/5650 [==============================] - 2s 289us/step - loss: 0.0028 - auc_36: 0.9134\n",
      "Epoch 53/100\n",
      "5650/5650 [==============================] - 2s 291us/step - loss: 0.0028 - auc_36: 0.9135\n",
      "Epoch 54/100\n",
      "5650/5650 [==============================] - 2s 288us/step - loss: 0.0028 - auc_36: 0.9133\n",
      "Epoch 55/100\n",
      "5650/5650 [==============================] - 2s 294us/step - loss: 0.0028 - auc_36: 0.9135\n",
      "Epoch 56/100\n",
      "5650/5650 [==============================] - 2s 379us/step - loss: 0.0028 - auc_36: 0.9140\n",
      "Epoch 57/100\n",
      "5650/5650 [==============================] - 2s 441us/step - loss: 0.0028 - auc_36: 0.9138\n",
      "Epoch 58/100\n",
      "5650/5650 [==============================] - 2s 362us/step - loss: 0.0028 - auc_36: 0.9132\n",
      "Epoch 59/100\n",
      "5650/5650 [==============================] - 2s 384us/step - loss: 0.0028 - auc_36: 0.9133\n",
      "Epoch 60/100\n",
      "5650/5650 [==============================] - 2s 303us/step - loss: 0.0028 - auc_36: 0.9136\n",
      "Epoch 61/100\n",
      "5650/5650 [==============================] - 2s 293us/step - loss: 0.0028 - auc_36: 0.9138\n",
      "Epoch 62/100\n",
      "5650/5650 [==============================] - 2s 288us/step - loss: 0.0028 - auc_36: 0.9139\n",
      "Epoch 63/100\n",
      "5650/5650 [==============================] - 2s 292us/step - loss: 0.0028 - auc_36: 0.9139\n",
      "Epoch 64/100\n",
      "5650/5650 [==============================] - 2s 319us/step - loss: 0.0028 - auc_36: 0.9140\n",
      "Epoch 65/100\n",
      "5650/5650 [==============================] - 2s 299us/step - loss: 0.0028 - auc_36: 0.9138\n",
      "Epoch 66/100\n",
      "5650/5650 [==============================] - 2s 292us/step - loss: 0.0028 - auc_36: 0.9142\n",
      "Epoch 67/100\n",
      "5650/5650 [==============================] - 2s 316us/step - loss: 0.0028 - auc_36: 0.9143\n",
      "Epoch 68/100\n",
      "5650/5650 [==============================] - 2s 314us/step - loss: 0.0028 - auc_36: 0.9141\n",
      "Epoch 69/100\n",
      "5650/5650 [==============================] - 2s 335us/step - loss: 0.0028 - auc_36: 0.9137\n",
      "Epoch 70/100\n",
      "5650/5650 [==============================] - 2s 296us/step - loss: 0.0028 - auc_36: 0.9144\n",
      "Epoch 71/100\n",
      "5650/5650 [==============================] - 2s 310us/step - loss: 0.0028 - auc_36: 0.9136\n",
      "Epoch 72/100\n",
      "5650/5650 [==============================] - 2s 354us/step - loss: 0.0028 - auc_36: 0.9140\n",
      "Epoch 73/100\n",
      "5650/5650 [==============================] - 2s 322us/step - loss: 0.0028 - auc_36: 0.9143\n",
      "Epoch 74/100\n",
      "5650/5650 [==============================] - 2s 349us/step - loss: 0.0028 - auc_36: 0.9138\n",
      "Epoch 75/100\n",
      "5650/5650 [==============================] - 2s 324us/step - loss: 0.0028 - auc_36: 0.9138\n",
      "Epoch 76/100\n",
      "5650/5650 [==============================] - 2s 327us/step - loss: 0.0028 - auc_36: 0.9139\n",
      "Epoch 77/100\n",
      "5650/5650 [==============================] - 2s 297us/step - loss: 0.0028 - auc_36: 0.9141\n",
      "Epoch 78/100\n",
      "5650/5650 [==============================] - 2s 342us/step - loss: 0.0028 - auc_36: 0.9141\n",
      "Epoch 79/100\n",
      "5650/5650 [==============================] - 2s 393us/step - loss: 0.0028 - auc_36: 0.9139\n",
      "Epoch 80/100\n",
      "5650/5650 [==============================] - 2s 299us/step - loss: 0.0028 - auc_36: 0.9142\n",
      "Epoch 81/100\n",
      "5650/5650 [==============================] - 2s 349us/step - loss: 0.0028 - auc_36: 0.9140\n",
      "Epoch 82/100\n",
      "5650/5650 [==============================] - 2s 348us/step - loss: 0.0028 - auc_36: 0.9136\n",
      "Epoch 83/100\n",
      "5650/5650 [==============================] - 2s 300us/step - loss: 0.0028 - auc_36: 0.9139\n",
      "Epoch 84/100\n",
      "5650/5650 [==============================] - 2s 298us/step - loss: 0.0028 - auc_36: 0.9143\n",
      "Epoch 85/100\n",
      "5650/5650 [==============================] - 2s 290us/step - loss: 0.0028 - auc_36: 0.9146\n",
      "Epoch 86/100\n",
      "5650/5650 [==============================] - 2s 294us/step - loss: 0.0028 - auc_36: 0.9143\n",
      "Epoch 87/100\n",
      "5650/5650 [==============================] - 2s 355us/step - loss: 0.0028 - auc_36: 0.9142\n",
      "Epoch 88/100\n",
      "5650/5650 [==============================] - 2s 322us/step - loss: 0.0028 - auc_36: 0.9144\n",
      "Epoch 89/100\n",
      "5650/5650 [==============================] - 2s 306us/step - loss: 0.0028 - auc_36: 0.9143\n",
      "Epoch 90/100\n",
      "5650/5650 [==============================] - 2s 312us/step - loss: 0.0028 - auc_36: 0.9145\n",
      "Epoch 91/100\n",
      "5650/5650 [==============================] - 2s 323us/step - loss: 0.0028 - auc_36: 0.9144\n",
      "Epoch 92/100\n",
      "5650/5650 [==============================] - 2s 341us/step - loss: 0.0028 - auc_36: 0.9144\n",
      "Epoch 93/100\n",
      "5650/5650 [==============================] - 2s 302us/step - loss: 0.0028 - auc_36: 0.9145\n",
      "Epoch 94/100\n",
      "5650/5650 [==============================] - 2s 313us/step - loss: 0.0028 - auc_36: 0.9143\n",
      "Epoch 95/100\n",
      "5650/5650 [==============================] - 2s 295us/step - loss: 0.0028 - auc_36: 0.9142\n",
      "Epoch 96/100\n",
      "5650/5650 [==============================] - 2s 297us/step - loss: 0.0028 - auc_36: 0.9144\n",
      "Epoch 97/100\n",
      "5650/5650 [==============================] - 2s 293us/step - loss: 0.0028 - auc_36: 0.9147\n",
      "Epoch 98/100\n",
      "5650/5650 [==============================] - 2s 295us/step - loss: 0.0028 - auc_36: 0.9139\n",
      "Epoch 99/100\n",
      "5650/5650 [==============================] - 2s 329us/step - loss: 0.0028 - auc_36: 0.9143\n",
      "Epoch 100/100\n",
      "5650/5650 [==============================] - 2s 304us/step - loss: 0.0028 - auc_36: 0.9146\n",
      "194/194 [==============================] - 0s 197us/step\n",
      "AUROC: 0.8183859\n"
     ]
    }
   ],
   "source": [
    "optimizer = 'Adamax'\n",
    "init = 'uniform'\n",
    "dropout = 0.05\n",
    "dense_nparams = 10\n",
    "\n",
    "model = create_model(optimizer=optimizer, init=init, dropout=dropout, dense_nparams=dense_nparams)\n",
    "\n",
    "# Train the model on your data\n",
    "model.fit(X_train, y_train, epochs=100, batch_size=10, sample_weight=weights_train)\n",
    "\n",
    "# Make predictions on test data\n",
    "y_predict_proba = model.predict(X_test)\n",
    "\n",
    "# Calculate AUROC on test data\n",
    "auc_metric = keras.metrics.AUC(num_thresholds=100)\n",
    "auc_metric.update_state(y_test, y_predict_proba)\n",
    "auroc = auc_metric.result().numpy()\n",
    "\n",
    "print(\"AUROC:\", auroc)"
   ]
  }
 ],
 "metadata": {
  "kernelspec": {
   "display_name": "GISP_init",
   "language": "python",
   "name": "python3"
  },
  "language_info": {
   "codemirror_mode": {
    "name": "ipython",
    "version": 3
   },
   "file_extension": ".py",
   "mimetype": "text/x-python",
   "name": "python",
   "nbconvert_exporter": "python",
   "pygments_lexer": "ipython3",
   "version": "3.10.9"
  },
  "orig_nbformat": 4,
  "vscode": {
   "interpreter": {
    "hash": "37b4cc77837642ee25c4eb6578aebe03e17eb3bb59efdde49edbbc888dbc418f"
   }
  }
 },
 "nbformat": 4,
 "nbformat_minor": 2
}
