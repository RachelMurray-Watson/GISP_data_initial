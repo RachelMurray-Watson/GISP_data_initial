{
 "cells": [
  {
   "cell_type": "code",
   "execution_count": 3,
   "metadata": {},
   "outputs": [],
   "source": [
    "import seaborn as sb\n",
    "import matplotlib.pyplot as plt\n",
    "import pandas as pd\n",
    "import sklearn as sk\n",
    "import numpy as np\n",
    "\n",
    "from sklearn.linear_model import LogisticRegression\n",
    "from sklearn.metrics import mean_squared_error\n",
    "from sklearn import metrics\n",
    "from sklearn.model_selection import cross_validate\n",
    "from sklearn.utils import resample\n",
    "from sklearn.neural_network import MLPClassifier\n",
    "from sklearn.model_selection import train_test_split\n",
    "\n",
    "## read data \n",
    "CIP_data = pd.read_csv(\"CIP_data_encode_prev.csv\")"
   ]
  },
  {
   "cell_type": "code",
   "execution_count": 5,
   "metadata": {},
   "outputs": [
    {
     "name": "stdout",
     "output_type": "stream",
     "text": [
      "0.8551121462924605\n",
      "0.5086758099866742\n",
      "ACCURACY OF THE MODEL:  0.8553077244481585\n"
     ]
    }
   ],
   "source": [
    "### Step 1: create model and calculate apparent performance metric of interest (P)\n",
    "X = CIP_data[['MSMW', 'MSW', 'Oth/Unk/Missing','Northeast', 'Southeast', 'Southwest', 'West', 'PREV_CLINIC', 'PREV_REGION']]\n",
    "y = CIP_data['Susceptible']\n",
    "print(y.sum()/len(y))\n",
    "\n",
    "\n",
    "#X_train, X_test, y_train, y_test = train_test_split(X, y, test_size = 0.30) ## even doing trian/test split doesn't work...\n",
    "\n",
    "neural_network_model = MLPClassifier(solver = 'lbfgs', activation = 'tanh', max_iter = 1000 ,hidden_layer_sizes= 44, random_state=10)\n",
    "\n",
    "neural_network_fit = neural_network_model.fit(X,y)\n",
    "y_predict_nn = neural_network_fit.predict(X)\n",
    "\n",
    "ROC_AUC_neural_network = metrics.roc_auc_score(y, y_predict_nn)\n",
    "\n",
    "print(ROC_AUC_neural_network)\n",
    "\n",
    "print(\"ACCURACY OF THE MODEL: \", metrics.accuracy_score(y, y_predict_nn)) ## but get model accuracy of 0.9470427693866846... so why is the ROC so low?  \n",
    "## any why is this getting the same score as the random forest model?\n"
   ]
  },
  {
   "cell_type": "code",
   "execution_count": 13,
   "metadata": {},
   "outputs": [],
   "source": [
    "\n",
    "#### now try bootstrapping with new hyperparameters\n",
    "#bootstrap data\n",
    "n_iterations = 10\n",
    "bootstrapped_stats = []\n",
    "\n",
    "#1. Create model using all data and get ROC_AUC (\"ROC_AUC_neural_network\")\n",
    "X = CIP_data[['MSMW', 'MSW', 'Oth/Unk/Missing','Northeast', 'Southeast', 'Southwest', 'West', 'PREV_REGION', 'PREV_CLINIC']]\n",
    "y = CIP_data['Susceptible']\n",
    "\n",
    "model = MLPClassifier(solver = 'lbfgs', activation = 'tanh', max_iter = 1000 ,hidden_layer_sizes= 4, random_state=10)\n",
    "model_fit = model.fit(X, y)\n",
    "y_predict = model_fit.predict(X)\n",
    "\n",
    "ROC_AUC_neural_network_apparent = metrics.roc_auc_score(y, y_predict)\n",
    "\n",
    "for i in range(n_iterations):\n",
    "       #2. (A) Sample all individuals w/replacement\n",
    "        sample = CIP_data.sample(frac = 1, replace=True) ##(a) sample n individuals with replacement\n",
    "        X_sample = sample[['MSMW', 'MSW', 'Oth/Unk/Missing','Northeast', 'Southeast', 'Southwest', 'West', 'PREV_REGION', 'PREV_CLINIC']]\n",
    "        y_sample = sample['Susceptible']\n",
    "\n",
    "\n",
    "       #  (B) Develop predictive model and find apparent performance\n",
    "        model_fit = model.fit(X_sample, y_sample)\n",
    "        y_sample_predict = model_fit.predict(X_sample)\n",
    "        ROC_AUC_neural_network_bootstrap_sample_performance = metrics.roc_auc_score(y_sample, y_sample_predict) \n",
    "\n",
    "       #  (C) Performance of predictive model on original sample (i.e. original population, X)\n",
    "        y_test_predict = model_fit.predict(X)\n",
    "        ROC_AUC_neural_network_bootstrap_test_performance = metrics.roc_auc_score(y, y_test_predict) ## 0.756384214489288\n",
    "      ### (D) Calculate optimisation by getting (B) - (D) \n",
    "        optimism = ROC_AUC_neural_network_bootstrap_sample_performance - ROC_AUC_neural_network_bootstrap_test_performance\n",
    "\n",
    "\n",
    "\n",
    "        bootstrapped_stats.append(\n",
    "        {\n",
    "            'Sample ROC': ROC_AUC_neural_network_bootstrap_sample_performance,\n",
    "            'Test ROC': ROC_AUC_neural_network_bootstrap_test_performance,\n",
    "            'Optimisation': optimism\n",
    "        }\n",
    "       )\n",
    "\n",
    "\n",
    "bootstrapped_stats = pd.DataFrame(bootstrapped_stats)\n",
    "print(bootstrapped_stats.head())\n",
    "## Step 3: Get average optimization\n",
    "\n",
    "average_optimisation = bootstrapped_stats[\"Optimisation\"].mean() \n",
    "\n",
    "## Step 4: Get optimization-corrected performance\n",
    "\n",
    "optimization_corrected_performance = ROC_AUC_neural_network_apparent - average_optimisation ##\n",
    "\n",
    "print(optimization_corrected_performance)\n"
   ]
  },
  {
   "cell_type": "code",
   "execution_count": 14,
   "metadata": {},
   "outputs": [
    {
     "name": "stdout",
     "output_type": "stream",
     "text": [
      "0.5\n",
      "0.5 0.5\n"
     ]
    }
   ],
   "source": [
    "## Step 3: Get average optimization\n",
    "\n",
    "average_optimisation_nn = bootstrapped_stats_nn[\"Optimisation\"].mean() \n",
    "\n",
    "## Step 4: Get optimization-corrected performance\n",
    "\n",
    "optimization_corrected_performance_nn = ROC_AUC_neural_network - average_optimisation_nn ##\n",
    "\n",
    "print(optimization_corrected_performance_nn)\n",
    "\n",
    "## get CI \n",
    "\n",
    "Bootstrap_CI_nn = (1 - 0.25)*bootstrapped_stats_nn[\"Optimisation\"].quantile(q = 1)\n",
    "Upper_bootstrap_CI = optimization_corrected_performance_nn + Bootstrap_CI_nn\n",
    "Lower_bootstrap_CI = optimization_corrected_performance_nn - Bootstrap_CI_nn\n",
    "\n",
    "print(Upper_bootstrap_CI, Lower_bootstrap_CI)"
   ]
  },
  {
   "cell_type": "code",
   "execution_count": null,
   "metadata": {},
   "outputs": [],
   "source": []
  },
  {
   "cell_type": "code",
   "execution_count": 10,
   "metadata": {},
   "outputs": [
    {
     "name": "stdout",
     "output_type": "stream",
     "text": [
      "RandomOverSampler(sampling_strategy=0.5)\n",
      "0.6969951393820488\n"
     ]
    }
   ],
   "source": [
    "## Try oversampling (randomly duplicates examples in the minority class). Very imbalanced dataset, as CIPRO + is a strong minority \n",
    "from imblearn.over_sampling import RandomOverSampler\n",
    "oversample = RandomOverSampler(sampling_strategy = 0.5)\n",
    "\n",
    "X_over, y_over = oversample.fit_resample(X,y)\n",
    "print(oversample)\n",
    "neural_network_model = MLPClassifier(solver = 'lbfgs', activation = 'tanh', max_iter = 1000 ,hidden_layer_sizes= 4, random_state=10)\n",
    "\n",
    "neural_network_fit = neural_network_model.fit(X_over,y_over)\n",
    "y_predict_nn = neural_network_fit.predict(X)\n",
    "\n",
    "ROC_AUC_neural_network = metrics.roc_auc_score(y, y_predict_nn)\n",
    "\n",
    "print(ROC_AUC_neural_network)"
   ]
  },
  {
   "cell_type": "code",
   "execution_count": 12,
   "metadata": {},
   "outputs": [],
   "source": [
    "#### Try bootstrapping with oversampling\n",
    "#bootstrap data\n",
    "n_iterations = 10\n",
    "bootstrapped_stats = []\n",
    "\n",
    "#1. Create model using all data and get ROC_AUC (\"ROC_AUC_neural_network\")\n",
    "X = CIP_data[['MSMW', 'MSW', 'Oth/Unk/Missing','Northeast', 'Southeast', 'Southwest', 'West', 'PREV_REGION', 'PREV_CLINIC']]\n",
    "y = CIP_data['Susceptible']\n",
    "X, y = oversample.fit_resample(X,y)\n",
    "model = MLPClassifier(solver = 'lbfgs', activation = 'tanh', max_iter = 1000 ,hidden_layer_sizes= 4, random_state=10)\n",
    "model_fit = model.fit(X, y)\n",
    "y_predict = model_fit.predict(X)\n",
    "\n",
    "ROC_AUC_neural_network_apparent = metrics.roc_auc_score(y, y_predict)\n",
    "\n",
    "for i in range(n_iterations):\n",
    "       #2. (A) Sample all individuals w/replacement\n",
    "        sample = CIP_data.sample(frac = 1, replace=True) ##(a) sample n individuals with replacement\n",
    "        X_sample = sample[['MSMW', 'MSW', 'Oth/Unk/Missing','Northeast', 'Southeast', 'Southwest', 'West', 'PREV_REGION', 'PREV_CLINIC']]\n",
    "        y_sample = sample['Susceptible']\n",
    "        X_sample, y_sample = oversample.fit_resample(X_sample,y_sample)\n",
    "\n",
    "\n",
    "       #  (B) Develop predictive model and find apparent performance\n",
    "        model_fit = model.fit(X_sample, y_sample)\n",
    "        y_sample_predict = model_fit.predict(X_sample)\n",
    "        ROC_AUC_neural_network_bootstrap_sample_performance = metrics.roc_auc_score(y_sample, y_sample_predict) \n",
    "\n",
    "       #  (C) Performance of predictive model on original sample (i.e. original population, X)\n",
    "        y_test_predict = model_fit.predict(X)\n",
    "        ROC_AUC_neural_network_bootstrap_test_performance = metrics.roc_auc_score(y, y_test_predict) ## 0.756384214489288\n",
    "      ### (D) Calculate optimisation by getting (B) - (D) \n",
    "        optimism = ROC_AUC_neural_network_bootstrap_sample_performance - ROC_AUC_neural_network_bootstrap_test_performance\n",
    "\n",
    "\n",
    "\n",
    "        bootstrapped_stats.append(\n",
    "        {\n",
    "            'Sample ROC': ROC_AUC_neural_network_bootstrap_sample_performance,\n",
    "            'Test ROC': ROC_AUC_neural_network_bootstrap_test_performance,\n",
    "            'Optimisation': optimism\n",
    "        }\n",
    "       )\n",
    "\n",
    "\n",
    "bootstrapped_stats = pd.DataFrame(bootstrapped_stats)\n",
    "print(bootstrapped_stats.head())\n",
    "## Step 3: Get average optimization\n",
    "\n",
    "average_optimisation = bootstrapped_stats[\"Optimisation\"].mean() \n",
    "\n",
    "## Step 4: Get optimization-corrected performance\n",
    "\n",
    "optimization_corrected_performance = ROC_AUC_neural_network_apparent - average_optimisation ##\n",
    "\n",
    "print(optimization_corrected_performance)\n",
    "\n",
    "conf_interval = np.percentile(bootstrapped_stats[\"Optimisation\"],[2.5,97.5])\n",
    "Upper_bootstrap_CI = optimization_corrected_performance +conf_interval[0]\n",
    "Lower_bootstrap_CI = optimization_corrected_performance - conf_interval[1]\n",
    "\n",
    "print(Upper_bootstrap_CI, Lower_bootstrap_CI)\n"
   ]
  }
 ],
 "metadata": {
  "kernelspec": {
   "display_name": "GISP_init",
   "language": "python",
   "name": "python3"
  },
  "language_info": {
   "codemirror_mode": {
    "name": "ipython",
    "version": 3
   },
   "file_extension": ".py",
   "mimetype": "text/x-python",
   "name": "python",
   "nbconvert_exporter": "python",
   "pygments_lexer": "ipython3",
   "version": "3.10.9"
  },
  "orig_nbformat": 4,
  "vscode": {
   "interpreter": {
    "hash": "37b4cc77837642ee25c4eb6578aebe03e17eb3bb59efdde49edbbc888dbc418f"
   }
  }
 },
 "nbformat": 4,
 "nbformat_minor": 2
}
