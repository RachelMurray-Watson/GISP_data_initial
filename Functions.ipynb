{
 "cells": [
  {
   "cell_type": "code",
   "execution_count": null,
   "metadata": {},
   "outputs": [],
   "source": [
    "import seaborn as sb\n",
    "import matplotlib.pyplot as plt\n",
    "import pandas as pd\n",
    "import sklearn as sk\n",
    "import numpy as np\n",
    "import eli5 \n",
    "\n",
    "from sklearn.model_selection import train_test_split\n",
    "from sklearn.linear_model import LogisticRegression\n",
    "from sklearn.metrics import mean_squared_error\n",
    "from sklearn.model_selection import cross_validate, RandomizedSearchCV, RepeatedStratifiedKFold\n",
    "from sklearn import metrics\n",
    "from sklearn.model_selection import cross_validate\n",
    "from sklearn.utils import resample\n",
    "from sklearn.metrics import confusion_matrix\n",
    "from scipy.stats import loguniform\n",
    "from imblearn.over_sampling import RandomOverSampler\n",
    "from sklearn.metrics import confusion_matrix\n",
    "from eli5.sklearn import PermutationImportance\n",
    "from sklearn.inspection import permutation_importance\n",
    "\n",
    "\n",
    "CIP_data_no_drop = pd.read_csv(\"CIP_data_encode_prev_not_dropped.csv\")\n",
    "print(CIP_data_no_drop.columns)"
   ]
  },
  {
   "cell_type": "code",
   "execution_count": null,
   "metadata": {},
   "outputs": [],
   "source": [
    "### Loop over threshold to get sensitivity and specificity \n",
    "threshold_seq = np.linspace(0,1,101)\n",
    "\n",
    "def effective_unnecessary_threshold(threshold_seq, y_predict_proba, y_test, cipro_R_prevalence):\n",
    "\n",
    "    get_effective_threshold = []\n",
    "    incorrectly_get_X_threshold = [] #no bootstrapping, no 95% CI \n",
    "\n",
    "    for threshold in threshold_seq:\n",
    "\n",
    "        y_predict_test = np.where(y_predict_proba[:, 1] > threshold, 1, 0)\n",
    "\n",
    "        tn_test , fp_test , fn_test , tp_test  = confusion_matrix(y_true=y_test, y_pred=y_predict_test).ravel()\n",
    "\n",
    "        sensitivity_test  = tp_test  / (tp_test   + fn_test )\n",
    "        specificity_test   = tn_test / (tn_test + fp_test )\n",
    "  \n",
    "        get_effective_threshold.append(sensitivity_test * cipro_R_prevalence + (1 -  cipro_R_prevalence)) #q_p\n",
    "        incorrectly_get_X_threshold.append((1 - cipro_R_prevalence) * (1 - specificity_test)) #c_p\"\n",
    "    return(get_effective_threshold, incorrectly_get_X_threshold)\n"
   ]
  }
 ],
 "metadata": {
  "kernelspec": {
   "display_name": "GISP_init",
   "language": "python",
   "name": "python3"
  },
  "language_info": {
   "name": "python",
   "version": "3.10.9 (main, Jan 11 2023, 09:18:18) [Clang 14.0.6 ]"
  },
  "orig_nbformat": 4,
  "vscode": {
   "interpreter": {
    "hash": "37b4cc77837642ee25c4eb6578aebe03e17eb3bb59efdde49edbbc888dbc418f"
   }
  }
 },
 "nbformat": 4,
 "nbformat_minor": 2
}
