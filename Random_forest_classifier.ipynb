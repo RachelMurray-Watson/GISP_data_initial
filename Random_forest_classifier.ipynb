{
 "cells": [
  {
   "cell_type": "code",
   "execution_count": 1,
   "metadata": {},
   "outputs": [
    {
     "name": "stdout",
     "output_type": "stream",
     "text": [
      "Nothing done.\n"
     ]
    }
   ],
   "source": [
    "%reset\n",
    "import seaborn as sb\n",
    "import matplotlib.pyplot as plt\n",
    "import pandas as pd\n",
    "import sklearn as sk\n",
    "import numpy as np\n",
    "\n",
    "from sklearn.ensemble import RandomForestClassifier\n",
    "from sklearn.metrics import mean_squared_error\n",
    "from sklearn import metrics\n",
    "from sklearn.model_selection import cross_validate\n",
    "from sklearn.utils import resample\n",
    "from sklearn.model_selection import train_test_split\n",
    "\n",
    "## read data \n",
    "CIP_data = pd.read_csv(\"CIP_data_encode_prev.csv\")\n"
   ]
  },
  {
   "cell_type": "code",
   "execution_count": 27,
   "metadata": {},
   "outputs": [
    {
     "name": "stdout",
     "output_type": "stream",
     "text": [
      "0.702863441997742\n",
      "0.7564421188563271\n",
      "ACCURACY OF THE MODEL:  0.702863441997742\n",
      "0.7563471162721497\n",
      "ACCURACY OF THE MODEL:  0.7023922764408331\n",
      "0.7564421188563271\n",
      "ACCURACY OF THE MODEL:  0.7023922764408331\n"
     ]
    }
   ],
   "source": [
    "X = CIP_data[['MSMW', 'MSW', 'Oth/Unk/Missing','Northeast', 'Southeast', 'Southwest', 'West', 'PREV_REGION', 'PREV_CLINIC']]\n",
    "\n",
    "y = CIP_data['Susceptible']\n",
    "\n",
    "model = RandomForestClassifier(n_estimators = 100, min_samples_leaf=5, class_weight='balanced')\n",
    "model_fit = model.fit(X, y)\n",
    "\n",
    "print(model_fit.score(X,y)) #0.7013699360815028\n",
    "\n",
    "y_predict = model_fit.predict(X)\n",
    "\n",
    "ROC_AUC_random_forest = metrics.roc_auc_score(y, y_predict) ## 0.756384214489288\n",
    "print(ROC_AUC_random_forest)\n",
    "print(\"ACCURACY OF THE MODEL: \", metrics.accuracy_score(y, y_predict)) ## but get model accuracy of 0.7013699360815028\n",
    "\n"
   ]
  },
  {
   "cell_type": "code",
   "execution_count": 12,
   "metadata": {},
   "outputs": [],
   "source": [
    "\n",
    "n_iterations = 10\n",
    "bootstrapped_stats = []\n",
    "\n",
    "for i in range(n_iterations):\n",
    "       #sample = resample(CIP_data, replace=True, n_samples=len(CIP_data)) ##(a) sample n individuals with replacement\n",
    "       sample = CIP_data.sample(frac = 1, replace=True, random_state = 1) ##(a) sample n individuals with replacement\n",
    "\n",
    "       X_sample  = sample[['MSMW', 'MSW', 'Oth/Unk/Missing','Northeast', 'Southeast', 'Southwest', 'West', 'PREV_REGION', 'PREV_CLINIC']]\n",
    "\n",
    "       y_sample = sample['Susceptible']\n",
    "\n",
    "       model = RandomForestClassifier(n_estimators = 100, min_samples_leaf=5, class_weight='balanced') #calculate APPARENT performance - ROC\n",
    "       model_sample = model.fit(X_sample, y_sample)\n",
    "       y_predict_sample = model_sample.predict(X_sample) \n",
    "       ROC_AUC_random_forest_sample = metrics.roc_auc_score(y_sample, y_predict_sample)\n",
    "\n",
    "       y_test = model_sample.predict(X) #performance on original data  \n",
    "       ROC_AUC_random_forest_test = metrics.roc_auc_score(y_sample, y_test)\n",
    "\n",
    "       optomisation = ROC_AUC_random_forest_sample - ROC_AUC_random_forest_test #optimisation\n",
    "\n",
    "       bootstrapped_stats.append(\n",
    "        {\n",
    "            'Sample ROC': ROC_AUC_random_forest_sample,\n",
    "            'Test ROC': ROC_AUC_random_forest_test,\n",
    "            'Optimisation': optomisation\n",
    "        }\n",
    "       )\n",
    "\n"
   ]
  },
  {
   "cell_type": "code",
   "execution_count": 13,
   "metadata": {},
   "outputs": [
    {
     "name": "stdout",
     "output_type": "stream",
     "text": [
      "   Sample ROC  Test ROC  Optimisation\n",
      "0    0.763819  0.494129      0.269689\n",
      "1    0.763894  0.493990      0.269904\n",
      "2    0.763786  0.494677      0.269109\n",
      "3    0.763913  0.493935      0.269978\n",
      "4    0.763923  0.493500      0.270423\n",
      "0.4865643228777631\n",
      "0.7558039188131078 0.21620475522397908\n"
     ]
    }
   ],
   "source": [
    "bootstrapped_stats = pd.DataFrame(bootstrapped_stats)\n",
    "print(bootstrapped_stats.head())\n",
    "## Step 3: Get average optimization\n",
    "\n",
    "average_optimisation = bootstrapped_stats[\"Optimisation\"].mean() \n",
    "\n",
    "## Step 4: Get optimization-corrected performance\n",
    "\n",
    "optimization_corrected_performance = ROC_AUC_random_forest - average_optimisation ##\n",
    "\n",
    "print(optimization_corrected_performance)\n",
    "\n",
    "## get CI \n",
    "\n",
    "conf_interval = np.percentile(bootstrapped_stats[\"Optimisation\"],[2.5,97.5])\n",
    "Upper_bootstrap_CI = optimization_corrected_performance +conf_interval[0]\n",
    "Lower_bootstrap_CI = optimization_corrected_performance - conf_interval[1]\n",
    "\n",
    "print(Upper_bootstrap_CI, Lower_bootstrap_CI)"
   ]
  },
  {
   "cell_type": "code",
   "execution_count": 22,
   "metadata": {},
   "outputs": [
    {
     "name": "stderr",
     "output_type": "stream",
     "text": [
      "/Users/rem76/miniconda3/envs/GISP_init/lib/python3.10/site-packages/sklearn/model_selection/_validation.py:378: FitFailedWarning: \n",
      "100 fits failed out of a total of 1000.\n",
      "The score on these train-test partitions for these parameters will be set to nan.\n",
      "If these failures are not expected, you can try to debug them by setting error_score='raise'.\n",
      "\n",
      "Below are more details about the failures:\n",
      "--------------------------------------------------------------------------------\n",
      "100 fits failed with the following error:\n",
      "Traceback (most recent call last):\n",
      "  File \"/Users/rem76/miniconda3/envs/GISP_init/lib/python3.10/site-packages/sklearn/model_selection/_validation.py\", line 686, in _fit_and_score\n",
      "    estimator.fit(X_train, y_train, **fit_params)\n",
      "  File \"/Users/rem76/miniconda3/envs/GISP_init/lib/python3.10/site-packages/sklearn/ensemble/_forest.py\", line 341, in fit\n",
      "    self._validate_params()\n",
      "  File \"/Users/rem76/miniconda3/envs/GISP_init/lib/python3.10/site-packages/sklearn/base.py\", line 570, in _validate_params\n",
      "    validate_parameter_constraints(\n",
      "  File \"/Users/rem76/miniconda3/envs/GISP_init/lib/python3.10/site-packages/sklearn/utils/_param_validation.py\", line 97, in validate_parameter_constraints\n",
      "    raise InvalidParameterError(\n",
      "sklearn.utils._param_validation.InvalidParameterError: The 'n_estimators' parameter of RandomForestClassifier must be an int in the range [1, inf). Got 0 instead.\n",
      "\n",
      "  warnings.warn(some_fits_failed_message, FitFailedWarning)\n",
      "/Users/rem76/miniconda3/envs/GISP_init/lib/python3.10/site-packages/sklearn/model_selection/_search.py:953: UserWarning: One or more of the test scores are non-finite: [0.81174347 0.81074714 0.81109706 0.81187031 0.81190513 0.81170146\n",
      " 0.81171296 0.81172627        nan 0.81161529]\n",
      "  warnings.warn(\n"
     ]
    },
    {
     "name": "stdout",
     "output_type": "stream",
     "text": [
      "Best Score: 0.8119051266148526\n",
      "Best Hyperparameters: {'n_estimators': 100, 'min_samples_split': 10, 'max_features': 'sqrt'}\n"
     ]
    }
   ],
   "source": [
    "## Random search https://machinelearningmastery.com/hyperparameter-optimization-with-random-search-and-grid-search/\n",
    "from sklearn.model_selection import RepeatedStratifiedKFold\n",
    "from scipy.stats import loguniform\n",
    "from sklearn.model_selection import RandomizedSearchCV\n",
    "\n",
    "X = CIP_data[['MSMW', 'MSW', 'Oth/Unk/Missing','Northeast', 'Southeast', 'Southwest', 'West', 'PREV_REGION', 'PREV_CLINIC']]\n",
    "\n",
    "y = CIP_data['Susceptible']\n",
    "\n",
    "cv = RepeatedStratifiedKFold(n_splits=10, n_repeats=10, random_state=1)\n",
    "\n",
    "space = dict()\n",
    "space['n_estimators'] = np.arange(0, 200, 10)\n",
    "space['max_features'] = ['sqrt']\n",
    "#space['max_depth'] = np.arange(0, 200, 10)\n",
    "space['min_samples_split'] = [2,5,10]\n",
    "#space['min_samples_leaf'] = [1,2,4]\n",
    "model = RandomForestClassifier(class_weight = 'balanced', max_features='sqrt', min_samples_leaf = 3)\n",
    "model_fit = model.fit(X, y)\n",
    "\n",
    "search = RandomizedSearchCV(model, space, n_iter=10, scoring='roc_auc', n_jobs=-1, cv=cv, random_state=1)\n",
    "result = search.fit(X, y)\n",
    "# summarize result\n",
    "print('Best Score: %s' % result.best_score_)\n",
    "print('Best Hyperparameters: %s' % result.best_params_)\n",
    "#Best Score: 0.8125469650495328 from cross validation\n",
    "#Best Hyperparameters: {'n_estimators': 150, 'min_samples_split': 10, 'min_samples_leaf': 4, 'max_features': 'auto'}"
   ]
  },
  {
   "cell_type": "code",
   "execution_count": 41,
   "metadata": {},
   "outputs": [
    {
     "name": "stdout",
     "output_type": "stream",
     "text": [
      "   Sample ROC  Test ROC  Optimisation\n",
      "0    0.763100  0.750028      0.013072\n",
      "1    0.761132  0.749185      0.011947\n",
      "2    0.764335  0.748335      0.016000\n",
      "3    0.760371  0.748950      0.011421\n",
      "4    0.762243  0.748656      0.013586\n",
      "0.7430470754620264\n",
      "0.7533947962515627 0.7269995165810333\n"
     ]
    }
   ],
   "source": [
    "#### now try bootstrapping with new hyperparameters\n",
    "#bootstrap data\n",
    "n_iterations = 10\n",
    "bootstrapped_stats = []\n",
    "\n",
    "#1. Create model using all data and get ROC_AUC (\"ROC_AUC_random_forest\")\n",
    "X = CIP_data[['MSMW', 'MSW', 'Oth/Unk/Missing','Northeast', 'Southeast', 'Southwest', 'West', 'PREV_REGION', 'PREV_CLINIC']]\n",
    "y = CIP_data['Susceptible']\n",
    "\n",
    "model = RandomForestClassifier(n_estimators = 100, min_samples_leaf=5, class_weight='balanced')\n",
    "model_fit = model.fit(X, y)\n",
    "y_predict = model_fit.predict(X)\n",
    "\n",
    "ROC_AUC_random_forest_apparent = metrics.roc_auc_score(y, y_predict)\n",
    "\n",
    "for i in range(n_iterations):\n",
    "       #2. (A) Sample all individuals w/replacement\n",
    "        sample = CIP_data.sample(frac = 1, replace=True) ##(a) sample n individuals with replacement\n",
    "        X_sample = sample[['MSMW', 'MSW', 'Oth/Unk/Missing','Northeast', 'Southeast', 'Southwest', 'West', 'PREV_REGION', 'PREV_CLINIC']]\n",
    "        y_sample = sample['Susceptible']\n",
    "\n",
    "\n",
    "       #  (B) Develop predictive model and find apparent performance\n",
    "        model_fit = model.fit(X_sample, y_sample)\n",
    "        y_sample_predict = model_fit.predict(X_sample)\n",
    "        ROC_AUC_random_forest_bootstrap_sample_performance = metrics.roc_auc_score(y_sample, y_sample_predict) \n",
    "\n",
    "       #  (C) Performance of predictive model on original sample (i.e. original population, X)\n",
    "        y_test_predict = model_fit.predict(X)\n",
    "        ROC_AUC_random_forest_bootstrap_test_performance = metrics.roc_auc_score(y, y_test_predict) ## 0.756384214489288\n",
    "      ### (D) Calculate optimisation by getting (B) - (D) \n",
    "        optimism = ROC_AUC_random_forest_bootstrap_sample_performance - ROC_AUC_random_forest_bootstrap_test_performance\n",
    "\n",
    "\n",
    "\n",
    "        bootstrapped_stats.append(\n",
    "        {\n",
    "            'Sample ROC': ROC_AUC_random_forest_bootstrap_sample_performance,\n",
    "            'Test ROC': ROC_AUC_random_forest_bootstrap_test_performance,\n",
    "            'Optimisation': optimism\n",
    "        }\n",
    "       )\n",
    "\n",
    "\n",
    "bootstrapped_stats = pd.DataFrame(bootstrapped_stats)\n",
    "print(bootstrapped_stats.head())\n",
    "## Step 3: Get average optimization\n",
    "\n",
    "average_optimisation = bootstrapped_stats[\"Optimisation\"].mean() \n",
    "\n",
    "## Step 4: Get optimization-corrected performance\n",
    "\n",
    "optimization_corrected_performance = ROC_AUC_random_forest_apparent - average_optimisation ##\n",
    "\n",
    "print(optimization_corrected_performance)\n",
    "\n",
    "## get CI \n",
    "\n",
    "conf_interval = np.percentile(bootstrapped_stats[\"Optimisation\"],[2.5,97.5])\n",
    "Upper_bootstrap_CI = optimization_corrected_performance +conf_interval[0]\n",
    "Lower_bootstrap_CI = optimization_corrected_performance - conf_interval[1]\n",
    "\n",
    "print(Upper_bootstrap_CI, Lower_bootstrap_CI)"
   ]
  },
  {
   "cell_type": "code",
   "execution_count": 37,
   "metadata": {},
   "outputs": [
    {
     "name": "stdout",
     "output_type": "stream",
     "text": [
      "0.7565752294989667\n",
      "ACCURACY OF THE MODEL:  0.7029167814947505\n",
      "0.7639643250818674\n",
      "ACCURACY OF THE MODEL:  0.7091575026447501\n",
      "0.7503941749717263\n",
      "ACCURACY OF THE MODEL:  0.7091575026447501\n",
      "OPTIMISATION:  0.013570150110141066\n",
      "0.7430050793888257\n"
     ]
    }
   ],
   "source": [
    "### No loop bootstrap \n",
    "\n",
    "## bootstrap \n",
    "#1. Create model using all data and get ROC_AUC (\"ROC_AUC_random_forest\")\n",
    "X = CIP_data[['MSMW', 'MSW', 'Oth/Unk/Missing','Northeast', 'Southeast', 'Southwest', 'West', 'PREV_REGION', 'PREV_CLINIC']]\n",
    "y = CIP_data['Susceptible']\n",
    "\n",
    "model = RandomForestClassifier(n_estimators = 100, min_samples_leaf=5, class_weight='balanced')\n",
    "model_fit = model.fit(X, y)\n",
    "\n",
    "y_predict = model_fit.predict(X)\n",
    "\n",
    "ROC_AUC_random_forest_apparent = metrics.roc_auc_score(y, y_predict) ## 0.756384214489288\n",
    "print(ROC_AUC_random_forest_apparent)\n",
    "print(\"ACCURACY OF THE MODEL: \", metrics.accuracy_score(y, y_predict)) ## but get model accuracy of 0.7013699360815028\n",
    "\n",
    "#2. (A) Sample all individuals w/replacement\n",
    "sample = CIP_data.sample(frac = 1, replace=True, random_state = 1) ##(a) sample n individuals with replacement\n",
    "X_sample = sample[['MSMW', 'MSW', 'Oth/Unk/Missing','Northeast', 'Southeast', 'Southwest', 'West', 'PREV_REGION', 'PREV_CLINIC']]\n",
    "y_sample = sample['Susceptible']\n",
    "\n",
    "#   (B) Develop predictive model and find apparent performance\n",
    "model_fit = model.fit(X_sample, y_sample)\n",
    "y_sample_predict = model_fit.predict(X_sample)\n",
    "ROC_AUC_random_forest_bootstrap_sample_performance = metrics.roc_auc_score(y_sample, y_sample_predict) ## 0.756384214489288\n",
    "print(ROC_AUC_random_forest_bootstrap_sample_performance)\n",
    "print(\"ACCURACY OF THE MODEL: \", metrics.accuracy_score(y_sample, y_sample_predict)) ## but get model accuracy of 0.7013699360815028\n",
    "\n",
    "#   (C) Performance of predictive model on original sample (i.e. original population, X)\n",
    "y_test_predict = model_fit.predict(X)\n",
    "ROC_AUC_random_forest_bootstrap_test_performance = metrics.roc_auc_score(y, y_test_predict) ## 0.756384214489288\n",
    "print(ROC_AUC_random_forest_bootstrap_test_performance)\n",
    "print(\"ACCURACY OF THE MODEL: \", metrics.accuracy_score(y_sample, y_sample_predict)) ## but get model accuracy of 0.7013699360815028\n",
    "\n",
    "### (D) Calculate optimisation by getting (B) - (D) \n",
    "optimism = ROC_AUC_random_forest_bootstrap_sample_performance - ROC_AUC_random_forest_bootstrap_test_performance\n",
    "print(\"OPTIMISATION: \", ROC_AUC_random_forest_bootstrap_sample_performance - ROC_AUC_random_forest_bootstrap_test_performance)\n",
    "\n",
    "\n",
    "### 6. Optimisation-corrected performance\n",
    "print(ROC_AUC_random_forest_apparent - optimism)"
   ]
  }
 ],
 "metadata": {
  "kernelspec": {
   "display_name": "GISP_init",
   "language": "python",
   "name": "python3"
  },
  "language_info": {
   "codemirror_mode": {
    "name": "ipython",
    "version": 3
   },
   "file_extension": ".py",
   "mimetype": "text/x-python",
   "name": "python",
   "nbconvert_exporter": "python",
   "pygments_lexer": "ipython3",
   "version": "3.10.9"
  },
  "orig_nbformat": 4,
  "vscode": {
   "interpreter": {
    "hash": "37b4cc77837642ee25c4eb6578aebe03e17eb3bb59efdde49edbbc888dbc418f"
   }
  }
 },
 "nbformat": 4,
 "nbformat_minor": 2
}
