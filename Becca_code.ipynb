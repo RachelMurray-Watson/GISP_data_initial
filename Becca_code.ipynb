{
 "cells": [
  {
   "cell_type": "code",
   "execution_count": 7,
   "metadata": {},
   "outputs": [
    {
     "name": "stderr",
     "output_type": "stream",
     "text": [
      "/var/folders/3f/vvt02dh16jddhc3q1tl6f3zh0000gn/T/ipykernel_99130/1976828835.py:8: FutureWarning: In a future version, `df.iloc[:, i] = newvals` will attempt to set the values inplace instead of always setting a new array. To retain the old behavior, use either `df[df.columns[i]] = newvals` or, if columns are non-unique, `df.isetitem(i, newvals)`\n",
      "  df.iloc[:, 5:len(df.columns)] = df.iloc[:, 5:len(df.columns)].apply(pd.to_numeric, errors='coerce')\n"
     ]
    },
    {
     "data": {
      "text/plain": [
       "Index(['Obs', 'CLINIC', 'YEAR', 'GENDERSP', 'TOTAL', 'Susceptible', 'TetI',\n",
       "       'PenI', 'PenI_TetI', 'TetR', 'TetR_PenI', 'PenR', 'PenR_TetI',\n",
       "       'PenR_TetR', 'CipI_PenI_TetI', 'TetR_CipI', 'AziRS_PenI_TetI',\n",
       "       'CipI_TetI', 'CipR_PenR_TetR', 'CipR_PenI_TetI', 'CipR_TetR_PenI',\n",
       "       'CipR_PenI', 'CipR_PenR_TetI', 'AziRS_CipR_PenR_TetR', 'PenR_CipI_TetI',\n",
       "       'PenR_TetR_CipI', 'CipR_PenR', 'TetR_CipI_PenI', 'AziRS_CipR_TetR_PenI',\n",
       "       'AziRS_TetR_PenI', 'AziRS_PenR_TetR', 'AziRS_PenR_TetI', 'CipI_PenI',\n",
       "       'CfxRS_CipR_PenR_TetR', 'CfxRS_PenI_TetI', 'AziRS', 'AziRS_TetI',\n",
       "       'AziRS_PenI', 'CfxRS_CipI_PenI_TetI', 'AziRS_CipR_PenI_TetI',\n",
       "       'CfxRS_TetR_PenI', 'CipR_TetI', 'CipI', 'AziRS_PenR', 'PenR_CipI',\n",
       "       'AziRS_TetR_CipI_PenI', 'CipR', 'CipR_TetR', 'AziRS_CipI_PenI_TetI',\n",
       "       'CfxRS_CipR_TetR_PenI', 'AziRS_TetR', 'AziRS_CipR_PenR_TetI',\n",
       "       'CroRS_CfxRS_CipR_PenR_TetR', 'CroRS_CfxRS_PenR_TetI',\n",
       "       'CfxRS_PenR_TetR'],\n",
       "      dtype='object')"
      ]
     },
     "execution_count": 7,
     "metadata": {},
     "output_type": "execute_result"
    }
   ],
   "source": [
    "import pandas as pd\n",
    "import numpy as np\n",
    "df = pd.read_csv('GISP20002019.csv')\n",
    "df=df.reindex(df.index.repeat(df.TOTAL))\n",
    "\n",
    "df=df.assign(TOTAL=1)\n",
    "df.head()\n",
    "df.iloc[:, 5:len(df.columns)] = df.iloc[:, 5:len(df.columns)].apply(pd.to_numeric, errors='coerce')\n",
    "\n",
    "df.Susceptible = pd.to_numeric(df.Susceptible)\n",
    "df.Susceptible=np.where(df.groupby(level=0).cumcount()<df.Susceptible,1,0)\n",
    "\n",
    "\n",
    "df.shape\n",
    "df.columns"
   ]
  },
  {
   "cell_type": "code",
   "execution_count": null,
   "metadata": {},
   "outputs": [],
   "source": []
  }
 ],
 "metadata": {
  "kernelspec": {
   "display_name": "GISP_init",
   "language": "python",
   "name": "python3"
  },
  "language_info": {
   "codemirror_mode": {
    "name": "ipython",
    "version": 3
   },
   "file_extension": ".py",
   "mimetype": "text/x-python",
   "name": "python",
   "nbconvert_exporter": "python",
   "pygments_lexer": "ipython3",
   "version": "3.10.9 (main, Jan 11 2023, 09:18:18) [Clang 14.0.6 ]"
  },
  "orig_nbformat": 4,
  "vscode": {
   "interpreter": {
    "hash": "37b4cc77837642ee25c4eb6578aebe03e17eb3bb59efdde49edbbc888dbc418f"
   }
  }
 },
 "nbformat": 4,
 "nbformat_minor": 2
}
