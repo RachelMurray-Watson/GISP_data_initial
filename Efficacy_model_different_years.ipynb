{
 "cells": [
  {
   "cell_type": "code",
   "execution_count": 5,
   "metadata": {},
   "outputs": [],
   "source": [
    "import seaborn as sb\n",
    "import matplotlib.pyplot as plt\n",
    "import pandas as pd\n",
    "import sklearn as sk\n",
    "import numpy as np\n",
    "\n",
    "from sklearn.linear_model import LogisticRegression\n",
    "from sklearn.metrics import mean_squared_error\n",
    "from sklearn import metrics\n",
    "from sklearn.model_selection import cross_validate, RandomizedSearchCV, RepeatedStratifiedKFold\n",
    "from sklearn.utils import resample\n",
    "from sklearn.neural_network import MLPClassifier\n",
    "from sklearn.model_selection import train_test_split\n",
    "from sklearn.inspection import permutation_importance\n",
    "from scipy.stats import loguniform\n",
    "from imblearn.over_sampling import RandomOverSampler\n",
    "from sklearn.metrics import confusion_matrix\n",
    "\n",
    "## read data \n",
    "CIP_data_no_drop = pd.read_csv(\"CIP_data_encode_prev_not_dropped.csv\")\n"
   ]
  },
  {
   "cell_type": "code",
   "execution_count": 9,
   "metadata": {},
   "outputs": [],
   "source": [
    "# so what is the marginal gain? e.g. at what point is the decrease in the proprotion of people receiving effective treatment worth the decrease in unnecessary cipro? \n",
    "\n",
    "#So what would these look like if we just used the 5% prevalence?\n",
    "\n",
    "##model\n",
    "model_nn = MLPClassifier(solver = 'lbfgs', activation = 'tanh', max_iter = 3000 ,hidden_layer_sizes= 13, alpha = 1.291549665014884, random_state=10, learning_rate = 'constant' )\n",
    "\n",
    "#loop setup\n",
    "threshold_seq = np.linspace(0,1,101)\n",
    "\n",
    "#   train - from 2000 to 2010, dropped SW and Other\n",
    "train_data = CIP_data_no_drop.loc[CIP_data_no_drop['YEAR'].isin([2000, 2001, 2002, 2003, 2004, 2005, 2006, 2007, 2008, 2009, 2010])]\n",
    "X_train = train_data[['MSM','MSMW', 'MSW','Northeast', 'Southeast',  'West', 'Midwest','PREV_REGION', 'PREV_CLINIC']]\n",
    "y_train = train_data['Susceptible']\n",
    "\n",
    "oversample = RandomOverSampler(sampling_strategy = 0.5,random_state=42)\n",
    "X_train, y_train = oversample.fit_resample(X_train,y_train)\n",
    "\n",
    "years = [2011, 2012, 2013, 2014, 2015, 2016, 2017, 2018, 2019]\n",
    "roc_auc_by_year = []\n",
    "for year in years:\n",
    "#    test - vary by year dropped SW and Other\n",
    "     test_data = CIP_data_no_drop.loc[CIP_data_no_drop['YEAR']== year]\n",
    "     X_test = test_data[['MSM','MSMW', 'MSW', 'Northeast', 'Southeast', 'West', 'Midwest','PREV_REGION', 'PREV_CLINIC']]\n",
    "     y_test = test_data['Susceptible']\n",
    "     oversample = RandomOverSampler(sampling_strategy = 0.5,random_state=42)\n",
    "     X_test, y_test = oversample.fit_resample(X_test,y_test)\n",
    "\n",
    "    # train model \n",
    "     model_fit_train = model_nn.fit(X_train, y_train)\n",
    "     y_predict_test = model_fit_train.predict(X_test)\n",
    "     y_predict_proba = model_fit_train.predict_proba(X_test)\n",
    "\n",
    "    #get ROC_AUC (implicit 0.5 threshold)\n",
    "     roc_auc_by_year = metrics.roc_auc_score(y_test, y_predict_test)\n"
   ]
  },
  {
   "cell_type": "code",
   "execution_count": null,
   "metadata": {},
   "outputs": [],
   "source": [
    "print(roc_auc_by_year)\n",
    "\n"
   ]
  }
 ],
 "metadata": {
  "kernelspec": {
   "display_name": "GISP_init",
   "language": "python",
   "name": "python3"
  },
  "language_info": {
   "codemirror_mode": {
    "name": "ipython",
    "version": 3
   },
   "file_extension": ".py",
   "mimetype": "text/x-python",
   "name": "python",
   "nbconvert_exporter": "python",
   "pygments_lexer": "ipython3",
   "version": "3.10.9"
  },
  "orig_nbformat": 4,
  "vscode": {
   "interpreter": {
    "hash": "37b4cc77837642ee25c4eb6578aebe03e17eb3bb59efdde49edbbc888dbc418f"
   }
  }
 },
 "nbformat": 4,
 "nbformat_minor": 2
}
